{
 "cells": [
  {
   "cell_type": "code",
   "execution_count": 7,
   "metadata": {
    "collapsed": true
   },
   "outputs": [
    {
     "name": "stdout",
     "output_type": "stream",
     "text": [
      "Solving environment: done\n",
      "\n",
      "\n",
      "==> WARNING: A newer version of conda exists. <==\n",
      "  current version: 4.5.12\n",
      "  latest version: 4.6.14\n",
      "\n",
      "Please update conda by running\n",
      "\n",
      "    $ conda update -n base -c defaults conda\n",
      "\n",
      "\n",
      "\n",
      "# All requested packages already installed.\n",
      "\n"
     ]
    }
   ],
   "source": [
    "!conda install shapely descartes pytables geopandas lightgbm -y"
   ]
  },
  {
   "cell_type": "code",
   "execution_count": 9,
   "metadata": {
    "collapsed": true
   },
   "outputs": [
    {
     "name": "stdout",
     "output_type": "stream",
     "text": [
      "Solving environment: done\n",
      "\n",
      "\n",
      "==> WARNING: A newer version of conda exists. <==\n",
      "  current version: 4.5.12\n",
      "  latest version: 4.6.14\n",
      "\n",
      "Please update conda by running\n",
      "\n",
      "    $ conda update -n base -c defaults conda\n",
      "\n",
      "\n",
      "\n",
      "## Package Plan ##\n",
      "\n",
      "  environment location: /home/ec2-user/anaconda3/envs/python3\n",
      "\n",
      "  added / updated specs: \n",
      "    - tqdm\n",
      "\n",
      "\n",
      "The following packages will be downloaded:\n",
      "\n",
      "    package                    |            build\n",
      "    ---------------------------|-----------------\n",
      "    tqdm-4.31.1                |             py_0          40 KB  conda-forge\n",
      "\n",
      "The following NEW packages will be INSTALLED:\n",
      "\n",
      "    tqdm:            4.31.1-py_0       conda-forge\n",
      "\n",
      "The following packages will be UPDATED:\n",
      "\n",
      "    ca-certificates: 2019.1.23-0                   --> 2019.3.9-hecc5488_0 conda-forge\n",
      "    certifi:         2019.3.9-py36_0               --> 2019.3.9-py36_0     conda-forge\n",
      "    openssl:         1.0.2r-h7b6447c_0             --> 1.0.2r-h14c3975_0   conda-forge\n",
      "\n",
      "\n",
      "Downloading and Extracting Packages\n",
      "tqdm-4.31.1          | 40 KB     | ##################################### | 100% \n",
      "Preparing transaction: done\n",
      "Verifying transaction: done\n",
      "Executing transaction: done\n"
     ]
    }
   ],
   "source": [
    "!conda install -c conda-forge tqdm -y"
   ]
  },
  {
   "cell_type": "markdown",
   "metadata": {},
   "source": [
    "# Exploratory Data Analysis\n",
    "\n",
    "The first step of our mode"
   ]
  },
  {
   "cell_type": "code",
   "execution_count": 1,
   "metadata": {},
   "outputs": [],
   "source": [
    "import pandas as pd\n",
    "from shapely.geometry import Point\n",
    "import matplotlib.pyplot as plt\n",
    "from tqdm.auto import tqdm\n",
    "import seaborn as sns\n",
    "import numpy as np\n",
    "import warnings\n",
    "import math\n",
    "import re\n",
    "\n",
    "tqdm.pandas()\n",
    "\n",
    "plt.style.use('seaborn')\n",
    "\n",
    "warnings.filterwarnings(\"ignore\")\n",
    "\n",
    "%load_ext autoreload\n",
    "%autoreload 2\n",
    "\n",
    "%run ../src/utils.py"
   ]
  },
  {
   "cell_type": "code",
   "execution_count": 2,
   "metadata": {},
   "outputs": [
    {
     "data": {
      "text/plain": [
       "(814262, 11)"
      ]
     },
     "execution_count": 2,
     "metadata": {},
     "output_type": "execute_result"
    }
   ],
   "source": [
    "train = pd.read_csv('../data/raw/data_train.zip', index_col='Unnamed: 0', low_memory=True)\n",
    "train.shape"
   ]
  },
  {
   "cell_type": "code",
   "execution_count": 3,
   "metadata": {},
   "outputs": [
    {
     "data": {
      "text/plain": [
       "(202937, 11)"
      ]
     },
     "execution_count": 3,
     "metadata": {},
     "output_type": "execute_result"
    }
   ],
   "source": [
    "test = pd.read_csv('../data/raw/data_test.zip', index_col='Unnamed: 0', low_memory=True)\n",
    "test.shape"
   ]
  },
  {
   "cell_type": "code",
   "execution_count": 4,
   "metadata": {
    "scrolled": true
   },
   "outputs": [
    {
     "data": {
      "text/plain": [
       "(1017199, 11)"
      ]
     },
     "execution_count": 4,
     "metadata": {},
     "output_type": "execute_result"
    }
   ],
   "source": [
    "data = pd.concat([train, test], axis=0)\n",
    "data.shape"
   ]
  },
  {
   "cell_type": "markdown",
   "metadata": {},
   "source": [
    "# Timing\n",
    "Time-related features"
   ]
  },
  {
   "cell_type": "code",
   "execution_count": 5,
   "metadata": {},
   "outputs": [
    {
     "data": {
      "application/vnd.jupyter.widget-view+json": {
       "model_id": "d70aa714cfb14b96b513163d8fa38b44",
       "version_major": 2,
       "version_minor": 0
      },
      "text/plain": [
       "HBox(children=(IntProgress(value=0, max=1017199), HTML(value='')))"
      ]
     },
     "metadata": {},
     "output_type": "display_data"
    },
    {
     "name": "stdout",
     "output_type": "stream",
     "text": [
      "\n"
     ]
    },
    {
     "data": {
      "application/vnd.jupyter.widget-view+json": {
       "model_id": "a96ae2a6971a4e2ebcadf1f8d9c49dfe",
       "version_major": 2,
       "version_minor": 0
      },
      "text/plain": [
       "HBox(children=(IntProgress(value=0, max=1017199), HTML(value='')))"
      ]
     },
     "metadata": {},
     "output_type": "display_data"
    },
    {
     "name": "stdout",
     "output_type": "stream",
     "text": [
      "\n"
     ]
    },
    {
     "data": {
      "application/vnd.jupyter.widget-view+json": {
       "model_id": "91bcf6409d204f41a4a951aad92fe3ec",
       "version_major": 2,
       "version_minor": 0
      },
      "text/plain": [
       "HBox(children=(IntProgress(value=0, max=1017199), HTML(value='')))"
      ]
     },
     "metadata": {},
     "output_type": "display_data"
    },
    {
     "name": "stdout",
     "output_type": "stream",
     "text": [
      "\n"
     ]
    },
    {
     "data": {
      "application/vnd.jupyter.widget-view+json": {
       "model_id": "d7dc66b330764e66bfb9c4cc8f2440eb",
       "version_major": 2,
       "version_minor": 0
      },
      "text/plain": [
       "HBox(children=(IntProgress(value=0, max=1017199), HTML(value='')))"
      ]
     },
     "metadata": {},
     "output_type": "display_data"
    },
    {
     "name": "stdout",
     "output_type": "stream",
     "text": [
      "\n"
     ]
    }
   ],
   "source": [
    "data['minute_entry'] = data.time_exit.progress_apply(lambda x: int(x.split(':')[1]))\n",
    "data['minute_exit'] = data.time_exit.progress_apply(lambda x: int(x.split(':')[1]))\n",
    "\n",
    "data['hour_entry'] = data.time_entry.progress_apply(lambda x: int(x.split(':')[0]))\n",
    "data['hour_exit'] = data.time_exit.progress_apply(lambda x: int(x.split(':')[0]))\n",
    "\n",
    "data['time_entry'] = pd.to_timedelta(data.time_entry)\n",
    "data['time_exit'] = pd.to_timedelta(data.time_exit)"
   ]
  },
  {
   "cell_type": "code",
   "execution_count": 6,
   "metadata": {},
   "outputs": [],
   "source": [
    "data['time_entry'] = pd.to_timedelta(data.time_entry)\n",
    "data['time_exit'] = pd.to_timedelta(data.time_exit)\n",
    "\n",
    "data['deltat_min'] = (data.time_exit - data.time_entry) / np.timedelta64(1, 'm')"
   ]
  },
  {
   "cell_type": "markdown",
   "metadata": {},
   "source": [
    "# Distance Evaluation\n",
    "Euclidian, Minkowski, Haversine distances."
   ]
  },
  {
   "cell_type": "code",
   "execution_count": 7,
   "metadata": {},
   "outputs": [],
   "source": [
    "def euclidian_distance(x_one, y_one, x_two, y_two):\n",
    "    return np.sqrt(np.power((x_one-x_two), 2) + np.power((y_one-y_two), 2))\n",
    "\n",
    "def minkowski_distance(x_one, y_one, x_two, y_two):\n",
    "    return abs(x_one-x_two) + abs(y_one-y_two)\n",
    "\n",
    "data['euclidian_distance'] = np.sqrt(np.power(data.x_entry.values-data.x_exit.values, 2)+np.power(data.y_entry.values-data.y_exit.values, 2))\n",
    "\n",
    "data['minkowski_distance'] = np.abs(data.x_entry.values-data.x_exit.values) + np.abs(data.y_entry.values-data.y_exit.values)"
   ]
  },
  {
   "cell_type": "code",
   "execution_count": 8,
   "metadata": {},
   "outputs": [],
   "source": [
    "from math import radians, cos, sin, asin, sqrt\n",
    "\n",
    "def haversine(lon1, lat1, lon2, lat2):\n",
    "    \"\"\"\n",
    "    Calculate the great circle distance between two points \n",
    "    on the earth (specified in decimal degrees)\n",
    "    \"\"\"\n",
    "    # convert decimal degrees to radians \n",
    "    lon1, lat1, lon2, lat2 = map(radians, [lon1, lat1, lon2, lat2])\n",
    "\n",
    "    # haversine formula \n",
    "    dlon = lon2 - lon1 \n",
    "    dlat = lat2 - lat1 \n",
    "    a = sin(dlat/2)**2 + cos(lat1) * cos(lat2) * sin(dlon/2)**2\n",
    "    c = 2 * asin(sqrt(a)) \n",
    "    r = 6371 # Radius of earth in kilometers. Use 3956 for miles\n",
    "    return c * r\n",
    "\n",
    "data['harvesine_distance'] = [haversine(x1, y1, x2, y2) for x1, y1, x2, y2 in zip(data.x_entry, data.y_entry,\n",
    "                                                                                data.x_exit, data.y_exit)]"
   ]
  },
  {
   "cell_type": "code",
   "execution_count": 9,
   "metadata": {},
   "outputs": [
    {
     "data": {
      "text/plain": [
       "(491966, 19)"
      ]
     },
     "execution_count": 9,
     "metadata": {},
     "output_type": "execute_result"
    }
   ],
   "source": [
    "data = data[data.euclidian_distance!=0]\n",
    "data.shape"
   ]
  },
  {
   "cell_type": "markdown",
   "metadata": {},
   "source": [
    "### Quadrants"
   ]
  },
  {
   "cell_type": "code",
   "execution_count": 10,
   "metadata": {},
   "outputs": [],
   "source": [
    "x_center = center['x_min'] + ((center['x_max']-center['x_min'])/2)\n",
    "y_center = center['y_min'] + ((center['y_max']+center['y_min'])/2)"
   ]
  },
  {
   "cell_type": "code",
   "execution_count": 11,
   "metadata": {},
   "outputs": [],
   "source": [
    "def quadrant(x, y, which):\n",
    "    if which == 'third':\n",
    "        if center['x_min'] <= x <= x_center and center['y_min'] <= y <= y_center:\n",
    "            return 1\n",
    "        else:\n",
    "            return 0\n",
    "        \n",
    "    elif which == 'first':\n",
    "        if center['x_min'] <= x <= x_center and center['y_max'] >= y >= y_center:\n",
    "            return 1\n",
    "        else:\n",
    "            return 0\n",
    "        \n",
    "    elif which == 'fourth':\n",
    "        if center['x_max'] >= x >= x_center and center['y_min'] >= y >= y_center:\n",
    "            return 1\n",
    "        else:\n",
    "            return 0\n",
    "    elif which == 'second':\n",
    "        if center['x_max'] >= x >= x_center and center['y_min'] <= y <= y_center:\n",
    "            return 1\n",
    "        else:\n",
    "            return 0\n",
    "    else:\n",
    "        return 0\n",
    "        \n",
    "\n",
    "data['first_quadrant_entry'] = [quadrant(x, y, which='first') for x, y in zip(data.x_entry, data.y_entry)]\n",
    "data['third_quadrant_entry'] = [quadrant(x, y, which='third') for x, y in zip(data.x_entry, data.y_entry)]\n",
    "data['fourth_quadrant_entry'] = [quadrant(x, y, which='fourth') for x, y in zip(data.x_entry, data.y_entry)]\n",
    "data['second_quadrant_entry'] = [quadrant(x, y, which='second') for x, y in zip(data.x_entry, data.y_entry)]"
   ]
  },
  {
   "cell_type": "markdown",
   "metadata": {},
   "source": [
    "### Distances to Center Middle Point"
   ]
  },
  {
   "cell_type": "code",
   "execution_count": 12,
   "metadata": {},
   "outputs": [],
   "source": [
    "data['distance_cc_entry'] = np.sqrt(((data.x_entry.values-x_center)**2) + ((data.y_entry.values-y_center)**2))\n",
    "data['distance_cc_exit'] = np.sqrt(((data.x_exit.values-x_center)**2) + ((data.y_exit.values-y_center)**2))\n",
    "\n",
    "data['diff_cc_exit_entry'] = data.distance_cc_exit - data.distance_cc_entry"
   ]
  },
  {
   "cell_type": "code",
   "execution_count": 13,
   "metadata": {},
   "outputs": [],
   "source": [
    "data['x_diff_entry'] = data.x_entry.values-x_center\n",
    "data['x_diff_exit'] = data.x_exit.values-x_center\n",
    "\n",
    "data['y_diff_entry'] = data.y_entry.values-y_center\n",
    "data['y_diff_exit'] = data.y_exit.values-y_center"
   ]
  },
  {
   "cell_type": "code",
   "execution_count": 14,
   "metadata": {},
   "outputs": [],
   "source": [
    "directions_entry = []\n",
    "for x, y in zip(data.x_diff_entry, data.y_diff_entry):\n",
    "    directions_entry.append(math.atan2(x, y))\n",
    "    \n",
    "data['direction_entry'] = directions_entry"
   ]
  },
  {
   "cell_type": "code",
   "execution_count": 15,
   "metadata": {},
   "outputs": [],
   "source": [
    "directions_exit = []\n",
    "for x, y in zip(data.x_diff_exit, data.y_diff_exit):\n",
    "    directions_exit.append(math.atan2(x, y))\n",
    "    \n",
    "data['direction_exit'] = directions_exit"
   ]
  },
  {
   "cell_type": "markdown",
   "metadata": {},
   "source": [
    "### Distances from Center Borders\n",
    "Euclidian distance from point to city center borders."
   ]
  },
  {
   "cell_type": "code",
   "execution_count": 16,
   "metadata": {},
   "outputs": [
    {
     "data": {
      "text/plain": [
       "20000.0"
      ]
     },
     "execution_count": 16,
     "metadata": {},
     "output_type": "execute_result"
    }
   ],
   "source": [
    "from shapely.geometry import Point, Polygon, LineString\n",
    "\n",
    "center['left_border']  = LineString([(center['x_min'], center['y_min']), (center['x_min'], center['y_max'])])\n",
    "center['right_border'] = LineString([(center['x_max'], center['y_min']), (center['x_max'], center['y_max'])])\n",
    "\n",
    "center['lower_border']  = LineString([(center['x_min'], center['y_min']), (center['x_max'], center['y_min'])])\n",
    "center['upper_border']  = LineString([(center['x_min'], center['y_max']), (center['x_max'], center['y_max'])])\n",
    "\n",
    "center['left_border'].distance(Point(center['x_max'], center['y_min']))"
   ]
  },
  {
   "cell_type": "code",
   "execution_count": 17,
   "metadata": {},
   "outputs": [],
   "source": [
    "def distance_to_border(x, y, direction):\n",
    "    return center[direction + '_border'].distance(Point(x, y))\n",
    "\n",
    "data['distance_left_border'] = [distance_to_border(x, y, direction='left') for x, y in zip(data.x_entry, data.y_entry)]\n",
    "data['distance_right_border'] = [distance_to_border(x, y, direction='right') for x, y in zip(data.x_entry, data.y_entry)]\n",
    "data['distance_lower_border'] = [distance_to_border(x, y, direction='lower') for x, y in zip(data.x_entry, data.y_entry)]\n",
    "data['distance_upper_border'] = [distance_to_border(x, y, direction='upper') for x, y in zip(data.x_entry, data.y_entry)]"
   ]
  },
  {
   "cell_type": "markdown",
   "metadata": {},
   "source": [
    "# Angles w.r.t Center\n",
    "Mid and vertex-related angles on a per point basis"
   ]
  },
  {
   "cell_type": "code",
   "execution_count": 18,
   "metadata": {},
   "outputs": [
    {
     "data": {
      "application/vnd.jupyter.widget-view+json": {
       "model_id": "bdf2b49e8baf4d29ab50d84415acc0d6",
       "version_major": 2,
       "version_minor": 0
      },
      "text/plain": [
       "HBox(children=(IntProgress(value=0, max=491966), HTML(value='')))"
      ]
     },
     "metadata": {},
     "output_type": "display_data"
    },
    {
     "name": "stdout",
     "output_type": "stream",
     "text": [
      "\n"
     ]
    },
    {
     "data": {
      "text/html": [
       "<div>\n",
       "<style scoped>\n",
       "    .dataframe tbody tr th:only-of-type {\n",
       "        vertical-align: middle;\n",
       "    }\n",
       "\n",
       "    .dataframe tbody tr th {\n",
       "        vertical-align: top;\n",
       "    }\n",
       "\n",
       "    .dataframe thead th {\n",
       "        text-align: right;\n",
       "    }\n",
       "</style>\n",
       "<table border=\"1\" class=\"dataframe\">\n",
       "  <thead>\n",
       "    <tr style=\"text-align: right;\">\n",
       "      <th></th>\n",
       "      <th>hash</th>\n",
       "      <th>trajectory_id</th>\n",
       "      <th>time_entry</th>\n",
       "      <th>time_exit</th>\n",
       "      <th>vmax</th>\n",
       "      <th>vmin</th>\n",
       "      <th>vmean</th>\n",
       "      <th>x_entry</th>\n",
       "      <th>y_entry</th>\n",
       "      <th>x_exit</th>\n",
       "      <th>...</th>\n",
       "      <th>direction_exit</th>\n",
       "      <th>distance_left_border</th>\n",
       "      <th>distance_right_border</th>\n",
       "      <th>distance_lower_border</th>\n",
       "      <th>distance_upper_border</th>\n",
       "      <th>cc_middle_angle</th>\n",
       "      <th>cc_xmin_ymin_angle</th>\n",
       "      <th>cc_xmax_ymin_angle</th>\n",
       "      <th>cc_xmin_ymax_angle</th>\n",
       "      <th>cc_xmax_ymax_angle</th>\n",
       "    </tr>\n",
       "  </thead>\n",
       "  <tbody>\n",
       "    <tr>\n",
       "      <th>0</th>\n",
       "      <td>0000a8602cf2def930488dee7cdad104_1</td>\n",
       "      <td>traj_0000a8602cf2def930488dee7cdad104_1_0</td>\n",
       "      <td>07:04:31</td>\n",
       "      <td>07:08:32</td>\n",
       "      <td>NaN</td>\n",
       "      <td>NaN</td>\n",
       "      <td>NaN</td>\n",
       "      <td>3.751014e+06</td>\n",
       "      <td>-1.909398e+07</td>\n",
       "      <td>3.750326e+06</td>\n",
       "      <td>...</td>\n",
       "      <td>-0.000546</td>\n",
       "      <td>114925.024135</td>\n",
       "      <td>116633.059928</td>\n",
       "      <td>174924.969304</td>\n",
       "      <td>114924.969304</td>\n",
       "      <td>NaN</td>\n",
       "      <td>NaN</td>\n",
       "      <td>NaN</td>\n",
       "      <td>NaN</td>\n",
       "      <td>NaN</td>\n",
       "    </tr>\n",
       "    <tr>\n",
       "      <th>1</th>\n",
       "      <td>0000a8602cf2def930488dee7cdad104_1</td>\n",
       "      <td>traj_0000a8602cf2def930488dee7cdad104_1_1</td>\n",
       "      <td>07:20:34</td>\n",
       "      <td>07:25:42</td>\n",
       "      <td>NaN</td>\n",
       "      <td>NaN</td>\n",
       "      <td>NaN</td>\n",
       "      <td>3.743937e+06</td>\n",
       "      <td>-1.932247e+07</td>\n",
       "      <td>3.744975e+06</td>\n",
       "      <td>...</td>\n",
       "      <td>-0.000830</td>\n",
       "      <td>54012.799354</td>\n",
       "      <td>59966.283785</td>\n",
       "      <td>54012.799354</td>\n",
       "      <td>113775.281047</td>\n",
       "      <td>0.137059</td>\n",
       "      <td>0.038653</td>\n",
       "      <td>0.188293</td>\n",
       "      <td>0.042244</td>\n",
       "      <td>0.310604</td>\n",
       "    </tr>\n",
       "    <tr>\n",
       "      <th>2</th>\n",
       "      <td>0000a8602cf2def930488dee7cdad104_1</td>\n",
       "      <td>traj_0000a8602cf2def930488dee7cdad104_1_2</td>\n",
       "      <td>07:53:32</td>\n",
       "      <td>08:03:25</td>\n",
       "      <td>NaN</td>\n",
       "      <td>NaN</td>\n",
       "      <td>NaN</td>\n",
       "      <td>3.744868e+06</td>\n",
       "      <td>-1.929356e+07</td>\n",
       "      <td>3.744816e+06</td>\n",
       "      <td>...</td>\n",
       "      <td>-0.000837</td>\n",
       "      <td>25386.747582</td>\n",
       "      <td>35858.533322</td>\n",
       "      <td>25386.747582</td>\n",
       "      <td>84874.048910</td>\n",
       "      <td>0.198812</td>\n",
       "      <td>0.120334</td>\n",
       "      <td>0.476339</td>\n",
       "      <td>0.057555</td>\n",
       "      <td>0.234039</td>\n",
       "    </tr>\n",
       "    <tr>\n",
       "      <th>3</th>\n",
       "      <td>0000a8602cf2def930488dee7cdad104_1</td>\n",
       "      <td>traj_0000a8602cf2def930488dee7cdad104_1_3</td>\n",
       "      <td>08:17:50</td>\n",
       "      <td>08:37:23</td>\n",
       "      <td>NaN</td>\n",
       "      <td>NaN</td>\n",
       "      <td>NaN</td>\n",
       "      <td>3.744880e+06</td>\n",
       "      <td>-1.929229e+07</td>\n",
       "      <td>3.744809e+06</td>\n",
       "      <td>...</td>\n",
       "      <td>-0.000837</td>\n",
       "      <td>24146.972686</td>\n",
       "      <td>34984.767305</td>\n",
       "      <td>24146.972686</td>\n",
       "      <td>83601.282594</td>\n",
       "      <td>0.173281</td>\n",
       "      <td>0.132425</td>\n",
       "      <td>0.711798</td>\n",
       "      <td>0.044184</td>\n",
       "      <td>0.184758</td>\n",
       "    </tr>\n",
       "  </tbody>\n",
       "</table>\n",
       "<p>4 rows × 41 columns</p>\n",
       "</div>"
      ],
      "text/plain": [
       "                                 hash  \\\n",
       "0  0000a8602cf2def930488dee7cdad104_1   \n",
       "1  0000a8602cf2def930488dee7cdad104_1   \n",
       "2  0000a8602cf2def930488dee7cdad104_1   \n",
       "3  0000a8602cf2def930488dee7cdad104_1   \n",
       "\n",
       "                               trajectory_id time_entry time_exit  vmax  vmin  \\\n",
       "0  traj_0000a8602cf2def930488dee7cdad104_1_0   07:04:31  07:08:32   NaN   NaN   \n",
       "1  traj_0000a8602cf2def930488dee7cdad104_1_1   07:20:34  07:25:42   NaN   NaN   \n",
       "2  traj_0000a8602cf2def930488dee7cdad104_1_2   07:53:32  08:03:25   NaN   NaN   \n",
       "3  traj_0000a8602cf2def930488dee7cdad104_1_3   08:17:50  08:37:23   NaN   NaN   \n",
       "\n",
       "   vmean       x_entry       y_entry        x_exit  ...  direction_exit  \\\n",
       "0    NaN  3.751014e+06 -1.909398e+07  3.750326e+06  ...       -0.000546   \n",
       "1    NaN  3.743937e+06 -1.932247e+07  3.744975e+06  ...       -0.000830   \n",
       "2    NaN  3.744868e+06 -1.929356e+07  3.744816e+06  ...       -0.000837   \n",
       "3    NaN  3.744880e+06 -1.929229e+07  3.744809e+06  ...       -0.000837   \n",
       "\n",
       "   distance_left_border  distance_right_border  distance_lower_border  \\\n",
       "0         114925.024135          116633.059928          174924.969304   \n",
       "1          54012.799354           59966.283785           54012.799354   \n",
       "2          25386.747582           35858.533322           25386.747582   \n",
       "3          24146.972686           34984.767305           24146.972686   \n",
       "\n",
       "   distance_upper_border  cc_middle_angle  cc_xmin_ymin_angle  \\\n",
       "0          114924.969304              NaN                 NaN   \n",
       "1          113775.281047         0.137059            0.038653   \n",
       "2           84874.048910         0.198812            0.120334   \n",
       "3           83601.282594         0.173281            0.132425   \n",
       "\n",
       "   cc_xmax_ymin_angle  cc_xmin_ymax_angle  cc_xmax_ymax_angle  \n",
       "0                 NaN                 NaN                 NaN  \n",
       "1            0.188293            0.042244            0.310604  \n",
       "2            0.476339            0.057555            0.234039  \n",
       "3            0.711798            0.044184            0.184758  \n",
       "\n",
       "[4 rows x 41 columns]"
      ]
     },
     "execution_count": 18,
     "metadata": {},
     "output_type": "execute_result"
    }
   ],
   "source": [
    "data['last_x_entry'] = data.groupby('hash').x_exit.shift(1)\n",
    "data['last_y_entry'] = data.groupby('hash').y_exit.shift(1)\n",
    "\n",
    "angle_cols = [\n",
    "    'cc_middle_angle', 'cc_xmin_ymin_angle', 'cc_xmax_ymin_angle', 'cc_xmin_ymax_angle', 'cc_xmax_ymax_angle'\n",
    "]\n",
    "\n",
    "data = data.reindex(columns=data.columns.tolist() + angle_cols)\n",
    "\n",
    "data = data.progress_apply(entry_to_center_angles, axis=1)\n",
    "\n",
    "data = data.drop(columns=['last_x_entry', 'last_y_entry'])\n",
    "\n",
    "data.head(4)"
   ]
  },
  {
   "cell_type": "code",
   "execution_count": 19,
   "metadata": {},
   "outputs": [
    {
     "data": {
      "text/html": [
       "<div>\n",
       "<style scoped>\n",
       "    .dataframe tbody tr th:only-of-type {\n",
       "        vertical-align: middle;\n",
       "    }\n",
       "\n",
       "    .dataframe tbody tr th {\n",
       "        vertical-align: top;\n",
       "    }\n",
       "\n",
       "    .dataframe thead th {\n",
       "        text-align: right;\n",
       "    }\n",
       "</style>\n",
       "<table border=\"1\" class=\"dataframe\">\n",
       "  <thead>\n",
       "    <tr style=\"text-align: right;\">\n",
       "      <th></th>\n",
       "      <th>hash</th>\n",
       "      <th>trajectory_id</th>\n",
       "      <th>time_entry</th>\n",
       "      <th>time_exit</th>\n",
       "      <th>vmax</th>\n",
       "      <th>vmin</th>\n",
       "      <th>vmean</th>\n",
       "      <th>x_entry</th>\n",
       "      <th>y_entry</th>\n",
       "      <th>x_exit</th>\n",
       "      <th>...</th>\n",
       "      <th>direction_exit</th>\n",
       "      <th>distance_left_border</th>\n",
       "      <th>distance_right_border</th>\n",
       "      <th>distance_lower_border</th>\n",
       "      <th>distance_upper_border</th>\n",
       "      <th>cc_middle_angle</th>\n",
       "      <th>cc_xmin_ymin_angle</th>\n",
       "      <th>cc_xmax_ymin_angle</th>\n",
       "      <th>cc_xmin_ymax_angle</th>\n",
       "      <th>cc_xmax_ymax_angle</th>\n",
       "    </tr>\n",
       "  </thead>\n",
       "  <tbody>\n",
       "    <tr>\n",
       "      <th>0</th>\n",
       "      <td>0000a8602cf2def930488dee7cdad104_1</td>\n",
       "      <td>traj_0000a8602cf2def930488dee7cdad104_1_0</td>\n",
       "      <td>07:04:31</td>\n",
       "      <td>07:08:32</td>\n",
       "      <td>NaN</td>\n",
       "      <td>NaN</td>\n",
       "      <td>NaN</td>\n",
       "      <td>3.751014e+06</td>\n",
       "      <td>-1.909398e+07</td>\n",
       "      <td>3.750326e+06</td>\n",
       "      <td>...</td>\n",
       "      <td>-0.000546</td>\n",
       "      <td>114925.024135</td>\n",
       "      <td>116633.059928</td>\n",
       "      <td>174924.969304</td>\n",
       "      <td>114924.969304</td>\n",
       "      <td>NaN</td>\n",
       "      <td>NaN</td>\n",
       "      <td>NaN</td>\n",
       "      <td>NaN</td>\n",
       "      <td>NaN</td>\n",
       "    </tr>\n",
       "    <tr>\n",
       "      <th>1</th>\n",
       "      <td>0000a8602cf2def930488dee7cdad104_1</td>\n",
       "      <td>traj_0000a8602cf2def930488dee7cdad104_1_1</td>\n",
       "      <td>07:20:34</td>\n",
       "      <td>07:25:42</td>\n",
       "      <td>NaN</td>\n",
       "      <td>NaN</td>\n",
       "      <td>NaN</td>\n",
       "      <td>3.743937e+06</td>\n",
       "      <td>-1.932247e+07</td>\n",
       "      <td>3.744975e+06</td>\n",
       "      <td>...</td>\n",
       "      <td>-0.000830</td>\n",
       "      <td>54012.799354</td>\n",
       "      <td>59966.283785</td>\n",
       "      <td>54012.799354</td>\n",
       "      <td>113775.281047</td>\n",
       "      <td>7.852886</td>\n",
       "      <td>2.214659</td>\n",
       "      <td>10.788397</td>\n",
       "      <td>2.420383</td>\n",
       "      <td>17.796301</td>\n",
       "    </tr>\n",
       "    <tr>\n",
       "      <th>2</th>\n",
       "      <td>0000a8602cf2def930488dee7cdad104_1</td>\n",
       "      <td>traj_0000a8602cf2def930488dee7cdad104_1_2</td>\n",
       "      <td>07:53:32</td>\n",
       "      <td>08:03:25</td>\n",
       "      <td>NaN</td>\n",
       "      <td>NaN</td>\n",
       "      <td>NaN</td>\n",
       "      <td>3.744868e+06</td>\n",
       "      <td>-1.929356e+07</td>\n",
       "      <td>3.744816e+06</td>\n",
       "      <td>...</td>\n",
       "      <td>-0.000837</td>\n",
       "      <td>25386.747582</td>\n",
       "      <td>35858.533322</td>\n",
       "      <td>25386.747582</td>\n",
       "      <td>84874.048910</td>\n",
       "      <td>11.391105</td>\n",
       "      <td>6.894649</td>\n",
       "      <td>27.292186</td>\n",
       "      <td>3.297664</td>\n",
       "      <td>13.409474</td>\n",
       "    </tr>\n",
       "    <tr>\n",
       "      <th>3</th>\n",
       "      <td>0000a8602cf2def930488dee7cdad104_1</td>\n",
       "      <td>traj_0000a8602cf2def930488dee7cdad104_1_3</td>\n",
       "      <td>08:17:50</td>\n",
       "      <td>08:37:23</td>\n",
       "      <td>NaN</td>\n",
       "      <td>NaN</td>\n",
       "      <td>NaN</td>\n",
       "      <td>3.744880e+06</td>\n",
       "      <td>-1.929229e+07</td>\n",
       "      <td>3.744809e+06</td>\n",
       "      <td>...</td>\n",
       "      <td>-0.000837</td>\n",
       "      <td>24146.972686</td>\n",
       "      <td>34984.767305</td>\n",
       "      <td>24146.972686</td>\n",
       "      <td>83601.282594</td>\n",
       "      <td>9.928271</td>\n",
       "      <td>7.587407</td>\n",
       "      <td>40.782997</td>\n",
       "      <td>2.531528</td>\n",
       "      <td>10.585844</td>\n",
       "    </tr>\n",
       "  </tbody>\n",
       "</table>\n",
       "<p>4 rows × 41 columns</p>\n",
       "</div>"
      ],
      "text/plain": [
       "                                 hash  \\\n",
       "0  0000a8602cf2def930488dee7cdad104_1   \n",
       "1  0000a8602cf2def930488dee7cdad104_1   \n",
       "2  0000a8602cf2def930488dee7cdad104_1   \n",
       "3  0000a8602cf2def930488dee7cdad104_1   \n",
       "\n",
       "                               trajectory_id time_entry time_exit  vmax  vmin  \\\n",
       "0  traj_0000a8602cf2def930488dee7cdad104_1_0   07:04:31  07:08:32   NaN   NaN   \n",
       "1  traj_0000a8602cf2def930488dee7cdad104_1_1   07:20:34  07:25:42   NaN   NaN   \n",
       "2  traj_0000a8602cf2def930488dee7cdad104_1_2   07:53:32  08:03:25   NaN   NaN   \n",
       "3  traj_0000a8602cf2def930488dee7cdad104_1_3   08:17:50  08:37:23   NaN   NaN   \n",
       "\n",
       "   vmean       x_entry       y_entry        x_exit  ...  direction_exit  \\\n",
       "0    NaN  3.751014e+06 -1.909398e+07  3.750326e+06  ...       -0.000546   \n",
       "1    NaN  3.743937e+06 -1.932247e+07  3.744975e+06  ...       -0.000830   \n",
       "2    NaN  3.744868e+06 -1.929356e+07  3.744816e+06  ...       -0.000837   \n",
       "3    NaN  3.744880e+06 -1.929229e+07  3.744809e+06  ...       -0.000837   \n",
       "\n",
       "   distance_left_border  distance_right_border  distance_lower_border  \\\n",
       "0         114925.024135          116633.059928          174924.969304   \n",
       "1          54012.799354           59966.283785           54012.799354   \n",
       "2          25386.747582           35858.533322           25386.747582   \n",
       "3          24146.972686           34984.767305           24146.972686   \n",
       "\n",
       "   distance_upper_border  cc_middle_angle  cc_xmin_ymin_angle  \\\n",
       "0          114924.969304              NaN                 NaN   \n",
       "1          113775.281047         7.852886            2.214659   \n",
       "2           84874.048910        11.391105            6.894649   \n",
       "3           83601.282594         9.928271            7.587407   \n",
       "\n",
       "   cc_xmax_ymin_angle  cc_xmin_ymax_angle  cc_xmax_ymax_angle  \n",
       "0                 NaN                 NaN                 NaN  \n",
       "1           10.788397            2.420383           17.796301  \n",
       "2           27.292186            3.297664           13.409474  \n",
       "3           40.782997            2.531528           10.585844  \n",
       "\n",
       "[4 rows x 41 columns]"
      ]
     },
     "execution_count": 19,
     "metadata": {},
     "output_type": "execute_result"
    }
   ],
   "source": [
    "data[angle_cols] = data[angle_cols] * 180.0 / np.pi\n",
    "data.head(4)"
   ]
  },
  {
   "cell_type": "markdown",
   "metadata": {},
   "source": [
    "# Target feature"
   ]
  },
  {
   "cell_type": "code",
   "execution_count": 20,
   "metadata": {},
   "outputs": [],
   "source": [
    "def is_inside_city(x, y):\n",
    "    if (3750901.5068 <= x <= 3770901.5068) and (-19268905.6133 <= y <= -19208905.6133):\n",
    "        return 1\n",
    "    else:\n",
    "        return 0\n",
    "\n",
    "data['is_inside_city_entry'] = [is_inside_city(x, y) for x, y in zip(data.x_entry, data.y_entry)]\n",
    "data['is_inside_city_exit'] = [is_inside_city(x, y) for x, y in zip(data.x_exit, data.y_exit)]"
   ]
  },
  {
   "cell_type": "markdown",
   "metadata": {},
   "source": [
    "# Grid Sections\n",
    "We'll start off dividing our trajectory map in grids meant to cover any posible entry point in our data"
   ]
  },
  {
   "cell_type": "code",
   "execution_count": 21,
   "metadata": {},
   "outputs": [
    {
     "data": {
      "text/plain": [
       "(36068.62821192667, 340258.3224131949)"
      ]
     },
     "execution_count": 21,
     "metadata": {},
     "output_type": "execute_result"
    }
   ],
   "source": [
    "xmin, ymin, xmax, ymax = data.x_entry.min(), data.y_entry.min(), data.x_entry.max(), data.y_entry.max()\n",
    "\n",
    "xmax-xmin, ymax-ymin"
   ]
  },
  {
   "cell_type": "code",
   "execution_count": 22,
   "metadata": {},
   "outputs": [],
   "source": [
    "from shapely.geometry import Polygon\n",
    "\n",
    "# 10x3 grids, given the height/width ratio is predominantly vertical\n",
    "y_count = 4\n",
    "x_count = 10\n",
    "\n",
    "grid_h = (ymax-ymin)/y_count\n",
    "grid_w = (xmax-xmin)/x_count\n",
    "\n",
    "grids = {'{}_{}'.format(i+1,j+1): Polygon([\n",
    "            (xmin + grid_w*i, ymin + grid_h*j), (xmin + grid_w*i, ymin + grid_h*(j+1)),\n",
    "            (xmin + grid_w*(i+1), ymin + grid_h*(j+1)), (xmin + grid_w*(i+1), ymin + grid_h*j)]) \\\n",
    "         for i in range(0, x_count) \\\n",
    "         for j in range(0, y_count)}"
   ]
  },
  {
   "cell_type": "code",
   "execution_count": 23,
   "metadata": {},
   "outputs": [
    {
     "data": {
      "image/svg+xml": [
       "<svg xmlns=\"http://www.w3.org/2000/svg\" xmlns:xlink=\"http://www.w3.org/1999/xlink\" width=\"300\" height=\"300\" viewBox=\"3737628.0542473183 -19386317.56412433 10412.029269455932 91869.74705156311\" preserveAspectRatio=\"xMinYMin meet\"><g transform=\"matrix(1,0,0,-1,0,-38680765.381197095)\"><path fill-rule=\"evenodd\" fill=\"#66cc99\" stroke=\"#555555\" stroke-width=\"612.4649803437541\" opacity=\"0.6\" d=\"M 3741030.63747145,-19382914.9809002 L 3741030.63747145,-19297850.4002969 L 3744637.5002926425,-19297850.4002969 L 3744637.5002926425,-19382914.9809002 L 3741030.63747145,-19382914.9809002 z\" /></g></svg>"
      ],
      "text/plain": [
       "<shapely.geometry.polygon.Polygon at 0x1dd114103c8>"
      ]
     },
     "execution_count": 23,
     "metadata": {},
     "output_type": "execute_result"
    }
   ],
   "source": [
    "grids['1_1']"
   ]
  },
  {
   "cell_type": "code",
   "execution_count": 140,
   "metadata": {},
   "outputs": [],
   "source": [
    "grid_cols = ['entry_grid_' + grid for grid in grids.keys()]\n",
    "data = data.reindex(columns=data.columns.tolist() + grid_cols)"
   ]
  },
  {
   "cell_type": "code",
   "execution_count": 141,
   "metadata": {},
   "outputs": [],
   "source": [
    "for (_, grid), col in zip(grids.items(), grid_cols):\n",
    "    data[col] = data.apply(lambda row: grid.contains(Point(row['x_entry'], row['y_entry'])), axis=1)"
   ]
  },
  {
   "cell_type": "code",
   "execution_count": 142,
   "metadata": {},
   "outputs": [],
   "source": [
    "data[grid_cols] = data[grid_cols].astype(int)"
   ]
  },
  {
   "cell_type": "code",
   "execution_count": 143,
   "metadata": {},
   "outputs": [
    {
     "data": {
      "text/html": [
       "<div>\n",
       "<style scoped>\n",
       "    .dataframe tbody tr th:only-of-type {\n",
       "        vertical-align: middle;\n",
       "    }\n",
       "\n",
       "    .dataframe tbody tr th {\n",
       "        vertical-align: top;\n",
       "    }\n",
       "\n",
       "    .dataframe thead th {\n",
       "        text-align: right;\n",
       "    }\n",
       "</style>\n",
       "<table border=\"1\" class=\"dataframe\">\n",
       "  <thead>\n",
       "    <tr style=\"text-align: right;\">\n",
       "      <th></th>\n",
       "      <th>hash</th>\n",
       "      <th>trajectory_id</th>\n",
       "      <th>time_entry</th>\n",
       "      <th>time_exit</th>\n",
       "      <th>vmax</th>\n",
       "      <th>vmin</th>\n",
       "      <th>vmean</th>\n",
       "      <th>x_entry</th>\n",
       "      <th>y_entry</th>\n",
       "      <th>x_exit</th>\n",
       "      <th>...</th>\n",
       "      <th>entry_grid_8_4</th>\n",
       "      <th>entry_grid_9_1</th>\n",
       "      <th>entry_grid_9_2</th>\n",
       "      <th>entry_grid_9_3</th>\n",
       "      <th>entry_grid_9_4</th>\n",
       "      <th>entry_grid_10_1</th>\n",
       "      <th>entry_grid_10_2</th>\n",
       "      <th>entry_grid_10_3</th>\n",
       "      <th>entry_grid_10_4</th>\n",
       "      <th>neighbors</th>\n",
       "    </tr>\n",
       "  </thead>\n",
       "  <tbody>\n",
       "    <tr>\n",
       "      <th>0</th>\n",
       "      <td>0000a8602cf2def930488dee7cdad104_1</td>\n",
       "      <td>traj_0000a8602cf2def930488dee7cdad104_1_0</td>\n",
       "      <td>07:04:31</td>\n",
       "      <td>07:08:32</td>\n",
       "      <td>NaN</td>\n",
       "      <td>NaN</td>\n",
       "      <td>NaN</td>\n",
       "      <td>3.751014e+06</td>\n",
       "      <td>-1.909398e+07</td>\n",
       "      <td>3.750326e+06</td>\n",
       "      <td>...</td>\n",
       "      <td>0</td>\n",
       "      <td>0</td>\n",
       "      <td>0</td>\n",
       "      <td>0</td>\n",
       "      <td>0</td>\n",
       "      <td>0</td>\n",
       "      <td>0</td>\n",
       "      <td>0</td>\n",
       "      <td>0</td>\n",
       "      <td>4034.0</td>\n",
       "    </tr>\n",
       "    <tr>\n",
       "      <th>1</th>\n",
       "      <td>0000a8602cf2def930488dee7cdad104_1</td>\n",
       "      <td>traj_0000a8602cf2def930488dee7cdad104_1_1</td>\n",
       "      <td>07:20:34</td>\n",
       "      <td>07:25:42</td>\n",
       "      <td>NaN</td>\n",
       "      <td>NaN</td>\n",
       "      <td>NaN</td>\n",
       "      <td>3.743937e+06</td>\n",
       "      <td>-1.932247e+07</td>\n",
       "      <td>3.744975e+06</td>\n",
       "      <td>...</td>\n",
       "      <td>0</td>\n",
       "      <td>0</td>\n",
       "      <td>0</td>\n",
       "      <td>0</td>\n",
       "      <td>0</td>\n",
       "      <td>0</td>\n",
       "      <td>0</td>\n",
       "      <td>0</td>\n",
       "      <td>0</td>\n",
       "      <td>11235.0</td>\n",
       "    </tr>\n",
       "    <tr>\n",
       "      <th>2</th>\n",
       "      <td>0000a8602cf2def930488dee7cdad104_1</td>\n",
       "      <td>traj_0000a8602cf2def930488dee7cdad104_1_2</td>\n",
       "      <td>07:53:32</td>\n",
       "      <td>08:03:25</td>\n",
       "      <td>NaN</td>\n",
       "      <td>NaN</td>\n",
       "      <td>NaN</td>\n",
       "      <td>3.744868e+06</td>\n",
       "      <td>-1.929356e+07</td>\n",
       "      <td>3.744816e+06</td>\n",
       "      <td>...</td>\n",
       "      <td>0</td>\n",
       "      <td>0</td>\n",
       "      <td>0</td>\n",
       "      <td>0</td>\n",
       "      <td>0</td>\n",
       "      <td>0</td>\n",
       "      <td>0</td>\n",
       "      <td>0</td>\n",
       "      <td>0</td>\n",
       "      <td>24758.0</td>\n",
       "    </tr>\n",
       "    <tr>\n",
       "      <th>3</th>\n",
       "      <td>0000a8602cf2def930488dee7cdad104_1</td>\n",
       "      <td>traj_0000a8602cf2def930488dee7cdad104_1_3</td>\n",
       "      <td>08:17:50</td>\n",
       "      <td>08:37:23</td>\n",
       "      <td>NaN</td>\n",
       "      <td>NaN</td>\n",
       "      <td>NaN</td>\n",
       "      <td>3.744880e+06</td>\n",
       "      <td>-1.929229e+07</td>\n",
       "      <td>3.744809e+06</td>\n",
       "      <td>...</td>\n",
       "      <td>0</td>\n",
       "      <td>0</td>\n",
       "      <td>0</td>\n",
       "      <td>0</td>\n",
       "      <td>0</td>\n",
       "      <td>0</td>\n",
       "      <td>0</td>\n",
       "      <td>0</td>\n",
       "      <td>0</td>\n",
       "      <td>24758.0</td>\n",
       "    </tr>\n",
       "    <tr>\n",
       "      <th>5</th>\n",
       "      <td>0000a8602cf2def930488dee7cdad104_1</td>\n",
       "      <td>traj_0000a8602cf2def930488dee7cdad104_1_5</td>\n",
       "      <td>15:02:31</td>\n",
       "      <td>15:18:33</td>\n",
       "      <td>NaN</td>\n",
       "      <td>NaN</td>\n",
       "      <td>NaN</td>\n",
       "      <td>3.744945e+06</td>\n",
       "      <td>-1.928183e+07</td>\n",
       "      <td>3.744785e+06</td>\n",
       "      <td>...</td>\n",
       "      <td>0</td>\n",
       "      <td>0</td>\n",
       "      <td>0</td>\n",
       "      <td>0</td>\n",
       "      <td>0</td>\n",
       "      <td>0</td>\n",
       "      <td>0</td>\n",
       "      <td>0</td>\n",
       "      <td>0</td>\n",
       "      <td>24758.0</td>\n",
       "    </tr>\n",
       "  </tbody>\n",
       "</table>\n",
       "<p>5 rows × 84 columns</p>\n",
       "</div>"
      ],
      "text/plain": [
       "                                 hash  \\\n",
       "0  0000a8602cf2def930488dee7cdad104_1   \n",
       "1  0000a8602cf2def930488dee7cdad104_1   \n",
       "2  0000a8602cf2def930488dee7cdad104_1   \n",
       "3  0000a8602cf2def930488dee7cdad104_1   \n",
       "5  0000a8602cf2def930488dee7cdad104_1   \n",
       "\n",
       "                               trajectory_id time_entry time_exit  vmax  vmin  \\\n",
       "0  traj_0000a8602cf2def930488dee7cdad104_1_0   07:04:31  07:08:32   NaN   NaN   \n",
       "1  traj_0000a8602cf2def930488dee7cdad104_1_1   07:20:34  07:25:42   NaN   NaN   \n",
       "2  traj_0000a8602cf2def930488dee7cdad104_1_2   07:53:32  08:03:25   NaN   NaN   \n",
       "3  traj_0000a8602cf2def930488dee7cdad104_1_3   08:17:50  08:37:23   NaN   NaN   \n",
       "5  traj_0000a8602cf2def930488dee7cdad104_1_5   15:02:31  15:18:33   NaN   NaN   \n",
       "\n",
       "   vmean       x_entry       y_entry        x_exit  ...  entry_grid_8_4  \\\n",
       "0    NaN  3.751014e+06 -1.909398e+07  3.750326e+06  ...               0   \n",
       "1    NaN  3.743937e+06 -1.932247e+07  3.744975e+06  ...               0   \n",
       "2    NaN  3.744868e+06 -1.929356e+07  3.744816e+06  ...               0   \n",
       "3    NaN  3.744880e+06 -1.929229e+07  3.744809e+06  ...               0   \n",
       "5    NaN  3.744945e+06 -1.928183e+07  3.744785e+06  ...               0   \n",
       "\n",
       "   entry_grid_9_1  entry_grid_9_2  entry_grid_9_3  entry_grid_9_4  \\\n",
       "0               0               0               0               0   \n",
       "1               0               0               0               0   \n",
       "2               0               0               0               0   \n",
       "3               0               0               0               0   \n",
       "5               0               0               0               0   \n",
       "\n",
       "   entry_grid_10_1  entry_grid_10_2  entry_grid_10_3  entry_grid_10_4  \\\n",
       "0                0                0                0                0   \n",
       "1                0                0                0                0   \n",
       "2                0                0                0                0   \n",
       "3                0                0                0                0   \n",
       "5                0                0                0                0   \n",
       "\n",
       "   neighbors  \n",
       "0     4034.0  \n",
       "1    11235.0  \n",
       "2    24758.0  \n",
       "3    24758.0  \n",
       "5    24758.0  \n",
       "\n",
       "[5 rows x 84 columns]"
      ]
     },
     "execution_count": 143,
     "metadata": {},
     "output_type": "execute_result"
    }
   ],
   "source": [
    "for col in grid_cols:\n",
    "    data.loc[data[col] == 1, 'neighbors'] = data[col].sum()\n",
    "\n",
    "data.head(5)"
   ]
  },
  {
   "cell_type": "code",
   "execution_count": 24,
   "metadata": {},
   "outputs": [
    {
     "data": {
      "application/vnd.jupyter.widget-view+json": {
       "model_id": "f339961512244e21b6bc8d988f57c9d2",
       "version_major": 2,
       "version_minor": 0
      },
      "text/plain": [
       "HBox(children=(IntProgress(value=0, max=491966), HTML(value='')))"
      ]
     },
     "metadata": {},
     "output_type": "display_data"
    },
    {
     "name": "stdout",
     "output_type": "stream",
     "text": [
      "\n"
     ]
    }
   ],
   "source": [
    "data['center_permanency'] = data.progress_apply(center_permanency, axis=1)"
   ]
  },
  {
   "cell_type": "code",
   "execution_count": 25,
   "metadata": {},
   "outputs": [],
   "source": [
    "# time passed between blind spots\n",
    "\n",
    "data['time_delta_blind'] = (data.time_entry - data.time_exit.shift(1)) / np.timedelta64(1, 'm')"
   ]
  },
  {
   "cell_type": "code",
   "execution_count": 26,
   "metadata": {},
   "outputs": [
    {
     "data": {
      "text/html": [
       "<div>\n",
       "<style scoped>\n",
       "    .dataframe tbody tr th:only-of-type {\n",
       "        vertical-align: middle;\n",
       "    }\n",
       "\n",
       "    .dataframe tbody tr th {\n",
       "        vertical-align: top;\n",
       "    }\n",
       "\n",
       "    .dataframe thead th {\n",
       "        text-align: right;\n",
       "    }\n",
       "</style>\n",
       "<table border=\"1\" class=\"dataframe\">\n",
       "  <thead>\n",
       "    <tr style=\"text-align: right;\">\n",
       "      <th></th>\n",
       "      <th>hash</th>\n",
       "      <th>trajectory_id</th>\n",
       "      <th>time_entry</th>\n",
       "      <th>time_exit</th>\n",
       "      <th>vmax</th>\n",
       "      <th>vmin</th>\n",
       "      <th>vmean</th>\n",
       "      <th>x_entry</th>\n",
       "      <th>y_entry</th>\n",
       "      <th>x_exit</th>\n",
       "      <th>...</th>\n",
       "      <th>cc_xmax_ymin_angle</th>\n",
       "      <th>cc_xmin_ymax_angle</th>\n",
       "      <th>cc_xmax_ymax_angle</th>\n",
       "      <th>is_inside_city_entry</th>\n",
       "      <th>is_inside_city_exit</th>\n",
       "      <th>center_permanency</th>\n",
       "      <th>time_delta_blind</th>\n",
       "      <th>x_delta_blind</th>\n",
       "      <th>y_delta_blind</th>\n",
       "      <th>distance_blind</th>\n",
       "    </tr>\n",
       "  </thead>\n",
       "  <tbody>\n",
       "    <tr>\n",
       "      <th>0</th>\n",
       "      <td>0000a8602cf2def930488dee7cdad104_1</td>\n",
       "      <td>traj_0000a8602cf2def930488dee7cdad104_1_0</td>\n",
       "      <td>07:04:31</td>\n",
       "      <td>07:08:32</td>\n",
       "      <td>NaN</td>\n",
       "      <td>NaN</td>\n",
       "      <td>NaN</td>\n",
       "      <td>3.751014e+06</td>\n",
       "      <td>-1.909398e+07</td>\n",
       "      <td>3.750326e+06</td>\n",
       "      <td>...</td>\n",
       "      <td>NaN</td>\n",
       "      <td>NaN</td>\n",
       "      <td>NaN</td>\n",
       "      <td>0</td>\n",
       "      <td>0</td>\n",
       "      <td>0.0</td>\n",
       "      <td>NaN</td>\n",
       "      <td>NaN</td>\n",
       "      <td>NaN</td>\n",
       "      <td>NaN</td>\n",
       "    </tr>\n",
       "    <tr>\n",
       "      <th>1</th>\n",
       "      <td>0000a8602cf2def930488dee7cdad104_1</td>\n",
       "      <td>traj_0000a8602cf2def930488dee7cdad104_1_1</td>\n",
       "      <td>07:20:34</td>\n",
       "      <td>07:25:42</td>\n",
       "      <td>NaN</td>\n",
       "      <td>NaN</td>\n",
       "      <td>NaN</td>\n",
       "      <td>3.743937e+06</td>\n",
       "      <td>-1.932247e+07</td>\n",
       "      <td>3.744975e+06</td>\n",
       "      <td>...</td>\n",
       "      <td>10.788397</td>\n",
       "      <td>2.420383</td>\n",
       "      <td>17.796301</td>\n",
       "      <td>0</td>\n",
       "      <td>0</td>\n",
       "      <td>0.0</td>\n",
       "      <td>12.033333</td>\n",
       "      <td>-6388.625577</td>\n",
       "      <td>-186127.626359</td>\n",
       "      <td>186237.235350</td>\n",
       "    </tr>\n",
       "    <tr>\n",
       "      <th>2</th>\n",
       "      <td>0000a8602cf2def930488dee7cdad104_1</td>\n",
       "      <td>traj_0000a8602cf2def930488dee7cdad104_1_2</td>\n",
       "      <td>07:53:32</td>\n",
       "      <td>08:03:25</td>\n",
       "      <td>NaN</td>\n",
       "      <td>NaN</td>\n",
       "      <td>NaN</td>\n",
       "      <td>3.744868e+06</td>\n",
       "      <td>-1.929356e+07</td>\n",
       "      <td>3.744816e+06</td>\n",
       "      <td>...</td>\n",
       "      <td>27.292186</td>\n",
       "      <td>3.297664</td>\n",
       "      <td>13.409474</td>\n",
       "      <td>0</td>\n",
       "      <td>0</td>\n",
       "      <td>0.0</td>\n",
       "      <td>27.833333</td>\n",
       "      <td>-106.866711</td>\n",
       "      <td>26098.775095</td>\n",
       "      <td>26098.993888</td>\n",
       "    </tr>\n",
       "    <tr>\n",
       "      <th>3</th>\n",
       "      <td>0000a8602cf2def930488dee7cdad104_1</td>\n",
       "      <td>traj_0000a8602cf2def930488dee7cdad104_1_3</td>\n",
       "      <td>08:17:50</td>\n",
       "      <td>08:37:23</td>\n",
       "      <td>NaN</td>\n",
       "      <td>NaN</td>\n",
       "      <td>NaN</td>\n",
       "      <td>3.744880e+06</td>\n",
       "      <td>-1.929229e+07</td>\n",
       "      <td>3.744809e+06</td>\n",
       "      <td>...</td>\n",
       "      <td>40.782997</td>\n",
       "      <td>2.531528</td>\n",
       "      <td>10.585844</td>\n",
       "      <td>0</td>\n",
       "      <td>0</td>\n",
       "      <td>0.0</td>\n",
       "      <td>14.416667</td>\n",
       "      <td>64.565305</td>\n",
       "      <td>551.388913</td>\n",
       "      <td>555.156205</td>\n",
       "    </tr>\n",
       "  </tbody>\n",
       "</table>\n",
       "<p>4 rows × 48 columns</p>\n",
       "</div>"
      ],
      "text/plain": [
       "                                 hash  \\\n",
       "0  0000a8602cf2def930488dee7cdad104_1   \n",
       "1  0000a8602cf2def930488dee7cdad104_1   \n",
       "2  0000a8602cf2def930488dee7cdad104_1   \n",
       "3  0000a8602cf2def930488dee7cdad104_1   \n",
       "\n",
       "                               trajectory_id time_entry time_exit  vmax  vmin  \\\n",
       "0  traj_0000a8602cf2def930488dee7cdad104_1_0   07:04:31  07:08:32   NaN   NaN   \n",
       "1  traj_0000a8602cf2def930488dee7cdad104_1_1   07:20:34  07:25:42   NaN   NaN   \n",
       "2  traj_0000a8602cf2def930488dee7cdad104_1_2   07:53:32  08:03:25   NaN   NaN   \n",
       "3  traj_0000a8602cf2def930488dee7cdad104_1_3   08:17:50  08:37:23   NaN   NaN   \n",
       "\n",
       "   vmean       x_entry       y_entry        x_exit  ...  cc_xmax_ymin_angle  \\\n",
       "0    NaN  3.751014e+06 -1.909398e+07  3.750326e+06  ...                 NaN   \n",
       "1    NaN  3.743937e+06 -1.932247e+07  3.744975e+06  ...           10.788397   \n",
       "2    NaN  3.744868e+06 -1.929356e+07  3.744816e+06  ...           27.292186   \n",
       "3    NaN  3.744880e+06 -1.929229e+07  3.744809e+06  ...           40.782997   \n",
       "\n",
       "   cc_xmin_ymax_angle  cc_xmax_ymax_angle  is_inside_city_entry  \\\n",
       "0                 NaN                 NaN                     0   \n",
       "1            2.420383           17.796301                     0   \n",
       "2            3.297664           13.409474                     0   \n",
       "3            2.531528           10.585844                     0   \n",
       "\n",
       "   is_inside_city_exit  center_permanency  time_delta_blind  x_delta_blind  \\\n",
       "0                    0                0.0               NaN            NaN   \n",
       "1                    0                0.0         12.033333   -6388.625577   \n",
       "2                    0                0.0         27.833333    -106.866711   \n",
       "3                    0                0.0         14.416667      64.565305   \n",
       "\n",
       "   y_delta_blind  distance_blind  \n",
       "0            NaN             NaN  \n",
       "1 -186127.626359   186237.235350  \n",
       "2   26098.775095    26098.993888  \n",
       "3     551.388913      555.156205  \n",
       "\n",
       "[4 rows x 48 columns]"
      ]
     },
     "execution_count": 26,
     "metadata": {},
     "output_type": "execute_result"
    }
   ],
   "source": [
    "# time passed between blind spots\n",
    "\n",
    "data['x_delta_blind'] = data.x_entry - data.x_exit.shift(1)\n",
    "data['y_delta_blind'] = data.y_entry - data.y_exit.shift(1)\n",
    "\n",
    "data['distance_blind'] = ((data.x_delta_blind**2) + (data.y_delta_blind)**2)**(1/2)\n",
    "\n",
    "data.loc[data.time_delta_blind < 0, 'distance_blind'] = 0\n",
    "\n",
    "data.loc[data.time_delta_blind < 0, 'x_delta_blind'] = 0\n",
    "data.loc[data.time_delta_blind < 0, 'y_delta_blind'] = 0\n",
    "data.loc[data.time_delta_blind < 0, 'time_delta_blind'] = 0\n",
    "\n",
    "data.head(4)"
   ]
  },
  {
   "cell_type": "code",
   "execution_count": 27,
   "metadata": {},
   "outputs": [
    {
     "data": {
      "application/vnd.jupyter.widget-view+json": {
       "model_id": "d37452c4394d4acfaf5fc37f9fb09319",
       "version_major": 2,
       "version_minor": 0
      },
      "text/plain": [
       "HBox(children=(IntProgress(value=0, max=491966), HTML(value='')))"
      ]
     },
     "metadata": {},
     "output_type": "display_data"
    },
    {
     "name": "stdout",
     "output_type": "stream",
     "text": [
      "\n"
     ]
    }
   ],
   "source": [
    "data['trajectory_number'] = data.trajectory_id.progress_apply(lambda x: int(re.findall('_\\d+$', x)[0].strip('_')))\n",
    "\n",
    "data.loc[data.trajectory_number==0, 'distance_blind'] = 0\n",
    "data.loc[data.trajectory_number==0, 'time_delta_blind'] = 0"
   ]
  },
  {
   "cell_type": "markdown",
   "metadata": {},
   "source": [
    "# Time: Continuous features"
   ]
  },
  {
   "cell_type": "code",
   "execution_count": 28,
   "metadata": {},
   "outputs": [],
   "source": [
    "data['hours_continuous'] = [t / pd.Timedelta(hours=1) for t in data.time_entry]\n",
    "data['minutes_continuous'] = [t / pd.Timedelta(minutes=1) for t in data.time_entry]"
   ]
  },
  {
   "cell_type": "markdown",
   "metadata": {},
   "source": [
    "### Aggregating features"
   ]
  },
  {
   "cell_type": "code",
   "execution_count": 57,
   "metadata": {},
   "outputs": [
    {
     "data": {
      "text/html": [
       "<div>\n",
       "<style scoped>\n",
       "    .dataframe tbody tr th:only-of-type {\n",
       "        vertical-align: middle;\n",
       "    }\n",
       "\n",
       "    .dataframe tbody tr th {\n",
       "        vertical-align: top;\n",
       "    }\n",
       "\n",
       "    .dataframe thead th {\n",
       "        text-align: right;\n",
       "    }\n",
       "</style>\n",
       "<table border=\"1\" class=\"dataframe\">\n",
       "  <thead>\n",
       "    <tr style=\"text-align: right;\">\n",
       "      <th></th>\n",
       "      <th>hash</th>\n",
       "      <th>trajectory_id</th>\n",
       "      <th>time_entry</th>\n",
       "      <th>time_exit</th>\n",
       "      <th>vmax</th>\n",
       "      <th>vmin</th>\n",
       "      <th>vmean</th>\n",
       "      <th>x_entry</th>\n",
       "      <th>y_entry</th>\n",
       "      <th>x_exit</th>\n",
       "      <th>...</th>\n",
       "      <th>cc_xmin_ymax_angle_mean</th>\n",
       "      <th>cc_xmin_ymax_angle_max</th>\n",
       "      <th>cc_xmin_ymax_angle_std</th>\n",
       "      <th>cc_xmin_ymax_angle_min</th>\n",
       "      <th>cc_xmin_ymax_angle_sum</th>\n",
       "      <th>cc_xmax_ymax_angle_mean</th>\n",
       "      <th>cc_xmax_ymax_angle_max</th>\n",
       "      <th>cc_xmax_ymax_angle_std</th>\n",
       "      <th>cc_xmax_ymax_angle_min</th>\n",
       "      <th>cc_xmax_ymax_angle_sum</th>\n",
       "    </tr>\n",
       "  </thead>\n",
       "  <tbody>\n",
       "    <tr>\n",
       "      <th>0</th>\n",
       "      <td>0000a8602cf2def930488dee7cdad104_1</td>\n",
       "      <td>traj_0000a8602cf2def930488dee7cdad104_1_0</td>\n",
       "      <td>07:04:31</td>\n",
       "      <td>07:08:32</td>\n",
       "      <td>NaN</td>\n",
       "      <td>NaN</td>\n",
       "      <td>NaN</td>\n",
       "      <td>3.751014e+06</td>\n",
       "      <td>-1.909398e+07</td>\n",
       "      <td>3.750326e+06</td>\n",
       "      <td>...</td>\n",
       "      <td>NaN</td>\n",
       "      <td>NaN</td>\n",
       "      <td>NaN</td>\n",
       "      <td>NaN</td>\n",
       "      <td>NaN</td>\n",
       "      <td>NaN</td>\n",
       "      <td>NaN</td>\n",
       "      <td>NaN</td>\n",
       "      <td>NaN</td>\n",
       "      <td>NaN</td>\n",
       "    </tr>\n",
       "    <tr>\n",
       "      <th>1</th>\n",
       "      <td>0000a8602cf2def930488dee7cdad104_1</td>\n",
       "      <td>traj_0000a8602cf2def930488dee7cdad104_1_1</td>\n",
       "      <td>07:20:34</td>\n",
       "      <td>07:25:42</td>\n",
       "      <td>NaN</td>\n",
       "      <td>NaN</td>\n",
       "      <td>NaN</td>\n",
       "      <td>3.743937e+06</td>\n",
       "      <td>-1.932247e+07</td>\n",
       "      <td>3.744975e+06</td>\n",
       "      <td>...</td>\n",
       "      <td>NaN</td>\n",
       "      <td>NaN</td>\n",
       "      <td>NaN</td>\n",
       "      <td>NaN</td>\n",
       "      <td>NaN</td>\n",
       "      <td>NaN</td>\n",
       "      <td>NaN</td>\n",
       "      <td>NaN</td>\n",
       "      <td>NaN</td>\n",
       "      <td>NaN</td>\n",
       "    </tr>\n",
       "    <tr>\n",
       "      <th>2</th>\n",
       "      <td>0000a8602cf2def930488dee7cdad104_1</td>\n",
       "      <td>traj_0000a8602cf2def930488dee7cdad104_1_2</td>\n",
       "      <td>07:53:32</td>\n",
       "      <td>08:03:25</td>\n",
       "      <td>NaN</td>\n",
       "      <td>NaN</td>\n",
       "      <td>NaN</td>\n",
       "      <td>3.744868e+06</td>\n",
       "      <td>-1.929356e+07</td>\n",
       "      <td>3.744816e+06</td>\n",
       "      <td>...</td>\n",
       "      <td>2.420383</td>\n",
       "      <td>2.420383</td>\n",
       "      <td>NaN</td>\n",
       "      <td>2.420383</td>\n",
       "      <td>2.420383</td>\n",
       "      <td>17.796301</td>\n",
       "      <td>17.796301</td>\n",
       "      <td>NaN</td>\n",
       "      <td>17.796301</td>\n",
       "      <td>17.796301</td>\n",
       "    </tr>\n",
       "    <tr>\n",
       "      <th>3</th>\n",
       "      <td>0000a8602cf2def930488dee7cdad104_1</td>\n",
       "      <td>traj_0000a8602cf2def930488dee7cdad104_1_3</td>\n",
       "      <td>08:17:50</td>\n",
       "      <td>08:37:23</td>\n",
       "      <td>NaN</td>\n",
       "      <td>NaN</td>\n",
       "      <td>NaN</td>\n",
       "      <td>3.744880e+06</td>\n",
       "      <td>-1.929229e+07</td>\n",
       "      <td>3.744809e+06</td>\n",
       "      <td>...</td>\n",
       "      <td>2.859023</td>\n",
       "      <td>3.297664</td>\n",
       "      <td>0.620331</td>\n",
       "      <td>2.420383</td>\n",
       "      <td>5.718046</td>\n",
       "      <td>15.602887</td>\n",
       "      <td>17.796301</td>\n",
       "      <td>3.101955</td>\n",
       "      <td>13.409474</td>\n",
       "      <td>31.205774</td>\n",
       "    </tr>\n",
       "  </tbody>\n",
       "</table>\n",
       "<p>4 rows × 191 columns</p>\n",
       "</div>"
      ],
      "text/plain": [
       "                                 hash  \\\n",
       "0  0000a8602cf2def930488dee7cdad104_1   \n",
       "1  0000a8602cf2def930488dee7cdad104_1   \n",
       "2  0000a8602cf2def930488dee7cdad104_1   \n",
       "3  0000a8602cf2def930488dee7cdad104_1   \n",
       "\n",
       "                               trajectory_id time_entry time_exit  vmax  vmin  \\\n",
       "0  traj_0000a8602cf2def930488dee7cdad104_1_0   07:04:31  07:08:32   NaN   NaN   \n",
       "1  traj_0000a8602cf2def930488dee7cdad104_1_1   07:20:34  07:25:42   NaN   NaN   \n",
       "2  traj_0000a8602cf2def930488dee7cdad104_1_2   07:53:32  08:03:25   NaN   NaN   \n",
       "3  traj_0000a8602cf2def930488dee7cdad104_1_3   08:17:50  08:37:23   NaN   NaN   \n",
       "\n",
       "   vmean       x_entry       y_entry        x_exit  ...  \\\n",
       "0    NaN  3.751014e+06 -1.909398e+07  3.750326e+06  ...   \n",
       "1    NaN  3.743937e+06 -1.932247e+07  3.744975e+06  ...   \n",
       "2    NaN  3.744868e+06 -1.929356e+07  3.744816e+06  ...   \n",
       "3    NaN  3.744880e+06 -1.929229e+07  3.744809e+06  ...   \n",
       "\n",
       "   cc_xmin_ymax_angle_mean  cc_xmin_ymax_angle_max  cc_xmin_ymax_angle_std  \\\n",
       "0                      NaN                     NaN                     NaN   \n",
       "1                      NaN                     NaN                     NaN   \n",
       "2                 2.420383                2.420383                     NaN   \n",
       "3                 2.859023                3.297664                0.620331   \n",
       "\n",
       "   cc_xmin_ymax_angle_min  cc_xmin_ymax_angle_sum  cc_xmax_ymax_angle_mean  \\\n",
       "0                     NaN                     NaN                      NaN   \n",
       "1                     NaN                     NaN                      NaN   \n",
       "2                2.420383                2.420383                17.796301   \n",
       "3                2.420383                5.718046                15.602887   \n",
       "\n",
       "   cc_xmax_ymax_angle_max  cc_xmax_ymax_angle_std  cc_xmax_ymax_angle_min  \\\n",
       "0                     NaN                     NaN                     NaN   \n",
       "1                     NaN                     NaN                     NaN   \n",
       "2               17.796301                     NaN               17.796301   \n",
       "3               17.796301                3.101955               13.409474   \n",
       "\n",
       "   cc_xmax_ymax_angle_sum  \n",
       "0                     NaN  \n",
       "1                     NaN  \n",
       "2               17.796301  \n",
       "3               31.205774  \n",
       "\n",
       "[4 rows x 191 columns]"
      ]
     },
     "execution_count": 57,
     "metadata": {},
     "output_type": "execute_result"
    }
   ],
   "source": [
    "window_reference = 5\n",
    "\n",
    "cols_to_agg = ['vmax', 'vmin', 'vmean', 'x_entry', 'y_entry', 'minute_entry', 'hours_continuous', 'minutes_continuous',\n",
    "               'hour_entry', 'first_quadrant_entry', 'third_quadrant_entry', 'fourth_quadrant_entry', 'second_quadrant_entry',\n",
    "               'trajectory_number', 'distance_cc_entry', 'deltat_min', 'x_diff_entry', 'y_diff_entry', 'direction_entry',\n",
    "               'distance_left_border', 'distance_right_border', 'distance_lower_border', 'distance_upper_border'] + angle_cols\n",
    "\n",
    "agg_features = (data.groupby(['hash', 'time_entry', 'trajectory_id'])[cols_to_agg]\n",
    "                .mean()\n",
    "                .shift(1)\n",
    "                .rolling(window_reference, min_periods=1)\n",
    "                .agg(['mean', 'max', 'std', 'min', 'sum']))\n",
    "\n",
    "agg_features.columns = [\"_\".join(x) for x in agg_features.columns.ravel()]\n",
    "data = data.merge(agg_features.reset_index(), \n",
    "                    on=['hash', 'trajectory_id', 'time_entry'])\n",
    "data.head(4)"
   ]
  },
  {
   "cell_type": "markdown",
   "metadata": {},
   "source": [
    "# Sequence Data"
   ]
  },
  {
   "cell_type": "code",
   "execution_count": 105,
   "metadata": {},
   "outputs": [],
   "source": [
    "window_reference = 5\n",
    "\n",
    "grouped = data.groupby(['hash']).tail(window_reference)\n",
    "grouped['sequence'] = np.ones(grouped.shape[0])\n",
    "df = grouped.groupby(by=['hash','time_entry', 'trajectory_id']).sum().groupby(level=[0]).cumsum().reset_index()[['trajectory_id', 'sequence']]\n",
    "df.columns = ['trajectory_id', 'trajectory_sequence']\n",
    "grouped = grouped.merge(df, on='trajectory_id', how='left')"
   ]
  },
  {
   "cell_type": "code",
   "execution_count": 106,
   "metadata": {
    "scrolled": true
   },
   "outputs": [
    {
     "data": {
      "text/html": [
       "<div>\n",
       "<style scoped>\n",
       "    .dataframe tbody tr th:only-of-type {\n",
       "        vertical-align: middle;\n",
       "    }\n",
       "\n",
       "    .dataframe tbody tr th {\n",
       "        vertical-align: top;\n",
       "    }\n",
       "\n",
       "    .dataframe thead th {\n",
       "        text-align: right;\n",
       "    }\n",
       "</style>\n",
       "<table border=\"1\" class=\"dataframe\">\n",
       "  <thead>\n",
       "    <tr style=\"text-align: right;\">\n",
       "      <th></th>\n",
       "      <th>hash</th>\n",
       "      <th>trajectory_id</th>\n",
       "      <th>time_entry</th>\n",
       "      <th>time_exit</th>\n",
       "      <th>vmax</th>\n",
       "      <th>vmin</th>\n",
       "      <th>vmean</th>\n",
       "      <th>x_entry</th>\n",
       "      <th>y_entry</th>\n",
       "      <th>x_exit</th>\n",
       "      <th>...</th>\n",
       "      <th>origin_time_delta_blind</th>\n",
       "      <th>origin_x_delta_blind</th>\n",
       "      <th>origin_y_delta_blind</th>\n",
       "      <th>origin_distance_blind</th>\n",
       "      <th>origin_trajectory_number</th>\n",
       "      <th>origin_hours_continuous</th>\n",
       "      <th>origin_minutes_continuous</th>\n",
       "      <th>sequence</th>\n",
       "      <th>trajectory_sequence</th>\n",
       "      <th>count_trajectories</th>\n",
       "    </tr>\n",
       "  </thead>\n",
       "  <tbody>\n",
       "    <tr>\n",
       "      <th>0</th>\n",
       "      <td>0000a8602cf2def930488dee7cdad104_1</td>\n",
       "      <td>traj_0000a8602cf2def930488dee7cdad104_1_0</td>\n",
       "      <td>07:04:31</td>\n",
       "      <td>07:08:32</td>\n",
       "      <td>NaN</td>\n",
       "      <td>NaN</td>\n",
       "      <td>NaN</td>\n",
       "      <td>3.751014e+06</td>\n",
       "      <td>-1.909398e+07</td>\n",
       "      <td>3.750326e+06</td>\n",
       "      <td>...</td>\n",
       "      <td>0.0</td>\n",
       "      <td>NaN</td>\n",
       "      <td>NaN</td>\n",
       "      <td>0.0</td>\n",
       "      <td>0</td>\n",
       "      <td>7.075278</td>\n",
       "      <td>424.516667</td>\n",
       "      <td>1.0</td>\n",
       "      <td>1.0</td>\n",
       "      <td>5</td>\n",
       "    </tr>\n",
       "    <tr>\n",
       "      <th>1</th>\n",
       "      <td>0000a8602cf2def930488dee7cdad104_1</td>\n",
       "      <td>traj_0000a8602cf2def930488dee7cdad104_1_1</td>\n",
       "      <td>07:20:34</td>\n",
       "      <td>07:25:42</td>\n",
       "      <td>NaN</td>\n",
       "      <td>NaN</td>\n",
       "      <td>NaN</td>\n",
       "      <td>3.743937e+06</td>\n",
       "      <td>-1.932247e+07</td>\n",
       "      <td>3.744975e+06</td>\n",
       "      <td>...</td>\n",
       "      <td>0.0</td>\n",
       "      <td>NaN</td>\n",
       "      <td>NaN</td>\n",
       "      <td>0.0</td>\n",
       "      <td>0</td>\n",
       "      <td>7.075278</td>\n",
       "      <td>424.516667</td>\n",
       "      <td>1.0</td>\n",
       "      <td>2.0</td>\n",
       "      <td>5</td>\n",
       "    </tr>\n",
       "    <tr>\n",
       "      <th>2</th>\n",
       "      <td>0000a8602cf2def930488dee7cdad104_1</td>\n",
       "      <td>traj_0000a8602cf2def930488dee7cdad104_1_2</td>\n",
       "      <td>07:53:32</td>\n",
       "      <td>08:03:25</td>\n",
       "      <td>NaN</td>\n",
       "      <td>NaN</td>\n",
       "      <td>NaN</td>\n",
       "      <td>3.744868e+06</td>\n",
       "      <td>-1.929356e+07</td>\n",
       "      <td>3.744816e+06</td>\n",
       "      <td>...</td>\n",
       "      <td>0.0</td>\n",
       "      <td>NaN</td>\n",
       "      <td>NaN</td>\n",
       "      <td>0.0</td>\n",
       "      <td>0</td>\n",
       "      <td>7.075278</td>\n",
       "      <td>424.516667</td>\n",
       "      <td>1.0</td>\n",
       "      <td>3.0</td>\n",
       "      <td>5</td>\n",
       "    </tr>\n",
       "    <tr>\n",
       "      <th>3</th>\n",
       "      <td>0000a8602cf2def930488dee7cdad104_1</td>\n",
       "      <td>traj_0000a8602cf2def930488dee7cdad104_1_3</td>\n",
       "      <td>08:17:50</td>\n",
       "      <td>08:37:23</td>\n",
       "      <td>NaN</td>\n",
       "      <td>NaN</td>\n",
       "      <td>NaN</td>\n",
       "      <td>3.744880e+06</td>\n",
       "      <td>-1.929229e+07</td>\n",
       "      <td>3.744809e+06</td>\n",
       "      <td>...</td>\n",
       "      <td>0.0</td>\n",
       "      <td>NaN</td>\n",
       "      <td>NaN</td>\n",
       "      <td>0.0</td>\n",
       "      <td>0</td>\n",
       "      <td>7.075278</td>\n",
       "      <td>424.516667</td>\n",
       "      <td>1.0</td>\n",
       "      <td>4.0</td>\n",
       "      <td>5</td>\n",
       "    </tr>\n",
       "  </tbody>\n",
       "</table>\n",
       "<p>4 rows × 242 columns</p>\n",
       "</div>"
      ],
      "text/plain": [
       "                                 hash  \\\n",
       "0  0000a8602cf2def930488dee7cdad104_1   \n",
       "1  0000a8602cf2def930488dee7cdad104_1   \n",
       "2  0000a8602cf2def930488dee7cdad104_1   \n",
       "3  0000a8602cf2def930488dee7cdad104_1   \n",
       "\n",
       "                               trajectory_id time_entry time_exit  vmax  vmin  \\\n",
       "0  traj_0000a8602cf2def930488dee7cdad104_1_0   07:04:31  07:08:32   NaN   NaN   \n",
       "1  traj_0000a8602cf2def930488dee7cdad104_1_1   07:20:34  07:25:42   NaN   NaN   \n",
       "2  traj_0000a8602cf2def930488dee7cdad104_1_2   07:53:32  08:03:25   NaN   NaN   \n",
       "3  traj_0000a8602cf2def930488dee7cdad104_1_3   08:17:50  08:37:23   NaN   NaN   \n",
       "\n",
       "   vmean       x_entry       y_entry        x_exit  ...  \\\n",
       "0    NaN  3.751014e+06 -1.909398e+07  3.750326e+06  ...   \n",
       "1    NaN  3.743937e+06 -1.932247e+07  3.744975e+06  ...   \n",
       "2    NaN  3.744868e+06 -1.929356e+07  3.744816e+06  ...   \n",
       "3    NaN  3.744880e+06 -1.929229e+07  3.744809e+06  ...   \n",
       "\n",
       "   origin_time_delta_blind  origin_x_delta_blind  origin_y_delta_blind  \\\n",
       "0                      0.0                   NaN                   NaN   \n",
       "1                      0.0                   NaN                   NaN   \n",
       "2                      0.0                   NaN                   NaN   \n",
       "3                      0.0                   NaN                   NaN   \n",
       "\n",
       "   origin_distance_blind  origin_trajectory_number  origin_hours_continuous  \\\n",
       "0                    0.0                         0                 7.075278   \n",
       "1                    0.0                         0                 7.075278   \n",
       "2                    0.0                         0                 7.075278   \n",
       "3                    0.0                         0                 7.075278   \n",
       "\n",
       "   origin_minutes_continuous  sequence  trajectory_sequence  \\\n",
       "0                 424.516667       1.0                  1.0   \n",
       "1                 424.516667       1.0                  2.0   \n",
       "2                 424.516667       1.0                  3.0   \n",
       "3                 424.516667       1.0                  4.0   \n",
       "\n",
       "   count_trajectories  \n",
       "0                   5  \n",
       "1                   5  \n",
       "2                   5  \n",
       "3                   5  \n",
       "\n",
       "[4 rows x 242 columns]"
      ]
     },
     "execution_count": 106,
     "metadata": {},
     "output_type": "execute_result"
    }
   ],
   "source": [
    "hash_count_trajectories = grouped.groupby(['hash']).trajectory_id.count().reset_index()\n",
    "hash_count_trajectories.columns = ['hash', 'count_trajectories']\n",
    "\n",
    "grouped = grouped.merge(hash_count_trajectories, on='hash', how='left')\n",
    "grouped.head(4)"
   ]
  },
  {
   "cell_type": "code",
   "execution_count": 107,
   "metadata": {},
   "outputs": [
    {
     "data": {
      "text/html": [
       "<div>\n",
       "<style scoped>\n",
       "    .dataframe tbody tr th:only-of-type {\n",
       "        vertical-align: middle;\n",
       "    }\n",
       "\n",
       "    .dataframe tbody tr th {\n",
       "        vertical-align: top;\n",
       "    }\n",
       "\n",
       "    .dataframe thead th {\n",
       "        text-align: right;\n",
       "    }\n",
       "</style>\n",
       "<table border=\"1\" class=\"dataframe\">\n",
       "  <thead>\n",
       "    <tr style=\"text-align: right;\">\n",
       "      <th></th>\n",
       "      <th>hash</th>\n",
       "      <th>trajectory_id</th>\n",
       "      <th>time_entry</th>\n",
       "      <th>time_exit</th>\n",
       "      <th>vmax</th>\n",
       "      <th>vmin</th>\n",
       "      <th>vmean</th>\n",
       "      <th>x_entry</th>\n",
       "      <th>y_entry</th>\n",
       "      <th>x_exit</th>\n",
       "      <th>...</th>\n",
       "      <th>origin_time_delta_blind</th>\n",
       "      <th>origin_x_delta_blind</th>\n",
       "      <th>origin_y_delta_blind</th>\n",
       "      <th>origin_distance_blind</th>\n",
       "      <th>origin_trajectory_number</th>\n",
       "      <th>origin_hours_continuous</th>\n",
       "      <th>origin_minutes_continuous</th>\n",
       "      <th>sequence</th>\n",
       "      <th>trajectory_sequence</th>\n",
       "      <th>count_trajectories</th>\n",
       "    </tr>\n",
       "  </thead>\n",
       "  <tbody>\n",
       "    <tr>\n",
       "      <th>0</th>\n",
       "      <td>0000a8602cf2def930488dee7cdad104_1</td>\n",
       "      <td>traj_0000a8602cf2def930488dee7cdad104_1_0</td>\n",
       "      <td>07:04:31</td>\n",
       "      <td>07:08:32</td>\n",
       "      <td>NaN</td>\n",
       "      <td>NaN</td>\n",
       "      <td>NaN</td>\n",
       "      <td>3.751014e+06</td>\n",
       "      <td>-1.909398e+07</td>\n",
       "      <td>3.750326e+06</td>\n",
       "      <td>...</td>\n",
       "      <td>0.0</td>\n",
       "      <td>NaN</td>\n",
       "      <td>NaN</td>\n",
       "      <td>0.0</td>\n",
       "      <td>0</td>\n",
       "      <td>7.075278</td>\n",
       "      <td>424.516667</td>\n",
       "      <td>1.0</td>\n",
       "      <td>1.0</td>\n",
       "      <td>5</td>\n",
       "    </tr>\n",
       "    <tr>\n",
       "      <th>1</th>\n",
       "      <td>0000a8602cf2def930488dee7cdad104_1</td>\n",
       "      <td>traj_0000a8602cf2def930488dee7cdad104_1_1</td>\n",
       "      <td>07:20:34</td>\n",
       "      <td>07:25:42</td>\n",
       "      <td>NaN</td>\n",
       "      <td>NaN</td>\n",
       "      <td>NaN</td>\n",
       "      <td>3.743937e+06</td>\n",
       "      <td>-1.932247e+07</td>\n",
       "      <td>3.744975e+06</td>\n",
       "      <td>...</td>\n",
       "      <td>0.0</td>\n",
       "      <td>NaN</td>\n",
       "      <td>NaN</td>\n",
       "      <td>0.0</td>\n",
       "      <td>0</td>\n",
       "      <td>7.075278</td>\n",
       "      <td>424.516667</td>\n",
       "      <td>1.0</td>\n",
       "      <td>2.0</td>\n",
       "      <td>5</td>\n",
       "    </tr>\n",
       "    <tr>\n",
       "      <th>2</th>\n",
       "      <td>0000a8602cf2def930488dee7cdad104_1</td>\n",
       "      <td>traj_0000a8602cf2def930488dee7cdad104_1_2</td>\n",
       "      <td>07:53:32</td>\n",
       "      <td>08:03:25</td>\n",
       "      <td>NaN</td>\n",
       "      <td>NaN</td>\n",
       "      <td>NaN</td>\n",
       "      <td>3.744868e+06</td>\n",
       "      <td>-1.929356e+07</td>\n",
       "      <td>3.744816e+06</td>\n",
       "      <td>...</td>\n",
       "      <td>0.0</td>\n",
       "      <td>NaN</td>\n",
       "      <td>NaN</td>\n",
       "      <td>0.0</td>\n",
       "      <td>0</td>\n",
       "      <td>7.075278</td>\n",
       "      <td>424.516667</td>\n",
       "      <td>1.0</td>\n",
       "      <td>3.0</td>\n",
       "      <td>5</td>\n",
       "    </tr>\n",
       "    <tr>\n",
       "      <th>3</th>\n",
       "      <td>0000a8602cf2def930488dee7cdad104_1</td>\n",
       "      <td>traj_0000a8602cf2def930488dee7cdad104_1_3</td>\n",
       "      <td>08:17:50</td>\n",
       "      <td>08:37:23</td>\n",
       "      <td>NaN</td>\n",
       "      <td>NaN</td>\n",
       "      <td>NaN</td>\n",
       "      <td>3.744880e+06</td>\n",
       "      <td>-1.929229e+07</td>\n",
       "      <td>3.744809e+06</td>\n",
       "      <td>...</td>\n",
       "      <td>0.0</td>\n",
       "      <td>NaN</td>\n",
       "      <td>NaN</td>\n",
       "      <td>0.0</td>\n",
       "      <td>0</td>\n",
       "      <td>7.075278</td>\n",
       "      <td>424.516667</td>\n",
       "      <td>1.0</td>\n",
       "      <td>4.0</td>\n",
       "      <td>5</td>\n",
       "    </tr>\n",
       "  </tbody>\n",
       "</table>\n",
       "<p>4 rows × 242 columns</p>\n",
       "</div>"
      ],
      "text/plain": [
       "                                 hash  \\\n",
       "0  0000a8602cf2def930488dee7cdad104_1   \n",
       "1  0000a8602cf2def930488dee7cdad104_1   \n",
       "2  0000a8602cf2def930488dee7cdad104_1   \n",
       "3  0000a8602cf2def930488dee7cdad104_1   \n",
       "\n",
       "                               trajectory_id time_entry time_exit  vmax  vmin  \\\n",
       "0  traj_0000a8602cf2def930488dee7cdad104_1_0   07:04:31  07:08:32   NaN   NaN   \n",
       "1  traj_0000a8602cf2def930488dee7cdad104_1_1   07:20:34  07:25:42   NaN   NaN   \n",
       "2  traj_0000a8602cf2def930488dee7cdad104_1_2   07:53:32  08:03:25   NaN   NaN   \n",
       "3  traj_0000a8602cf2def930488dee7cdad104_1_3   08:17:50  08:37:23   NaN   NaN   \n",
       "\n",
       "   vmean       x_entry       y_entry        x_exit  ...  \\\n",
       "0    NaN  3.751014e+06 -1.909398e+07  3.750326e+06  ...   \n",
       "1    NaN  3.743937e+06 -1.932247e+07  3.744975e+06  ...   \n",
       "2    NaN  3.744868e+06 -1.929356e+07  3.744816e+06  ...   \n",
       "3    NaN  3.744880e+06 -1.929229e+07  3.744809e+06  ...   \n",
       "\n",
       "   origin_time_delta_blind  origin_x_delta_blind  origin_y_delta_blind  \\\n",
       "0                      0.0                   NaN                   NaN   \n",
       "1                      0.0                   NaN                   NaN   \n",
       "2                      0.0                   NaN                   NaN   \n",
       "3                      0.0                   NaN                   NaN   \n",
       "\n",
       "   origin_distance_blind  origin_trajectory_number  origin_hours_continuous  \\\n",
       "0                    0.0                         0                 7.075278   \n",
       "1                    0.0                         0                 7.075278   \n",
       "2                    0.0                         0                 7.075278   \n",
       "3                    0.0                         0                 7.075278   \n",
       "\n",
       "   origin_minutes_continuous  sequence  trajectory_sequence  \\\n",
       "0                 424.516667       1.0                  1.0   \n",
       "1                 424.516667       1.0                  2.0   \n",
       "2                 424.516667       1.0                  3.0   \n",
       "3                 424.516667       1.0                  4.0   \n",
       "\n",
       "   count_trajectories  \n",
       "0                   5  \n",
       "1                   5  \n",
       "2                   5  \n",
       "3                   5  \n",
       "\n",
       "[4 rows x 242 columns]"
      ]
     },
     "execution_count": 107,
     "metadata": {},
     "output_type": "execute_result"
    }
   ],
   "source": [
    "ref = window_reference\n",
    "for i in range(1, window_reference):\n",
    "    grouped.loc[grouped.count_trajectories==i, 'trajectory_sequence'] += ref-1\n",
    "    ref -= 1\n",
    "    \n",
    "grouped.head(4)"
   ]
  },
  {
   "cell_type": "code",
   "execution_count": 108,
   "metadata": {},
   "outputs": [],
   "source": [
    "grouped = grouped.drop('sequence', axis=1)"
   ]
  },
  {
   "cell_type": "code",
   "execution_count": 109,
   "metadata": {},
   "outputs": [
    {
     "data": {
      "text/plain": [
       "(144216, 1170)"
      ]
     },
     "execution_count": 109,
     "metadata": {},
     "output_type": "execute_result"
    }
   ],
   "source": [
    "data_sequence = grouped.groupby(['hash', 'trajectory_sequence']).mean().unstack()\n",
    "data_sequence.shape"
   ]
  },
  {
   "cell_type": "code",
   "execution_count": 110,
   "metadata": {},
   "outputs": [
    {
     "data": {
      "text/html": [
       "<div>\n",
       "<style scoped>\n",
       "    .dataframe tbody tr th:only-of-type {\n",
       "        vertical-align: middle;\n",
       "    }\n",
       "\n",
       "    .dataframe tbody tr th {\n",
       "        vertical-align: top;\n",
       "    }\n",
       "\n",
       "    .dataframe thead th {\n",
       "        text-align: right;\n",
       "    }\n",
       "</style>\n",
       "<table border=\"1\" class=\"dataframe\">\n",
       "  <thead>\n",
       "    <tr style=\"text-align: right;\">\n",
       "      <th></th>\n",
       "      <th>vmax_1</th>\n",
       "      <th>vmax_2</th>\n",
       "      <th>vmax_3</th>\n",
       "      <th>vmax_4</th>\n",
       "      <th>vmax_5</th>\n",
       "      <th>vmin_1</th>\n",
       "      <th>vmin_2</th>\n",
       "      <th>vmin_3</th>\n",
       "      <th>vmin_4</th>\n",
       "      <th>vmin_5</th>\n",
       "      <th>...</th>\n",
       "      <th>origin_minutes_continuous_1</th>\n",
       "      <th>origin_minutes_continuous_2</th>\n",
       "      <th>origin_minutes_continuous_3</th>\n",
       "      <th>origin_minutes_continuous_4</th>\n",
       "      <th>origin_minutes_continuous_5</th>\n",
       "      <th>count_trajectories_1</th>\n",
       "      <th>count_trajectories_2</th>\n",
       "      <th>count_trajectories_3</th>\n",
       "      <th>count_trajectories_4</th>\n",
       "      <th>count_trajectories_5</th>\n",
       "    </tr>\n",
       "    <tr>\n",
       "      <th>hash</th>\n",
       "      <th></th>\n",
       "      <th></th>\n",
       "      <th></th>\n",
       "      <th></th>\n",
       "      <th></th>\n",
       "      <th></th>\n",
       "      <th></th>\n",
       "      <th></th>\n",
       "      <th></th>\n",
       "      <th></th>\n",
       "      <th></th>\n",
       "      <th></th>\n",
       "      <th></th>\n",
       "      <th></th>\n",
       "      <th></th>\n",
       "      <th></th>\n",
       "      <th></th>\n",
       "      <th></th>\n",
       "      <th></th>\n",
       "      <th></th>\n",
       "      <th></th>\n",
       "    </tr>\n",
       "  </thead>\n",
       "  <tbody>\n",
       "    <tr>\n",
       "      <th>0000a8602cf2def930488dee7cdad104_1</th>\n",
       "      <td>NaN</td>\n",
       "      <td>NaN</td>\n",
       "      <td>NaN</td>\n",
       "      <td>NaN</td>\n",
       "      <td>NaN</td>\n",
       "      <td>NaN</td>\n",
       "      <td>NaN</td>\n",
       "      <td>NaN</td>\n",
       "      <td>NaN</td>\n",
       "      <td>NaN</td>\n",
       "      <td>...</td>\n",
       "      <td>424.516667</td>\n",
       "      <td>424.516667</td>\n",
       "      <td>424.516667</td>\n",
       "      <td>424.516667</td>\n",
       "      <td>424.516667</td>\n",
       "      <td>5.0</td>\n",
       "      <td>5.0</td>\n",
       "      <td>5.0</td>\n",
       "      <td>5.0</td>\n",
       "      <td>5.0</td>\n",
       "    </tr>\n",
       "    <tr>\n",
       "      <th>0000cf177130469eeac79f67b6bcf3df_9</th>\n",
       "      <td>NaN</td>\n",
       "      <td>NaN</td>\n",
       "      <td>NaN</td>\n",
       "      <td>NaN</td>\n",
       "      <td>1.149404</td>\n",
       "      <td>NaN</td>\n",
       "      <td>NaN</td>\n",
       "      <td>NaN</td>\n",
       "      <td>NaN</td>\n",
       "      <td>1.149404</td>\n",
       "      <td>...</td>\n",
       "      <td>NaN</td>\n",
       "      <td>NaN</td>\n",
       "      <td>NaN</td>\n",
       "      <td>NaN</td>\n",
       "      <td>900.533333</td>\n",
       "      <td>NaN</td>\n",
       "      <td>NaN</td>\n",
       "      <td>NaN</td>\n",
       "      <td>NaN</td>\n",
       "      <td>1.0</td>\n",
       "    </tr>\n",
       "    <tr>\n",
       "      <th>0001f97b99a80f18f62e2d44e54ef33d_3</th>\n",
       "      <td>NaN</td>\n",
       "      <td>NaN</td>\n",
       "      <td>NaN</td>\n",
       "      <td>32.196255</td>\n",
       "      <td>30.167742</td>\n",
       "      <td>NaN</td>\n",
       "      <td>NaN</td>\n",
       "      <td>NaN</td>\n",
       "      <td>32.196255</td>\n",
       "      <td>30.167742</td>\n",
       "      <td>...</td>\n",
       "      <td>NaN</td>\n",
       "      <td>NaN</td>\n",
       "      <td>NaN</td>\n",
       "      <td>697.100000</td>\n",
       "      <td>697.100000</td>\n",
       "      <td>NaN</td>\n",
       "      <td>NaN</td>\n",
       "      <td>NaN</td>\n",
       "      <td>2.0</td>\n",
       "      <td>2.0</td>\n",
       "    </tr>\n",
       "  </tbody>\n",
       "</table>\n",
       "<p>3 rows × 1170 columns</p>\n",
       "</div>"
      ],
      "text/plain": [
       "                                    vmax_1  vmax_2  vmax_3     vmax_4  \\\n",
       "hash                                                                    \n",
       "0000a8602cf2def930488dee7cdad104_1     NaN     NaN     NaN        NaN   \n",
       "0000cf177130469eeac79f67b6bcf3df_9     NaN     NaN     NaN        NaN   \n",
       "0001f97b99a80f18f62e2d44e54ef33d_3     NaN     NaN     NaN  32.196255   \n",
       "\n",
       "                                       vmax_5  vmin_1  vmin_2  vmin_3  \\\n",
       "hash                                                                    \n",
       "0000a8602cf2def930488dee7cdad104_1        NaN     NaN     NaN     NaN   \n",
       "0000cf177130469eeac79f67b6bcf3df_9   1.149404     NaN     NaN     NaN   \n",
       "0001f97b99a80f18f62e2d44e54ef33d_3  30.167742     NaN     NaN     NaN   \n",
       "\n",
       "                                       vmin_4     vmin_5  ...  \\\n",
       "hash                                                      ...   \n",
       "0000a8602cf2def930488dee7cdad104_1        NaN        NaN  ...   \n",
       "0000cf177130469eeac79f67b6bcf3df_9        NaN   1.149404  ...   \n",
       "0001f97b99a80f18f62e2d44e54ef33d_3  32.196255  30.167742  ...   \n",
       "\n",
       "                                    origin_minutes_continuous_1  \\\n",
       "hash                                                              \n",
       "0000a8602cf2def930488dee7cdad104_1                   424.516667   \n",
       "0000cf177130469eeac79f67b6bcf3df_9                          NaN   \n",
       "0001f97b99a80f18f62e2d44e54ef33d_3                          NaN   \n",
       "\n",
       "                                    origin_minutes_continuous_2  \\\n",
       "hash                                                              \n",
       "0000a8602cf2def930488dee7cdad104_1                   424.516667   \n",
       "0000cf177130469eeac79f67b6bcf3df_9                          NaN   \n",
       "0001f97b99a80f18f62e2d44e54ef33d_3                          NaN   \n",
       "\n",
       "                                    origin_minutes_continuous_3  \\\n",
       "hash                                                              \n",
       "0000a8602cf2def930488dee7cdad104_1                   424.516667   \n",
       "0000cf177130469eeac79f67b6bcf3df_9                          NaN   \n",
       "0001f97b99a80f18f62e2d44e54ef33d_3                          NaN   \n",
       "\n",
       "                                    origin_minutes_continuous_4  \\\n",
       "hash                                                              \n",
       "0000a8602cf2def930488dee7cdad104_1                   424.516667   \n",
       "0000cf177130469eeac79f67b6bcf3df_9                          NaN   \n",
       "0001f97b99a80f18f62e2d44e54ef33d_3                   697.100000   \n",
       "\n",
       "                                    origin_minutes_continuous_5  \\\n",
       "hash                                                              \n",
       "0000a8602cf2def930488dee7cdad104_1                   424.516667   \n",
       "0000cf177130469eeac79f67b6bcf3df_9                   900.533333   \n",
       "0001f97b99a80f18f62e2d44e54ef33d_3                   697.100000   \n",
       "\n",
       "                                    count_trajectories_1  \\\n",
       "hash                                                       \n",
       "0000a8602cf2def930488dee7cdad104_1                   5.0   \n",
       "0000cf177130469eeac79f67b6bcf3df_9                   NaN   \n",
       "0001f97b99a80f18f62e2d44e54ef33d_3                   NaN   \n",
       "\n",
       "                                    count_trajectories_2  \\\n",
       "hash                                                       \n",
       "0000a8602cf2def930488dee7cdad104_1                   5.0   \n",
       "0000cf177130469eeac79f67b6bcf3df_9                   NaN   \n",
       "0001f97b99a80f18f62e2d44e54ef33d_3                   NaN   \n",
       "\n",
       "                                    count_trajectories_3  \\\n",
       "hash                                                       \n",
       "0000a8602cf2def930488dee7cdad104_1                   5.0   \n",
       "0000cf177130469eeac79f67b6bcf3df_9                   NaN   \n",
       "0001f97b99a80f18f62e2d44e54ef33d_3                   NaN   \n",
       "\n",
       "                                    count_trajectories_4  count_trajectories_5  \n",
       "hash                                                                            \n",
       "0000a8602cf2def930488dee7cdad104_1                   5.0                   5.0  \n",
       "0000cf177130469eeac79f67b6bcf3df_9                   NaN                   1.0  \n",
       "0001f97b99a80f18f62e2d44e54ef33d_3                   2.0                   2.0  \n",
       "\n",
       "[3 rows x 1170 columns]"
      ]
     },
     "execution_count": 110,
     "metadata": {},
     "output_type": "execute_result"
    }
   ],
   "source": [
    "data_sequence.columns = ['_'.join([x[0], str(int(x[1]))]) for x in data_sequence.columns.ravel()]\n",
    "data_sequence.head(3)"
   ]
  },
  {
   "cell_type": "code",
   "execution_count": 111,
   "metadata": {},
   "outputs": [],
   "source": [
    "data_sequence = data_sequence.reset_index()"
   ]
  },
  {
   "cell_type": "code",
   "execution_count": 112,
   "metadata": {},
   "outputs": [
    {
     "data": {
      "text/plain": [
       "(144216, 1171)"
      ]
     },
     "execution_count": 112,
     "metadata": {},
     "output_type": "execute_result"
    }
   ],
   "source": [
    "data_sequence.shape"
   ]
  },
  {
   "cell_type": "markdown",
   "metadata": {},
   "source": [
    "# Trajectories' Origin Point Features\n",
    "\n",
    "It is a logical estimate that an extensive group in all recorded trajectories will eventually return to their origin point in the day - relating, in this case, to a person's return home. Dealing with paths distributed in space and time, the current-point to origin-point correlation levels hold a considerable chance to be proportional to either spatial coordinates, time, or both.\n",
    "\n",
    "With that in mind, let us then compute features focused on current-to-origin point differences."
   ]
  },
  {
   "cell_type": "code",
   "execution_count": 113,
   "metadata": {},
   "outputs": [],
   "source": [
    "origin_cols = [x for x in data.select_dtypes([np.number]).columns \\\n",
    "               if not any(aggr in x for aggr in ['_max', '_min', '_std', '_mean', '_sum'])]\n",
    "origin_data = data.groupby('hash').nth(0)[origin_cols]\n",
    "origin_data.columns = [f'origin_{c}' for c in origin_cols]\n",
    "origin_data = origin_data.reset_index()"
   ]
  },
  {
   "cell_type": "code",
   "execution_count": 137,
   "metadata": {},
   "outputs": [
    {
     "data": {
      "text/plain": [
       "Index(['hash', 'origin_time_entry', 'origin_time_exit', 'origin_vmax',\n",
       "       'origin_vmin', 'origin_vmean', 'origin_x_entry', 'origin_y_entry',\n",
       "       'origin_x_exit', 'origin_y_exit', 'origin_minute_entry',\n",
       "       'origin_minute_exit', 'origin_hour_entry', 'origin_hour_exit',\n",
       "       'origin_euclidian_distance', 'origin_minkowski_distance',\n",
       "       'origin_harvesine_distance', 'origin_first_quadrant_entry',\n",
       "       'origin_third_quadrant_entry', 'origin_fourth_quadrant_entry',\n",
       "       'origin_second_quadrant_entry', 'origin_distance_cc_entry',\n",
       "       'origin_distance_cc_exit', 'origin_diff_cc_exit_entry',\n",
       "       'origin_x_diff_entry', 'origin_x_diff_exit', 'origin_y_diff_entry',\n",
       "       'origin_y_diff_exit', 'origin_direction_entry', 'origin_direction_exit',\n",
       "       'origin_distance_left_border', 'origin_distance_right_border',\n",
       "       'origin_distance_lower_border', 'origin_distance_upper_border',\n",
       "       'origin_cc_middle_angle', 'origin_cc_xmin_ymin_angle',\n",
       "       'origin_cc_xmax_ymin_angle', 'origin_cc_xmin_ymax_angle',\n",
       "       'origin_cc_xmax_ymax_angle', 'origin_is_inside_city_entry',\n",
       "       'origin_is_inside_city_exit', 'origin_center_permanency',\n",
       "       'origin_time_delta_blind', 'origin_x_delta_blind',\n",
       "       'origin_y_delta_blind', 'origin_distance_blind',\n",
       "       'origin_trajectory_number', 'origin_hours_continuous',\n",
       "       'origin_minutes_continuous', 'origin_origin_time_entry',\n",
       "       'origin_origin_time_exit', 'origin_origin_vmax', 'origin_origin_vmin',\n",
       "       'origin_origin_vmean', 'origin_origin_x_entry', 'origin_origin_y_entry',\n",
       "       'origin_origin_x_exit', 'origin_origin_y_exit',\n",
       "       'origin_origin_hour_entry', 'origin_origin_hour_exit',\n",
       "       'origin_origin_euclidian_distance', 'origin_origin_harvesine_distance',\n",
       "       'origin_origin_first_quadrant_entry',\n",
       "       'origin_origin_third_quadrant_entry',\n",
       "       'origin_origin_fourth_quadrant_entry',\n",
       "       'origin_origin_second_quadrant_entry',\n",
       "       'origin_origin_distance_cc_entry', 'origin_origin_distance_cc_exit',\n",
       "       'origin_origin_diff_cc_exit_entry', 'origin_origin_x_diff_entry',\n",
       "       'origin_origin_x_diff_exit', 'origin_origin_y_diff_entry',\n",
       "       'origin_origin_y_diff_exit', 'origin_origin_direction_entry',\n",
       "       'origin_origin_direction_exit', 'origin_origin_distance_left_border',\n",
       "       'origin_origin_distance_right_border',\n",
       "       'origin_origin_distance_lower_border',\n",
       "       'origin_origin_distance_upper_border', 'origin_origin_cc_middle_angle',\n",
       "       'origin_origin_cc_xmin_ymin_angle', 'origin_origin_cc_xmax_ymin_angle',\n",
       "       'origin_origin_cc_xmin_ymax_angle', 'origin_origin_cc_xmax_ymax_angle',\n",
       "       'origin_origin_is_inside_city_entry',\n",
       "       'origin_origin_is_inside_city_exit', 'origin_origin_center_permanency',\n",
       "       'origin_origin_time_delta_blind', 'origin_origin_x_delta_blind',\n",
       "       'origin_origin_y_delta_blind', 'origin_origin_distance_blind',\n",
       "       'origin_origin_trajectory_number', 'origin_origin_hours_continuous'],\n",
       "      dtype='object')"
      ]
     },
     "execution_count": 137,
     "metadata": {},
     "output_type": "execute_result"
    }
   ],
   "source": [
    "origin_data.columns"
   ]
  },
  {
   "cell_type": "code",
   "execution_count": 115,
   "metadata": {},
   "outputs": [],
   "source": [
    "if data_sequence.columns.contains('origin_time'):\n",
    "    data_sequence = data_sequence[data_sequence.columns.drop(d.columns)]\n",
    "\n",
    "data_sequence = data_sequence.merge(origin_data, on='hash')"
   ]
  },
  {
   "cell_type": "code",
   "execution_count": 104,
   "metadata": {},
   "outputs": [],
   "source": [
    "def compute_deltas_for(df, origin_pt_prefix, origin_pt_sufix, current_pt_sufix):\n",
    "    \"\"\"\n",
    "    Computes deltas in a DataFrame for time, distance, angle and the likes.\n",
    "    \n",
    "    For a number of metrics ranging from velocity to permanency in the city center,\n",
    "    trajectory hour count and xy coordinates, this computes the difference between\n",
    "    values in current and origin points. Indexes for both - origin, current - points\n",
    "    are assumed to follow a {prefix}_{index}_{sufix} pattern, where {prefix} and {sufix} may\n",
    "    coexist, but cannot both be empty.\n",
    "    \n",
    "    Parameters\n",
    "    ----------\n",
    "    df : pandas.DataFrame\n",
    "        The DataFrame containing both current and origin point indexes, and also the one to receive delta results.\n",
    "    origin_pt_prefix : str\n",
    "        The prefix on indexes related to deltas' origin point\n",
    "    origin_pt_sufix : str\n",
    "        The sufix on indexes related to deltas' origin point\n",
    "    current_pt_sufix : str\n",
    "        The sufix on indexes related to deltas' current point\n",
    "    \n",
    "    Returns\n",
    "    -------\n",
    "    pandas.DataFrame\n",
    "        The DataFrame reference passed as input, with calculated delta features within.\n",
    "    \"\"\"\n",
    "    pfx_origin = f'{origin_pt_prefix}_' if origin_pt_prefix is not None else ''\n",
    "    sfx_origin = f'_{origin_pt_sufix}' if origin_pt_sufix is not None else ''\n",
    "    sfx_current = f'_{current_pt_sufix}' if current_pt_sufix is not None else ''\n",
    "    \n",
    "    origin = lambda index: pfx_origin + index + sfx_origin\n",
    "    current = lambda index: index + sfx_current\n",
    "    \n",
    "    # Readability aliases\n",
    "    p = pfx_origin if pfx_origin != '' else sfx_origin\n",
    "    s = f'_to_{sfx_current}' if sfx_current != '' else ''\n",
    "    \n",
    "    # Generic deltas\n",
    "    for idx in ['vmin', 'vmax', 'vmean', 'center_permanency', 'x_diff_entry', 'y_diff_entry', 'direction_entry']:\n",
    "        df[f'delta_{p}{s}_{idx}'] = df[current(idx)] - df[origin(idx)]\n",
    "\n",
    "    # Time-related deltas\n",
    "    df[f'delta_{p}{s}_to_{sfx_current}_hr_entry'] = df[current('hours_continuous')] - df[origin('hours_continuous')]\n",
    "    df[f'delta_{p}{s}_min_entry'] = df[current('minutes_continuous')] - df[origin('minutes_continuous')]\n",
    "\n",
    "    # Distance-related deltas\n",
    "    df[f'deltad_{p}{s}_entry'] = euclidian_distance(df[origin('x_entry')], df[origin('y_entry')],\n",
    "                                                   df[current('x_entry')], df[current('y_entry')])\n",
    "    \n",
    "    df[f'deltad_{p}{s}_exit'] = euclidian_distance(df[origin('x_exit')], df[origin('y_exit')],\n",
    "                                                  df[current('x_entry')], df[current('y_entry')])\n",
    "\n",
    "    for side in ['left', 'right', 'lower', 'upper']:\n",
    "        df[f'deltad_{p}{s}_{side}_border'] = df[current(f'distance_{side}_border')] - df[origin(f'distance_{side}_border')]\n",
    "\n",
    "    df[f'deltad_{p}{s}_cc'] = df[current('distance_cc_entry')] - df[origin('distance_cc_entry')]\n",
    "\n",
    "    # Angle-related deltas\n",
    "    for vertex in ['xmin_ymin', 'xmax_ymin', 'xmin_ymax', 'xmax_ymax', 'middle']:\n",
    "        df[f'delta^_{p}{s}_{vertex}'] = df[current(f'cc_{vertex}_angle')] - df[origin(f'cc_{vertex}_angle')]\n",
    "    \n",
    "    return df"
   ]
  },
  {
   "cell_type": "code",
   "execution_count": 117,
   "metadata": {},
   "outputs": [],
   "source": [
    "for i in range(1, window_reference):\n",
    "    for j in range(2, window_reference+1):\n",
    "        if i != j:\n",
    "            data_sequence = compute_deltas_for(data_sequence,\n",
    "                                               origin_pt_prefix=None,\n",
    "                                               origin_pt_sufix=i,\n",
    "                                               current_pt_sufix=j)"
   ]
  },
  {
   "cell_type": "code",
   "execution_count": 118,
   "metadata": {},
   "outputs": [],
   "source": [
    "data_sequence = compute_deltas_for(data_sequence,\n",
    "                                   origin_pt_prefix='origin',\n",
    "                                   origin_pt_sufix=None,\n",
    "                                   current_pt_sufix=window_reference)"
   ]
  },
  {
   "cell_type": "code",
   "execution_count": 127,
   "metadata": {},
   "outputs": [],
   "source": [
    "data_sequence = data_sequence[data_sequence.columns.drop(\n",
    "    [x for x in data_sequence.columns.ravel() if x.find('origin_time_') != -1]\n",
    ")]"
   ]
  },
  {
   "cell_type": "markdown",
   "metadata": {},
   "source": [
    "# Training and Evaluation"
   ]
  },
  {
   "cell_type": "code",
   "execution_count": 128,
   "metadata": {},
   "outputs": [
    {
     "data": {
      "text/plain": [
       "(100404, 1357)"
      ]
     },
     "execution_count": 128,
     "metadata": {},
     "output_type": "execute_result"
    }
   ],
   "source": [
    "data_train = data_sequence[data_sequence['hour_exit_'+str(window_reference)]==15]\n",
    "data_train.shape"
   ]
  },
  {
   "cell_type": "code",
   "execution_count": 129,
   "metadata": {},
   "outputs": [
    {
     "data": {
      "text/plain": [
       "(66898, 1357)"
      ]
     },
     "execution_count": 129,
     "metadata": {},
     "output_type": "execute_result"
    }
   ],
   "source": [
    "hashs_train = list(train.hash.unique())\n",
    "hashs_test = list(test.hash.unique())\n",
    "\n",
    "data_train = data_train[data_train.hash.isin(hashs_train)]\n",
    "data_train.shape"
   ]
  },
  {
   "cell_type": "code",
   "execution_count": 130,
   "metadata": {},
   "outputs": [],
   "source": [
    "# TODO: Remove this or the \"+ grid_cols\" below\n",
    "grid_cols = []"
   ]
  },
  {
   "cell_type": "code",
   "execution_count": 131,
   "metadata": {},
   "outputs": [],
   "source": [
    "drop_cols = list(x for x in data.columns if 'exit' in x) + grid_cols\n",
    "drop_cols += ['euclidian_distance', 'minkowski_distance', 'harvesine_distance',\n",
    "              'center_permanency', 'has_crossed_city', 'velocity']\n",
    "drop_cols += [f'origin_{col}' for col in drop_cols]\n",
    "drop_cols += [f'delta_{col}' for col in drop_cols if col.startswith('origin_')]\n",
    "drop_cols += ['delta_last_center_permanency']\n",
    "\n",
    "drop_cols = [f'{col}_{window_reference}' for col in drop_cols]\n",
    "drop_cols += [f'{col}_i' for col in grid_cols for i in range(0, 5)]\n",
    "drop_cols += ['hash']\n",
    "\n",
    "features = list(set(data_train.columns) - set(drop_cols))\n",
    "target   = ['is_inside_city_exit_'+str(window_reference)]"
   ]
  },
  {
   "cell_type": "code",
   "execution_count": 132,
   "metadata": {},
   "outputs": [
    {
     "data": {
      "text/plain": [
       "((53518, 1357), (13380, 1357))"
      ]
     },
     "execution_count": 132,
     "metadata": {},
     "output_type": "execute_result"
    }
   ],
   "source": [
    "from sklearn.model_selection import train_test_split\n",
    "\n",
    "\n",
    "dt_train, dt_test = train_test_split(data_train, test_size=0.2, random_state=20)\n",
    "dt_train.shape, dt_test.shape"
   ]
  },
  {
   "cell_type": "code",
   "execution_count": 133,
   "metadata": {},
   "outputs": [
    {
     "data": {
      "text/plain": [
       "0.9537293825718873"
      ]
     },
     "execution_count": 133,
     "metadata": {},
     "output_type": "execute_result"
    }
   ],
   "source": [
    "from lightgbm import LGBMClassifier\n",
    "from sklearn.metrics import f1_score\n",
    "\n",
    "clf = LGBMClassifier(n_estimators=150, max_features=0.5, seed=20)\n",
    "clf.fit(dt_train[features], dt_train[target])\n",
    "\n",
    "predicted = clf.predict(dt_test[features])\n",
    "\n",
    "f1_score(dt_test[target], predicted)"
   ]
  },
  {
   "cell_type": "code",
   "execution_count": 465,
   "metadata": {},
   "outputs": [],
   "source": [
    "# Score 0.744901160966426 | 0.89469\n",
    "# Score 0.7465277777777779 | 0.89441\n",
    "# Score 0.7432216905901117 | 0.89358\n",
    "# Score 0.7413765697027499 | 0.89307 - n_estimators=150, max_features=0.5"
   ]
  },
  {
   "cell_type": "code",
   "execution_count": 136,
   "metadata": {
    "scrolled": false
   },
   "outputs": [
    {
     "data": {
      "text/plain": [
       "<matplotlib.axes._subplots.AxesSubplot at 0x1dd0c430b00>"
      ]
     },
     "execution_count": 136,
     "metadata": {},
     "output_type": "execute_result"
    },
    {
     "data": {
      "image/png": "[encoded data removed]",
      "text/plain": [
       "<Figure size 1080x720 with 1 Axes>"
      ]
     },
     "metadata": {
      "needs_background": "light"
     },
     "output_type": "display_data"
    }
   ],
   "source": [
    "f, ax = plt.subplots(figsize=(15, 10))\n",
    "\n",
    "feat_importances_gb = pd.Series(clf.feature_importances_, index=data_train[features].columns)\n",
    "feat_importances_gb.nlargest(50).plot(kind='barh')"
   ]
  },
  {
   "cell_type": "code",
   "execution_count": 72,
   "metadata": {},
   "outputs": [],
   "source": [
    "data_test = data_sequence[data_sequence.hash.isin(hashs_test)]\n",
    "#data_test = test[test['x_exit_'+str(window_reference)].isnull()]"
   ]
  },
  {
   "cell_type": "code",
   "execution_count": 73,
   "metadata": {},
   "outputs": [
    {
     "data": {
      "text/plain": [
       "(33515, 1305)"
      ]
     },
     "execution_count": 73,
     "metadata": {},
     "output_type": "execute_result"
    }
   ],
   "source": [
    "data_test.shape"
   ]
  },
  {
   "cell_type": "code",
   "execution_count": 74,
   "metadata": {},
   "outputs": [],
   "source": [
    "ids = pd.read_csv('../data/raw/data_test.zip', index_col='Unnamed: 0', low_memory=True)\n",
    "ids = ids[ids.x_exit.isnull()]"
   ]
  },
  {
   "cell_type": "code",
   "execution_count": 75,
   "metadata": {},
   "outputs": [],
   "source": [
    "data_test = data_test.merge(ids[['hash', 'trajectory_id']], on='hash')"
   ]
  },
  {
   "cell_type": "code",
   "execution_count": 76,
   "metadata": {},
   "outputs": [
    {
     "name": "stderr",
     "output_type": "stream",
     "text": [
      "/home/ec2-user/anaconda3/envs/python3/lib/python3.6/site-packages/sklearn/preprocessing/label.py:151: DeprecationWarning: The truth value of an empty array is ambiguous. Returning False, but in future this will result in an error. Use `array.size > 0` to check that an array is not empty.\n",
      "  if diff:\n"
     ]
    }
   ],
   "source": [
    "clf.fit(data_train[features], data_train[target])\n",
    "yhat = clf.predict(data_test[features])"
   ]
  },
  {
   "cell_type": "code",
   "execution_count": 77,
   "metadata": {},
   "outputs": [
    {
     "data": {
      "text/plain": [
       "0.0    24989\n",
       "1.0     8526\n",
       "dtype: int64"
      ]
     },
     "execution_count": 77,
     "metadata": {},
     "output_type": "execute_result"
    }
   ],
   "source": [
    "pd.Series(yhat).value_counts()"
   ]
  },
  {
   "cell_type": "code",
   "execution_count": 78,
   "metadata": {},
   "outputs": [
    {
     "data": {
      "text/html": [
       "<div>\n",
       "<style scoped>\n",
       "    .dataframe tbody tr th:only-of-type {\n",
       "        vertical-align: middle;\n",
       "    }\n",
       "\n",
       "    .dataframe tbody tr th {\n",
       "        vertical-align: top;\n",
       "    }\n",
       "\n",
       "    .dataframe thead th {\n",
       "        text-align: right;\n",
       "    }\n",
       "</style>\n",
       "<table border=\"1\" class=\"dataframe\">\n",
       "  <thead>\n",
       "    <tr style=\"text-align: right;\">\n",
       "      <th></th>\n",
       "      <th>hash</th>\n",
       "      <th>vmax_1</th>\n",
       "      <th>vmax_2</th>\n",
       "      <th>vmax_3</th>\n",
       "      <th>vmax_5</th>\n",
       "      <th>vmin_1</th>\n",
       "      <th>vmin_2</th>\n",
       "      <th>vmin_3</th>\n",
       "      <th>vmin_5</th>\n",
       "      <th>vmean_1</th>\n",
       "      <th>...</th>\n",
       "      <th>cc_xmax_ymax_angle_min_5</th>\n",
       "      <th>cc_xmax_ymax_angle_sum_1</th>\n",
       "      <th>cc_xmax_ymax_angle_sum_2</th>\n",
       "      <th>cc_xmax_ymax_angle_sum_3</th>\n",
       "      <th>cc_xmax_ymax_angle_sum_5</th>\n",
       "      <th>count_trajectories_1</th>\n",
       "      <th>count_trajectories_2</th>\n",
       "      <th>count_trajectories_3</th>\n",
       "      <th>count_trajectories_5</th>\n",
       "      <th>trajectory_id</th>\n",
       "    </tr>\n",
       "  </thead>\n",
       "  <tbody>\n",
       "    <tr>\n",
       "      <th>0</th>\n",
       "      <td>00032f51796fd5437b238e3a9823d13d_31</td>\n",
       "      <td>NaN</td>\n",
       "      <td>NaN</td>\n",
       "      <td>NaN</td>\n",
       "      <td>NaN</td>\n",
       "      <td>NaN</td>\n",
       "      <td>NaN</td>\n",
       "      <td>NaN</td>\n",
       "      <td>NaN</td>\n",
       "      <td>NaN</td>\n",
       "      <td>...</td>\n",
       "      <td>3.224386</td>\n",
       "      <td>73.87141</td>\n",
       "      <td>NaN</td>\n",
       "      <td>NaN</td>\n",
       "      <td>58.981582</td>\n",
       "      <td>5.0</td>\n",
       "      <td>NaN</td>\n",
       "      <td>NaN</td>\n",
       "      <td>5.0</td>\n",
       "      <td>traj_00032f51796fd5437b238e3a9823d13d_31_5</td>\n",
       "    </tr>\n",
       "    <tr>\n",
       "      <th>1</th>\n",
       "      <td>000479418b5561ab694a2870cc04fd43_25</td>\n",
       "      <td>NaN</td>\n",
       "      <td>NaN</td>\n",
       "      <td>NaN</td>\n",
       "      <td>NaN</td>\n",
       "      <td>NaN</td>\n",
       "      <td>NaN</td>\n",
       "      <td>NaN</td>\n",
       "      <td>NaN</td>\n",
       "      <td>NaN</td>\n",
       "      <td>...</td>\n",
       "      <td>6.899061</td>\n",
       "      <td>NaN</td>\n",
       "      <td>7.750636</td>\n",
       "      <td>NaN</td>\n",
       "      <td>16.472289</td>\n",
       "      <td>NaN</td>\n",
       "      <td>5.0</td>\n",
       "      <td>NaN</td>\n",
       "      <td>5.0</td>\n",
       "      <td>traj_000479418b5561ab694a2870cc04fd43_25_10</td>\n",
       "    </tr>\n",
       "    <tr>\n",
       "      <th>2</th>\n",
       "      <td>000506a39775e5bca661ac80e3f466eb_29</td>\n",
       "      <td>NaN</td>\n",
       "      <td>NaN</td>\n",
       "      <td>NaN</td>\n",
       "      <td>NaN</td>\n",
       "      <td>NaN</td>\n",
       "      <td>NaN</td>\n",
       "      <td>NaN</td>\n",
       "      <td>NaN</td>\n",
       "      <td>NaN</td>\n",
       "      <td>...</td>\n",
       "      <td>0.592193</td>\n",
       "      <td>NaN</td>\n",
       "      <td>NaN</td>\n",
       "      <td>25.750249</td>\n",
       "      <td>16.177021</td>\n",
       "      <td>NaN</td>\n",
       "      <td>NaN</td>\n",
       "      <td>4.0</td>\n",
       "      <td>4.0</td>\n",
       "      <td>traj_000506a39775e5bca661ac80e3f466eb_29_5</td>\n",
       "    </tr>\n",
       "    <tr>\n",
       "      <th>3</th>\n",
       "      <td>0005401ceddaf27a9b7f0d42ef1fbe95_1</td>\n",
       "      <td>NaN</td>\n",
       "      <td>NaN</td>\n",
       "      <td>NaN</td>\n",
       "      <td>NaN</td>\n",
       "      <td>NaN</td>\n",
       "      <td>NaN</td>\n",
       "      <td>NaN</td>\n",
       "      <td>NaN</td>\n",
       "      <td>NaN</td>\n",
       "      <td>...</td>\n",
       "      <td>5.928950</td>\n",
       "      <td>NaN</td>\n",
       "      <td>NaN</td>\n",
       "      <td>NaN</td>\n",
       "      <td>21.513777</td>\n",
       "      <td>NaN</td>\n",
       "      <td>NaN</td>\n",
       "      <td>NaN</td>\n",
       "      <td>1.0</td>\n",
       "      <td>traj_0005401ceddaf27a9b7f0d42ef1fbe95_1_4</td>\n",
       "    </tr>\n",
       "  </tbody>\n",
       "</table>\n",
       "<p>4 rows × 1306 columns</p>\n",
       "</div>"
      ],
      "text/plain": [
       "                                  hash  vmax_1  vmax_2  vmax_3  vmax_5  \\\n",
       "0  00032f51796fd5437b238e3a9823d13d_31     NaN     NaN     NaN     NaN   \n",
       "1  000479418b5561ab694a2870cc04fd43_25     NaN     NaN     NaN     NaN   \n",
       "2  000506a39775e5bca661ac80e3f466eb_29     NaN     NaN     NaN     NaN   \n",
       "3   0005401ceddaf27a9b7f0d42ef1fbe95_1     NaN     NaN     NaN     NaN   \n",
       "\n",
       "   vmin_1  vmin_2  vmin_3  vmin_5  vmean_1  \\\n",
       "0     NaN     NaN     NaN     NaN      NaN   \n",
       "1     NaN     NaN     NaN     NaN      NaN   \n",
       "2     NaN     NaN     NaN     NaN      NaN   \n",
       "3     NaN     NaN     NaN     NaN      NaN   \n",
       "\n",
       "                      ...                       cc_xmax_ymax_angle_min_5  \\\n",
       "0                     ...                                       3.224386   \n",
       "1                     ...                                       6.899061   \n",
       "2                     ...                                       0.592193   \n",
       "3                     ...                                       5.928950   \n",
       "\n",
       "   cc_xmax_ymax_angle_sum_1  cc_xmax_ymax_angle_sum_2  \\\n",
       "0                  73.87141                       NaN   \n",
       "1                       NaN                  7.750636   \n",
       "2                       NaN                       NaN   \n",
       "3                       NaN                       NaN   \n",
       "\n",
       "   cc_xmax_ymax_angle_sum_3  cc_xmax_ymax_angle_sum_5  count_trajectories_1  \\\n",
       "0                       NaN                 58.981582                   5.0   \n",
       "1                       NaN                 16.472289                   NaN   \n",
       "2                 25.750249                 16.177021                   NaN   \n",
       "3                       NaN                 21.513777                   NaN   \n",
       "\n",
       "   count_trajectories_2  count_trajectories_3  count_trajectories_5  \\\n",
       "0                   NaN                   NaN                   5.0   \n",
       "1                   5.0                   NaN                   5.0   \n",
       "2                   NaN                   4.0                   4.0   \n",
       "3                   NaN                   NaN                   1.0   \n",
       "\n",
       "                                 trajectory_id  \n",
       "0   traj_00032f51796fd5437b238e3a9823d13d_31_5  \n",
       "1  traj_000479418b5561ab694a2870cc04fd43_25_10  \n",
       "2   traj_000506a39775e5bca661ac80e3f466eb_29_5  \n",
       "3    traj_0005401ceddaf27a9b7f0d42ef1fbe95_1_4  \n",
       "\n",
       "[4 rows x 1306 columns]"
      ]
     },
     "execution_count": 78,
     "metadata": {},
     "output_type": "execute_result"
    }
   ],
   "source": [
    "data_test.head(4)"
   ]
  },
  {
   "cell_type": "code",
   "execution_count": 79,
   "metadata": {},
   "outputs": [],
   "source": [
    "submission = pd.DataFrame(list(zip(data_test['trajectory_id'], yhat)), columns=['id', 'target'])"
   ]
  },
  {
   "cell_type": "code",
   "execution_count": 81,
   "metadata": {},
   "outputs": [],
   "source": [
    "submission.to_csv('../data/submission44_julio.csv', index=False)"
   ]
  },
  {
   "cell_type": "markdown",
   "metadata": {},
   "source": [
    "# Preprocessed Data Saving"
   ]
  },
  {
   "cell_type": "code",
   "execution_count": 84,
   "metadata": {},
   "outputs": [],
   "source": [
    "data_sequence.to_hdf('../data/preprocessed/data_sequence_0.89469.hdf', key='deltas', mode='w')"
   ]
  }
 ],
 "metadata": {
  "kernelspec": {
   "display_name": "Python 3",
   "language": "python",
   "name": "python3"
  },
  "language_info": {
   "codemirror_mode": {
    "name": "ipython",
    "version": 3
   },
   "file_extension": ".py",
   "mimetype": "text/x-python",
   "name": "python",
   "nbconvert_exporter": "python",
   "pygments_lexer": "ipython3",
   "version": "3.6.8"
  }
 },
 "nbformat": 4,
 "nbformat_minor": 2
}
