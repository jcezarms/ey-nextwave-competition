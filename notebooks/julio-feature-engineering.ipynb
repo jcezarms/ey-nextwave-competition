{
 "cells": [
  {
   "cell_type": "code",
   "execution_count": 1,
   "metadata": {
    "collapsed": true
   },
   "outputs": [
    {
     "name": "stdout",
     "output_type": "stream",
     "text": [
      "Solving environment: done\n",
      "\n",
      "\n",
      "==> WARNING: A newer version of conda exists. <==\n",
      "  current version: 4.5.12\n",
      "  latest version: 4.6.14\n",
      "\n",
      "Please update conda by running\n",
      "\n",
      "    $ conda update -n base -c defaults conda\n",
      "\n",
      "\n",
      "\n",
      "## Package Plan ##\n",
      "\n",
      "  environment location: /home/ec2-user/anaconda3/envs/python3\n",
      "\n",
      "  added / updated specs: \n",
      "    - descartes\n",
      "    - geopandas\n",
      "    - lightgbm\n",
      "    - pytables\n",
      "    - shapely\n",
      "\n",
      "\n",
      "The following packages will be downloaded:\n",
      "\n",
      "    package                    |            build\n",
      "    ---------------------------|-----------------\n",
      "    hdf4-4.2.13                |       h3ca952b_2         916 KB\n",
      "    munch-2.3.2                |           py36_0          13 KB\n",
      "    poppler-data-0.4.9         |                0         3.5 MB\n",
      "    geopandas-0.4.1            |             py_0         891 KB\n",
      "    proj4-5.0.1                |       h14c3975_0         7.0 MB\n",
      "    libspatialite-4.3.0a       |      he475c7f_19         3.1 MB\n",
      "    freexl-1.0.5               |       h14c3975_0          44 KB\n",
      "    giflib-5.1.4               |       h14c3975_1          78 KB\n",
      "    json-c-0.13.1              |       h1bed415_0          70 KB\n",
      "    poppler-0.65.0             |       h581218d_1         1.6 MB\n",
      "    lightgbm-2.2.1             |   py36he6710b0_0         937 KB\n",
      "    openjpeg-2.3.0             |       h05c96fa_1         456 KB\n",
      "    pytables-3.4.4             |   py36ha205bf6_0         1.5 MB\n",
      "    libpq-10.5                 |       h1ad7b7a_0         2.7 MB\n",
      "    libdap4-3.19.1             |       h6ec2957_0         1.5 MB\n",
      "    psycopg2-2.7.5             |   py36hb7f436b_0         294 KB\n",
      "    cligj-0.5.0                |           py36_0          12 KB\n",
      "    libboost-1.67.0            |       h46d08c1_4        20.9 MB\n",
      "    libnetcdf-4.6.1            |       h13459d8_0         1.2 MB\n",
      "    rtree-0.8.3                |           py36_0          46 KB\n",
      "    click-plugins-1.1.1        |             py_0          11 KB\n",
      "    libkml-1.3.0               |       h590aaf7_4         633 KB\n",
      "    xerces-c-3.2.2             |       h780794e_0         3.2 MB\n",
      "    mapclassify-2.0.1          |             py_0          26 KB\n",
      "    sqlite-3.26.0              |       h7b6447c_0         1.9 MB\n",
      "    kealib-1.4.7               |       h77bc034_6         170 KB\n",
      "    shapely-1.6.4              |   py36h7ef4460_0         326 KB\n",
      "    libspatialindex-1.8.5      |       h20b78c2_2         666 KB\n",
      "    fiona-1.7.12               |   py36h3f37509_0         704 KB\n",
      "    pyproj-1.9.5.1             |   py36h7b21b82_1          64 KB\n",
      "    geos-3.6.2                 |       heeff764_2         1.6 MB\n",
      "    libgdal-2.2.4              |       h6f639c0_1        16.1 MB\n",
      "    descartes-1.1.0            |           py36_0           9 KB\n",
      "    krb5-1.16.1                |       hc83ff2d_6         1.4 MB\n",
      "    gdal-2.2.2                 |   py36hc209d97_1         767 KB\n",
      "    ------------------------------------------------------------\n",
      "                                           Total:        74.3 MB\n",
      "\n",
      "The following NEW packages will be INSTALLED:\n",
      "\n",
      "    click-plugins:   1.1.1-py_0                         \n",
      "    cligj:           0.5.0-py36_0                       \n",
      "    descartes:       1.1.0-py36_0                       \n",
      "    fiona:           1.7.12-py36h3f37509_0              \n",
      "    freexl:          1.0.5-h14c3975_0                   \n",
      "    gdal:            2.2.2-py36hc209d97_1               \n",
      "    geopandas:       0.4.1-py_0                         \n",
      "    geos:            3.6.2-heeff764_2                   \n",
      "    giflib:          5.1.4-h14c3975_1                   \n",
      "    hdf4:            4.2.13-h3ca952b_2                  \n",
      "    json-c:          0.13.1-h1bed415_0                  \n",
      "    kealib:          1.4.7-h77bc034_6                   \n",
      "    libboost:        1.67.0-h46d08c1_4                  \n",
      "    libdap4:         3.19.1-h6ec2957_0                  \n",
      "    libgdal:         2.2.4-h6f639c0_1                   \n",
      "    libkml:          1.3.0-h590aaf7_4                   \n",
      "    libnetcdf:       4.6.1-h13459d8_0                   \n",
      "    libpq:           10.5-h1ad7b7a_0                    \n",
      "    libspatialindex: 1.8.5-h20b78c2_2                   \n",
      "    libspatialite:   4.3.0a-he475c7f_19                 \n",
      "    lightgbm:        2.2.1-py36he6710b0_0               \n",
      "    mapclassify:     2.0.1-py_0                         \n",
      "    munch:           2.3.2-py36_0                       \n",
      "    openjpeg:        2.3.0-h05c96fa_1                   \n",
      "    poppler:         0.65.0-h581218d_1                  \n",
      "    poppler-data:    0.4.9-0                            \n",
      "    proj4:           5.0.1-h14c3975_0                   \n",
      "    psycopg2:        2.7.5-py36hb7f436b_0               \n",
      "    pyproj:          1.9.5.1-py36h7b21b82_1             \n",
      "    rtree:           0.8.3-py36_0                       \n",
      "    shapely:         1.6.4-py36h7ef4460_0               \n",
      "    xerces-c:        3.2.2-h780794e_0                   \n",
      "\n",
      "The following packages will be REMOVED:\n",
      "\n",
      "    protobuf:        3.6.1-py36hf484d3e_1001 conda-forge\n",
      "    pykerberos:      1.2.1-py36h14c3975_0               \n",
      "\n",
      "The following packages will be UPDATED:\n",
      "\n",
      "    krb5:            1.14.2-hcdc1b81_6                   --> 1.16.1-hc83ff2d_6   \n",
      "    pytables:        3.4.3-py36h02b9ad4_2                --> 3.4.4-py36ha205bf6_0\n",
      "    sqlite:          3.23.1-he433501_0                   --> 3.26.0-h7b6447c_0   \n",
      "\n",
      "\n",
      "Downloading and Extracting Packages\n",
      "hdf4-4.2.13          | 916 KB    | ##################################### | 100% \n",
      "munch-2.3.2          | 13 KB     | ##################################### | 100% \n",
      "poppler-data-0.4.9   | 3.5 MB    | ##################################### | 100% \n",
      "geopandas-0.4.1      | 891 KB    | ##################################### | 100% \n",
      "proj4-5.0.1          | 7.0 MB    | ##################################### | 100% \n",
      "libspatialite-4.3.0a | 3.1 MB    | ##################################### | 100% \n",
      "freexl-1.0.5         | 44 KB     | ##################################### | 100% \n",
      "giflib-5.1.4         | 78 KB     | ##################################### | 100% \n",
      "json-c-0.13.1        | 70 KB     | ##################################### | 100% \n",
      "poppler-0.65.0       | 1.6 MB    | ##################################### | 100% \n",
      "lightgbm-2.2.1       | 937 KB    | ##################################### | 100% \n",
      "openjpeg-2.3.0       | 456 KB    | ##################################### | 100% \n",
      "pytables-3.4.4       | 1.5 MB    | ##################################### | 100% \n",
      "libpq-10.5           | 2.7 MB    | ##################################### | 100% \n",
      "libdap4-3.19.1       | 1.5 MB    | ##################################### | 100% \n",
      "psycopg2-2.7.5       | 294 KB    | ##################################### | 100% \n",
      "cligj-0.5.0          | 12 KB     | ##################################### | 100% \n",
      "libboost-1.67.0      | 20.9 MB   | ##################################### | 100% \n",
      "libnetcdf-4.6.1      | 1.2 MB    | ##################################### | 100% \n",
      "rtree-0.8.3          | 46 KB     | ##################################### | 100% \n",
      "click-plugins-1.1.1  | 11 KB     | ##################################### | 100% \n",
      "libkml-1.3.0         | 633 KB    | ##################################### | 100% \n",
      "xerces-c-3.2.2       | 3.2 MB    | ##################################### | 100% \n",
      "mapclassify-2.0.1    | 26 KB     | ##################################### | 100% \n",
      "sqlite-3.26.0        | 1.9 MB    | ##################################### | 100% \n",
      "kealib-1.4.7         | 170 KB    | ##################################### | 100% \n",
      "shapely-1.6.4        | 326 KB    | ##################################### | 100% \n",
      "libspatialindex-1.8. | 666 KB    | ##################################### | 100% \n",
      "fiona-1.7.12         | 704 KB    | ##################################### | 100% \n",
      "pyproj-1.9.5.1       | 64 KB     | ##################################### | 100% \n",
      "geos-3.6.2           | 1.6 MB    | ##################################### | 100% \n",
      "libgdal-2.2.4        | 16.1 MB   | ##################################### | 100% \n",
      "descartes-1.1.0      | 9 KB      | ##################################### | 100% \n",
      "krb5-1.16.1          | 1.4 MB    | ##################################### | 100% \n",
      "gdal-2.2.2           | 767 KB    | ##################################### | 100% \n",
      "Preparing transaction: done\n",
      "Verifying transaction: done\n",
      "Executing transaction: done\n"
     ]
    }
   ],
   "source": [
    "!conda install shapely descartes pytables geopandas lightgbm -y"
   ]
  },
  {
   "cell_type": "code",
   "execution_count": null,
   "metadata": {
    "collapsed": true
   },
   "outputs": [
    {
     "name": "stdout",
     "output_type": "stream",
     "text": [
      "Solving environment: / "
     ]
    }
   ],
   "source": [
    "!conda install -c conda-forge tqdm -y"
   ]
  },
  {
   "cell_type": "markdown",
   "metadata": {},
   "source": [
    "# Exploratory Data Analysis"
   ]
  },
  {
   "cell_type": "code",
   "execution_count": 27,
   "metadata": {},
   "outputs": [
    {
     "name": "stdout",
     "output_type": "stream",
     "text": [
      "The autoreload extension is already loaded. To reload it, use:\n",
      "  %reload_ext autoreload\n"
     ]
    }
   ],
   "source": [
    "import pandas as pd\n",
    "from shapely.geometry import Point\n",
    "import matplotlib.pyplot as plt\n",
    "from tqdm.auto import tqdm\n",
    "import seaborn as sns\n",
    "import numpy as np\n",
    "import warnings\n",
    "import math\n",
    "import re\n",
    "\n",
    "tqdm.pandas()\n",
    "\n",
    "plt.style.use('seaborn')\n",
    "\n",
    "warnings.filterwarnings(\"ignore\")\n",
    "\n",
    "%load_ext autoreload\n",
    "%autoreload 2\n",
    "\n",
    "%run ../src/utils.py"
   ]
  },
  {
   "cell_type": "code",
   "execution_count": 28,
   "metadata": {},
   "outputs": [
    {
     "data": {
      "text/plain": [
       "(814262, 11)"
      ]
     },
     "execution_count": 28,
     "metadata": {},
     "output_type": "execute_result"
    }
   ],
   "source": [
    "train = pd.read_csv('../data/raw/data_train.zip', index_col='Unnamed: 0', low_memory=True)\n",
    "train.shape"
   ]
  },
  {
   "cell_type": "code",
   "execution_count": 29,
   "metadata": {},
   "outputs": [
    {
     "data": {
      "text/plain": [
       "(202937, 11)"
      ]
     },
     "execution_count": 29,
     "metadata": {},
     "output_type": "execute_result"
    }
   ],
   "source": [
    "test = pd.read_csv('../data/raw/data_test.zip', index_col='Unnamed: 0', low_memory=True)\n",
    "test.shape"
   ]
  },
  {
   "cell_type": "code",
   "execution_count": 30,
   "metadata": {
    "scrolled": true
   },
   "outputs": [
    {
     "data": {
      "text/plain": [
       "(1017199, 11)"
      ]
     },
     "execution_count": 30,
     "metadata": {},
     "output_type": "execute_result"
    }
   ],
   "source": [
    "data = pd.concat([train, test], axis=0)\n",
    "data.shape"
   ]
  },
  {
   "cell_type": "markdown",
   "metadata": {},
   "source": [
    "# Timing\n",
    "Time-related features"
   ]
  },
  {
   "cell_type": "code",
   "execution_count": 31,
   "metadata": {},
   "outputs": [
    {
     "data": {
      "application/vnd.jupyter.widget-view+json": {
       "model_id": "f44ab294c2e843d88d7207ba8f98677a",
       "version_major": 2,
       "version_minor": 0
      },
      "text/plain": [
       "HBox(children=(IntProgress(value=0, max=1017199), HTML(value='')))"
      ]
     },
     "metadata": {},
     "output_type": "display_data"
    },
    {
     "data": {
      "application/vnd.jupyter.widget-view+json": {
       "model_id": "74ffeeb972df4e57bd8effd22b8a19e3",
       "version_major": 2,
       "version_minor": 0
      },
      "text/plain": [
       "HBox(children=(IntProgress(value=0, max=1017199), HTML(value='')))"
      ]
     },
     "metadata": {},
     "output_type": "display_data"
    },
    {
     "data": {
      "application/vnd.jupyter.widget-view+json": {
       "model_id": "ba11840841444c63bef04d4f54d7013d",
       "version_major": 2,
       "version_minor": 0
      },
      "text/plain": [
       "HBox(children=(IntProgress(value=0, max=1017199), HTML(value='')))"
      ]
     },
     "metadata": {},
     "output_type": "display_data"
    },
    {
     "data": {
      "application/vnd.jupyter.widget-view+json": {
       "model_id": "dd1c524bf15c42c7b7c5c89bad8d2917",
       "version_major": 2,
       "version_minor": 0
      },
      "text/plain": [
       "HBox(children=(IntProgress(value=0, max=1017199), HTML(value='')))"
      ]
     },
     "metadata": {},
     "output_type": "display_data"
    }
   ],
   "source": [
    "data['minute_entry'] = data.time_exit.progress_apply(lambda x: int(x.split(':')[1]))\n",
    "data['minute_exit'] = data.time_exit.progress_apply(lambda x: int(x.split(':')[1]))\n",
    "\n",
    "data['hour_entry'] = data.time_entry.progress_apply(lambda x: int(x.split(':')[0]))\n",
    "data['hour_exit'] = data.time_exit.progress_apply(lambda x: int(x.split(':')[0]))\n",
    "\n",
    "data['time_entry'] = pd.to_timedelta(data.time_entry)\n",
    "data['time_exit'] = pd.to_timedelta(data.time_exit)"
   ]
  },
  {
   "cell_type": "code",
   "execution_count": 32,
   "metadata": {},
   "outputs": [],
   "source": [
    "data['time_entry'] = pd.to_timedelta(data.time_entry)\n",
    "data['time_exit'] = pd.to_timedelta(data.time_exit)\n",
    "\n",
    "data['deltat_min'] = (data.time_exit - data.time_entry) / np.timedelta64(1, 'm')"
   ]
  },
  {
   "cell_type": "markdown",
   "metadata": {},
   "source": [
    "# Distance Evaluation\n",
    "Euclidian, Minkowski, Haversine distances."
   ]
  },
  {
   "cell_type": "code",
   "execution_count": 33,
   "metadata": {},
   "outputs": [],
   "source": [
    "def euclidian_distance(x_one, y_one, x_two, y_two):\n",
    "    return np.sqrt(np.power((x_one-x_two), 2) + np.power((y_one-y_two), 2))\n",
    "\n",
    "def minkowski_distance(x_one, y_one, x_two, y_two):\n",
    "    return abs(x_one-x_two) + abs(y_one-y_two)\n",
    "\n",
    "data['euclidian_distance'] = np.sqrt(np.power(data.x_entry.values-data.x_exit.values, 2)+np.power(data.y_entry.values-data.y_exit.values, 2))\n",
    "\n",
    "data['minkowski_distance'] = np.abs(data.x_entry.values-data.x_exit.values) + np.abs(data.y_entry.values-data.y_exit.values)"
   ]
  },
  {
   "cell_type": "code",
   "execution_count": 34,
   "metadata": {},
   "outputs": [],
   "source": [
    "from math import radians, cos, sin, asin, sqrt\n",
    "\n",
    "def haversine(lon1, lat1, lon2, lat2):\n",
    "    \"\"\"\n",
    "    Calculate the great circle distance between two points \n",
    "    on the earth (specified in decimal degrees)\n",
    "    \"\"\"\n",
    "    # convert decimal degrees to radians \n",
    "    lon1, lat1, lon2, lat2 = map(radians, [lon1, lat1, lon2, lat2])\n",
    "\n",
    "    # haversine formula \n",
    "    dlon = lon2 - lon1 \n",
    "    dlat = lat2 - lat1 \n",
    "    a = sin(dlat/2)**2 + cos(lat1) * cos(lat2) * sin(dlon/2)**2\n",
    "    c = 2 * asin(sqrt(a)) \n",
    "    r = 6371 # Radius of earth in kilometers. Use 3956 for miles\n",
    "    return c * r\n",
    "\n",
    "data['harvesine_distance'] = [haversine(x1, y1, x2, y2) for x1, y1, x2, y2 in zip(data.x_entry, data.y_entry,\n",
    "                                                                                data.x_exit, data.y_exit)]"
   ]
  },
  {
   "cell_type": "code",
   "execution_count": 35,
   "metadata": {},
   "outputs": [
    {
     "data": {
      "text/plain": [
       "(491966, 19)"
      ]
     },
     "execution_count": 35,
     "metadata": {},
     "output_type": "execute_result"
    }
   ],
   "source": [
    "data = data[data.euclidian_distance!=0]\n",
    "data.shape"
   ]
  },
  {
   "cell_type": "markdown",
   "metadata": {},
   "source": [
    "### Quadrants"
   ]
  },
  {
   "cell_type": "code",
   "execution_count": 36,
   "metadata": {},
   "outputs": [],
   "source": [
    "x_center = center['x_min'] + ((center['x_max']-center['x_min'])/2)\n",
    "y_center = center['y_min'] + ((center['y_max']+center['y_min'])/2)"
   ]
  },
  {
   "cell_type": "code",
   "execution_count": 37,
   "metadata": {},
   "outputs": [],
   "source": [
    "def quadrant(x, y, which):\n",
    "    if which == 'third':\n",
    "        if center['x_min'] <= x <= x_center and center['y_min'] <= y <= y_center:\n",
    "            return 1\n",
    "        else:\n",
    "            return 0\n",
    "        \n",
    "    elif which == 'first':\n",
    "        if center['x_min'] <= x <= x_center and center['y_max'] >= y >= y_center:\n",
    "            return 1\n",
    "        else:\n",
    "            return 0\n",
    "        \n",
    "    elif which == 'fourth':\n",
    "        if center['x_max'] >= x >= x_center and center['y_min'] >= y >= y_center:\n",
    "            return 1\n",
    "        else:\n",
    "            return 0\n",
    "    elif which == 'second':\n",
    "        if center['x_max'] >= x >= x_center and center['y_min'] <= y <= y_center:\n",
    "            return 1\n",
    "        else:\n",
    "            return 0\n",
    "    else:\n",
    "        return 0\n",
    "        \n",
    "\n",
    "data['first_quadrant_entry'] = [quadrant(x, y, which='first') for x, y in zip(data.x_entry, data.y_entry)]\n",
    "data['third_quadrant_entry'] = [quadrant(x, y, which='third') for x, y in zip(data.x_entry, data.y_entry)]\n",
    "data['fourth_quadrant_entry'] = [quadrant(x, y, which='fourth') for x, y in zip(data.x_entry, data.y_entry)]\n",
    "data['second_quadrant_entry'] = [quadrant(x, y, which='second') for x, y in zip(data.x_entry, data.y_entry)]"
   ]
  },
  {
   "cell_type": "markdown",
   "metadata": {},
   "source": [
    "### Distances to Center Middle Point"
   ]
  },
  {
   "cell_type": "code",
   "execution_count": 38,
   "metadata": {},
   "outputs": [],
   "source": [
    "data['distance_cc_entry'] = np.sqrt(((data.x_entry.values-x_center)**2) + ((data.y_entry.values-y_center)**2))\n",
    "data['distance_cc_exit'] = np.sqrt(((data.x_exit.values-x_center)**2) + ((data.y_exit.values-y_center)**2))\n",
    "\n",
    "data['diff_cc_exit_entry'] = data.distance_cc_exit - data.distance_cc_entry"
   ]
  },
  {
   "cell_type": "code",
   "execution_count": 39,
   "metadata": {},
   "outputs": [],
   "source": [
    "data['x_diff_entry'] = data.x_entry.values-x_center\n",
    "data['x_diff_exit'] = data.x_exit.values-x_center\n",
    "\n",
    "data['y_diff_entry'] = data.y_entry.values-y_center\n",
    "data['y_diff_exit'] = data.y_exit.values-y_center"
   ]
  },
  {
   "cell_type": "code",
   "execution_count": 40,
   "metadata": {},
   "outputs": [],
   "source": [
    "directions_entry = []\n",
    "for x, y in zip(data.x_diff_entry, data.y_diff_entry):\n",
    "    directions_entry.append(math.atan2(x, y))\n",
    "    \n",
    "data['direction_entry'] = directions_entry"
   ]
  },
  {
   "cell_type": "code",
   "execution_count": 41,
   "metadata": {},
   "outputs": [],
   "source": [
    "directions_exit = []\n",
    "for x, y in zip(data.x_diff_exit, data.y_diff_exit):\n",
    "    directions_exit.append(math.atan2(x, y))\n",
    "    \n",
    "data['direction_exit'] = directions_exit"
   ]
  },
  {
   "cell_type": "markdown",
   "metadata": {},
   "source": [
    "### Distances from Center Borders\n",
    "Euclidian distance from point to city center borders."
   ]
  },
  {
   "cell_type": "code",
   "execution_count": 42,
   "metadata": {},
   "outputs": [
    {
     "data": {
      "text/plain": [
       "20000.0"
      ]
     },
     "execution_count": 42,
     "metadata": {},
     "output_type": "execute_result"
    }
   ],
   "source": [
    "from shapely.geometry import Point, Polygon, LineString\n",
    "\n",
    "center['left_border']  = LineString([(center['x_min'], center['y_min']), (center['x_min'], center['y_max'])])\n",
    "center['right_border'] = LineString([(center['x_max'], center['y_min']), (center['x_max'], center['y_max'])])\n",
    "\n",
    "center['lower_border']  = LineString([(center['x_min'], center['y_min']), (center['x_max'], center['y_min'])])\n",
    "center['upper_border']  = LineString([(center['x_min'], center['y_max']), (center['x_max'], center['y_max'])])\n",
    "\n",
    "center['left_border'].distance(Point(center['x_max'], center['y_min']))"
   ]
  },
  {
   "cell_type": "code",
   "execution_count": 43,
   "metadata": {},
   "outputs": [],
   "source": [
    "def distance_to_border(x, y, direction):\n",
    "    return center[direction + '_border'].distance(Point(x, y))\n",
    "\n",
    "for side in ['left', 'right', 'lower', 'upper']:\n",
    "    data[f'distance_{side}_border'] = [distance_to_border(x, y, direction=side) for x, y in zip(data.x_entry, data.y_entry)]"
   ]
  },
  {
   "cell_type": "markdown",
   "metadata": {},
   "source": [
    "# Angles w.r.t Center\n",
    "Mid and vertex-related angles on a per point basis"
   ]
  },
  {
   "cell_type": "code",
   "execution_count": 44,
   "metadata": {},
   "outputs": [
    {
     "data": {
      "application/vnd.jupyter.widget-view+json": {
       "model_id": "97a2159305fe4708870596ed89d2b49f",
       "version_major": 2,
       "version_minor": 0
      },
      "text/plain": [
       "HBox(children=(IntProgress(value=0, max=491966), HTML(value='')))"
      ]
     },
     "metadata": {},
     "output_type": "display_data"
    },
    {
     "data": {
      "text/html": [
       "<div>\n",
       "<style scoped>\n",
       "    .dataframe tbody tr th:only-of-type {\n",
       "        vertical-align: middle;\n",
       "    }\n",
       "\n",
       "    .dataframe tbody tr th {\n",
       "        vertical-align: top;\n",
       "    }\n",
       "\n",
       "    .dataframe thead th {\n",
       "        text-align: right;\n",
       "    }\n",
       "</style>\n",
       "<table border=\"1\" class=\"dataframe\">\n",
       "  <thead>\n",
       "    <tr style=\"text-align: right;\">\n",
       "      <th></th>\n",
       "      <th>hash</th>\n",
       "      <th>trajectory_id</th>\n",
       "      <th>time_entry</th>\n",
       "      <th>time_exit</th>\n",
       "      <th>vmax</th>\n",
       "      <th>vmin</th>\n",
       "      <th>vmean</th>\n",
       "      <th>x_entry</th>\n",
       "      <th>y_entry</th>\n",
       "      <th>x_exit</th>\n",
       "      <th>...</th>\n",
       "      <th>direction_exit</th>\n",
       "      <th>distance_left_border</th>\n",
       "      <th>distance_right_border</th>\n",
       "      <th>distance_lower_border</th>\n",
       "      <th>distance_upper_border</th>\n",
       "      <th>cc_middle_angle</th>\n",
       "      <th>cc_xmin_ymin_angle</th>\n",
       "      <th>cc_xmax_ymin_angle</th>\n",
       "      <th>cc_xmin_ymax_angle</th>\n",
       "      <th>cc_xmax_ymax_angle</th>\n",
       "    </tr>\n",
       "  </thead>\n",
       "  <tbody>\n",
       "    <tr>\n",
       "      <th>0</th>\n",
       "      <td>0000a8602cf2def930488dee7cdad104_1</td>\n",
       "      <td>traj_0000a8602cf2def930488dee7cdad104_1_0</td>\n",
       "      <td>07:04:31</td>\n",
       "      <td>07:08:32</td>\n",
       "      <td>NaN</td>\n",
       "      <td>NaN</td>\n",
       "      <td>NaN</td>\n",
       "      <td>3.751014e+06</td>\n",
       "      <td>-1.909398e+07</td>\n",
       "      <td>3.750326e+06</td>\n",
       "      <td>...</td>\n",
       "      <td>-0.000546</td>\n",
       "      <td>114925.024135</td>\n",
       "      <td>116633.059928</td>\n",
       "      <td>174924.969304</td>\n",
       "      <td>114924.969304</td>\n",
       "      <td>NaN</td>\n",
       "      <td>NaN</td>\n",
       "      <td>NaN</td>\n",
       "      <td>NaN</td>\n",
       "      <td>NaN</td>\n",
       "    </tr>\n",
       "    <tr>\n",
       "      <th>1</th>\n",
       "      <td>0000a8602cf2def930488dee7cdad104_1</td>\n",
       "      <td>traj_0000a8602cf2def930488dee7cdad104_1_1</td>\n",
       "      <td>07:20:34</td>\n",
       "      <td>07:25:42</td>\n",
       "      <td>NaN</td>\n",
       "      <td>NaN</td>\n",
       "      <td>NaN</td>\n",
       "      <td>3.743937e+06</td>\n",
       "      <td>-1.932247e+07</td>\n",
       "      <td>3.744975e+06</td>\n",
       "      <td>...</td>\n",
       "      <td>-0.000830</td>\n",
       "      <td>54012.799354</td>\n",
       "      <td>59966.283785</td>\n",
       "      <td>54012.799354</td>\n",
       "      <td>113775.281047</td>\n",
       "      <td>0.137059</td>\n",
       "      <td>0.038653</td>\n",
       "      <td>0.188293</td>\n",
       "      <td>0.042244</td>\n",
       "      <td>0.310604</td>\n",
       "    </tr>\n",
       "    <tr>\n",
       "      <th>2</th>\n",
       "      <td>0000a8602cf2def930488dee7cdad104_1</td>\n",
       "      <td>traj_0000a8602cf2def930488dee7cdad104_1_2</td>\n",
       "      <td>07:53:32</td>\n",
       "      <td>08:03:25</td>\n",
       "      <td>NaN</td>\n",
       "      <td>NaN</td>\n",
       "      <td>NaN</td>\n",
       "      <td>3.744868e+06</td>\n",
       "      <td>-1.929356e+07</td>\n",
       "      <td>3.744816e+06</td>\n",
       "      <td>...</td>\n",
       "      <td>-0.000837</td>\n",
       "      <td>25386.747582</td>\n",
       "      <td>35858.533322</td>\n",
       "      <td>25386.747582</td>\n",
       "      <td>84874.048910</td>\n",
       "      <td>0.198812</td>\n",
       "      <td>0.120334</td>\n",
       "      <td>0.476339</td>\n",
       "      <td>0.057555</td>\n",
       "      <td>0.234039</td>\n",
       "    </tr>\n",
       "    <tr>\n",
       "      <th>3</th>\n",
       "      <td>0000a8602cf2def930488dee7cdad104_1</td>\n",
       "      <td>traj_0000a8602cf2def930488dee7cdad104_1_3</td>\n",
       "      <td>08:17:50</td>\n",
       "      <td>08:37:23</td>\n",
       "      <td>NaN</td>\n",
       "      <td>NaN</td>\n",
       "      <td>NaN</td>\n",
       "      <td>3.744880e+06</td>\n",
       "      <td>-1.929229e+07</td>\n",
       "      <td>3.744809e+06</td>\n",
       "      <td>...</td>\n",
       "      <td>-0.000837</td>\n",
       "      <td>24146.972686</td>\n",
       "      <td>34984.767305</td>\n",
       "      <td>24146.972686</td>\n",
       "      <td>83601.282594</td>\n",
       "      <td>0.173281</td>\n",
       "      <td>0.132425</td>\n",
       "      <td>0.711798</td>\n",
       "      <td>0.044184</td>\n",
       "      <td>0.184758</td>\n",
       "    </tr>\n",
       "  </tbody>\n",
       "</table>\n",
       "<p>4 rows × 41 columns</p>\n",
       "</div>"
      ],
      "text/plain": [
       "                                 hash  \\\n",
       "0  0000a8602cf2def930488dee7cdad104_1   \n",
       "1  0000a8602cf2def930488dee7cdad104_1   \n",
       "2  0000a8602cf2def930488dee7cdad104_1   \n",
       "3  0000a8602cf2def930488dee7cdad104_1   \n",
       "\n",
       "                               trajectory_id time_entry time_exit  vmax  vmin  \\\n",
       "0  traj_0000a8602cf2def930488dee7cdad104_1_0   07:04:31  07:08:32   NaN   NaN   \n",
       "1  traj_0000a8602cf2def930488dee7cdad104_1_1   07:20:34  07:25:42   NaN   NaN   \n",
       "2  traj_0000a8602cf2def930488dee7cdad104_1_2   07:53:32  08:03:25   NaN   NaN   \n",
       "3  traj_0000a8602cf2def930488dee7cdad104_1_3   08:17:50  08:37:23   NaN   NaN   \n",
       "\n",
       "   vmean       x_entry       y_entry        x_exit         ...          \\\n",
       "0    NaN  3.751014e+06 -1.909398e+07  3.750326e+06         ...           \n",
       "1    NaN  3.743937e+06 -1.932247e+07  3.744975e+06         ...           \n",
       "2    NaN  3.744868e+06 -1.929356e+07  3.744816e+06         ...           \n",
       "3    NaN  3.744880e+06 -1.929229e+07  3.744809e+06         ...           \n",
       "\n",
       "   direction_exit  distance_left_border  distance_right_border  \\\n",
       "0       -0.000546         114925.024135          116633.059928   \n",
       "1       -0.000830          54012.799354           59966.283785   \n",
       "2       -0.000837          25386.747582           35858.533322   \n",
       "3       -0.000837          24146.972686           34984.767305   \n",
       "\n",
       "   distance_lower_border  distance_upper_border  cc_middle_angle  \\\n",
       "0          174924.969304          114924.969304              NaN   \n",
       "1           54012.799354          113775.281047         0.137059   \n",
       "2           25386.747582           84874.048910         0.198812   \n",
       "3           24146.972686           83601.282594         0.173281   \n",
       "\n",
       "   cc_xmin_ymin_angle  cc_xmax_ymin_angle  cc_xmin_ymax_angle  \\\n",
       "0                 NaN                 NaN                 NaN   \n",
       "1            0.038653            0.188293            0.042244   \n",
       "2            0.120334            0.476339            0.057555   \n",
       "3            0.132425            0.711798            0.044184   \n",
       "\n",
       "   cc_xmax_ymax_angle  \n",
       "0                 NaN  \n",
       "1            0.310604  \n",
       "2            0.234039  \n",
       "3            0.184758  \n",
       "\n",
       "[4 rows x 41 columns]"
      ]
     },
     "execution_count": 44,
     "metadata": {},
     "output_type": "execute_result"
    }
   ],
   "source": [
    "data['last_x_entry'] = data.groupby('hash').x_exit.shift(1)\n",
    "data['last_y_entry'] = data.groupby('hash').y_exit.shift(1)\n",
    "\n",
    "angle_cols = [\n",
    "    'cc_middle_angle', 'cc_xmin_ymin_angle', 'cc_xmax_ymin_angle', 'cc_xmin_ymax_angle', 'cc_xmax_ymax_angle'\n",
    "]\n",
    "\n",
    "data = data.reindex(columns=data.columns.tolist() + angle_cols)\n",
    "\n",
    "data = data.progress_apply(entry_to_center_angles, axis=1)\n",
    "\n",
    "data = data.drop(columns=['last_x_entry', 'last_y_entry'])\n",
    "\n",
    "data.head(4)"
   ]
  },
  {
   "cell_type": "code",
   "execution_count": 45,
   "metadata": {},
   "outputs": [
    {
     "data": {
      "text/html": [
       "<div>\n",
       "<style scoped>\n",
       "    .dataframe tbody tr th:only-of-type {\n",
       "        vertical-align: middle;\n",
       "    }\n",
       "\n",
       "    .dataframe tbody tr th {\n",
       "        vertical-align: top;\n",
       "    }\n",
       "\n",
       "    .dataframe thead th {\n",
       "        text-align: right;\n",
       "    }\n",
       "</style>\n",
       "<table border=\"1\" class=\"dataframe\">\n",
       "  <thead>\n",
       "    <tr style=\"text-align: right;\">\n",
       "      <th></th>\n",
       "      <th>hash</th>\n",
       "      <th>trajectory_id</th>\n",
       "      <th>time_entry</th>\n",
       "      <th>time_exit</th>\n",
       "      <th>vmax</th>\n",
       "      <th>vmin</th>\n",
       "      <th>vmean</th>\n",
       "      <th>x_entry</th>\n",
       "      <th>y_entry</th>\n",
       "      <th>x_exit</th>\n",
       "      <th>...</th>\n",
       "      <th>direction_exit</th>\n",
       "      <th>distance_left_border</th>\n",
       "      <th>distance_right_border</th>\n",
       "      <th>distance_lower_border</th>\n",
       "      <th>distance_upper_border</th>\n",
       "      <th>cc_middle_angle</th>\n",
       "      <th>cc_xmin_ymin_angle</th>\n",
       "      <th>cc_xmax_ymin_angle</th>\n",
       "      <th>cc_xmin_ymax_angle</th>\n",
       "      <th>cc_xmax_ymax_angle</th>\n",
       "    </tr>\n",
       "  </thead>\n",
       "  <tbody>\n",
       "    <tr>\n",
       "      <th>0</th>\n",
       "      <td>0000a8602cf2def930488dee7cdad104_1</td>\n",
       "      <td>traj_0000a8602cf2def930488dee7cdad104_1_0</td>\n",
       "      <td>07:04:31</td>\n",
       "      <td>07:08:32</td>\n",
       "      <td>NaN</td>\n",
       "      <td>NaN</td>\n",
       "      <td>NaN</td>\n",
       "      <td>3.751014e+06</td>\n",
       "      <td>-1.909398e+07</td>\n",
       "      <td>3.750326e+06</td>\n",
       "      <td>...</td>\n",
       "      <td>-0.000546</td>\n",
       "      <td>114925.024135</td>\n",
       "      <td>116633.059928</td>\n",
       "      <td>174924.969304</td>\n",
       "      <td>114924.969304</td>\n",
       "      <td>NaN</td>\n",
       "      <td>NaN</td>\n",
       "      <td>NaN</td>\n",
       "      <td>NaN</td>\n",
       "      <td>NaN</td>\n",
       "    </tr>\n",
       "    <tr>\n",
       "      <th>1</th>\n",
       "      <td>0000a8602cf2def930488dee7cdad104_1</td>\n",
       "      <td>traj_0000a8602cf2def930488dee7cdad104_1_1</td>\n",
       "      <td>07:20:34</td>\n",
       "      <td>07:25:42</td>\n",
       "      <td>NaN</td>\n",
       "      <td>NaN</td>\n",
       "      <td>NaN</td>\n",
       "      <td>3.743937e+06</td>\n",
       "      <td>-1.932247e+07</td>\n",
       "      <td>3.744975e+06</td>\n",
       "      <td>...</td>\n",
       "      <td>-0.000830</td>\n",
       "      <td>54012.799354</td>\n",
       "      <td>59966.283785</td>\n",
       "      <td>54012.799354</td>\n",
       "      <td>113775.281047</td>\n",
       "      <td>7.852886</td>\n",
       "      <td>2.214659</td>\n",
       "      <td>10.788397</td>\n",
       "      <td>2.420383</td>\n",
       "      <td>17.796301</td>\n",
       "    </tr>\n",
       "    <tr>\n",
       "      <th>2</th>\n",
       "      <td>0000a8602cf2def930488dee7cdad104_1</td>\n",
       "      <td>traj_0000a8602cf2def930488dee7cdad104_1_2</td>\n",
       "      <td>07:53:32</td>\n",
       "      <td>08:03:25</td>\n",
       "      <td>NaN</td>\n",
       "      <td>NaN</td>\n",
       "      <td>NaN</td>\n",
       "      <td>3.744868e+06</td>\n",
       "      <td>-1.929356e+07</td>\n",
       "      <td>3.744816e+06</td>\n",
       "      <td>...</td>\n",
       "      <td>-0.000837</td>\n",
       "      <td>25386.747582</td>\n",
       "      <td>35858.533322</td>\n",
       "      <td>25386.747582</td>\n",
       "      <td>84874.048910</td>\n",
       "      <td>11.391105</td>\n",
       "      <td>6.894649</td>\n",
       "      <td>27.292186</td>\n",
       "      <td>3.297664</td>\n",
       "      <td>13.409474</td>\n",
       "    </tr>\n",
       "    <tr>\n",
       "      <th>3</th>\n",
       "      <td>0000a8602cf2def930488dee7cdad104_1</td>\n",
       "      <td>traj_0000a8602cf2def930488dee7cdad104_1_3</td>\n",
       "      <td>08:17:50</td>\n",
       "      <td>08:37:23</td>\n",
       "      <td>NaN</td>\n",
       "      <td>NaN</td>\n",
       "      <td>NaN</td>\n",
       "      <td>3.744880e+06</td>\n",
       "      <td>-1.929229e+07</td>\n",
       "      <td>3.744809e+06</td>\n",
       "      <td>...</td>\n",
       "      <td>-0.000837</td>\n",
       "      <td>24146.972686</td>\n",
       "      <td>34984.767305</td>\n",
       "      <td>24146.972686</td>\n",
       "      <td>83601.282594</td>\n",
       "      <td>9.928271</td>\n",
       "      <td>7.587407</td>\n",
       "      <td>40.782997</td>\n",
       "      <td>2.531528</td>\n",
       "      <td>10.585844</td>\n",
       "    </tr>\n",
       "  </tbody>\n",
       "</table>\n",
       "<p>4 rows × 41 columns</p>\n",
       "</div>"
      ],
      "text/plain": [
       "                                 hash  \\\n",
       "0  0000a8602cf2def930488dee7cdad104_1   \n",
       "1  0000a8602cf2def930488dee7cdad104_1   \n",
       "2  0000a8602cf2def930488dee7cdad104_1   \n",
       "3  0000a8602cf2def930488dee7cdad104_1   \n",
       "\n",
       "                               trajectory_id time_entry time_exit  vmax  vmin  \\\n",
       "0  traj_0000a8602cf2def930488dee7cdad104_1_0   07:04:31  07:08:32   NaN   NaN   \n",
       "1  traj_0000a8602cf2def930488dee7cdad104_1_1   07:20:34  07:25:42   NaN   NaN   \n",
       "2  traj_0000a8602cf2def930488dee7cdad104_1_2   07:53:32  08:03:25   NaN   NaN   \n",
       "3  traj_0000a8602cf2def930488dee7cdad104_1_3   08:17:50  08:37:23   NaN   NaN   \n",
       "\n",
       "   vmean       x_entry       y_entry        x_exit         ...          \\\n",
       "0    NaN  3.751014e+06 -1.909398e+07  3.750326e+06         ...           \n",
       "1    NaN  3.743937e+06 -1.932247e+07  3.744975e+06         ...           \n",
       "2    NaN  3.744868e+06 -1.929356e+07  3.744816e+06         ...           \n",
       "3    NaN  3.744880e+06 -1.929229e+07  3.744809e+06         ...           \n",
       "\n",
       "   direction_exit  distance_left_border  distance_right_border  \\\n",
       "0       -0.000546         114925.024135          116633.059928   \n",
       "1       -0.000830          54012.799354           59966.283785   \n",
       "2       -0.000837          25386.747582           35858.533322   \n",
       "3       -0.000837          24146.972686           34984.767305   \n",
       "\n",
       "   distance_lower_border  distance_upper_border  cc_middle_angle  \\\n",
       "0          174924.969304          114924.969304              NaN   \n",
       "1           54012.799354          113775.281047         7.852886   \n",
       "2           25386.747582           84874.048910        11.391105   \n",
       "3           24146.972686           83601.282594         9.928271   \n",
       "\n",
       "   cc_xmin_ymin_angle  cc_xmax_ymin_angle  cc_xmin_ymax_angle  \\\n",
       "0                 NaN                 NaN                 NaN   \n",
       "1            2.214659           10.788397            2.420383   \n",
       "2            6.894649           27.292186            3.297664   \n",
       "3            7.587407           40.782997            2.531528   \n",
       "\n",
       "   cc_xmax_ymax_angle  \n",
       "0                 NaN  \n",
       "1           17.796301  \n",
       "2           13.409474  \n",
       "3           10.585844  \n",
       "\n",
       "[4 rows x 41 columns]"
      ]
     },
     "execution_count": 45,
     "metadata": {},
     "output_type": "execute_result"
    }
   ],
   "source": [
    "data[angle_cols] = data[angle_cols] * 180.0 / np.pi\n",
    "data.head(4)"
   ]
  },
  {
   "cell_type": "markdown",
   "metadata": {},
   "source": [
    "# Target feature"
   ]
  },
  {
   "cell_type": "code",
   "execution_count": 46,
   "metadata": {},
   "outputs": [],
   "source": [
    "def is_inside_city(x, y):\n",
    "    if (3750901.5068 <= x <= 3770901.5068) and (-19268905.6133 <= y <= -19208905.6133):\n",
    "        return 1\n",
    "    else:\n",
    "        return 0\n",
    "\n",
    "data['is_inside_city_entry'] = [is_inside_city(x, y) for x, y in zip(data.x_entry, data.y_entry)]\n",
    "data['is_inside_city_exit'] = [is_inside_city(x, y) for x, y in zip(data.x_exit, data.y_exit)]"
   ]
  },
  {
   "cell_type": "markdown",
   "metadata": {},
   "source": [
    "# Grid Sections\n",
    "We'll start off dividing our trajectory map in grids meant to cover any posible entry point in our data"
   ]
  },
  {
   "cell_type": "code",
   "execution_count": 47,
   "metadata": {},
   "outputs": [
    {
     "data": {
      "text/plain": [
       "(36068.62821192667, 340258.3224131949)"
      ]
     },
     "execution_count": 47,
     "metadata": {},
     "output_type": "execute_result"
    }
   ],
   "source": [
    "xmin, ymin, xmax, ymax = data.x_entry.min(), data.y_entry.min(), data.x_entry.max(), data.y_entry.max()\n",
    "\n",
    "xmax-xmin, ymax-ymin"
   ]
  },
  {
   "cell_type": "code",
   "execution_count": 22,
   "metadata": {},
   "outputs": [],
   "source": [
    "from shapely.geometry import Polygon\n",
    "\n",
    "# 10x3 grids, given the height/width ratio is predominantly vertical\n",
    "y_count = 4\n",
    "x_count = 10\n",
    "\n",
    "grid_h = (ymax-ymin)/y_count\n",
    "grid_w = (xmax-xmin)/x_count\n",
    "\n",
    "grids = {'{}_{}'.format(i+1,j+1): Polygon([\n",
    "            (xmin + grid_w*i, ymin + grid_h*j), (xmin + grid_w*i, ymin + grid_h*(j+1)),\n",
    "            (xmin + grid_w*(i+1), ymin + grid_h*(j+1)), (xmin + grid_w*(i+1), ymin + grid_h*j)]) \\\n",
    "         for i in range(0, x_count) \\\n",
    "         for j in range(0, y_count)}"
   ]
  },
  {
   "cell_type": "code",
   "execution_count": 23,
   "metadata": {},
   "outputs": [
    {
     "data": {
      "image/svg+xml": [
       "<svg xmlns=\"http://www.w3.org/2000/svg\" xmlns:xlink=\"http://www.w3.org/1999/xlink\" width=\"300\" height=\"300\" viewBox=\"3737628.0542473183 -19386317.56412433 10412.029269455932 91869.74705156311\" preserveAspectRatio=\"xMinYMin meet\"><g transform=\"matrix(1,0,0,-1,0,-38680765.381197095)\"><path fill-rule=\"evenodd\" fill=\"#66cc99\" stroke=\"#555555\" stroke-width=\"612.4649803437541\" opacity=\"0.6\" d=\"M 3741030.63747145,-19382914.9809002 L 3741030.63747145,-19297850.4002969 L 3744637.5002926425,-19297850.4002969 L 3744637.5002926425,-19382914.9809002 L 3741030.63747145,-19382914.9809002 z\" /></g></svg>"
      ],
      "text/plain": [
       "<shapely.geometry.polygon.Polygon at 0x1dd114103c8>"
      ]
     },
     "execution_count": 23,
     "metadata": {},
     "output_type": "execute_result"
    }
   ],
   "source": [
    "grids['1_1']"
   ]
  },
  {
   "cell_type": "code",
   "execution_count": 140,
   "metadata": {},
   "outputs": [],
   "source": [
    "grid_cols = ['entry_grid_' + grid for grid in grids.keys()]\n",
    "data = data.reindex(columns=data.columns.tolist() + grid_cols)"
   ]
  },
  {
   "cell_type": "code",
   "execution_count": 141,
   "metadata": {},
   "outputs": [],
   "source": [
    "for (_, grid), col in zip(grids.items(), grid_cols):\n",
    "    data[col] = data.apply(lambda row: grid.contains(Point(row['x_entry'], row['y_entry'])), axis=1)"
   ]
  },
  {
   "cell_type": "code",
   "execution_count": 142,
   "metadata": {},
   "outputs": [],
   "source": [
    "data[grid_cols] = data[grid_cols].astype(int)"
   ]
  },
  {
   "cell_type": "code",
   "execution_count": 143,
   "metadata": {},
   "outputs": [
    {
     "data": {
      "text/html": [
       "<div>\n",
       "<style scoped>\n",
       "    .dataframe tbody tr th:only-of-type {\n",
       "        vertical-align: middle;\n",
       "    }\n",
       "\n",
       "    .dataframe tbody tr th {\n",
       "        vertical-align: top;\n",
       "    }\n",
       "\n",
       "    .dataframe thead th {\n",
       "        text-align: right;\n",
       "    }\n",
       "</style>\n",
       "<table border=\"1\" class=\"dataframe\">\n",
       "  <thead>\n",
       "    <tr style=\"text-align: right;\">\n",
       "      <th></th>\n",
       "      <th>hash</th>\n",
       "      <th>trajectory_id</th>\n",
       "      <th>time_entry</th>\n",
       "      <th>time_exit</th>\n",
       "      <th>vmax</th>\n",
       "      <th>vmin</th>\n",
       "      <th>vmean</th>\n",
       "      <th>x_entry</th>\n",
       "      <th>y_entry</th>\n",
       "      <th>x_exit</th>\n",
       "      <th>...</th>\n",
       "      <th>entry_grid_8_4</th>\n",
       "      <th>entry_grid_9_1</th>\n",
       "      <th>entry_grid_9_2</th>\n",
       "      <th>entry_grid_9_3</th>\n",
       "      <th>entry_grid_9_4</th>\n",
       "      <th>entry_grid_10_1</th>\n",
       "      <th>entry_grid_10_2</th>\n",
       "      <th>entry_grid_10_3</th>\n",
       "      <th>entry_grid_10_4</th>\n",
       "      <th>neighbors</th>\n",
       "    </tr>\n",
       "  </thead>\n",
       "  <tbody>\n",
       "    <tr>\n",
       "      <th>0</th>\n",
       "      <td>0000a8602cf2def930488dee7cdad104_1</td>\n",
       "      <td>traj_0000a8602cf2def930488dee7cdad104_1_0</td>\n",
       "      <td>07:04:31</td>\n",
       "      <td>07:08:32</td>\n",
       "      <td>NaN</td>\n",
       "      <td>NaN</td>\n",
       "      <td>NaN</td>\n",
       "      <td>3.751014e+06</td>\n",
       "      <td>-1.909398e+07</td>\n",
       "      <td>3.750326e+06</td>\n",
       "      <td>...</td>\n",
       "      <td>0</td>\n",
       "      <td>0</td>\n",
       "      <td>0</td>\n",
       "      <td>0</td>\n",
       "      <td>0</td>\n",
       "      <td>0</td>\n",
       "      <td>0</td>\n",
       "      <td>0</td>\n",
       "      <td>0</td>\n",
       "      <td>4034.0</td>\n",
       "    </tr>\n",
       "    <tr>\n",
       "      <th>1</th>\n",
       "      <td>0000a8602cf2def930488dee7cdad104_1</td>\n",
       "      <td>traj_0000a8602cf2def930488dee7cdad104_1_1</td>\n",
       "      <td>07:20:34</td>\n",
       "      <td>07:25:42</td>\n",
       "      <td>NaN</td>\n",
       "      <td>NaN</td>\n",
       "      <td>NaN</td>\n",
       "      <td>3.743937e+06</td>\n",
       "      <td>-1.932247e+07</td>\n",
       "      <td>3.744975e+06</td>\n",
       "      <td>...</td>\n",
       "      <td>0</td>\n",
       "      <td>0</td>\n",
       "      <td>0</td>\n",
       "      <td>0</td>\n",
       "      <td>0</td>\n",
       "      <td>0</td>\n",
       "      <td>0</td>\n",
       "      <td>0</td>\n",
       "      <td>0</td>\n",
       "      <td>11235.0</td>\n",
       "    </tr>\n",
       "    <tr>\n",
       "      <th>2</th>\n",
       "      <td>0000a8602cf2def930488dee7cdad104_1</td>\n",
       "      <td>traj_0000a8602cf2def930488dee7cdad104_1_2</td>\n",
       "      <td>07:53:32</td>\n",
       "      <td>08:03:25</td>\n",
       "      <td>NaN</td>\n",
       "      <td>NaN</td>\n",
       "      <td>NaN</td>\n",
       "      <td>3.744868e+06</td>\n",
       "      <td>-1.929356e+07</td>\n",
       "      <td>3.744816e+06</td>\n",
       "      <td>...</td>\n",
       "      <td>0</td>\n",
       "      <td>0</td>\n",
       "      <td>0</td>\n",
       "      <td>0</td>\n",
       "      <td>0</td>\n",
       "      <td>0</td>\n",
       "      <td>0</td>\n",
       "      <td>0</td>\n",
       "      <td>0</td>\n",
       "      <td>24758.0</td>\n",
       "    </tr>\n",
       "    <tr>\n",
       "      <th>3</th>\n",
       "      <td>0000a8602cf2def930488dee7cdad104_1</td>\n",
       "      <td>traj_0000a8602cf2def930488dee7cdad104_1_3</td>\n",
       "      <td>08:17:50</td>\n",
       "      <td>08:37:23</td>\n",
       "      <td>NaN</td>\n",
       "      <td>NaN</td>\n",
       "      <td>NaN</td>\n",
       "      <td>3.744880e+06</td>\n",
       "      <td>-1.929229e+07</td>\n",
       "      <td>3.744809e+06</td>\n",
       "      <td>...</td>\n",
       "      <td>0</td>\n",
       "      <td>0</td>\n",
       "      <td>0</td>\n",
       "      <td>0</td>\n",
       "      <td>0</td>\n",
       "      <td>0</td>\n",
       "      <td>0</td>\n",
       "      <td>0</td>\n",
       "      <td>0</td>\n",
       "      <td>24758.0</td>\n",
       "    </tr>\n",
       "    <tr>\n",
       "      <th>5</th>\n",
       "      <td>0000a8602cf2def930488dee7cdad104_1</td>\n",
       "      <td>traj_0000a8602cf2def930488dee7cdad104_1_5</td>\n",
       "      <td>15:02:31</td>\n",
       "      <td>15:18:33</td>\n",
       "      <td>NaN</td>\n",
       "      <td>NaN</td>\n",
       "      <td>NaN</td>\n",
       "      <td>3.744945e+06</td>\n",
       "      <td>-1.928183e+07</td>\n",
       "      <td>3.744785e+06</td>\n",
       "      <td>...</td>\n",
       "      <td>0</td>\n",
       "      <td>0</td>\n",
       "      <td>0</td>\n",
       "      <td>0</td>\n",
       "      <td>0</td>\n",
       "      <td>0</td>\n",
       "      <td>0</td>\n",
       "      <td>0</td>\n",
       "      <td>0</td>\n",
       "      <td>24758.0</td>\n",
       "    </tr>\n",
       "  </tbody>\n",
       "</table>\n",
       "<p>5 rows × 84 columns</p>\n",
       "</div>"
      ],
      "text/plain": [
       "                                 hash  \\\n",
       "0  0000a8602cf2def930488dee7cdad104_1   \n",
       "1  0000a8602cf2def930488dee7cdad104_1   \n",
       "2  0000a8602cf2def930488dee7cdad104_1   \n",
       "3  0000a8602cf2def930488dee7cdad104_1   \n",
       "5  0000a8602cf2def930488dee7cdad104_1   \n",
       "\n",
       "                               trajectory_id time_entry time_exit  vmax  vmin  \\\n",
       "0  traj_0000a8602cf2def930488dee7cdad104_1_0   07:04:31  07:08:32   NaN   NaN   \n",
       "1  traj_0000a8602cf2def930488dee7cdad104_1_1   07:20:34  07:25:42   NaN   NaN   \n",
       "2  traj_0000a8602cf2def930488dee7cdad104_1_2   07:53:32  08:03:25   NaN   NaN   \n",
       "3  traj_0000a8602cf2def930488dee7cdad104_1_3   08:17:50  08:37:23   NaN   NaN   \n",
       "5  traj_0000a8602cf2def930488dee7cdad104_1_5   15:02:31  15:18:33   NaN   NaN   \n",
       "\n",
       "   vmean       x_entry       y_entry        x_exit  ...  entry_grid_8_4  \\\n",
       "0    NaN  3.751014e+06 -1.909398e+07  3.750326e+06  ...               0   \n",
       "1    NaN  3.743937e+06 -1.932247e+07  3.744975e+06  ...               0   \n",
       "2    NaN  3.744868e+06 -1.929356e+07  3.744816e+06  ...               0   \n",
       "3    NaN  3.744880e+06 -1.929229e+07  3.744809e+06  ...               0   \n",
       "5    NaN  3.744945e+06 -1.928183e+07  3.744785e+06  ...               0   \n",
       "\n",
       "   entry_grid_9_1  entry_grid_9_2  entry_grid_9_3  entry_grid_9_4  \\\n",
       "0               0               0               0               0   \n",
       "1               0               0               0               0   \n",
       "2               0               0               0               0   \n",
       "3               0               0               0               0   \n",
       "5               0               0               0               0   \n",
       "\n",
       "   entry_grid_10_1  entry_grid_10_2  entry_grid_10_3  entry_grid_10_4  \\\n",
       "0                0                0                0                0   \n",
       "1                0                0                0                0   \n",
       "2                0                0                0                0   \n",
       "3                0                0                0                0   \n",
       "5                0                0                0                0   \n",
       "\n",
       "   neighbors  \n",
       "0     4034.0  \n",
       "1    11235.0  \n",
       "2    24758.0  \n",
       "3    24758.0  \n",
       "5    24758.0  \n",
       "\n",
       "[5 rows x 84 columns]"
      ]
     },
     "execution_count": 143,
     "metadata": {},
     "output_type": "execute_result"
    }
   ],
   "source": [
    "for col in grid_cols:\n",
    "    data.loc[data[col] == 1, 'neighbors'] = data[col].sum()\n",
    "\n",
    "data.head(5)"
   ]
  },
  {
   "cell_type": "code",
   "execution_count": 48,
   "metadata": {},
   "outputs": [
    {
     "data": {
      "application/vnd.jupyter.widget-view+json": {
       "model_id": "0792cc32b4074fe9ac0afdb2ba974e43",
       "version_major": 2,
       "version_minor": 0
      },
      "text/plain": [
       "HBox(children=(IntProgress(value=0, max=491966), HTML(value='')))"
      ]
     },
     "metadata": {},
     "output_type": "display_data"
    }
   ],
   "source": [
    "data['center_permanency'] = data.progress_apply(center_permanency, axis=1)"
   ]
  },
  {
   "cell_type": "code",
   "execution_count": 49,
   "metadata": {},
   "outputs": [],
   "source": [
    "# time passed between blind spots\n",
    "\n",
    "data['time_delta_blind'] = (data.time_entry - data.time_exit.shift(1)) / np.timedelta64(1, 'm')"
   ]
  },
  {
   "cell_type": "code",
   "execution_count": 50,
   "metadata": {},
   "outputs": [
    {
     "data": {
      "text/html": [
       "<div>\n",
       "<style scoped>\n",
       "    .dataframe tbody tr th:only-of-type {\n",
       "        vertical-align: middle;\n",
       "    }\n",
       "\n",
       "    .dataframe tbody tr th {\n",
       "        vertical-align: top;\n",
       "    }\n",
       "\n",
       "    .dataframe thead th {\n",
       "        text-align: right;\n",
       "    }\n",
       "</style>\n",
       "<table border=\"1\" class=\"dataframe\">\n",
       "  <thead>\n",
       "    <tr style=\"text-align: right;\">\n",
       "      <th></th>\n",
       "      <th>hash</th>\n",
       "      <th>trajectory_id</th>\n",
       "      <th>time_entry</th>\n",
       "      <th>time_exit</th>\n",
       "      <th>vmax</th>\n",
       "      <th>vmin</th>\n",
       "      <th>vmean</th>\n",
       "      <th>x_entry</th>\n",
       "      <th>y_entry</th>\n",
       "      <th>x_exit</th>\n",
       "      <th>...</th>\n",
       "      <th>cc_xmax_ymin_angle</th>\n",
       "      <th>cc_xmin_ymax_angle</th>\n",
       "      <th>cc_xmax_ymax_angle</th>\n",
       "      <th>is_inside_city_entry</th>\n",
       "      <th>is_inside_city_exit</th>\n",
       "      <th>center_permanency</th>\n",
       "      <th>time_delta_blind</th>\n",
       "      <th>x_delta_blind</th>\n",
       "      <th>y_delta_blind</th>\n",
       "      <th>distance_blind</th>\n",
       "    </tr>\n",
       "  </thead>\n",
       "  <tbody>\n",
       "    <tr>\n",
       "      <th>0</th>\n",
       "      <td>0000a8602cf2def930488dee7cdad104_1</td>\n",
       "      <td>traj_0000a8602cf2def930488dee7cdad104_1_0</td>\n",
       "      <td>07:04:31</td>\n",
       "      <td>07:08:32</td>\n",
       "      <td>NaN</td>\n",
       "      <td>NaN</td>\n",
       "      <td>NaN</td>\n",
       "      <td>3.751014e+06</td>\n",
       "      <td>-1.909398e+07</td>\n",
       "      <td>3.750326e+06</td>\n",
       "      <td>...</td>\n",
       "      <td>NaN</td>\n",
       "      <td>NaN</td>\n",
       "      <td>NaN</td>\n",
       "      <td>0</td>\n",
       "      <td>0</td>\n",
       "      <td>0.0</td>\n",
       "      <td>NaN</td>\n",
       "      <td>NaN</td>\n",
       "      <td>NaN</td>\n",
       "      <td>NaN</td>\n",
       "    </tr>\n",
       "    <tr>\n",
       "      <th>1</th>\n",
       "      <td>0000a8602cf2def930488dee7cdad104_1</td>\n",
       "      <td>traj_0000a8602cf2def930488dee7cdad104_1_1</td>\n",
       "      <td>07:20:34</td>\n",
       "      <td>07:25:42</td>\n",
       "      <td>NaN</td>\n",
       "      <td>NaN</td>\n",
       "      <td>NaN</td>\n",
       "      <td>3.743937e+06</td>\n",
       "      <td>-1.932247e+07</td>\n",
       "      <td>3.744975e+06</td>\n",
       "      <td>...</td>\n",
       "      <td>10.788397</td>\n",
       "      <td>2.420383</td>\n",
       "      <td>17.796301</td>\n",
       "      <td>0</td>\n",
       "      <td>0</td>\n",
       "      <td>0.0</td>\n",
       "      <td>12.033333</td>\n",
       "      <td>-6388.625577</td>\n",
       "      <td>-186127.626359</td>\n",
       "      <td>186237.235350</td>\n",
       "    </tr>\n",
       "    <tr>\n",
       "      <th>2</th>\n",
       "      <td>0000a8602cf2def930488dee7cdad104_1</td>\n",
       "      <td>traj_0000a8602cf2def930488dee7cdad104_1_2</td>\n",
       "      <td>07:53:32</td>\n",
       "      <td>08:03:25</td>\n",
       "      <td>NaN</td>\n",
       "      <td>NaN</td>\n",
       "      <td>NaN</td>\n",
       "      <td>3.744868e+06</td>\n",
       "      <td>-1.929356e+07</td>\n",
       "      <td>3.744816e+06</td>\n",
       "      <td>...</td>\n",
       "      <td>27.292186</td>\n",
       "      <td>3.297664</td>\n",
       "      <td>13.409474</td>\n",
       "      <td>0</td>\n",
       "      <td>0</td>\n",
       "      <td>0.0</td>\n",
       "      <td>27.833333</td>\n",
       "      <td>-106.866711</td>\n",
       "      <td>26098.775095</td>\n",
       "      <td>26098.993888</td>\n",
       "    </tr>\n",
       "    <tr>\n",
       "      <th>3</th>\n",
       "      <td>0000a8602cf2def930488dee7cdad104_1</td>\n",
       "      <td>traj_0000a8602cf2def930488dee7cdad104_1_3</td>\n",
       "      <td>08:17:50</td>\n",
       "      <td>08:37:23</td>\n",
       "      <td>NaN</td>\n",
       "      <td>NaN</td>\n",
       "      <td>NaN</td>\n",
       "      <td>3.744880e+06</td>\n",
       "      <td>-1.929229e+07</td>\n",
       "      <td>3.744809e+06</td>\n",
       "      <td>...</td>\n",
       "      <td>40.782997</td>\n",
       "      <td>2.531528</td>\n",
       "      <td>10.585844</td>\n",
       "      <td>0</td>\n",
       "      <td>0</td>\n",
       "      <td>0.0</td>\n",
       "      <td>14.416667</td>\n",
       "      <td>64.565305</td>\n",
       "      <td>551.388913</td>\n",
       "      <td>555.156205</td>\n",
       "    </tr>\n",
       "  </tbody>\n",
       "</table>\n",
       "<p>4 rows × 48 columns</p>\n",
       "</div>"
      ],
      "text/plain": [
       "                                 hash  \\\n",
       "0  0000a8602cf2def930488dee7cdad104_1   \n",
       "1  0000a8602cf2def930488dee7cdad104_1   \n",
       "2  0000a8602cf2def930488dee7cdad104_1   \n",
       "3  0000a8602cf2def930488dee7cdad104_1   \n",
       "\n",
       "                               trajectory_id time_entry time_exit  vmax  vmin  \\\n",
       "0  traj_0000a8602cf2def930488dee7cdad104_1_0   07:04:31  07:08:32   NaN   NaN   \n",
       "1  traj_0000a8602cf2def930488dee7cdad104_1_1   07:20:34  07:25:42   NaN   NaN   \n",
       "2  traj_0000a8602cf2def930488dee7cdad104_1_2   07:53:32  08:03:25   NaN   NaN   \n",
       "3  traj_0000a8602cf2def930488dee7cdad104_1_3   08:17:50  08:37:23   NaN   NaN   \n",
       "\n",
       "   vmean       x_entry       y_entry        x_exit       ...        \\\n",
       "0    NaN  3.751014e+06 -1.909398e+07  3.750326e+06       ...         \n",
       "1    NaN  3.743937e+06 -1.932247e+07  3.744975e+06       ...         \n",
       "2    NaN  3.744868e+06 -1.929356e+07  3.744816e+06       ...         \n",
       "3    NaN  3.744880e+06 -1.929229e+07  3.744809e+06       ...         \n",
       "\n",
       "   cc_xmax_ymin_angle  cc_xmin_ymax_angle  cc_xmax_ymax_angle  \\\n",
       "0                 NaN                 NaN                 NaN   \n",
       "1           10.788397            2.420383           17.796301   \n",
       "2           27.292186            3.297664           13.409474   \n",
       "3           40.782997            2.531528           10.585844   \n",
       "\n",
       "   is_inside_city_entry  is_inside_city_exit  center_permanency  \\\n",
       "0                     0                    0                0.0   \n",
       "1                     0                    0                0.0   \n",
       "2                     0                    0                0.0   \n",
       "3                     0                    0                0.0   \n",
       "\n",
       "   time_delta_blind  x_delta_blind  y_delta_blind  distance_blind  \n",
       "0               NaN            NaN            NaN             NaN  \n",
       "1         12.033333   -6388.625577 -186127.626359   186237.235350  \n",
       "2         27.833333    -106.866711   26098.775095    26098.993888  \n",
       "3         14.416667      64.565305     551.388913      555.156205  \n",
       "\n",
       "[4 rows x 48 columns]"
      ]
     },
     "execution_count": 50,
     "metadata": {},
     "output_type": "execute_result"
    }
   ],
   "source": [
    "# time passed between blind spots\n",
    "\n",
    "data['x_delta_blind'] = data.x_entry - data.x_exit.shift(1)\n",
    "data['y_delta_blind'] = data.y_entry - data.y_exit.shift(1)\n",
    "\n",
    "data['distance_blind'] = ((data.x_delta_blind**2) + (data.y_delta_blind)**2)**(1/2)\n",
    "\n",
    "blind_cols = ['distance_blind', 'x_delta_blind', 'y_delta_blind', 'time_delta_blind']\n",
    "data.loc[data.time_delta_blind < 0, blind_cols] = 0\n",
    "\n",
    "data.head(4)"
   ]
  },
  {
   "cell_type": "code",
   "execution_count": 55,
   "metadata": {},
   "outputs": [
    {
     "data": {
      "application/vnd.jupyter.widget-view+json": {
       "model_id": "aa4bee6e07b94104afcee5e485a1aa27",
       "version_major": 2,
       "version_minor": 0
      },
      "text/plain": [
       "HBox(children=(IntProgress(value=0, max=491966), HTML(value='')))"
      ]
     },
     "metadata": {},
     "output_type": "display_data"
    }
   ],
   "source": [
    "data['trajectory_number'] = data.trajectory_id.progress_apply(lambda x: int(re.findall('_\\d+$', x)[0].strip('_')))\n",
    "\n",
    "data.loc[data.trajectory_number==0, 'distance_blind'] = 0\n",
    "data.loc[data.trajectory_number==0, 'time_delta_blind'] = 0"
   ]
  },
  {
   "cell_type": "markdown",
   "metadata": {},
   "source": [
    "# Time: Continuous features"
   ]
  },
  {
   "cell_type": "code",
   "execution_count": 56,
   "metadata": {},
   "outputs": [],
   "source": [
    "data['hrs_cont_entry'] = [t / pd.Timedelta(hours=1) for t in data.time_entry]\n",
    "data['min_cont_entry'] = [t / pd.Timedelta(minutes=1) for t in data.time_entry]\n",
    "data['sec_cont_entry'] = [t / pd.Timedelta(seconds=1) for t in data.time_entry]\n",
    "\n",
    "data['hrs_cont_exit'] = [t / pd.Timedelta(hours=1) for t in data.time_exit]\n",
    "data['min_cont_exit'] = [t / pd.Timedelta(minutes=1) for t in data.time_exit]\n",
    "data['sec_cont_exit'] = [t / pd.Timedelta(seconds=1) for t in data.time_exit]"
   ]
  },
  {
   "cell_type": "markdown",
   "metadata": {},
   "source": [
    "### Aggregating features"
   ]
  },
  {
   "cell_type": "code",
   "execution_count": 57,
   "metadata": {},
   "outputs": [
    {
     "data": {
      "text/html": [
       "<div>\n",
       "<style scoped>\n",
       "    .dataframe tbody tr th:only-of-type {\n",
       "        vertical-align: middle;\n",
       "    }\n",
       "\n",
       "    .dataframe tbody tr th {\n",
       "        vertical-align: top;\n",
       "    }\n",
       "\n",
       "    .dataframe thead th {\n",
       "        text-align: right;\n",
       "    }\n",
       "</style>\n",
       "<table border=\"1\" class=\"dataframe\">\n",
       "  <thead>\n",
       "    <tr style=\"text-align: right;\">\n",
       "      <th></th>\n",
       "      <th>hash</th>\n",
       "      <th>trajectory_id</th>\n",
       "      <th>time_entry</th>\n",
       "      <th>time_exit</th>\n",
       "      <th>vmax</th>\n",
       "      <th>vmin</th>\n",
       "      <th>vmean</th>\n",
       "      <th>x_entry</th>\n",
       "      <th>y_entry</th>\n",
       "      <th>x_exit</th>\n",
       "      <th>...</th>\n",
       "      <th>cc_xmin_ymax_angle_mean</th>\n",
       "      <th>cc_xmin_ymax_angle_max</th>\n",
       "      <th>cc_xmin_ymax_angle_std</th>\n",
       "      <th>cc_xmin_ymax_angle_min</th>\n",
       "      <th>cc_xmin_ymax_angle_sum</th>\n",
       "      <th>cc_xmax_ymax_angle_mean</th>\n",
       "      <th>cc_xmax_ymax_angle_max</th>\n",
       "      <th>cc_xmax_ymax_angle_std</th>\n",
       "      <th>cc_xmax_ymax_angle_min</th>\n",
       "      <th>cc_xmax_ymax_angle_sum</th>\n",
       "    </tr>\n",
       "  </thead>\n",
       "  <tbody>\n",
       "    <tr>\n",
       "      <th>0</th>\n",
       "      <td>0000a8602cf2def930488dee7cdad104_1</td>\n",
       "      <td>traj_0000a8602cf2def930488dee7cdad104_1_0</td>\n",
       "      <td>07:04:31</td>\n",
       "      <td>07:08:32</td>\n",
       "      <td>NaN</td>\n",
       "      <td>NaN</td>\n",
       "      <td>NaN</td>\n",
       "      <td>3.751014e+06</td>\n",
       "      <td>-1.909398e+07</td>\n",
       "      <td>3.750326e+06</td>\n",
       "      <td>...</td>\n",
       "      <td>NaN</td>\n",
       "      <td>NaN</td>\n",
       "      <td>NaN</td>\n",
       "      <td>NaN</td>\n",
       "      <td>NaN</td>\n",
       "      <td>NaN</td>\n",
       "      <td>NaN</td>\n",
       "      <td>NaN</td>\n",
       "      <td>NaN</td>\n",
       "      <td>NaN</td>\n",
       "    </tr>\n",
       "    <tr>\n",
       "      <th>1</th>\n",
       "      <td>0000a8602cf2def930488dee7cdad104_1</td>\n",
       "      <td>traj_0000a8602cf2def930488dee7cdad104_1_1</td>\n",
       "      <td>07:20:34</td>\n",
       "      <td>07:25:42</td>\n",
       "      <td>NaN</td>\n",
       "      <td>NaN</td>\n",
       "      <td>NaN</td>\n",
       "      <td>3.743937e+06</td>\n",
       "      <td>-1.932247e+07</td>\n",
       "      <td>3.744975e+06</td>\n",
       "      <td>...</td>\n",
       "      <td>NaN</td>\n",
       "      <td>NaN</td>\n",
       "      <td>NaN</td>\n",
       "      <td>NaN</td>\n",
       "      <td>NaN</td>\n",
       "      <td>NaN</td>\n",
       "      <td>NaN</td>\n",
       "      <td>NaN</td>\n",
       "      <td>NaN</td>\n",
       "      <td>NaN</td>\n",
       "    </tr>\n",
       "    <tr>\n",
       "      <th>2</th>\n",
       "      <td>0000a8602cf2def930488dee7cdad104_1</td>\n",
       "      <td>traj_0000a8602cf2def930488dee7cdad104_1_2</td>\n",
       "      <td>07:53:32</td>\n",
       "      <td>08:03:25</td>\n",
       "      <td>NaN</td>\n",
       "      <td>NaN</td>\n",
       "      <td>NaN</td>\n",
       "      <td>3.744868e+06</td>\n",
       "      <td>-1.929356e+07</td>\n",
       "      <td>3.744816e+06</td>\n",
       "      <td>...</td>\n",
       "      <td>2.420383</td>\n",
       "      <td>2.420383</td>\n",
       "      <td>NaN</td>\n",
       "      <td>2.420383</td>\n",
       "      <td>2.420383</td>\n",
       "      <td>17.796301</td>\n",
       "      <td>17.796301</td>\n",
       "      <td>NaN</td>\n",
       "      <td>17.796301</td>\n",
       "      <td>17.796301</td>\n",
       "    </tr>\n",
       "    <tr>\n",
       "      <th>3</th>\n",
       "      <td>0000a8602cf2def930488dee7cdad104_1</td>\n",
       "      <td>traj_0000a8602cf2def930488dee7cdad104_1_3</td>\n",
       "      <td>08:17:50</td>\n",
       "      <td>08:37:23</td>\n",
       "      <td>NaN</td>\n",
       "      <td>NaN</td>\n",
       "      <td>NaN</td>\n",
       "      <td>3.744880e+06</td>\n",
       "      <td>-1.929229e+07</td>\n",
       "      <td>3.744809e+06</td>\n",
       "      <td>...</td>\n",
       "      <td>2.859023</td>\n",
       "      <td>3.297664</td>\n",
       "      <td>0.620331</td>\n",
       "      <td>2.420383</td>\n",
       "      <td>5.718046</td>\n",
       "      <td>15.602887</td>\n",
       "      <td>17.796301</td>\n",
       "      <td>3.101955</td>\n",
       "      <td>13.409474</td>\n",
       "      <td>31.205774</td>\n",
       "    </tr>\n",
       "  </tbody>\n",
       "</table>\n",
       "<p>4 rows × 200 columns</p>\n",
       "</div>"
      ],
      "text/plain": [
       "                                 hash  \\\n",
       "0  0000a8602cf2def930488dee7cdad104_1   \n",
       "1  0000a8602cf2def930488dee7cdad104_1   \n",
       "2  0000a8602cf2def930488dee7cdad104_1   \n",
       "3  0000a8602cf2def930488dee7cdad104_1   \n",
       "\n",
       "                               trajectory_id time_entry time_exit  vmax  vmin  \\\n",
       "0  traj_0000a8602cf2def930488dee7cdad104_1_0   07:04:31  07:08:32   NaN   NaN   \n",
       "1  traj_0000a8602cf2def930488dee7cdad104_1_1   07:20:34  07:25:42   NaN   NaN   \n",
       "2  traj_0000a8602cf2def930488dee7cdad104_1_2   07:53:32  08:03:25   NaN   NaN   \n",
       "3  traj_0000a8602cf2def930488dee7cdad104_1_3   08:17:50  08:37:23   NaN   NaN   \n",
       "\n",
       "   vmean       x_entry       y_entry        x_exit           ...            \\\n",
       "0    NaN  3.751014e+06 -1.909398e+07  3.750326e+06           ...             \n",
       "1    NaN  3.743937e+06 -1.932247e+07  3.744975e+06           ...             \n",
       "2    NaN  3.744868e+06 -1.929356e+07  3.744816e+06           ...             \n",
       "3    NaN  3.744880e+06 -1.929229e+07  3.744809e+06           ...             \n",
       "\n",
       "   cc_xmin_ymax_angle_mean  cc_xmin_ymax_angle_max  cc_xmin_ymax_angle_std  \\\n",
       "0                      NaN                     NaN                     NaN   \n",
       "1                      NaN                     NaN                     NaN   \n",
       "2                 2.420383                2.420383                     NaN   \n",
       "3                 2.859023                3.297664                0.620331   \n",
       "\n",
       "   cc_xmin_ymax_angle_min  cc_xmin_ymax_angle_sum  cc_xmax_ymax_angle_mean  \\\n",
       "0                     NaN                     NaN                      NaN   \n",
       "1                     NaN                     NaN                      NaN   \n",
       "2                2.420383                2.420383                17.796301   \n",
       "3                2.420383                5.718046                15.602887   \n",
       "\n",
       "   cc_xmax_ymax_angle_max  cc_xmax_ymax_angle_std  cc_xmax_ymax_angle_min  \\\n",
       "0                     NaN                     NaN                     NaN   \n",
       "1                     NaN                     NaN                     NaN   \n",
       "2               17.796301                     NaN               17.796301   \n",
       "3               17.796301                3.101955               13.409474   \n",
       "\n",
       "   cc_xmax_ymax_angle_sum  \n",
       "0                     NaN  \n",
       "1                     NaN  \n",
       "2               17.796301  \n",
       "3               31.205774  \n",
       "\n",
       "[4 rows x 200 columns]"
      ]
     },
     "execution_count": 57,
     "metadata": {},
     "output_type": "execute_result"
    }
   ],
   "source": [
    "window_reference = 5\n",
    "\n",
    "cols_to_agg = ['vmax', 'vmin', 'vmean', 'x_entry', 'y_entry', 'minute_entry', 'hrs_cont_entry', 'min_cont_entry',\n",
    "               'sec_cont_entry', 'hour_entry', 'first_quadrant_entry', 'third_quadrant_entry',\n",
    "               'fourth_quadrant_entry', 'second_quadrant_entry', 'trajectory_number', 'distance_cc_entry',\n",
    "               'deltat_min', 'x_diff_entry', 'y_diff_entry', 'direction_entry', 'distance_left_border',\n",
    "               'distance_right_border', 'distance_lower_border', 'distance_upper_border'] + angle_cols\n",
    "\n",
    "agg_features = (data.groupby(['hash', 'time_entry', 'trajectory_id'])[cols_to_agg]\n",
    "                .mean()\n",
    "                .shift(1)\n",
    "                .rolling(window_reference, min_periods=1)\n",
    "                .agg(['mean', 'max', 'std', 'min', 'sum']))\n",
    "\n",
    "agg_features.columns = [\"_\".join(x) for x in agg_features.columns.ravel()]\n",
    "data = data.merge(agg_features.reset_index(), \n",
    "                    on=['hash', 'trajectory_id', 'time_entry'])\n",
    "data.head(4)"
   ]
  },
  {
   "cell_type": "markdown",
   "metadata": {},
   "source": [
    "# Sequence Data"
   ]
  },
  {
   "cell_type": "code",
   "execution_count": 95,
   "metadata": {},
   "outputs": [],
   "source": [
    "window_reference = 5\n",
    "\n",
    "grouped = data.groupby(['hash']).tail(window_reference)\n",
    "grouped['sequence'] = np.ones(grouped.shape[0])\n",
    "df = grouped.groupby(by=['hash','time_entry', 'trajectory_id']).sum().groupby(level=[0]).cumsum().reset_index()[['trajectory_id', 'sequence']]\n",
    "df.columns = ['trajectory_id', 'trajectory_sequence']\n",
    "grouped = grouped.merge(df, on='trajectory_id', how='left')"
   ]
  },
  {
   "cell_type": "code",
   "execution_count": 96,
   "metadata": {
    "scrolled": true
   },
   "outputs": [
    {
     "data": {
      "text/html": [
       "<div>\n",
       "<style scoped>\n",
       "    .dataframe tbody tr th:only-of-type {\n",
       "        vertical-align: middle;\n",
       "    }\n",
       "\n",
       "    .dataframe tbody tr th {\n",
       "        vertical-align: top;\n",
       "    }\n",
       "\n",
       "    .dataframe thead th {\n",
       "        text-align: right;\n",
       "    }\n",
       "</style>\n",
       "<table border=\"1\" class=\"dataframe\">\n",
       "  <thead>\n",
       "    <tr style=\"text-align: right;\">\n",
       "      <th></th>\n",
       "      <th>hash</th>\n",
       "      <th>trajectory_id</th>\n",
       "      <th>time_entry</th>\n",
       "      <th>time_exit</th>\n",
       "      <th>vmax</th>\n",
       "      <th>vmin</th>\n",
       "      <th>vmean</th>\n",
       "      <th>x_entry</th>\n",
       "      <th>y_entry</th>\n",
       "      <th>x_exit</th>\n",
       "      <th>...</th>\n",
       "      <th>cc_xmin_ymax_angle_min</th>\n",
       "      <th>cc_xmin_ymax_angle_sum</th>\n",
       "      <th>cc_xmax_ymax_angle_mean</th>\n",
       "      <th>cc_xmax_ymax_angle_max</th>\n",
       "      <th>cc_xmax_ymax_angle_std</th>\n",
       "      <th>cc_xmax_ymax_angle_min</th>\n",
       "      <th>cc_xmax_ymax_angle_sum</th>\n",
       "      <th>sequence</th>\n",
       "      <th>trajectory_sequence</th>\n",
       "      <th>count_trajectories</th>\n",
       "    </tr>\n",
       "  </thead>\n",
       "  <tbody>\n",
       "    <tr>\n",
       "      <th>0</th>\n",
       "      <td>0000a8602cf2def930488dee7cdad104_1</td>\n",
       "      <td>traj_0000a8602cf2def930488dee7cdad104_1_0</td>\n",
       "      <td>07:04:31</td>\n",
       "      <td>07:08:32</td>\n",
       "      <td>NaN</td>\n",
       "      <td>NaN</td>\n",
       "      <td>NaN</td>\n",
       "      <td>3.751014e+06</td>\n",
       "      <td>-1.909398e+07</td>\n",
       "      <td>3.750326e+06</td>\n",
       "      <td>...</td>\n",
       "      <td>NaN</td>\n",
       "      <td>NaN</td>\n",
       "      <td>NaN</td>\n",
       "      <td>NaN</td>\n",
       "      <td>NaN</td>\n",
       "      <td>NaN</td>\n",
       "      <td>NaN</td>\n",
       "      <td>1.0</td>\n",
       "      <td>1.0</td>\n",
       "      <td>5</td>\n",
       "    </tr>\n",
       "    <tr>\n",
       "      <th>1</th>\n",
       "      <td>0000a8602cf2def930488dee7cdad104_1</td>\n",
       "      <td>traj_0000a8602cf2def930488dee7cdad104_1_1</td>\n",
       "      <td>07:20:34</td>\n",
       "      <td>07:25:42</td>\n",
       "      <td>NaN</td>\n",
       "      <td>NaN</td>\n",
       "      <td>NaN</td>\n",
       "      <td>3.743937e+06</td>\n",
       "      <td>-1.932247e+07</td>\n",
       "      <td>3.744975e+06</td>\n",
       "      <td>...</td>\n",
       "      <td>NaN</td>\n",
       "      <td>NaN</td>\n",
       "      <td>NaN</td>\n",
       "      <td>NaN</td>\n",
       "      <td>NaN</td>\n",
       "      <td>NaN</td>\n",
       "      <td>NaN</td>\n",
       "      <td>1.0</td>\n",
       "      <td>2.0</td>\n",
       "      <td>5</td>\n",
       "    </tr>\n",
       "    <tr>\n",
       "      <th>2</th>\n",
       "      <td>0000a8602cf2def930488dee7cdad104_1</td>\n",
       "      <td>traj_0000a8602cf2def930488dee7cdad104_1_2</td>\n",
       "      <td>07:53:32</td>\n",
       "      <td>08:03:25</td>\n",
       "      <td>NaN</td>\n",
       "      <td>NaN</td>\n",
       "      <td>NaN</td>\n",
       "      <td>3.744868e+06</td>\n",
       "      <td>-1.929356e+07</td>\n",
       "      <td>3.744816e+06</td>\n",
       "      <td>...</td>\n",
       "      <td>2.420383</td>\n",
       "      <td>2.420383</td>\n",
       "      <td>17.796301</td>\n",
       "      <td>17.796301</td>\n",
       "      <td>NaN</td>\n",
       "      <td>17.796301</td>\n",
       "      <td>17.796301</td>\n",
       "      <td>1.0</td>\n",
       "      <td>3.0</td>\n",
       "      <td>5</td>\n",
       "    </tr>\n",
       "    <tr>\n",
       "      <th>3</th>\n",
       "      <td>0000a8602cf2def930488dee7cdad104_1</td>\n",
       "      <td>traj_0000a8602cf2def930488dee7cdad104_1_3</td>\n",
       "      <td>08:17:50</td>\n",
       "      <td>08:37:23</td>\n",
       "      <td>NaN</td>\n",
       "      <td>NaN</td>\n",
       "      <td>NaN</td>\n",
       "      <td>3.744880e+06</td>\n",
       "      <td>-1.929229e+07</td>\n",
       "      <td>3.744809e+06</td>\n",
       "      <td>...</td>\n",
       "      <td>2.420383</td>\n",
       "      <td>5.718046</td>\n",
       "      <td>15.602887</td>\n",
       "      <td>17.796301</td>\n",
       "      <td>3.101955</td>\n",
       "      <td>13.409474</td>\n",
       "      <td>31.205774</td>\n",
       "      <td>1.0</td>\n",
       "      <td>4.0</td>\n",
       "      <td>5</td>\n",
       "    </tr>\n",
       "  </tbody>\n",
       "</table>\n",
       "<p>4 rows × 203 columns</p>\n",
       "</div>"
      ],
      "text/plain": [
       "                                 hash  \\\n",
       "0  0000a8602cf2def930488dee7cdad104_1   \n",
       "1  0000a8602cf2def930488dee7cdad104_1   \n",
       "2  0000a8602cf2def930488dee7cdad104_1   \n",
       "3  0000a8602cf2def930488dee7cdad104_1   \n",
       "\n",
       "                               trajectory_id time_entry time_exit  vmax  vmin  \\\n",
       "0  traj_0000a8602cf2def930488dee7cdad104_1_0   07:04:31  07:08:32   NaN   NaN   \n",
       "1  traj_0000a8602cf2def930488dee7cdad104_1_1   07:20:34  07:25:42   NaN   NaN   \n",
       "2  traj_0000a8602cf2def930488dee7cdad104_1_2   07:53:32  08:03:25   NaN   NaN   \n",
       "3  traj_0000a8602cf2def930488dee7cdad104_1_3   08:17:50  08:37:23   NaN   NaN   \n",
       "\n",
       "   vmean       x_entry       y_entry        x_exit         ...          \\\n",
       "0    NaN  3.751014e+06 -1.909398e+07  3.750326e+06         ...           \n",
       "1    NaN  3.743937e+06 -1.932247e+07  3.744975e+06         ...           \n",
       "2    NaN  3.744868e+06 -1.929356e+07  3.744816e+06         ...           \n",
       "3    NaN  3.744880e+06 -1.929229e+07  3.744809e+06         ...           \n",
       "\n",
       "   cc_xmin_ymax_angle_min  cc_xmin_ymax_angle_sum  cc_xmax_ymax_angle_mean  \\\n",
       "0                     NaN                     NaN                      NaN   \n",
       "1                     NaN                     NaN                      NaN   \n",
       "2                2.420383                2.420383                17.796301   \n",
       "3                2.420383                5.718046                15.602887   \n",
       "\n",
       "   cc_xmax_ymax_angle_max  cc_xmax_ymax_angle_std  cc_xmax_ymax_angle_min  \\\n",
       "0                     NaN                     NaN                     NaN   \n",
       "1                     NaN                     NaN                     NaN   \n",
       "2               17.796301                     NaN               17.796301   \n",
       "3               17.796301                3.101955               13.409474   \n",
       "\n",
       "   cc_xmax_ymax_angle_sum  sequence  trajectory_sequence  count_trajectories  \n",
       "0                     NaN       1.0                  1.0                   5  \n",
       "1                     NaN       1.0                  2.0                   5  \n",
       "2               17.796301       1.0                  3.0                   5  \n",
       "3               31.205774       1.0                  4.0                   5  \n",
       "\n",
       "[4 rows x 203 columns]"
      ]
     },
     "execution_count": 96,
     "metadata": {},
     "output_type": "execute_result"
    }
   ],
   "source": [
    "hash_count_trajectories = grouped.groupby(['hash']).trajectory_id.count().reset_index()\n",
    "hash_count_trajectories.columns = ['hash', 'count_trajectories']\n",
    "\n",
    "grouped = grouped.merge(hash_count_trajectories, on='hash', how='left')\n",
    "grouped.head(4)"
   ]
  },
  {
   "cell_type": "code",
   "execution_count": 97,
   "metadata": {},
   "outputs": [
    {
     "data": {
      "text/html": [
       "<div>\n",
       "<style scoped>\n",
       "    .dataframe tbody tr th:only-of-type {\n",
       "        vertical-align: middle;\n",
       "    }\n",
       "\n",
       "    .dataframe tbody tr th {\n",
       "        vertical-align: top;\n",
       "    }\n",
       "\n",
       "    .dataframe thead th {\n",
       "        text-align: right;\n",
       "    }\n",
       "</style>\n",
       "<table border=\"1\" class=\"dataframe\">\n",
       "  <thead>\n",
       "    <tr style=\"text-align: right;\">\n",
       "      <th></th>\n",
       "      <th>hash</th>\n",
       "      <th>trajectory_id</th>\n",
       "      <th>time_entry</th>\n",
       "      <th>time_exit</th>\n",
       "      <th>vmax</th>\n",
       "      <th>vmin</th>\n",
       "      <th>vmean</th>\n",
       "      <th>x_entry</th>\n",
       "      <th>y_entry</th>\n",
       "      <th>x_exit</th>\n",
       "      <th>...</th>\n",
       "      <th>cc_xmin_ymax_angle_min</th>\n",
       "      <th>cc_xmin_ymax_angle_sum</th>\n",
       "      <th>cc_xmax_ymax_angle_mean</th>\n",
       "      <th>cc_xmax_ymax_angle_max</th>\n",
       "      <th>cc_xmax_ymax_angle_std</th>\n",
       "      <th>cc_xmax_ymax_angle_min</th>\n",
       "      <th>cc_xmax_ymax_angle_sum</th>\n",
       "      <th>sequence</th>\n",
       "      <th>trajectory_sequence</th>\n",
       "      <th>count_trajectories</th>\n",
       "    </tr>\n",
       "  </thead>\n",
       "  <tbody>\n",
       "    <tr>\n",
       "      <th>0</th>\n",
       "      <td>0000a8602cf2def930488dee7cdad104_1</td>\n",
       "      <td>traj_0000a8602cf2def930488dee7cdad104_1_0</td>\n",
       "      <td>07:04:31</td>\n",
       "      <td>07:08:32</td>\n",
       "      <td>NaN</td>\n",
       "      <td>NaN</td>\n",
       "      <td>NaN</td>\n",
       "      <td>3.751014e+06</td>\n",
       "      <td>-1.909398e+07</td>\n",
       "      <td>3.750326e+06</td>\n",
       "      <td>...</td>\n",
       "      <td>NaN</td>\n",
       "      <td>NaN</td>\n",
       "      <td>NaN</td>\n",
       "      <td>NaN</td>\n",
       "      <td>NaN</td>\n",
       "      <td>NaN</td>\n",
       "      <td>NaN</td>\n",
       "      <td>1.0</td>\n",
       "      <td>1.0</td>\n",
       "      <td>5</td>\n",
       "    </tr>\n",
       "    <tr>\n",
       "      <th>1</th>\n",
       "      <td>0000a8602cf2def930488dee7cdad104_1</td>\n",
       "      <td>traj_0000a8602cf2def930488dee7cdad104_1_1</td>\n",
       "      <td>07:20:34</td>\n",
       "      <td>07:25:42</td>\n",
       "      <td>NaN</td>\n",
       "      <td>NaN</td>\n",
       "      <td>NaN</td>\n",
       "      <td>3.743937e+06</td>\n",
       "      <td>-1.932247e+07</td>\n",
       "      <td>3.744975e+06</td>\n",
       "      <td>...</td>\n",
       "      <td>NaN</td>\n",
       "      <td>NaN</td>\n",
       "      <td>NaN</td>\n",
       "      <td>NaN</td>\n",
       "      <td>NaN</td>\n",
       "      <td>NaN</td>\n",
       "      <td>NaN</td>\n",
       "      <td>1.0</td>\n",
       "      <td>2.0</td>\n",
       "      <td>5</td>\n",
       "    </tr>\n",
       "    <tr>\n",
       "      <th>2</th>\n",
       "      <td>0000a8602cf2def930488dee7cdad104_1</td>\n",
       "      <td>traj_0000a8602cf2def930488dee7cdad104_1_2</td>\n",
       "      <td>07:53:32</td>\n",
       "      <td>08:03:25</td>\n",
       "      <td>NaN</td>\n",
       "      <td>NaN</td>\n",
       "      <td>NaN</td>\n",
       "      <td>3.744868e+06</td>\n",
       "      <td>-1.929356e+07</td>\n",
       "      <td>3.744816e+06</td>\n",
       "      <td>...</td>\n",
       "      <td>2.420383</td>\n",
       "      <td>2.420383</td>\n",
       "      <td>17.796301</td>\n",
       "      <td>17.796301</td>\n",
       "      <td>NaN</td>\n",
       "      <td>17.796301</td>\n",
       "      <td>17.796301</td>\n",
       "      <td>1.0</td>\n",
       "      <td>3.0</td>\n",
       "      <td>5</td>\n",
       "    </tr>\n",
       "    <tr>\n",
       "      <th>3</th>\n",
       "      <td>0000a8602cf2def930488dee7cdad104_1</td>\n",
       "      <td>traj_0000a8602cf2def930488dee7cdad104_1_3</td>\n",
       "      <td>08:17:50</td>\n",
       "      <td>08:37:23</td>\n",
       "      <td>NaN</td>\n",
       "      <td>NaN</td>\n",
       "      <td>NaN</td>\n",
       "      <td>3.744880e+06</td>\n",
       "      <td>-1.929229e+07</td>\n",
       "      <td>3.744809e+06</td>\n",
       "      <td>...</td>\n",
       "      <td>2.420383</td>\n",
       "      <td>5.718046</td>\n",
       "      <td>15.602887</td>\n",
       "      <td>17.796301</td>\n",
       "      <td>3.101955</td>\n",
       "      <td>13.409474</td>\n",
       "      <td>31.205774</td>\n",
       "      <td>1.0</td>\n",
       "      <td>4.0</td>\n",
       "      <td>5</td>\n",
       "    </tr>\n",
       "  </tbody>\n",
       "</table>\n",
       "<p>4 rows × 203 columns</p>\n",
       "</div>"
      ],
      "text/plain": [
       "                                 hash  \\\n",
       "0  0000a8602cf2def930488dee7cdad104_1   \n",
       "1  0000a8602cf2def930488dee7cdad104_1   \n",
       "2  0000a8602cf2def930488dee7cdad104_1   \n",
       "3  0000a8602cf2def930488dee7cdad104_1   \n",
       "\n",
       "                               trajectory_id time_entry time_exit  vmax  vmin  \\\n",
       "0  traj_0000a8602cf2def930488dee7cdad104_1_0   07:04:31  07:08:32   NaN   NaN   \n",
       "1  traj_0000a8602cf2def930488dee7cdad104_1_1   07:20:34  07:25:42   NaN   NaN   \n",
       "2  traj_0000a8602cf2def930488dee7cdad104_1_2   07:53:32  08:03:25   NaN   NaN   \n",
       "3  traj_0000a8602cf2def930488dee7cdad104_1_3   08:17:50  08:37:23   NaN   NaN   \n",
       "\n",
       "   vmean       x_entry       y_entry        x_exit         ...          \\\n",
       "0    NaN  3.751014e+06 -1.909398e+07  3.750326e+06         ...           \n",
       "1    NaN  3.743937e+06 -1.932247e+07  3.744975e+06         ...           \n",
       "2    NaN  3.744868e+06 -1.929356e+07  3.744816e+06         ...           \n",
       "3    NaN  3.744880e+06 -1.929229e+07  3.744809e+06         ...           \n",
       "\n",
       "   cc_xmin_ymax_angle_min  cc_xmin_ymax_angle_sum  cc_xmax_ymax_angle_mean  \\\n",
       "0                     NaN                     NaN                      NaN   \n",
       "1                     NaN                     NaN                      NaN   \n",
       "2                2.420383                2.420383                17.796301   \n",
       "3                2.420383                5.718046                15.602887   \n",
       "\n",
       "   cc_xmax_ymax_angle_max  cc_xmax_ymax_angle_std  cc_xmax_ymax_angle_min  \\\n",
       "0                     NaN                     NaN                     NaN   \n",
       "1                     NaN                     NaN                     NaN   \n",
       "2               17.796301                     NaN               17.796301   \n",
       "3               17.796301                3.101955               13.409474   \n",
       "\n",
       "   cc_xmax_ymax_angle_sum  sequence  trajectory_sequence  count_trajectories  \n",
       "0                     NaN       1.0                  1.0                   5  \n",
       "1                     NaN       1.0                  2.0                   5  \n",
       "2               17.796301       1.0                  3.0                   5  \n",
       "3               31.205774       1.0                  4.0                   5  \n",
       "\n",
       "[4 rows x 203 columns]"
      ]
     },
     "execution_count": 97,
     "metadata": {},
     "output_type": "execute_result"
    }
   ],
   "source": [
    "ref = window_reference\n",
    "for i in range(1, window_reference):\n",
    "    grouped.loc[grouped.count_trajectories==i, 'trajectory_sequence'] += ref-1\n",
    "    ref -= 1\n",
    "    \n",
    "grouped.head(4)"
   ]
  },
  {
   "cell_type": "code",
   "execution_count": 98,
   "metadata": {},
   "outputs": [],
   "source": [
    "grouped = grouped.drop('sequence', axis=1)"
   ]
  },
  {
   "cell_type": "code",
   "execution_count": 99,
   "metadata": {},
   "outputs": [
    {
     "data": {
      "text/plain": [
       "(144216, 985)"
      ]
     },
     "execution_count": 99,
     "metadata": {},
     "output_type": "execute_result"
    }
   ],
   "source": [
    "data_sequence = grouped.groupby(['hash', 'trajectory_sequence']).mean().unstack()\n",
    "data_sequence.shape"
   ]
  },
  {
   "cell_type": "code",
   "execution_count": 100,
   "metadata": {},
   "outputs": [
    {
     "data": {
      "text/html": [
       "<div>\n",
       "<style scoped>\n",
       "    .dataframe tbody tr th:only-of-type {\n",
       "        vertical-align: middle;\n",
       "    }\n",
       "\n",
       "    .dataframe tbody tr th {\n",
       "        vertical-align: top;\n",
       "    }\n",
       "\n",
       "    .dataframe thead th {\n",
       "        text-align: right;\n",
       "    }\n",
       "</style>\n",
       "<table border=\"1\" class=\"dataframe\">\n",
       "  <thead>\n",
       "    <tr style=\"text-align: right;\">\n",
       "      <th></th>\n",
       "      <th>vmax_1</th>\n",
       "      <th>vmax_2</th>\n",
       "      <th>vmax_3</th>\n",
       "      <th>vmax_4</th>\n",
       "      <th>vmax_5</th>\n",
       "      <th>vmin_1</th>\n",
       "      <th>vmin_2</th>\n",
       "      <th>vmin_3</th>\n",
       "      <th>vmin_4</th>\n",
       "      <th>vmin_5</th>\n",
       "      <th>...</th>\n",
       "      <th>cc_xmax_ymax_angle_sum_1</th>\n",
       "      <th>cc_xmax_ymax_angle_sum_2</th>\n",
       "      <th>cc_xmax_ymax_angle_sum_3</th>\n",
       "      <th>cc_xmax_ymax_angle_sum_4</th>\n",
       "      <th>cc_xmax_ymax_angle_sum_5</th>\n",
       "      <th>count_trajectories_1</th>\n",
       "      <th>count_trajectories_2</th>\n",
       "      <th>count_trajectories_3</th>\n",
       "      <th>count_trajectories_4</th>\n",
       "      <th>count_trajectories_5</th>\n",
       "    </tr>\n",
       "    <tr>\n",
       "      <th>hash</th>\n",
       "      <th></th>\n",
       "      <th></th>\n",
       "      <th></th>\n",
       "      <th></th>\n",
       "      <th></th>\n",
       "      <th></th>\n",
       "      <th></th>\n",
       "      <th></th>\n",
       "      <th></th>\n",
       "      <th></th>\n",
       "      <th></th>\n",
       "      <th></th>\n",
       "      <th></th>\n",
       "      <th></th>\n",
       "      <th></th>\n",
       "      <th></th>\n",
       "      <th></th>\n",
       "      <th></th>\n",
       "      <th></th>\n",
       "      <th></th>\n",
       "      <th></th>\n",
       "    </tr>\n",
       "  </thead>\n",
       "  <tbody>\n",
       "    <tr>\n",
       "      <th>0000a8602cf2def930488dee7cdad104_1</th>\n",
       "      <td>NaN</td>\n",
       "      <td>NaN</td>\n",
       "      <td>NaN</td>\n",
       "      <td>NaN</td>\n",
       "      <td>NaN</td>\n",
       "      <td>NaN</td>\n",
       "      <td>NaN</td>\n",
       "      <td>NaN</td>\n",
       "      <td>NaN</td>\n",
       "      <td>NaN</td>\n",
       "      <td>...</td>\n",
       "      <td>NaN</td>\n",
       "      <td>NaN</td>\n",
       "      <td>17.796301</td>\n",
       "      <td>31.205774</td>\n",
       "      <td>41.791618</td>\n",
       "      <td>5.0</td>\n",
       "      <td>5.0</td>\n",
       "      <td>5.0</td>\n",
       "      <td>5.0</td>\n",
       "      <td>5.0</td>\n",
       "    </tr>\n",
       "    <tr>\n",
       "      <th>0000cf177130469eeac79f67b6bcf3df_9</th>\n",
       "      <td>NaN</td>\n",
       "      <td>NaN</td>\n",
       "      <td>NaN</td>\n",
       "      <td>NaN</td>\n",
       "      <td>1.149404</td>\n",
       "      <td>NaN</td>\n",
       "      <td>NaN</td>\n",
       "      <td>NaN</td>\n",
       "      <td>NaN</td>\n",
       "      <td>1.149404</td>\n",
       "      <td>...</td>\n",
       "      <td>NaN</td>\n",
       "      <td>NaN</td>\n",
       "      <td>NaN</td>\n",
       "      <td>NaN</td>\n",
       "      <td>58.628646</td>\n",
       "      <td>NaN</td>\n",
       "      <td>NaN</td>\n",
       "      <td>NaN</td>\n",
       "      <td>NaN</td>\n",
       "      <td>1.0</td>\n",
       "    </tr>\n",
       "    <tr>\n",
       "      <th>0001f97b99a80f18f62e2d44e54ef33d_3</th>\n",
       "      <td>NaN</td>\n",
       "      <td>NaN</td>\n",
       "      <td>NaN</td>\n",
       "      <td>32.196255</td>\n",
       "      <td>30.167742</td>\n",
       "      <td>NaN</td>\n",
       "      <td>NaN</td>\n",
       "      <td>NaN</td>\n",
       "      <td>32.196255</td>\n",
       "      <td>30.167742</td>\n",
       "      <td>...</td>\n",
       "      <td>NaN</td>\n",
       "      <td>NaN</td>\n",
       "      <td>NaN</td>\n",
       "      <td>58.628646</td>\n",
       "      <td>40.832345</td>\n",
       "      <td>NaN</td>\n",
       "      <td>NaN</td>\n",
       "      <td>NaN</td>\n",
       "      <td>2.0</td>\n",
       "      <td>2.0</td>\n",
       "    </tr>\n",
       "  </tbody>\n",
       "</table>\n",
       "<p>3 rows × 985 columns</p>\n",
       "</div>"
      ],
      "text/plain": [
       "                                    vmax_1  vmax_2  vmax_3     vmax_4  \\\n",
       "hash                                                                    \n",
       "0000a8602cf2def930488dee7cdad104_1     NaN     NaN     NaN        NaN   \n",
       "0000cf177130469eeac79f67b6bcf3df_9     NaN     NaN     NaN        NaN   \n",
       "0001f97b99a80f18f62e2d44e54ef33d_3     NaN     NaN     NaN  32.196255   \n",
       "\n",
       "                                       vmax_5  vmin_1  vmin_2  vmin_3  \\\n",
       "hash                                                                    \n",
       "0000a8602cf2def930488dee7cdad104_1        NaN     NaN     NaN     NaN   \n",
       "0000cf177130469eeac79f67b6bcf3df_9   1.149404     NaN     NaN     NaN   \n",
       "0001f97b99a80f18f62e2d44e54ef33d_3  30.167742     NaN     NaN     NaN   \n",
       "\n",
       "                                       vmin_4     vmin_5  \\\n",
       "hash                                                       \n",
       "0000a8602cf2def930488dee7cdad104_1        NaN        NaN   \n",
       "0000cf177130469eeac79f67b6bcf3df_9        NaN   1.149404   \n",
       "0001f97b99a80f18f62e2d44e54ef33d_3  32.196255  30.167742   \n",
       "\n",
       "                                            ...           \\\n",
       "hash                                        ...            \n",
       "0000a8602cf2def930488dee7cdad104_1          ...            \n",
       "0000cf177130469eeac79f67b6bcf3df_9          ...            \n",
       "0001f97b99a80f18f62e2d44e54ef33d_3          ...            \n",
       "\n",
       "                                    cc_xmax_ymax_angle_sum_1  \\\n",
       "hash                                                           \n",
       "0000a8602cf2def930488dee7cdad104_1                       NaN   \n",
       "0000cf177130469eeac79f67b6bcf3df_9                       NaN   \n",
       "0001f97b99a80f18f62e2d44e54ef33d_3                       NaN   \n",
       "\n",
       "                                    cc_xmax_ymax_angle_sum_2  \\\n",
       "hash                                                           \n",
       "0000a8602cf2def930488dee7cdad104_1                       NaN   \n",
       "0000cf177130469eeac79f67b6bcf3df_9                       NaN   \n",
       "0001f97b99a80f18f62e2d44e54ef33d_3                       NaN   \n",
       "\n",
       "                                    cc_xmax_ymax_angle_sum_3  \\\n",
       "hash                                                           \n",
       "0000a8602cf2def930488dee7cdad104_1                 17.796301   \n",
       "0000cf177130469eeac79f67b6bcf3df_9                       NaN   \n",
       "0001f97b99a80f18f62e2d44e54ef33d_3                       NaN   \n",
       "\n",
       "                                    cc_xmax_ymax_angle_sum_4  \\\n",
       "hash                                                           \n",
       "0000a8602cf2def930488dee7cdad104_1                 31.205774   \n",
       "0000cf177130469eeac79f67b6bcf3df_9                       NaN   \n",
       "0001f97b99a80f18f62e2d44e54ef33d_3                 58.628646   \n",
       "\n",
       "                                    cc_xmax_ymax_angle_sum_5  \\\n",
       "hash                                                           \n",
       "0000a8602cf2def930488dee7cdad104_1                 41.791618   \n",
       "0000cf177130469eeac79f67b6bcf3df_9                 58.628646   \n",
       "0001f97b99a80f18f62e2d44e54ef33d_3                 40.832345   \n",
       "\n",
       "                                    count_trajectories_1  \\\n",
       "hash                                                       \n",
       "0000a8602cf2def930488dee7cdad104_1                   5.0   \n",
       "0000cf177130469eeac79f67b6bcf3df_9                   NaN   \n",
       "0001f97b99a80f18f62e2d44e54ef33d_3                   NaN   \n",
       "\n",
       "                                    count_trajectories_2  \\\n",
       "hash                                                       \n",
       "0000a8602cf2def930488dee7cdad104_1                   5.0   \n",
       "0000cf177130469eeac79f67b6bcf3df_9                   NaN   \n",
       "0001f97b99a80f18f62e2d44e54ef33d_3                   NaN   \n",
       "\n",
       "                                    count_trajectories_3  \\\n",
       "hash                                                       \n",
       "0000a8602cf2def930488dee7cdad104_1                   5.0   \n",
       "0000cf177130469eeac79f67b6bcf3df_9                   NaN   \n",
       "0001f97b99a80f18f62e2d44e54ef33d_3                   NaN   \n",
       "\n",
       "                                    count_trajectories_4  count_trajectories_5  \n",
       "hash                                                                            \n",
       "0000a8602cf2def930488dee7cdad104_1                   5.0                   5.0  \n",
       "0000cf177130469eeac79f67b6bcf3df_9                   NaN                   1.0  \n",
       "0001f97b99a80f18f62e2d44e54ef33d_3                   2.0                   2.0  \n",
       "\n",
       "[3 rows x 985 columns]"
      ]
     },
     "execution_count": 100,
     "metadata": {},
     "output_type": "execute_result"
    }
   ],
   "source": [
    "data_sequence.columns = ['_'.join([x[0], str(int(x[1]))]) for x in data_sequence.columns.ravel()]\n",
    "data_sequence.head(3)"
   ]
  },
  {
   "cell_type": "code",
   "execution_count": 101,
   "metadata": {},
   "outputs": [],
   "source": [
    "data_sequence = data_sequence.reset_index()"
   ]
  },
  {
   "cell_type": "code",
   "execution_count": 102,
   "metadata": {},
   "outputs": [
    {
     "data": {
      "text/plain": [
       "(144216, 986)"
      ]
     },
     "execution_count": 102,
     "metadata": {},
     "output_type": "execute_result"
    }
   ],
   "source": [
    "data_sequence.shape"
   ]
  },
  {
   "cell_type": "markdown",
   "metadata": {},
   "source": [
    "# Trajectories' Origin Point Features\n",
    "\n",
    "It is a logical estimate that an extensive group in all recorded trajectories will eventually return to their origin point in the day - relating, in this case, to a person's return home. Dealing with paths distributed in space and time, the current-point to origin-point correlation levels hold a considerable chance to be proportional to either spatial coordinates, time, or both.\n",
    "\n",
    "With that in mind, let us then compute features focused on current-to-origin point differences."
   ]
  },
  {
   "cell_type": "code",
   "execution_count": 105,
   "metadata": {},
   "outputs": [],
   "source": [
    "is_aggr_col = lambda col: any(col.endswith(aggr) for aggr in ['_max', '_min', '_std', '_mean', '_sum'])\n",
    "origin_cols = [x for x in data.select_dtypes([np.number]).columns if not is_aggr_col(x)]\n",
    "\n",
    "origin_data = data.groupby('hash').nth(0)[origin_cols]\n",
    "origin_data.columns = [f'origin_{c}' for c in origin_cols]\n",
    "\n",
    "origin_data = origin_data.reset_index()"
   ]
  },
  {
   "cell_type": "code",
   "execution_count": 106,
   "metadata": {},
   "outputs": [],
   "source": [
    "if data_sequence.columns.contains('origin_time'):\n",
    "    data_sequence = data_sequence[data_sequence.columns.drop(origin_data.columns)]\n",
    "\n",
    "data_sequence = data_sequence.merge(origin_data, on='hash')"
   ]
  },
  {
   "cell_type": "code",
   "execution_count": 75,
   "metadata": {},
   "outputs": [],
   "source": [
    "def compute_deltas_for(df, origin_pt_prefix, origin_pt_sufix, current_pt_sufix):\n",
    "    \"\"\"\n",
    "    Computes deltas in a DataFrame for time, distance, angle and the likes.\n",
    "    \n",
    "    For a number of metrics ranging from velocity to permanency in the city center,\n",
    "    trajectory hour count and xy coordinates, this computes the difference between\n",
    "    values in current and origin points. Indexes for both - origin, current - points\n",
    "    are assumed to follow a {prefix}_{index}_{sufix} pattern, where {prefix} and {sufix} may\n",
    "    coexist, but cannot both be empty.\n",
    "    \n",
    "    Parameters\n",
    "    ----------\n",
    "    df : pandas.DataFrame\n",
    "        The DataFrame containing both current and origin point indexes, and also the one to receive delta results.\n",
    "    origin_pt_prefix : str\n",
    "        The prefix on indexes related to deltas' origin point\n",
    "    origin_pt_sufix : str\n",
    "        The sufix on indexes related to deltas' origin point\n",
    "    current_pt_sufix : str\n",
    "        The sufix on indexes related to deltas' current point\n",
    "    \n",
    "    Returns\n",
    "    -------\n",
    "    pandas.DataFrame\n",
    "        The input DataFrame, with calculated delta features within.\n",
    "    \"\"\"\n",
    "    pfx_origin = origin_pt_prefix if origin_pt_prefix is not None else ''\n",
    "    sfx_origin = origin_pt_sufix if origin_pt_sufix is not None else ''\n",
    "    sfx_current = current_pt_sufix if current_pt_sufix is not None else ''\n",
    "    \n",
    "    pfx_delta = pfx_origin if pfx_origin != '' else sfx_origin\n",
    "    sfx_delta = f'to_{sfx_current}' if sfx_current != '' else ''\n",
    "    \n",
    "    pfx = lambda prefix: f'{prefix}_' if prefix != '' else ''\n",
    "    sfx = lambda sufix: f'_{sufix}' if sufix != '' else ''\n",
    "    \n",
    "    # Index formatting lambdas\n",
    "    current = lambda index: f'{index}_{sfx_current}'\n",
    "    origin = lambda index: f'{pfx(pfx_origin)}{index}{sfx(sfx_origin)}'\n",
    "    delta = lambda index: f'delta_{pfx_delta}_{sfx_delta}_{index}'\n",
    "    \n",
    "    \n",
    "    # Generic deltas\n",
    "    leaking = ['center_permanency']\n",
    "    non_leaking = ['vmin', 'vmax', 'vmean', 'x_diff_entry', 'y_diff_entry', 'direction_entry']\n",
    "    iterable_feats = non_leaking + leaking if sfx_current != window_reference else non_leaking\n",
    "    \n",
    "    for idx in iterable_feats:\n",
    "        df[delta(idx)] = df[current(idx)] - df[origin(idx)]\n",
    "\n",
    "    # Time-related deltas\n",
    "    df[delta('hr_entry')] = df[current('hrs_cont_entry')] - df[origin('hrs_cont_entry')]\n",
    "    df[delta('min_entry')] = df[current('min_cont_entry')] - df[origin('min_cont_entry')]\n",
    "    df[delta('sec_entry')] = df[current('sec_cont_entry')] - df[origin('sec_cont_entry')]\n",
    "    \n",
    "    df[delta('still_time_min')] = df[current('min_cont_entry')] - df[origin('min_cont_exit')]\n",
    "    df[delta('still_time_sec')] = df[current('sec_cont_entry')] - df[origin('sec_cont_exit')]\n",
    "\n",
    "    # Distance-related deltas\n",
    "    df[delta('d_entry')] = euclidian_distance(df[origin('x_entry')], df[origin('y_entry')],\n",
    "                                                   df[current('x_entry')], df[current('y_entry')])\n",
    "    \n",
    "    df[delta('d_exit')] = euclidian_distance(df[origin('x_exit')], df[origin('y_exit')],\n",
    "                                                  df[current('x_entry')], df[current('y_entry')])\n",
    "\n",
    "    for side in ['left', 'right', 'lower', 'upper']:\n",
    "        df[delta(f'{side}_border')] = df[current(f'distance_{side}_border')] - df[origin(f'distance_{side}_border')]\n",
    "\n",
    "    df[delta('d_cc')] = df[current('distance_cc_entry')] - df[origin('distance_cc_entry')]\n",
    "\n",
    "    # Angle-related deltas\n",
    "    for vertex in ['xmin_ymin', 'xmax_ymin', 'xmin_ymax', 'xmax_ymax', 'middle']:\n",
    "        df[delta(f'^_{vertex}')] = df[current(f'cc_{vertex}_angle')] - df[origin(f'cc_{vertex}_angle')]\n",
    "    \n",
    "    return df"
   ]
  },
  {
   "cell_type": "code",
   "execution_count": 103,
   "metadata": {},
   "outputs": [],
   "source": [
    "for i in range(1, window_reference):\n",
    "    for j in range(window_reference, window_reference+1):\n",
    "        if i < j:\n",
    "            data_sequence = compute_deltas_for(data_sequence,\n",
    "                                               origin_pt_prefix=None,\n",
    "                                               origin_pt_sufix=i,\n",
    "                                               current_pt_sufix=j)"
   ]
  },
  {
   "cell_type": "code",
   "execution_count": 107,
   "metadata": {},
   "outputs": [],
   "source": [
    "data_sequence = compute_deltas_for(data_sequence,\n",
    "                                   origin_pt_prefix='origin',\n",
    "                                   origin_pt_sufix=None,\n",
    "                                   current_pt_sufix=window_reference)"
   ]
  },
  {
   "cell_type": "code",
   "execution_count": 108,
   "metadata": {},
   "outputs": [],
   "source": [
    "data_sequence = data_sequence[data_sequence.columns.drop(\n",
    "    [x for x in data_sequence.columns.ravel() if x.find('origin_time_') != -1]\n",
    ")]"
   ]
  },
  {
   "cell_type": "markdown",
   "metadata": {},
   "source": [
    "# Training and Evaluation"
   ]
  },
  {
   "cell_type": "code",
   "execution_count": 109,
   "metadata": {},
   "outputs": [
    {
     "data": {
      "text/plain": [
       "(100404, 1150)"
      ]
     },
     "execution_count": 109,
     "metadata": {},
     "output_type": "execute_result"
    }
   ],
   "source": [
    "data_train = data_sequence[data_sequence['hour_exit_'+str(window_reference)]==15]\n",
    "data_train.shape"
   ]
  },
  {
   "cell_type": "code",
   "execution_count": 110,
   "metadata": {},
   "outputs": [
    {
     "data": {
      "text/plain": [
       "(66898, 1150)"
      ]
     },
     "execution_count": 110,
     "metadata": {},
     "output_type": "execute_result"
    }
   ],
   "source": [
    "hashs_train = list(train.hash.unique())\n",
    "hashs_test = list(test.hash.unique())\n",
    "\n",
    "data_train = data_train[data_train.hash.isin(hashs_train)]\n",
    "data_train.shape"
   ]
  },
  {
   "cell_type": "code",
   "execution_count": 111,
   "metadata": {},
   "outputs": [],
   "source": [
    "# TODO: Remove this or the \"+ grid_cols\" below\n",
    "grid_cols = []"
   ]
  },
  {
   "cell_type": "code",
   "execution_count": 112,
   "metadata": {},
   "outputs": [],
   "source": [
    "drop_cols = list(x for x in data.columns if 'exit' in x) + grid_cols\n",
    "drop_cols += ['euclidian_distance', 'minkowski_distance', 'harvesine_distance',\n",
    "              'center_permanency', 'has_crossed_city', 'velocity']\n",
    "drop_cols += [f'origin_{col}' for col in drop_cols]\n",
    "drop_cols += [f'delta_{col}' for col in drop_cols if col.startswith('origin_')]\n",
    "\n",
    "drop_cols = [f'{col}_{window_reference}' for col in drop_cols]\n",
    "drop_cols += [f'{col}_i' for col in grid_cols for i in range(0, 5)]\n",
    "drop_cols += ['hash']\n",
    "\n",
    "features = list(set(data_train.columns) - set(drop_cols))\n",
    "target   = ['is_inside_city_exit_'+str(window_reference)]"
   ]
  },
  {
   "cell_type": "code",
   "execution_count": 113,
   "metadata": {},
   "outputs": [
    {
     "data": {
      "text/plain": [
       "((53518, 1150), (13380, 1150))"
      ]
     },
     "execution_count": 113,
     "metadata": {},
     "output_type": "execute_result"
    }
   ],
   "source": [
    "from sklearn.model_selection import train_test_split\n",
    "\n",
    "\n",
    "dt_train, dt_test = train_test_split(data_train, test_size=0.2, random_state=20)\n",
    "dt_train.shape, dt_test.shape"
   ]
  },
  {
   "cell_type": "code",
   "execution_count": 114,
   "metadata": {},
   "outputs": [
    {
     "name": "stderr",
     "output_type": "stream",
     "text": [
      "/home/ec2-user/anaconda3/envs/python3/lib/python3.6/site-packages/sklearn/preprocessing/label.py:151: DeprecationWarning: The truth value of an empty array is ambiguous. Returning False, but in future this will result in an error. Use `array.size > 0` to check that an array is not empty.\n",
      "  if diff:\n"
     ]
    },
    {
     "data": {
      "text/plain": [
       "0.7672305764411027"
      ]
     },
     "execution_count": 114,
     "metadata": {},
     "output_type": "execute_result"
    }
   ],
   "source": [
    "from lightgbm import LGBMClassifier\n",
    "from sklearn.metrics import f1_score\n",
    "\n",
    "clf = LGBMClassifier(n_estimators=150, max_features=0.5, seed=20)\n",
    "clf.fit(dt_train[features], dt_train[target])\n",
    "\n",
    "predicted = clf.predict(dt_test[features])\n",
    "\n",
    "f1_score(dt_test[target], predicted)"
   ]
  },
  {
   "cell_type": "code",
   "execution_count": 465,
   "metadata": {},
   "outputs": [],
   "source": [
    "# Score 0.744901160966426 | 0.89469\n",
    "# Score 0.7465277777777779 | 0.89441\n",
    "# Score 0.7432216905901117 | 0.89358\n",
    "# Score 0.7413765697027499 | 0.89307 - n_estimators=150, max_features=0.5"
   ]
  },
  {
   "cell_type": "code",
   "execution_count": 115,
   "metadata": {
    "scrolled": false
   },
   "outputs": [
    {
     "data": {
      "text/plain": [
       "<matplotlib.axes._subplots.AxesSubplot at 0x7ff6870555f8>"
      ]
     },
     "execution_count": 115,
     "metadata": {},
     "output_type": "execute_result"
    },
    {
     "data": {
      "image/png": "[encoded data removed]",
      "text/plain": [
       "<Figure size 1080x720 with 1 Axes>"
      ]
     },
     "metadata": {},
     "output_type": "display_data"
    }
   ],
   "source": [
    "f, ax = plt.subplots(figsize=(15, 10))\n",
    "\n",
    "feat_importances_gb = pd.Series(clf.feature_importances_, index=data_train[features].columns)\n",
    "feat_importances_gb.nlargest(50).plot(kind='barh')"
   ]
  },
  {
   "cell_type": "code",
   "execution_count": 116,
   "metadata": {},
   "outputs": [],
   "source": [
    "data_test = data_sequence[data_sequence.hash.isin(hashs_test)]\n",
    "#data_test = test[test['x_exit_'+str(window_reference)].isnull()]"
   ]
  },
  {
   "cell_type": "code",
   "execution_count": 117,
   "metadata": {},
   "outputs": [
    {
     "data": {
      "text/plain": [
       "(33515, 1150)"
      ]
     },
     "execution_count": 117,
     "metadata": {},
     "output_type": "execute_result"
    }
   ],
   "source": [
    "data_test.shape"
   ]
  },
  {
   "cell_type": "code",
   "execution_count": 118,
   "metadata": {},
   "outputs": [],
   "source": [
    "ids = pd.read_csv('../data/raw/data_test.zip', index_col='Unnamed: 0', low_memory=True)\n",
    "ids = ids[ids.x_exit.isnull()]"
   ]
  },
  {
   "cell_type": "code",
   "execution_count": 119,
   "metadata": {},
   "outputs": [],
   "source": [
    "data_test = data_test.merge(ids[['hash', 'trajectory_id']], on='hash')"
   ]
  },
  {
   "cell_type": "code",
   "execution_count": 140,
   "metadata": {},
   "outputs": [
    {
     "data": {
      "text/plain": [
       "0.2729134303064539"
      ]
     },
     "execution_count": 140,
     "metadata": {},
     "output_type": "execute_result"
    }
   ],
   "source": [
    "data_sequence.center_permanency_4.isna().sum() / data_sequence.center_permanency_4.notna().sum()"
   ]
  },
  {
   "cell_type": "code",
   "execution_count": 141,
   "metadata": {},
   "outputs": [
    {
     "data": {
      "text/plain": [
       "0.2875033613768199"
      ]
     },
     "execution_count": 141,
     "metadata": {},
     "output_type": "execute_result"
    }
   ],
   "source": [
    "data_test.center_permanency_4.isna().sum() / data_test.center_permanency_4.notna().sum()"
   ]
  },
  {
   "cell_type": "code",
   "execution_count": 142,
   "metadata": {},
   "outputs": [
    {
     "name": "stderr",
     "output_type": "stream",
     "text": [
      "/home/ec2-user/anaconda3/envs/python3/lib/python3.6/site-packages/sklearn/preprocessing/label.py:151: DeprecationWarning: The truth value of an empty array is ambiguous. Returning False, but in future this will result in an error. Use `array.size > 0` to check that an array is not empty.\n",
      "  if diff:\n"
     ]
    }
   ],
   "source": [
    "clf.fit(data_train[features], data_train[target])\n",
    "yhat = clf.predict(data_test[features])"
   ]
  },
  {
   "cell_type": "code",
   "execution_count": 143,
   "metadata": {},
   "outputs": [
    {
     "data": {
      "text/plain": [
       "0.0    26903\n",
       "1.0     6612\n",
       "dtype: int64"
      ]
     },
     "execution_count": 143,
     "metadata": {},
     "output_type": "execute_result"
    }
   ],
   "source": [
    "pd.Series(yhat).value_counts()"
   ]
  },
  {
   "cell_type": "code",
   "execution_count": 144,
   "metadata": {},
   "outputs": [
    {
     "data": {
      "text/html": [
       "<div>\n",
       "<style scoped>\n",
       "    .dataframe tbody tr th:only-of-type {\n",
       "        vertical-align: middle;\n",
       "    }\n",
       "\n",
       "    .dataframe tbody tr th {\n",
       "        vertical-align: top;\n",
       "    }\n",
       "\n",
       "    .dataframe thead th {\n",
       "        text-align: right;\n",
       "    }\n",
       "</style>\n",
       "<table border=\"1\" class=\"dataframe\">\n",
       "  <thead>\n",
       "    <tr style=\"text-align: right;\">\n",
       "      <th></th>\n",
       "      <th>hash</th>\n",
       "      <th>vmax_1</th>\n",
       "      <th>vmax_2</th>\n",
       "      <th>vmax_3</th>\n",
       "      <th>vmax_4</th>\n",
       "      <th>vmax_5</th>\n",
       "      <th>vmin_1</th>\n",
       "      <th>vmin_2</th>\n",
       "      <th>vmin_3</th>\n",
       "      <th>vmin_4</th>\n",
       "      <th>...</th>\n",
       "      <th>delta_origin_to_5_right_border</th>\n",
       "      <th>delta_origin_to_5_lower_border</th>\n",
       "      <th>delta_origin_to_5_upper_border</th>\n",
       "      <th>delta_origin_to_5_d_cc</th>\n",
       "      <th>delta_origin_to_5_^_xmin_ymin</th>\n",
       "      <th>delta_origin_to_5_^_xmax_ymin</th>\n",
       "      <th>delta_origin_to_5_^_xmin_ymax</th>\n",
       "      <th>delta_origin_to_5_^_xmax_ymax</th>\n",
       "      <th>delta_origin_to_5_^_middle</th>\n",
       "      <th>trajectory_id</th>\n",
       "    </tr>\n",
       "  </thead>\n",
       "  <tbody>\n",
       "    <tr>\n",
       "      <th>0</th>\n",
       "      <td>00032f51796fd5437b238e3a9823d13d_31</td>\n",
       "      <td>NaN</td>\n",
       "      <td>NaN</td>\n",
       "      <td>NaN</td>\n",
       "      <td>NaN</td>\n",
       "      <td>NaN</td>\n",
       "      <td>NaN</td>\n",
       "      <td>NaN</td>\n",
       "      <td>NaN</td>\n",
       "      <td>NaN</td>\n",
       "      <td>...</td>\n",
       "      <td>-46608.594834</td>\n",
       "      <td>-46617.135649</td>\n",
       "      <td>-46608.594834</td>\n",
       "      <td>-46618.640311</td>\n",
       "      <td>NaN</td>\n",
       "      <td>NaN</td>\n",
       "      <td>NaN</td>\n",
       "      <td>NaN</td>\n",
       "      <td>NaN</td>\n",
       "      <td>traj_00032f51796fd5437b238e3a9823d13d_31_5</td>\n",
       "    </tr>\n",
       "    <tr>\n",
       "      <th>1</th>\n",
       "      <td>000479418b5561ab694a2870cc04fd43_25</td>\n",
       "      <td>NaN</td>\n",
       "      <td>NaN</td>\n",
       "      <td>17.29</td>\n",
       "      <td>NaN</td>\n",
       "      <td>NaN</td>\n",
       "      <td>NaN</td>\n",
       "      <td>NaN</td>\n",
       "      <td>17.29</td>\n",
       "      <td>NaN</td>\n",
       "      <td>...</td>\n",
       "      <td>8633.290283</td>\n",
       "      <td>8627.407404</td>\n",
       "      <td>8628.275187</td>\n",
       "      <td>-8629.912052</td>\n",
       "      <td>NaN</td>\n",
       "      <td>NaN</td>\n",
       "      <td>NaN</td>\n",
       "      <td>NaN</td>\n",
       "      <td>NaN</td>\n",
       "      <td>traj_000479418b5561ab694a2870cc04fd43_25_10</td>\n",
       "    </tr>\n",
       "    <tr>\n",
       "      <th>2</th>\n",
       "      <td>000506a39775e5bca661ac80e3f466eb_29</td>\n",
       "      <td>NaN</td>\n",
       "      <td>NaN</td>\n",
       "      <td>NaN</td>\n",
       "      <td>NaN</td>\n",
       "      <td>NaN</td>\n",
       "      <td>NaN</td>\n",
       "      <td>NaN</td>\n",
       "      <td>NaN</td>\n",
       "      <td>NaN</td>\n",
       "      <td>...</td>\n",
       "      <td>-95513.123373</td>\n",
       "      <td>-138175.456771</td>\n",
       "      <td>-78793.867646</td>\n",
       "      <td>-138175.150894</td>\n",
       "      <td>NaN</td>\n",
       "      <td>NaN</td>\n",
       "      <td>NaN</td>\n",
       "      <td>NaN</td>\n",
       "      <td>NaN</td>\n",
       "      <td>traj_000506a39775e5bca661ac80e3f466eb_29_5</td>\n",
       "    </tr>\n",
       "    <tr>\n",
       "      <th>3</th>\n",
       "      <td>0005401ceddaf27a9b7f0d42ef1fbe95_1</td>\n",
       "      <td>NaN</td>\n",
       "      <td>NaN</td>\n",
       "      <td>NaN</td>\n",
       "      <td>NaN</td>\n",
       "      <td>NaN</td>\n",
       "      <td>NaN</td>\n",
       "      <td>NaN</td>\n",
       "      <td>NaN</td>\n",
       "      <td>NaN</td>\n",
       "      <td>...</td>\n",
       "      <td>0.000000</td>\n",
       "      <td>0.000000</td>\n",
       "      <td>0.000000</td>\n",
       "      <td>0.000000</td>\n",
       "      <td>NaN</td>\n",
       "      <td>NaN</td>\n",
       "      <td>NaN</td>\n",
       "      <td>NaN</td>\n",
       "      <td>NaN</td>\n",
       "      <td>traj_0005401ceddaf27a9b7f0d42ef1fbe95_1_4</td>\n",
       "    </tr>\n",
       "  </tbody>\n",
       "</table>\n",
       "<p>4 rows × 1151 columns</p>\n",
       "</div>"
      ],
      "text/plain": [
       "                                  hash  vmax_1  vmax_2  vmax_3  vmax_4  \\\n",
       "0  00032f51796fd5437b238e3a9823d13d_31     NaN     NaN     NaN     NaN   \n",
       "1  000479418b5561ab694a2870cc04fd43_25     NaN     NaN   17.29     NaN   \n",
       "2  000506a39775e5bca661ac80e3f466eb_29     NaN     NaN     NaN     NaN   \n",
       "3   0005401ceddaf27a9b7f0d42ef1fbe95_1     NaN     NaN     NaN     NaN   \n",
       "\n",
       "   vmax_5  vmin_1  vmin_2  vmin_3  vmin_4  \\\n",
       "0     NaN     NaN     NaN     NaN     NaN   \n",
       "1     NaN     NaN     NaN   17.29     NaN   \n",
       "2     NaN     NaN     NaN     NaN     NaN   \n",
       "3     NaN     NaN     NaN     NaN     NaN   \n",
       "\n",
       "                      ...                       \\\n",
       "0                     ...                        \n",
       "1                     ...                        \n",
       "2                     ...                        \n",
       "3                     ...                        \n",
       "\n",
       "   delta_origin_to_5_right_border  delta_origin_to_5_lower_border  \\\n",
       "0                   -46608.594834                   -46617.135649   \n",
       "1                     8633.290283                     8627.407404   \n",
       "2                   -95513.123373                  -138175.456771   \n",
       "3                        0.000000                        0.000000   \n",
       "\n",
       "   delta_origin_to_5_upper_border  delta_origin_to_5_d_cc  \\\n",
       "0                   -46608.594834           -46618.640311   \n",
       "1                     8628.275187            -8629.912052   \n",
       "2                   -78793.867646          -138175.150894   \n",
       "3                        0.000000                0.000000   \n",
       "\n",
       "   delta_origin_to_5_^_xmin_ymin  delta_origin_to_5_^_xmax_ymin  \\\n",
       "0                            NaN                            NaN   \n",
       "1                            NaN                            NaN   \n",
       "2                            NaN                            NaN   \n",
       "3                            NaN                            NaN   \n",
       "\n",
       "   delta_origin_to_5_^_xmin_ymax  delta_origin_to_5_^_xmax_ymax  \\\n",
       "0                            NaN                            NaN   \n",
       "1                            NaN                            NaN   \n",
       "2                            NaN                            NaN   \n",
       "3                            NaN                            NaN   \n",
       "\n",
       "   delta_origin_to_5_^_middle                                trajectory_id  \n",
       "0                         NaN   traj_00032f51796fd5437b238e3a9823d13d_31_5  \n",
       "1                         NaN  traj_000479418b5561ab694a2870cc04fd43_25_10  \n",
       "2                         NaN   traj_000506a39775e5bca661ac80e3f466eb_29_5  \n",
       "3                         NaN    traj_0005401ceddaf27a9b7f0d42ef1fbe95_1_4  \n",
       "\n",
       "[4 rows x 1151 columns]"
      ]
     },
     "execution_count": 144,
     "metadata": {},
     "output_type": "execute_result"
    }
   ],
   "source": [
    "data_test.head(4)"
   ]
  },
  {
   "cell_type": "code",
   "execution_count": 145,
   "metadata": {},
   "outputs": [],
   "source": [
    "submission = pd.DataFrame(list(zip(data_test['trajectory_id'], yhat)), columns=['id', 'target'])"
   ]
  },
  {
   "cell_type": "code",
   "execution_count": 146,
   "metadata": {},
   "outputs": [],
   "source": [
    "submission.to_csv('../data/submission46_julio.csv', index=False)"
   ]
  },
  {
   "cell_type": "markdown",
   "metadata": {},
   "source": [
    "# Preprocessed Data Saving"
   ]
  },
  {
   "cell_type": "code",
   "execution_count": 84,
   "metadata": {},
   "outputs": [],
   "source": [
    "data_sequence.to_hdf('../data/preprocessed/data_sequence_0.89469.hdf', key='deltas', mode='w')"
   ]
  }
 ],
 "metadata": {
  "kernelspec": {
   "display_name": "conda_python3",
   "language": "python",
   "name": "conda_python3"
  },
  "language_info": {
   "codemirror_mode": {
    "name": "ipython",
    "version": 3
   },
   "file_extension": ".py",
   "mimetype": "text/x-python",
   "name": "python",
   "nbconvert_exporter": "python",
   "pygments_lexer": "ipython3",
   "version": "3.6.5"
  }
 },
 "nbformat": 4,
 "nbformat_minor": 2
}
