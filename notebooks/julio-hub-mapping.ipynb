{
 "cells": [
  {
   "cell_type": "markdown",
   "metadata": {},
   "source": [
    "# EY NextWave Data Science Competition 2019 - Final Submission"
   ]
  },
  {
   "cell_type": "markdown",
   "metadata": {},
   "source": [
    "- <a href='#1'>1. Introduction</a>  \n",
    "    - <a href='#1-1'>1.1. Problem Statement</a>\n",
    "- <a href='#2'>2. General Overview </a>\n",
    "- <a href='#3'>3. Importing Libraries and Data </a>\n",
    "- <a href='#4'> 4. Feature Extraction</a>\n",
    "    - <a href='#4-1'> 4.1. Distancial-directional Calculations</a>\n",
    "        - <a href='#4-1-1'>4.1.1. City Center Midpoint Distances</a>\n",
    "        - <a href='#4-1-2'>4.1.2. City Center Midpoint Directions</a>\n",
    "        - <a href='#4-1-3'>4.1.3. City Center Border Distances</a>\n",
    "        - <a href='#4-1-4'>4.1.4. City Center Vertex Angles</a>\n",
    "    - <a href='#4-2'>4.2. Time-wise Features </a>\n",
    "        - <a href='#4-2-1'>4.2.1. Time-wise: Continuous Features </a>\n",
    "    - <a href='#4-3'>4.3. Quadrants </a>\n",
    "    - <a href='#4-4'>4.4. Center features </a>\n",
    "    - <a href='#4-5'>4.5. Blind trajectories features </a>\n",
    "    - <a href='#4-6'>4.6. Trajectories' Origin Point Features</a>\n",
    "- <a href='#7'> 7. Baseline Models </a>\n",
    "    - <a href='#7-1'> 7.1. Logistic Regression</a>\n",
    "    - <a href='#7-2'> 7.2. Random Forest</a>\n",
    "    - <a href='#7-3'> 7.3. Gradient Boosting</a>\n",
    "    - <a href='#7-4'> 7.4. Feature Importances </a>\n",
    "- <a href='#9'> 9. Saving Train and Test Set preprocessed  </a>\n",
    "- <a href='#10'> 10. Conclusion </a>"
   ]
  },
  {
   "cell_type": "markdown",
   "metadata": {},
   "source": [
    "## <a id='3'>3. Importing Libraries and Data</a>"
   ]
  },
  {
   "cell_type": "code",
   "execution_count": 4,
   "metadata": {},
   "outputs": [],
   "source": [
    "#!pip install tqdm\n",
    "#!conda install shapely descartes geopandas -y"
   ]
  },
  {
   "cell_type": "code",
   "execution_count": 2,
   "metadata": {},
   "outputs": [],
   "source": [
    "# general tools\n",
    "import warnings\n",
    "import requests\n",
    "import pickle\n",
    "import math\n",
    "import re\n",
    "\n",
    "# visualization tools\n",
    "import matplotlib.pyplot as plt\n",
    "from tqdm.auto import tqdm\n",
    "import seaborn as sns\n",
    "\n",
    "# data preprocessing tools\n",
    "import pandas as pd\n",
    "from shapely.geometry import Point\n",
    "import numpy as np\n",
    "\n",
    "\n",
    "tqdm.pandas()\n",
    "plt.style.use('seaborn')\n",
    "warnings.filterwarnings(\"ignore\")\n",
    "\n",
    "%run ../src/utils.py"
   ]
  },
  {
   "cell_type": "code",
   "execution_count": 3,
   "metadata": {},
   "outputs": [
    {
     "data": {
      "text/plain": [
       "((814262, 11), (202937, 11))"
      ]
     },
     "execution_count": 3,
     "metadata": {},
     "output_type": "execute_result"
    }
   ],
   "source": [
    "train = pd.read_csv('../data/raw/data_train.zip', index_col='Unnamed: 0', low_memory=True)\n",
    "test = pd.read_csv('../data/raw/data_test.zip', index_col='Unnamed: 0', low_memory=True)\n",
    "\n",
    "train.shape, test.shape"
   ]
  },
  {
   "cell_type": "code",
   "execution_count": 4,
   "metadata": {
    "scrolled": true
   },
   "outputs": [
    {
     "data": {
      "text/plain": [
       "(1017199, 11)"
      ]
     },
     "execution_count": 4,
     "metadata": {},
     "output_type": "execute_result"
    }
   ],
   "source": [
    "data = pd.concat([train, test], axis=0)\n",
    "\n",
    "data.shape"
   ]
  },
  {
   "cell_type": "markdown",
   "metadata": {},
   "source": [
    "#### <a id='4-?-?'>4.?.?. Coordinate Conversion: Latitudes and Longitudes</a>\n",
    "\n",
    "Even though originally formatted as cartesian xy coordinates, our dataset's `(x_entry, y_entry)` inputs represent real, lat-long points in real space - the center of Atlanta. Yet, for that fact to be mathematically present in our analysis, we must first convert such data to the appropriate geographic scale and form."
   ]
  },
  {
   "cell_type": "code",
   "execution_count": 5,
   "metadata": {},
   "outputs": [],
   "source": [
    "import pyproj\n",
    "\n",
    "converter = pyproj.Proj(\"+proj=merc +lat_ts=0 +lat_0=0 +lon_0=0 +x_0=0 \\\n",
    "                    +y_0=0 +ellps=WGS84 +datum=WGS84 +units=m +no_defs\")\n",
    "\n",
    "data['lat_lon_entry'] = [converter(x, y, inverse=True) for x, y in zip(data.x_entry, data.y_entry)]\n",
    "\n",
    "data['lon_entry'] = data.lat_lon_entry.apply(lambda row: row[0])\n",
    "data['lat_entry'] = data.lat_lon_entry.apply(lambda row: row[1])\n",
    "\n",
    "data['lat_lon_exit'] = [converter(x, y, inverse=True) for x, y in zip(data.x_exit, data.y_exit)]\n",
    "\n",
    "data['lon_exit'] = data.lat_lon_exit.apply(lambda row: row[0])\n",
    "data['lat_exit'] = data.lat_lon_exit.apply(lambda row: row[1])"
   ]
  },
  {
   "cell_type": "markdown",
   "metadata": {},
   "source": [
    "#### <a id='4-?-?'>4.?.?. Mapping of City Hubs</a>\n",
    "\n",
    "Equipped with the correct conversion of our points' coordinates, we can now begin mapping the most prominent hubs that centralize movimentation towards and outwards the city center."
   ]
  },
  {
   "cell_type": "code",
   "execution_count": 6,
   "metadata": {},
   "outputs": [],
   "source": [
    "with open('google_secret.pkl', 'rb') as fp:\n",
    "    google_secret = pickle.load(fp)"
   ]
  },
  {
   "cell_type": "code",
   "execution_count": 7,
   "metadata": {},
   "outputs": [],
   "source": [
    "gplaces = lambda api: f\"https://maps.googleapis.com/maps/api/place/{api}/json?key={google_secret['key']}\"\n",
    "\n",
    "def places_nearby(lat, lon, radius=50000):\n",
    "    url = gplaces('nearbysearch') + f'&location={lat},{lon}&radius={radius}'\n",
    "    return requests.get(url).json()\n",
    "\n",
    "def places_from_text(text):\n",
    "    url = gplaces('findplacefromtext') + f'&input={text}&inputtype=textquery'\n",
    "    return requests.get(url).json()"
   ]
  },
  {
   "cell_type": "markdown",
   "metadata": {},
   "source": [
    "##### <a id='4-?-?-1'>4.?.?.1 Hub Areas</a>\n",
    "\n",
    "Some of the most prominent hubs we'll be mapping centralize in specific perimeters which we can precise. Let's proceed to defining their boundaries in polygon form."
   ]
  },
  {
   "cell_type": "code",
   "execution_count": 8,
   "metadata": {
    "scrolled": true
   },
   "outputs": [
    {
     "data": {
      "image/svg+xml": [
       "<svg xmlns=\"http://www.w3.org/2000/svg\" xmlns:xlink=\"http://www.w3.org/1999/xlink\" width=\"100.0\" height=\"100.0\" viewBox=\"-84.41816591999999 33.74057708 0.015954839999992032 0.01473083999999858\" preserveAspectRatio=\"xMinYMin meet\"><g transform=\"matrix(1,0,0,-1,0,67.495885)\"><path fill-rule=\"evenodd\" fill=\"#66cc99\" stroke=\"#555555\" stroke-width=\"0.0003190967999998406\" opacity=\"0.6\" d=\"M -84.417575,33.744487 L -84.417535,33.754717 L -84.402802,33.754548 L -84.402827,33.751915 L -84.405122,33.74804 L -84.409062,33.748023 L -84.409062,33.749305 L -84.409396,33.74934 L -84.409354,33.751229 L -84.411314,33.751282 L -84.411355,33.74934 L -84.411105,33.749323 L -84.411043,33.747139 L -84.410467,33.747122 L -84.40987,33.746912 L -84.409576,33.746584 L -84.408365,33.744314 L -84.408299,33.743229 L -84.409856,33.742627 L -84.411665,33.741168 L -84.414071,33.741356 L -84.414038,33.744237 L -84.413988,33.744349 L -84.413984,33.744354 L -84.41402,33.744462 L -84.417575,33.744487 z\" /></g></svg>"
      ],
      "text/plain": [
       "<shapely.geometry.polygon.Polygon at 0x7f157393eac8>"
      ]
     },
     "execution_count": 8,
     "metadata": {},
     "output_type": "execute_result"
    }
   ],
   "source": [
    "from shapely.geometry import Polygon, Point, LineString, LinearRing\n",
    "\n",
    "# Atlanta University Center Area.\n",
    "university_center = Polygon([\n",
    "    (-84.417575, 33.744487), (-84.417535, 33.754717), (-84.402802, 33.754548), (-84.402827, 33.751915),\n",
    "    (-84.405122, 33.748040), (-84.409062, 33.748023), (-84.409062, 33.749305), (-84.409396, 33.749340),\n",
    "    (-84.409354, 33.751229), (-84.411314, 33.751282), (-84.411355, 33.749340), (-84.411105, 33.749323),\n",
    "    (-84.411043, 33.747139), (-84.410467, 33.747122), (-84.409870, 33.746912), (-84.409576, 33.746584),\n",
    "    (-84.408365, 33.744314), (-84.408299, 33.743229), (-84.409856, 33.742627), (-84.411665, 33.741168),\n",
    "    (-84.414071, 33.741356), (-84.414038, 33.744237), (-84.413988, 33.744349), (-84.413984, 33.744354),\n",
    "    (-84.41402, 33.7444620)\n",
    "])\n",
    "\n",
    "university_center"
   ]
  },
  {
   "cell_type": "code",
   "execution_count": 9,
   "metadata": {},
   "outputs": [
    {
     "data": {
      "image/svg+xml": [
       "<svg xmlns=\"http://www.w3.org/2000/svg\" xmlns:xlink=\"http://www.w3.org/1999/xlink\" width=\"100.0\" height=\"100.0\" viewBox=\"-84.39870372 33.80665328 0.005716440000000489 0.00424744000000743\" preserveAspectRatio=\"xMinYMin meet\"><g transform=\"matrix(1,0,0,-1,0,67.61755400000001)\"><path fill-rule=\"evenodd\" fill=\"#66cc99\" stroke=\"#555555\" stroke-width=\"0.00011432880000000978\" opacity=\"0.6\" d=\"M -84.393947,33.806865 L -84.398492,33.808707 L -84.395754,33.810689 L -84.394822,33.810267 L -84.394328,33.810607 L -84.393199,33.809974 L -84.393538,33.809786 L -84.393566,33.809598 L -84.393298,33.809223 L -84.393947,33.806865 z\" /></g></svg>"
      ],
      "text/plain": [
       "<shapely.geometry.polygon.Polygon at 0x7f156f5e9ba8>"
      ]
     },
     "execution_count": 9,
     "metadata": {},
     "output_type": "execute_result"
    }
   ],
   "source": [
    "# Piedmont Hospital & Shepherd Clinic Area\n",
    "piedmont_shepherd_medical_center = Polygon([\n",
    "    (-84.393947, 33.806865), (-84.398492, 33.808707), (-84.395754, 33.810689), (-84.394822, 33.810267),\n",
    "    (-84.394328, 33.810607), (-84.393199, 33.809974), (-84.393538, 33.809786), (-84.393566, 33.809598),\n",
    "    (-84.393298, 33.809223)\n",
    "])\n",
    "\n",
    "piedmont_shepherd_medical_center"
   ]
  },
  {
   "cell_type": "code",
   "execution_count": 10,
   "metadata": {},
   "outputs": [
    {
     "data": {
      "image/svg+xml": [
       "<svg xmlns=\"http://www.w3.org/2000/svg\" xmlns:xlink=\"http://www.w3.org/1999/xlink\" width=\"100.0\" height=\"100.0\" viewBox=\"-84.37513580000001 33.761223199999996 0.004800600000010036 0.002862600000007376\" preserveAspectRatio=\"xMinYMin meet\"><g transform=\"matrix(1,0,0,-1,0,67.525309)\"><path fill-rule=\"evenodd\" fill=\"#66cc99\" stroke=\"#555555\" stroke-width=\"9.601200000020071e-05\" opacity=\"0.6\" d=\"M -84.37493,33.761479 L -84.374958,33.762829 L -84.374478,33.763908 L -84.372065,33.763849 L -84.372084,33.763194 L -84.371853,33.763181 L -84.370513,33.763191 L -84.370576,33.761401 L -84.37493,33.761479 z\" /></g></svg>"
      ],
      "text/plain": [
       "<shapely.geometry.polygon.Polygon at 0x7f156f5e9e80>"
      ]
     },
     "execution_count": 10,
     "metadata": {},
     "output_type": "execute_result"
    }
   ],
   "source": [
    "# Wellstar and Northlake Medical Area\n",
    "wellstar_northlake_medical_center = Polygon([\n",
    "    (-84.374930, 33.761479), (-84.374958, 33.762829), (-84.374478, 33.763908), (-84.372065, 33.763849),\n",
    "    (-84.372084, 33.763194), (-84.371853, 33.763181), (-84.370513, 33.763191), (-84.370576, 33.761401)\n",
    "])\n",
    "\n",
    "wellstar_northlake_medical_center"
   ]
  },
  {
   "cell_type": "code",
   "execution_count": 11,
   "metadata": {},
   "outputs": [
    {
     "data": {
      "image/svg+xml": [
       "<svg xmlns=\"http://www.w3.org/2000/svg\" xmlns:xlink=\"http://www.w3.org/1999/xlink\" width=\"100.0\" height=\"100.0\" viewBox=\"-84.40818204 33.77058896 0.018496079999991366 0.011666080000004797\" preserveAspectRatio=\"xMinYMin meet\"><g transform=\"matrix(1,0,0,-1,0,67.552844)\"><path fill-rule=\"evenodd\" fill=\"#66cc99\" stroke=\"#555555\" stroke-width=\"0.0003699215999998273\" opacity=\"0.6\" d=\"M -84.390448,33.771274 L -84.396076,33.771334 L -84.396764,33.772106 L -84.39739,33.772599 L -84.400322,33.773132 L -84.400372,33.772943 L -84.400585,33.772749 L -84.401552,33.772312 L -84.402544,33.772922 L -84.403122,33.773141 L -84.402848,33.773768 L -84.406382,33.77651 L -84.406893,33.777099 L -84.407237,33.777715 L -84.407455,33.778798 L -84.407497,33.78157 L -84.39107,33.781537 L -84.391215,33.77899 L -84.391121,33.777578 L -84.390371,33.773489 L -84.390448,33.771274 z\" /></g></svg>"
      ],
      "text/plain": [
       "<shapely.geometry.polygon.Polygon at 0x7f157393e780>"
      ]
     },
     "execution_count": 11,
     "metadata": {},
     "output_type": "execute_result"
    }
   ],
   "source": [
    "# Georgia Tech: Georgia Institute of Technology, Georgia Tech Library, Georgia Tech Campus Recreation Center\n",
    "georgia_tech = Polygon([\n",
    "    (-84.390448, 33.771274), (-84.396076, 33.771334), (-84.396764, 33.772106), (-84.397390, 33.772599),\n",
    "    (-84.400322, 33.773132), (-84.400372, 33.772943), (-84.400585, 33.772749), (-84.401552, 33.772312),\n",
    "    (-84.402544, 33.772922), (-84.403122, 33.773141), (-84.402848, 33.773768), (-84.406382, 33.776510),\n",
    "    (-84.406893, 33.777099), (-84.407237, 33.777715), (-84.407455, 33.778798), (-84.407497, 33.781570),\n",
    "    (-84.391070, 33.781537), (-84.391215, 33.778990), (-84.391121, 33.777578), (-84.390371, 33.773489)\n",
    "])\n",
    "\n",
    "# Additional block (southwest rectangle in the below plot): Georgia Tech Human Resources + G.I.T's Business Services\n",
    "georgia_tech"
   ]
  },
  {
   "cell_type": "code",
   "execution_count": 12,
   "metadata": {},
   "outputs": [
    {
     "data": {
      "image/svg+xml": [
       "<svg xmlns=\"http://www.w3.org/2000/svg\" xmlns:xlink=\"http://www.w3.org/1999/xlink\" width=\"100.0\" height=\"100.0\" viewBox=\"-84.36902696 33.90907804 0.043792919999987134 0.038116920000007326\" preserveAspectRatio=\"xMinYMin meet\"><g transform=\"matrix(1,0,0,-1,0,67.856273)\"><path fill-rule=\"evenodd\" fill=\"#66cc99\" stroke=\"#555555\" stroke-width=\"0.0008758583999997427\" opacity=\"0.6\" d=\"M -84.346402,33.9107 L -84.362482,33.914431 L -84.363731,33.91899 L -84.360035,33.918948 L -84.359838,33.92961 L -84.361736,33.932622 L -84.361784,33.933541 L -84.361854,33.933727 L -84.364093,33.935311 L -84.367405,33.936621 L -84.367405,33.936621 L -84.366124,33.943892 L -84.36603,33.944361 L -84.365476,33.945573 L -84.357993,33.945544 L -84.357881,33.941539 L -84.352702,33.941476 L -84.352183,33.943451 L -84.351393,33.943519 L -84.351405,33.943871 L -84.350156,33.943861 L -84.350179,33.943587 L -84.348058,33.943568 L -84.347717,33.94305 L -84.34771,33.933398 L -84.346254,33.933337 L -84.34623,33.931989 L -84.344168,33.932049 L -84.344022,33.934665 L -84.343173,33.934464 L -84.339121,33.934625 L -84.333822,33.934252 L -84.333498,33.93424 L -84.331973,33.93383 L -84.331931,33.932811 L -84.332128,33.932542 L -84.331818,33.93239 L -84.331493,33.931938 L -84.331465,33.931 L -84.330766,33.930971 L -84.330762,33.928679 L -84.330289,33.92865 L -84.329507,33.927956 L -84.328445,33.927677 L -84.327978,33.927171 L -84.327677,33.925931 L -84.328369,33.925618 L -84.328376,33.923131 L -84.327829,33.921202 L -84.327016,33.92125 L -84.326856,33.920142 L -84.335989,33.918374 L -84.335464,33.912715 L -84.338407,33.912768 L -84.33854,33.910757 L -84.346402,33.9107 z\" /></g></svg>"
      ],
      "text/plain": [
       "<shapely.geometry.polygon.Polygon at 0x7f155612c7b8>"
      ]
     },
     "execution_count": 12,
     "metadata": {},
     "output_type": "execute_result"
    }
   ],
   "source": [
    "# Perimeter Center - Mostly shopping facilities:\n",
    "# Shopping Center Perimeter Mall, Wallmart Supercenter, Mastermind Escape Games, Hobby Lobby\n",
    "sandy_springs_perimeter_center = Polygon([\n",
    "    (-84.346402, 33.910700), (-84.362482, 33.914431), (-84.363731, 33.918990), (-84.360035, 33.918948),\n",
    "    (-84.359838, 33.929610), (-84.361736, 33.932622), (-84.361784, 33.933541), (-84.361854, 33.933727),\n",
    "    (-84.364093, 33.935311), (-84.367405, 33.936621), (-84.367405, 33.936621), (-84.366124, 33.943892),\n",
    "    (-84.366030, 33.944361), (-84.365476, 33.945573), (-84.357993, 33.945544), (-84.357881, 33.941539),\n",
    "    (-84.352702, 33.941476), (-84.352183, 33.943451), (-84.351393, 33.943519), (-84.351405, 33.943871),\n",
    "    (-84.350156, 33.943861), (-84.350179, 33.943587), (-84.348058, 33.943568), (-84.347717, 33.943050),\n",
    "    (-84.347710, 33.933398), (-84.346254, 33.933337), (-84.346230, 33.931989), (-84.344168, 33.932049),\n",
    "    (-84.344022, 33.934665), (-84.343173, 33.934464), (-84.339121, 33.934625), (-84.333822, 33.934252),\n",
    "    (-84.333498, 33.934240), (-84.331973, 33.933830), (-84.331931, 33.932811), (-84.332128, 33.932542),\n",
    "    (-84.331818, 33.932390), (-84.331493, 33.931938), (-84.331465, 33.931000), (-84.330766, 33.930971),\n",
    "    (-84.330762, 33.928679), (-84.330289, 33.928650), (-84.329507, 33.927956), (-84.328445, 33.927677),\n",
    "    (-84.327978, 33.927171), (-84.327677, 33.925931), (-84.328369, 33.925618), (-84.328376, 33.923131),\n",
    "    (-84.327829, 33.921202), (-84.327016, 33.921250), (-84.326856, 33.920142), (-84.335989, 33.918374),\n",
    "    (-84.335464, 33.912715), (-84.338407, 33.912768), (-84.338540, 33.910757)\n",
    "])\n",
    "\n",
    "sandy_springs_perimeter_center"
   ]
  },
  {
   "cell_type": "code",
   "execution_count": 13,
   "metadata": {},
   "outputs": [
    {
     "data": {
      "image/svg+xml": [
       "<svg xmlns=\"http://www.w3.org/2000/svg\" xmlns:xlink=\"http://www.w3.org/1999/xlink\" width=\"100.0\" height=\"100.0\" viewBox=\"-84.4653454 33.787593599999994 0.13042080000001022 0.10399380000001202\" preserveAspectRatio=\"xMinYMin meet\"><g transform=\"matrix(1,0,0,-1,0,67.679181)\"><path fill-rule=\"evenodd\" fill=\"#66cc99\" stroke=\"#555555\" stroke-width=\"0.0026084160000002044\" opacity=\"0.6\" d=\"M -84.393768,33.796485 L -84.413277,33.805354 L -84.414279,33.793394 L -84.416613,33.792424 L -84.433123,33.803924 L -84.438549,33.821659 L -84.420939,33.81461 L -84.423859,33.824808 L -84.428753,33.822388 L -84.455423,33.827032 L -84.460515,33.841305 L -84.456124,33.864782 L -84.442338,33.878963 L -84.406974,33.878794 L -84.407071,33.882988 L -84.401165,33.886757 L -84.397168,33.878255 L -84.368004,33.878174 L -84.364406,33.880496 L -84.36241,33.87668 L -84.348271,33.881985 L -84.342491,33.86567 L -84.343172,33.86133 L -84.339755,33.86069 L -84.352039,33.848583 L -84.34844,33.845847 L -84.348444,33.825604 L -84.359226,33.822417 L -84.366782,33.817225 L -84.366611,33.81366 L -84.393768,33.796485 z\" /></g></svg>"
      ],
      "text/plain": [
       "<shapely.geometry.polygon.Polygon at 0x7f155612c278>"
      ]
     },
     "execution_count": 13,
     "metadata": {},
     "output_type": "execute_result"
    }
   ],
   "source": [
    "# Neighborhood: Buckhead. Ranked 5th in Population +8k (2010, per WalkScore)\n",
    "buckhead = Polygon([\n",
    "    (-84.393768, 33.796485), (-84.413277, 33.805354), (-84.414279, 33.793394), (-84.416613, 33.792424),\n",
    "    (-84.433123, 33.803924), (-84.438549, 33.821659), (-84.420939, 33.814610), (-84.423859, 33.824808),\n",
    "    (-84.428753, 33.822388), (-84.455423, 33.827032), (-84.460515, 33.841305), (-84.456124, 33.864782),\n",
    "    (-84.442338, 33.878963), (-84.406974, 33.878794), (-84.407071, 33.882988), (-84.401165, 33.886757),\n",
    "    (-84.397168, 33.878255), (-84.368004, 33.878174), (-84.364406, 33.880496), (-84.362410, 33.876680),\n",
    "    (-84.348271, 33.881985), (-84.342491, 33.865670), (-84.343172, 33.861330), (-84.339755, 33.860690),\n",
    "    (-84.352039, 33.848583), (-84.348440, 33.845847), (-84.348444, 33.825604), (-84.359226, 33.822417),\n",
    "    (-84.366782, 33.817225), (-84.366611, 33.813660)\n",
    "])\n",
    "\n",
    "buckhead"
   ]
  },
  {
   "cell_type": "code",
   "execution_count": 14,
   "metadata": {},
   "outputs": [
    {
     "data": {
      "image/svg+xml": [
       "<svg xmlns=\"http://www.w3.org/2000/svg\" xmlns:xlink=\"http://www.w3.org/1999/xlink\" width=\"100.0\" height=\"100.0\" viewBox=\"-84.45893416 33.616803839999996 0.060079319999999825 0.04311332000000334\" preserveAspectRatio=\"xMinYMin meet\"><g transform=\"matrix(1,0,0,-1,0,67.276721)\"><path fill-rule=\"evenodd\" fill=\"#66cc99\" stroke=\"#555555\" stroke-width=\"0.0012015863999999966\" opacity=\"0.6\" d=\"M -84.414702,33.61952 L -84.451832,33.619029 L -84.451144,33.62142 L -84.44591,33.623089 L -84.448543,33.62959 L -84.45478,33.63005 L -84.456709,33.635485 L -84.451844,33.641996 L -84.443409,33.649377 L -84.437374,33.652094 L -84.4322,33.657475 L -84.429713,33.657426 L -84.427592,33.653181 L -84.421736,33.653108 L -84.41899,33.657692 L -84.401708,33.647451 L -84.40108,33.646555 L -84.403413,33.641003 L -84.402845,33.637268 L -84.404642,33.634478 L -84.414836,33.630963 L -84.417054,33.628195 L -84.415513,33.62428 L -84.417098,33.624131 L -84.416859,33.622587 L -84.414765,33.621316 L -84.414702,33.61952 z\" /></g></svg>"
      ],
      "text/plain": [
       "<shapely.geometry.polygon.Polygon at 0x7f15d064d320>"
      ]
     },
     "execution_count": 14,
     "metadata": {},
     "output_type": "execute_result"
    }
   ],
   "source": [
    "# Hartsfield-Jackson Atlanta International Airport\n",
    "airport = Polygon([\n",
    "    (-84.414702, 33.619520), (-84.451832, 33.619029), (-84.451144, 33.621420), (-84.445910, 33.623089),\n",
    "    (-84.448543, 33.629590), (-84.454780, 33.630050), (-84.456709, 33.635485), (-84.451844, 33.641996),\n",
    "    (-84.443409, 33.649377), (-84.437374, 33.652094), (-84.432200, 33.657475), (-84.429713, 33.657426),\n",
    "    (-84.427592, 33.653181), (-84.421736, 33.653108), (-84.418990, 33.657692), (-84.401708, 33.647451),\n",
    "    (-84.401080, 33.646555), (-84.403413, 33.641003), (-84.402845, 33.637268), (-84.404642, 33.634478),\n",
    "    (-84.414836, 33.630963), (-84.417054, 33.628195), (-84.415513, 33.624280), (-84.417098, 33.624131),\n",
    "    (-84.416859, 33.622587), (-84.414765, 33.621316)\n",
    "])\n",
    "\n",
    "airport"
   ]
  },
  {
   "cell_type": "code",
   "execution_count": 15,
   "metadata": {},
   "outputs": [],
   "source": [
    "hub_areas = [airport,\n",
    "             buckhead,\n",
    "             georgia_tech,\n",
    "             university_center,\n",
    "             sandy_springs_perimeter_center,\n",
    "             piedmont_shepherd_medical_center,\n",
    "             wellstar_northlake_medical_center]\n",
    "\n",
    "hub_areas_names = ['international_airport',\n",
    "                   'buckhead',\n",
    "                   'georgia_tech',\n",
    "                   'atlanta_university_center',\n",
    "                   'perimeter_center',\n",
    "                   'piedmont_shepherd_medical_center',\n",
    "                   'wellstar_northlake_medical_center']\n",
    "\n",
    "hub_area_linear_rings = {name: LinearRing(area.exterior.coords) for area, name in zip(hub_areas, hub_areas_names)}"
   ]
  },
  {
   "cell_type": "code",
   "execution_count": 16,
   "metadata": {
    "scrolled": false
   },
   "outputs": [
    {
     "data": {
      "image/png": "[encoded data removed]",
      "text/plain": [
       "<Figure size 1080x1224 with 1 Axes>"
      ]
     },
     "metadata": {},
     "output_type": "display_data"
    }
   ],
   "source": [
    "import geopandas as gpd\n",
    "import matplotlib.cm as cm\n",
    "\n",
    "colors = cm.rainbow(np.linspace(0, 1, len(hub_areas)+1))\n",
    "bbox = {'facecolor':'white', 'alpha':0.3}\n",
    "\n",
    "gdf = gpd.GeoDataFrame({'geometry': [center_polygon_latlon] + hub_areas, 'name': ['city_center'] + hub_areas_names})\n",
    "gdf['mid_coords'] = gdf.apply(lambda row: row.geometry.representative_point().coords[:][0], axis=1)\n",
    "\n",
    "gdf.plot(color=colors, figsize=(15, 17))\n",
    "\n",
    "_ = gdf.apply(lambda row: plt.annotate(s=row['name'], xy=row['mid_coords'], ha='center', fontsize=14, bbox=bbox), axis=1)"
   ]
  },
  {
   "cell_type": "code",
   "execution_count": 17,
   "metadata": {},
   "outputs": [],
   "source": [
    "def distance_to_area_havr(lon, lat, area):\n",
    "    # Closest border point considering a 2D, cartesian plane\n",
    "    distance_in_polygon_ring = hub_area_linear_rings[name].project(Point(lon, lat))\n",
    "    closest_latlon_in_border = hub_area_linear_rings[name].interpolate(distance_in_polygon_ring)\n",
    "    \n",
    "    closest_point_lon = closest_latlon_in_border.coords[0][0]\n",
    "    closest_point_lat = closest_latlon_in_border.coords[0][1]\n",
    "    # Haversine distance, projecting the border point spherically\n",
    "    return haversine(lon, lat, closest_point_lon, closest_point_lat)"
   ]
  },
  {
   "cell_type": "code",
   "execution_count": 18,
   "metadata": {},
   "outputs": [],
   "source": [
    "def distance_to_area_mid_havr(lon, lat, area):\n",
    "    mid_point_lon = area.representative_point().coords[:][0][0]\n",
    "    mid_point_lat = area.representative_point().coords[:][0][1]\n",
    "    return haversine(lon, lat, mid_point_lon, mid_point_lat)"
   ]
  },
  {
   "cell_type": "code",
   "execution_count": 19,
   "metadata": {},
   "outputs": [],
   "source": [
    "def crossed_area(x1, y1, x2, y2, area):\n",
    "    if any(np.isnan([x1, y1, x2, y2])):\n",
    "           return np.nan\n",
    "    return 1 if LineString([(x1, y1), (x2, y2)]).intersects(area) else 0"
   ]
  },
  {
   "cell_type": "code",
   "execution_count": 95,
   "metadata": {},
   "outputs": [
    {
     "data": {
      "application/vnd.jupyter.widget-view+json": {
       "model_id": "376535017a9349f1a88691140934f27c",
       "version_major": 2,
       "version_minor": 0
      },
      "text/plain": [
       "HBox(children=(IntProgress(value=0, max=1017199), HTML(value='')))"
      ]
     },
     "metadata": {},
     "output_type": "display_data"
    },
    {
     "name": "stdout",
     "output_type": "stream",
     "text": [
      "\n"
     ]
    },
    {
     "data": {
      "application/vnd.jupyter.widget-view+json": {
       "model_id": "3067baee018948629777c011f96a3d24",
       "version_major": 2,
       "version_minor": 0
      },
      "text/plain": [
       "HBox(children=(IntProgress(value=0, max=1017199), HTML(value='')))"
      ]
     },
     "metadata": {},
     "output_type": "display_data"
    },
    {
     "name": "stdout",
     "output_type": "stream",
     "text": [
      "\n"
     ]
    },
    {
     "data": {
      "application/vnd.jupyter.widget-view+json": {
       "model_id": "108e907b2d3e4eb19820dcbd129ca149",
       "version_major": 2,
       "version_minor": 0
      },
      "text/plain": [
       "HBox(children=(IntProgress(value=0, max=1017199), HTML(value='')))"
      ]
     },
     "metadata": {},
     "output_type": "display_data"
    },
    {
     "name": "stdout",
     "output_type": "stream",
     "text": [
      "\n"
     ]
    },
    {
     "data": {
      "application/vnd.jupyter.widget-view+json": {
       "model_id": "6e3cc4cd29484faa89e891db4de9fb42",
       "version_major": 2,
       "version_minor": 0
      },
      "text/plain": [
       "HBox(children=(IntProgress(value=0, max=1017199), HTML(value='')))"
      ]
     },
     "metadata": {},
     "output_type": "display_data"
    },
    {
     "name": "stdout",
     "output_type": "stream",
     "text": [
      "\n"
     ]
    },
    {
     "data": {
      "application/vnd.jupyter.widget-view+json": {
       "model_id": "2f3f7f1cf72e4f6493b2d361676d8e68",
       "version_major": 2,
       "version_minor": 0
      },
      "text/plain": [
       "HBox(children=(IntProgress(value=0, max=1017199), HTML(value='')))"
      ]
     },
     "metadata": {},
     "output_type": "display_data"
    },
    {
     "name": "stdout",
     "output_type": "stream",
     "text": [
      "\n"
     ]
    },
    {
     "data": {
      "application/vnd.jupyter.widget-view+json": {
       "model_id": "857cc774645e418086d815d04dc2b1d1",
       "version_major": 2,
       "version_minor": 0
      },
      "text/plain": [
       "HBox(children=(IntProgress(value=0, max=1017199), HTML(value='')))"
      ]
     },
     "metadata": {},
     "output_type": "display_data"
    },
    {
     "name": "stdout",
     "output_type": "stream",
     "text": [
      "\n"
     ]
    },
    {
     "data": {
      "application/vnd.jupyter.widget-view+json": {
       "model_id": "6149f6f3275a4c5ab13c0b09e987686c",
       "version_major": 2,
       "version_minor": 0
      },
      "text/plain": [
       "HBox(children=(IntProgress(value=0, max=1017199), HTML(value='')))"
      ]
     },
     "metadata": {},
     "output_type": "display_data"
    },
    {
     "name": "stdout",
     "output_type": "stream",
     "text": [
      "\n"
     ]
    },
    {
     "data": {
      "application/vnd.jupyter.widget-view+json": {
       "model_id": "69cd977fd58c4a27a59a5b0b953d65d7",
       "version_major": 2,
       "version_minor": 0
      },
      "text/plain": [
       "HBox(children=(IntProgress(value=0, max=1017199), HTML(value='')))"
      ]
     },
     "metadata": {},
     "output_type": "display_data"
    },
    {
     "name": "stdout",
     "output_type": "stream",
     "text": [
      "\n"
     ]
    },
    {
     "data": {
      "application/vnd.jupyter.widget-view+json": {
       "model_id": "7d1976ed31d84582af0b661986de98de",
       "version_major": 2,
       "version_minor": 0
      },
      "text/plain": [
       "HBox(children=(IntProgress(value=0, max=1017199), HTML(value='')))"
      ]
     },
     "metadata": {},
     "output_type": "display_data"
    },
    {
     "name": "stdout",
     "output_type": "stream",
     "text": [
      "\n"
     ]
    },
    {
     "data": {
      "application/vnd.jupyter.widget-view+json": {
       "model_id": "d1e26e535ada46a9ba7685988987138c",
       "version_major": 2,
       "version_minor": 0
      },
      "text/plain": [
       "HBox(children=(IntProgress(value=0, max=1017199), HTML(value='')))"
      ]
     },
     "metadata": {},
     "output_type": "display_data"
    },
    {
     "name": "stdout",
     "output_type": "stream",
     "text": [
      "\n"
     ]
    },
    {
     "data": {
      "application/vnd.jupyter.widget-view+json": {
       "model_id": "2383c47e9612483d932eba1d0a9a56eb",
       "version_major": 2,
       "version_minor": 0
      },
      "text/plain": [
       "HBox(children=(IntProgress(value=0, max=1017199), HTML(value='')))"
      ]
     },
     "metadata": {},
     "output_type": "display_data"
    },
    {
     "name": "stdout",
     "output_type": "stream",
     "text": [
      "\n"
     ]
    },
    {
     "data": {
      "application/vnd.jupyter.widget-view+json": {
       "model_id": "860e8dba7e3e4d4a8a668a5bd3e762e6",
       "version_major": 2,
       "version_minor": 0
      },
      "text/plain": [
       "HBox(children=(IntProgress(value=0, max=1017199), HTML(value='')))"
      ]
     },
     "metadata": {},
     "output_type": "display_data"
    },
    {
     "name": "stdout",
     "output_type": "stream",
     "text": [
      "\n"
     ]
    },
    {
     "data": {
      "application/vnd.jupyter.widget-view+json": {
       "model_id": "71b7fb3ec99f473097d4a6541b654ed0",
       "version_major": 2,
       "version_minor": 0
      },
      "text/plain": [
       "HBox(children=(IntProgress(value=0, max=1017199), HTML(value='')))"
      ]
     },
     "metadata": {},
     "output_type": "display_data"
    },
    {
     "name": "stdout",
     "output_type": "stream",
     "text": [
      "\n"
     ]
    },
    {
     "data": {
      "application/vnd.jupyter.widget-view+json": {
       "model_id": "25c45a184f5a4cc387441b2c44c2f81b",
       "version_major": 2,
       "version_minor": 0
      },
      "text/plain": [
       "HBox(children=(IntProgress(value=0, max=1017199), HTML(value='')))"
      ]
     },
     "metadata": {},
     "output_type": "display_data"
    },
    {
     "name": "stdout",
     "output_type": "stream",
     "text": [
      "\n"
     ]
    },
    {
     "data": {
      "application/vnd.jupyter.widget-view+json": {
       "model_id": "ed08b53a17ed427fb21dc1d1363e7f4b",
       "version_major": 2,
       "version_minor": 0
      },
      "text/plain": [
       "HBox(children=(IntProgress(value=0, max=1017199), HTML(value='')))"
      ]
     },
     "metadata": {},
     "output_type": "display_data"
    },
    {
     "name": "stdout",
     "output_type": "stream",
     "text": [
      "\n"
     ]
    },
    {
     "data": {
      "application/vnd.jupyter.widget-view+json": {
       "model_id": "648cdf67ad6943ce9c02277f848b1fd2",
       "version_major": 2,
       "version_minor": 0
      },
      "text/plain": [
       "HBox(children=(IntProgress(value=0, max=1017199), HTML(value='')))"
      ]
     },
     "metadata": {},
     "output_type": "display_data"
    },
    {
     "name": "stdout",
     "output_type": "stream",
     "text": [
      "\n"
     ]
    },
    {
     "data": {
      "application/vnd.jupyter.widget-view+json": {
       "model_id": "2ce23d6fc2b44890ab73ef1c9015921c",
       "version_major": 2,
       "version_minor": 0
      },
      "text/plain": [
       "HBox(children=(IntProgress(value=0, max=1017199), HTML(value='')))"
      ]
     },
     "metadata": {},
     "output_type": "display_data"
    },
    {
     "name": "stdout",
     "output_type": "stream",
     "text": [
      "\n"
     ]
    },
    {
     "data": {
      "application/vnd.jupyter.widget-view+json": {
       "model_id": "d3dfa7ecf8304678b136d064e10d8288",
       "version_major": 2,
       "version_minor": 0
      },
      "text/plain": [
       "HBox(children=(IntProgress(value=0, max=1017199), HTML(value='')))"
      ]
     },
     "metadata": {},
     "output_type": "display_data"
    },
    {
     "name": "stdout",
     "output_type": "stream",
     "text": [
      "\n"
     ]
    },
    {
     "data": {
      "application/vnd.jupyter.widget-view+json": {
       "model_id": "db47f018aa01418cafafaf53d0b2ba05",
       "version_major": 2,
       "version_minor": 0
      },
      "text/plain": [
       "HBox(children=(IntProgress(value=0, max=1017199), HTML(value='')))"
      ]
     },
     "metadata": {},
     "output_type": "display_data"
    },
    {
     "name": "stdout",
     "output_type": "stream",
     "text": [
      "\n"
     ]
    },
    {
     "data": {
      "application/vnd.jupyter.widget-view+json": {
       "model_id": "5148602a2f834c3cbbe7b8919cbf77a4",
       "version_major": 2,
       "version_minor": 0
      },
      "text/plain": [
       "HBox(children=(IntProgress(value=0, max=1017199), HTML(value='')))"
      ]
     },
     "metadata": {},
     "output_type": "display_data"
    },
    {
     "name": "stdout",
     "output_type": "stream",
     "text": [
      "\n"
     ]
    },
    {
     "data": {
      "application/vnd.jupyter.widget-view+json": {
       "model_id": "92206cacda934015b1c35198bfd545d4",
       "version_major": 2,
       "version_minor": 0
      },
      "text/plain": [
       "HBox(children=(IntProgress(value=0, max=1017199), HTML(value='')))"
      ]
     },
     "metadata": {},
     "output_type": "display_data"
    },
    {
     "name": "stdout",
     "output_type": "stream",
     "text": [
      "\n",
      "Time elapsed: 5490.155202627182\n"
     ]
    },
    {
     "data": {
      "text/html": [
       "<div>\n",
       "<style scoped>\n",
       "    .dataframe tbody tr th:only-of-type {\n",
       "        vertical-align: middle;\n",
       "    }\n",
       "\n",
       "    .dataframe tbody tr th {\n",
       "        vertical-align: top;\n",
       "    }\n",
       "\n",
       "    .dataframe thead th {\n",
       "        text-align: right;\n",
       "    }\n",
       "</style>\n",
       "<table border=\"1\" class=\"dataframe\">\n",
       "  <thead>\n",
       "    <tr style=\"text-align: right;\">\n",
       "      <th></th>\n",
       "      <th>hash</th>\n",
       "      <th>trajectory_id</th>\n",
       "      <th>time_entry</th>\n",
       "      <th>time_exit</th>\n",
       "      <th>vmax</th>\n",
       "      <th>vmin</th>\n",
       "      <th>vmean</th>\n",
       "      <th>x_entry</th>\n",
       "      <th>y_entry</th>\n",
       "      <th>x_exit</th>\n",
       "      <th>...</th>\n",
       "      <th>is_inside_city_exit</th>\n",
       "      <th>leaving_city</th>\n",
       "      <th>entering_city</th>\n",
       "      <th>havr_mid_international_airport_exit</th>\n",
       "      <th>havr_mid_buckhead_exit</th>\n",
       "      <th>havr_mid_georgia_tech_exit</th>\n",
       "      <th>havr_mid_atlanta_university_center_exit</th>\n",
       "      <th>havr_mid_perimeter_center_exit</th>\n",
       "      <th>havr_mid_piedmont_shepherd_medical_center_exit</th>\n",
       "      <th>havr_mid_wellstar_northlake_medical_center_exit</th>\n",
       "    </tr>\n",
       "  </thead>\n",
       "  <tbody>\n",
       "    <tr>\n",
       "      <th>0</th>\n",
       "      <td>0000a8602cf2def930488dee7cdad104_1</td>\n",
       "      <td>traj_0000a8602cf2def930488dee7cdad104_1_0</td>\n",
       "      <td>07:04:31</td>\n",
       "      <td>07:08:32</td>\n",
       "      <td>NaN</td>\n",
       "      <td>NaN</td>\n",
       "      <td>NaN</td>\n",
       "      <td>3.751014e+06</td>\n",
       "      <td>-1.909398e+07</td>\n",
       "      <td>3.750326e+06</td>\n",
       "      <td>...</td>\n",
       "      <td>0</td>\n",
       "      <td>0</td>\n",
       "      <td>0</td>\n",
       "      <td>11332.475342</td>\n",
       "      <td>10789.983621</td>\n",
       "      <td>11004.716105</td>\n",
       "      <td>11030.442737</td>\n",
       "      <td>10736.625991</td>\n",
       "      <td>10902.592504</td>\n",
       "      <td>11142.863611</td>\n",
       "    </tr>\n",
       "    <tr>\n",
       "      <th>1</th>\n",
       "      <td>0000a8602cf2def930488dee7cdad104_1</td>\n",
       "      <td>traj_0000a8602cf2def930488dee7cdad104_1_1</td>\n",
       "      <td>07:20:34</td>\n",
       "      <td>07:25:42</td>\n",
       "      <td>NaN</td>\n",
       "      <td>NaN</td>\n",
       "      <td>NaN</td>\n",
       "      <td>3.743937e+06</td>\n",
       "      <td>-1.932247e+07</td>\n",
       "      <td>3.744975e+06</td>\n",
       "      <td>...</td>\n",
       "      <td>0</td>\n",
       "      <td>0</td>\n",
       "      <td>0</td>\n",
       "      <td>10674.718709</td>\n",
       "      <td>10294.196223</td>\n",
       "      <td>10461.748906</td>\n",
       "      <td>10460.432108</td>\n",
       "      <td>10341.387650</td>\n",
       "      <td>10388.099246</td>\n",
       "      <td>10596.207039</td>\n",
       "    </tr>\n",
       "    <tr>\n",
       "      <th>2</th>\n",
       "      <td>0000a8602cf2def930488dee7cdad104_1</td>\n",
       "      <td>traj_0000a8602cf2def930488dee7cdad104_1_2</td>\n",
       "      <td>07:53:32</td>\n",
       "      <td>08:03:25</td>\n",
       "      <td>NaN</td>\n",
       "      <td>NaN</td>\n",
       "      <td>NaN</td>\n",
       "      <td>3.744868e+06</td>\n",
       "      <td>-1.929356e+07</td>\n",
       "      <td>3.744816e+06</td>\n",
       "      <td>...</td>\n",
       "      <td>0</td>\n",
       "      <td>0</td>\n",
       "      <td>0</td>\n",
       "      <td>10798.801984</td>\n",
       "      <td>10401.244225</td>\n",
       "      <td>10574.031122</td>\n",
       "      <td>10575.544704</td>\n",
       "      <td>10437.234594</td>\n",
       "      <td>10497.271075</td>\n",
       "      <td>10709.008623</td>\n",
       "    </tr>\n",
       "    <tr>\n",
       "      <th>3</th>\n",
       "      <td>0000a8602cf2def930488dee7cdad104_1</td>\n",
       "      <td>traj_0000a8602cf2def930488dee7cdad104_1_3</td>\n",
       "      <td>08:17:50</td>\n",
       "      <td>08:37:23</td>\n",
       "      <td>NaN</td>\n",
       "      <td>NaN</td>\n",
       "      <td>NaN</td>\n",
       "      <td>3.744880e+06</td>\n",
       "      <td>-1.929229e+07</td>\n",
       "      <td>3.744809e+06</td>\n",
       "      <td>...</td>\n",
       "      <td>0</td>\n",
       "      <td>0</td>\n",
       "      <td>0</td>\n",
       "      <td>10809.476533</td>\n",
       "      <td>10410.365493</td>\n",
       "      <td>10583.626358</td>\n",
       "      <td>10585.398164</td>\n",
       "      <td>10445.341816</td>\n",
       "      <td>10506.584085</td>\n",
       "      <td>10718.649684</td>\n",
       "    </tr>\n",
       "    <tr>\n",
       "      <th>4</th>\n",
       "      <td>0000a8602cf2def930488dee7cdad104_1</td>\n",
       "      <td>traj_0000a8602cf2def930488dee7cdad104_1_4</td>\n",
       "      <td>14:38:09</td>\n",
       "      <td>14:38:09</td>\n",
       "      <td>NaN</td>\n",
       "      <td>NaN</td>\n",
       "      <td>NaN</td>\n",
       "      <td>3.744909e+06</td>\n",
       "      <td>-1.928558e+07</td>\n",
       "      <td>3.744909e+06</td>\n",
       "      <td>...</td>\n",
       "      <td>0</td>\n",
       "      <td>0</td>\n",
       "      <td>0</td>\n",
       "      <td>10828.080855</td>\n",
       "      <td>10424.883151</td>\n",
       "      <td>10599.356773</td>\n",
       "      <td>10601.801191</td>\n",
       "      <td>10457.333917</td>\n",
       "      <td>10521.589143</td>\n",
       "      <td>10734.497681</td>\n",
       "    </tr>\n",
       "    <tr>\n",
       "      <th>5</th>\n",
       "      <td>0000a8602cf2def930488dee7cdad104_1</td>\n",
       "      <td>traj_0000a8602cf2def930488dee7cdad104_1_5</td>\n",
       "      <td>15:02:31</td>\n",
       "      <td>15:18:33</td>\n",
       "      <td>NaN</td>\n",
       "      <td>NaN</td>\n",
       "      <td>NaN</td>\n",
       "      <td>3.744945e+06</td>\n",
       "      <td>-1.928183e+07</td>\n",
       "      <td>3.744785e+06</td>\n",
       "      <td>...</td>\n",
       "      <td>0</td>\n",
       "      <td>0</td>\n",
       "      <td>0</td>\n",
       "      <td>10850.269405</td>\n",
       "      <td>10445.195491</td>\n",
       "      <td>10620.273630</td>\n",
       "      <td>10623.037581</td>\n",
       "      <td>10476.278045</td>\n",
       "      <td>10542.148615</td>\n",
       "      <td>10755.470659</td>\n",
       "    </tr>\n",
       "    <tr>\n",
       "      <th>6</th>\n",
       "      <td>0000cf177130469eeac79f67b6bcf3df_9</td>\n",
       "      <td>traj_0000cf177130469eeac79f67b6bcf3df_9_0</td>\n",
       "      <td>14:29:23</td>\n",
       "      <td>14:29:23</td>\n",
       "      <td>0.000000</td>\n",
       "      <td>0.000000</td>\n",
       "      <td>0.000000</td>\n",
       "      <td>3.749450e+06</td>\n",
       "      <td>-1.926506e+07</td>\n",
       "      <td>3.749450e+06</td>\n",
       "      <td>...</td>\n",
       "      <td>0</td>\n",
       "      <td>0</td>\n",
       "      <td>0</td>\n",
       "      <td>10776.943044</td>\n",
       "      <td>10326.254189</td>\n",
       "      <td>10513.831106</td>\n",
       "      <td>10523.942301</td>\n",
       "      <td>10333.191411</td>\n",
       "      <td>10428.119333</td>\n",
       "      <td>10650.176933</td>\n",
       "    </tr>\n",
       "    <tr>\n",
       "      <th>7</th>\n",
       "      <td>0000cf177130469eeac79f67b6bcf3df_9</td>\n",
       "      <td>traj_0000cf177130469eeac79f67b6bcf3df_9_1</td>\n",
       "      <td>14:39:49</td>\n",
       "      <td>14:39:49</td>\n",
       "      <td>0.000000</td>\n",
       "      <td>0.000000</td>\n",
       "      <td>0.000000</td>\n",
       "      <td>3.749090e+06</td>\n",
       "      <td>-1.926726e+07</td>\n",
       "      <td>3.749090e+06</td>\n",
       "      <td>...</td>\n",
       "      <td>0</td>\n",
       "      <td>0</td>\n",
       "      <td>0</td>\n",
       "      <td>10778.243241</td>\n",
       "      <td>10331.673698</td>\n",
       "      <td>10518.106657</td>\n",
       "      <td>10527.546333</td>\n",
       "      <td>10340.888806</td>\n",
       "      <td>10433.089052</td>\n",
       "      <td>10654.355453</td>\n",
       "    </tr>\n",
       "    <tr>\n",
       "      <th>8</th>\n",
       "      <td>0000cf177130469eeac79f67b6bcf3df_9</td>\n",
       "      <td>traj_0000cf177130469eeac79f67b6bcf3df_9_2</td>\n",
       "      <td>14:50:14</td>\n",
       "      <td>14:50:14</td>\n",
       "      <td>0.507809</td>\n",
       "      <td>0.507809</td>\n",
       "      <td>0.507809</td>\n",
       "      <td>3.749042e+06</td>\n",
       "      <td>-1.926632e+07</td>\n",
       "      <td>3.749042e+06</td>\n",
       "      <td>...</td>\n",
       "      <td>0</td>\n",
       "      <td>0</td>\n",
       "      <td>0</td>\n",
       "      <td>10783.947197</td>\n",
       "      <td>10337.106182</td>\n",
       "      <td>10523.634308</td>\n",
       "      <td>10533.122612</td>\n",
       "      <td>10346.083942</td>\n",
       "      <td>10438.560834</td>\n",
       "      <td>10659.890514</td>\n",
       "    </tr>\n",
       "    <tr>\n",
       "      <th>9</th>\n",
       "      <td>0000cf177130469eeac79f67b6bcf3df_9</td>\n",
       "      <td>traj_0000cf177130469eeac79f67b6bcf3df_9_3</td>\n",
       "      <td>15:00:32</td>\n",
       "      <td>15:29:48</td>\n",
       "      <td>1.149404</td>\n",
       "      <td>1.149404</td>\n",
       "      <td>1.149404</td>\n",
       "      <td>3.749088e+06</td>\n",
       "      <td>-1.926605e+07</td>\n",
       "      <td>3.749610e+06</td>\n",
       "      <td>...</td>\n",
       "      <td>0</td>\n",
       "      <td>0</td>\n",
       "      <td>0</td>\n",
       "      <td>10767.993252</td>\n",
       "      <td>10316.707829</td>\n",
       "      <td>10504.420571</td>\n",
       "      <td>10514.622436</td>\n",
       "      <td>10323.446899</td>\n",
       "      <td>10418.623545</td>\n",
       "      <td>10640.778884</td>\n",
       "    </tr>\n",
       "  </tbody>\n",
       "</table>\n",
       "<p>10 rows × 170 columns</p>\n",
       "</div>"
      ],
      "text/plain": [
       "                                 hash  \\\n",
       "0  0000a8602cf2def930488dee7cdad104_1   \n",
       "1  0000a8602cf2def930488dee7cdad104_1   \n",
       "2  0000a8602cf2def930488dee7cdad104_1   \n",
       "3  0000a8602cf2def930488dee7cdad104_1   \n",
       "4  0000a8602cf2def930488dee7cdad104_1   \n",
       "5  0000a8602cf2def930488dee7cdad104_1   \n",
       "6  0000cf177130469eeac79f67b6bcf3df_9   \n",
       "7  0000cf177130469eeac79f67b6bcf3df_9   \n",
       "8  0000cf177130469eeac79f67b6bcf3df_9   \n",
       "9  0000cf177130469eeac79f67b6bcf3df_9   \n",
       "\n",
       "                               trajectory_id time_entry time_exit      vmax  \\\n",
       "0  traj_0000a8602cf2def930488dee7cdad104_1_0   07:04:31  07:08:32       NaN   \n",
       "1  traj_0000a8602cf2def930488dee7cdad104_1_1   07:20:34  07:25:42       NaN   \n",
       "2  traj_0000a8602cf2def930488dee7cdad104_1_2   07:53:32  08:03:25       NaN   \n",
       "3  traj_0000a8602cf2def930488dee7cdad104_1_3   08:17:50  08:37:23       NaN   \n",
       "4  traj_0000a8602cf2def930488dee7cdad104_1_4   14:38:09  14:38:09       NaN   \n",
       "5  traj_0000a8602cf2def930488dee7cdad104_1_5   15:02:31  15:18:33       NaN   \n",
       "6  traj_0000cf177130469eeac79f67b6bcf3df_9_0   14:29:23  14:29:23  0.000000   \n",
       "7  traj_0000cf177130469eeac79f67b6bcf3df_9_1   14:39:49  14:39:49  0.000000   \n",
       "8  traj_0000cf177130469eeac79f67b6bcf3df_9_2   14:50:14  14:50:14  0.507809   \n",
       "9  traj_0000cf177130469eeac79f67b6bcf3df_9_3   15:00:32  15:29:48  1.149404   \n",
       "\n",
       "       vmin     vmean       x_entry       y_entry        x_exit  ...  \\\n",
       "0       NaN       NaN  3.751014e+06 -1.909398e+07  3.750326e+06  ...   \n",
       "1       NaN       NaN  3.743937e+06 -1.932247e+07  3.744975e+06  ...   \n",
       "2       NaN       NaN  3.744868e+06 -1.929356e+07  3.744816e+06  ...   \n",
       "3       NaN       NaN  3.744880e+06 -1.929229e+07  3.744809e+06  ...   \n",
       "4       NaN       NaN  3.744909e+06 -1.928558e+07  3.744909e+06  ...   \n",
       "5       NaN       NaN  3.744945e+06 -1.928183e+07  3.744785e+06  ...   \n",
       "6  0.000000  0.000000  3.749450e+06 -1.926506e+07  3.749450e+06  ...   \n",
       "7  0.000000  0.000000  3.749090e+06 -1.926726e+07  3.749090e+06  ...   \n",
       "8  0.507809  0.507809  3.749042e+06 -1.926632e+07  3.749042e+06  ...   \n",
       "9  1.149404  1.149404  3.749088e+06 -1.926605e+07  3.749610e+06  ...   \n",
       "\n",
       "   is_inside_city_exit leaving_city  entering_city  \\\n",
       "0                    0            0              0   \n",
       "1                    0            0              0   \n",
       "2                    0            0              0   \n",
       "3                    0            0              0   \n",
       "4                    0            0              0   \n",
       "5                    0            0              0   \n",
       "6                    0            0              0   \n",
       "7                    0            0              0   \n",
       "8                    0            0              0   \n",
       "9                    0            0              0   \n",
       "\n",
       "   havr_mid_international_airport_exit havr_mid_buckhead_exit  \\\n",
       "0                         11332.475342           10789.983621   \n",
       "1                         10674.718709           10294.196223   \n",
       "2                         10798.801984           10401.244225   \n",
       "3                         10809.476533           10410.365493   \n",
       "4                         10828.080855           10424.883151   \n",
       "5                         10850.269405           10445.195491   \n",
       "6                         10776.943044           10326.254189   \n",
       "7                         10778.243241           10331.673698   \n",
       "8                         10783.947197           10337.106182   \n",
       "9                         10767.993252           10316.707829   \n",
       "\n",
       "   havr_mid_georgia_tech_exit  havr_mid_atlanta_university_center_exit  \\\n",
       "0                11004.716105                             11030.442737   \n",
       "1                10461.748906                             10460.432108   \n",
       "2                10574.031122                             10575.544704   \n",
       "3                10583.626358                             10585.398164   \n",
       "4                10599.356773                             10601.801191   \n",
       "5                10620.273630                             10623.037581   \n",
       "6                10513.831106                             10523.942301   \n",
       "7                10518.106657                             10527.546333   \n",
       "8                10523.634308                             10533.122612   \n",
       "9                10504.420571                             10514.622436   \n",
       "\n",
       "   havr_mid_perimeter_center_exit  \\\n",
       "0                    10736.625991   \n",
       "1                    10341.387650   \n",
       "2                    10437.234594   \n",
       "3                    10445.341816   \n",
       "4                    10457.333917   \n",
       "5                    10476.278045   \n",
       "6                    10333.191411   \n",
       "7                    10340.888806   \n",
       "8                    10346.083942   \n",
       "9                    10323.446899   \n",
       "\n",
       "   havr_mid_piedmont_shepherd_medical_center_exit  \\\n",
       "0                                    10902.592504   \n",
       "1                                    10388.099246   \n",
       "2                                    10497.271075   \n",
       "3                                    10506.584085   \n",
       "4                                    10521.589143   \n",
       "5                                    10542.148615   \n",
       "6                                    10428.119333   \n",
       "7                                    10433.089052   \n",
       "8                                    10438.560834   \n",
       "9                                    10418.623545   \n",
       "\n",
       "   havr_mid_wellstar_northlake_medical_center_exit  \n",
       "0                                     11142.863611  \n",
       "1                                     10596.207039  \n",
       "2                                     10709.008623  \n",
       "3                                     10718.649684  \n",
       "4                                     10734.497681  \n",
       "5                                     10755.470659  \n",
       "6                                     10650.176933  \n",
       "7                                     10654.355453  \n",
       "8                                     10659.890514  \n",
       "9                                     10640.778884  \n",
       "\n",
       "[10 rows x 170 columns]"
      ]
     },
     "execution_count": 95,
     "metadata": {},
     "output_type": "execute_result"
    }
   ],
   "source": [
    "import time\n",
    "start = time.time()\n",
    "\n",
    "for area, name in zip(hub_areas, hub_areas_names):\n",
    "    \n",
    "    #data[f'is_in_{name}_entry'] = data.progress_apply(\n",
    "    #    lambda row: area.contains(Point(row.x_entry, row.y_entry)),\n",
    "    #    axis=1\n",
    "    #)\n",
    "    \n",
    "    #data[f'is_in_{name}_exit'] = data.progress_apply(\n",
    "    #    lambda row: area.contains(Point(row.x_exit, row.y_exit)),\n",
    "    #    axis=1\n",
    "    #)\n",
    "    \n",
    "    #data[f'havr_{name}_entry'] = data.progress_apply(\n",
    "    #    lambda row: distance_to_area_havr(row.lon_entry, row.lat_entry, name),\n",
    "    #    axis=1\n",
    "    #)\n",
    "    \n",
    "    #data[f'havr_{name}_exit'] = data.progress_apply(\n",
    "    #    lambda row: distance_to_area_havr(row.lon_exit, row.lat_exit, name),\n",
    "    #    axis=1\n",
    "    #)\n",
    "    \n",
    "    data[f'havr_mid_{name}_entry'] = data.progress_apply(\n",
    "        lambda row: distance_to_area_mid_havr(row.lon_entry, row.lat_entry, area),\n",
    "        axis=1\n",
    "    )\n",
    "    \n",
    "    data[f'havr_mid_{name}_exit'] = data.progress_apply(\n",
    "        lambda row: distance_to_area_mid_havr(row.lon_exit, row.lat_exit, area),\n",
    "        axis=1\n",
    "    )\n",
    "    \n",
    "    #data[f'crossed_{name}'] = data.progress_apply(\n",
    "    #    lambda row: crossed_area(row.x_entry, row.y_entry, row.x_exit, row.y_exit, area),\n",
    "    #    axis=1\n",
    "    #)\n",
    "    \n",
    "    data[f'{name}_permanency'] = data.progress_apply(lambda row: center_permanency(row, polygon=area), axis=1)\n",
    "\n",
    "hub_areas_leakage = [\n",
    "    x for x in data.columns if any(n in x for n in hub_areas_names) and any(s in x for s in ['crossed', 'permanency', 'exit'])\n",
    "]\n",
    "\n",
    "print('Time elapsed: {}'.format(time.time() - start))\n",
    "data.head(10)"
   ]
  },
  {
   "cell_type": "markdown",
   "metadata": {},
   "source": [
    "##### <a id='4-?-?-2'>4.?.?.2 Hub Points - Companies</a>\n",
    "\n",
    "Most of the individual hubs - companies, universities, hospitals, banks etc - in Atlanta are sparsely distributed. Discovering wide areas with clusters of hospitals, hotels and other facilities is not enough to account for the majority of structures spread throughout the city space.\n",
    "\n",
    "Therefore, let's map what we deem to be the most independently important points, starting by **biggest companies headquartered in Atlanta**."
   ]
  },
  {
   "cell_type": "code",
   "execution_count": 21,
   "metadata": {},
   "outputs": [
    {
     "name": "stdout",
     "output_type": "stream",
     "text": [
      "Requirement already satisfied: geog in /home/ec2-user/anaconda3/envs/python3/lib/python3.6/site-packages (0.0.2)\n",
      "Requirement already satisfied: numpy in /home/ec2-user/anaconda3/envs/python3/lib/python3.6/site-packages (from geog) (1.15.4)\n",
      "\u001b[31msagemaker 1.19.0 requires protobuf>=3.1, which is not installed.\u001b[0m\n",
      "\u001b[31mrequests-kerberos 0.12.0 requires pykerberos<2.0.0,>=1.1.8; sys_platform != \"win32\", which is not installed.\u001b[0m\n",
      "\u001b[31mprotobuf3-to-dict 0.1.5 requires protobuf>=2.3.0, which is not installed.\u001b[0m\n",
      "\u001b[33mYou are using pip version 10.0.1, however version 19.1.1 is available.\n",
      "You should consider upgrading via the 'pip install --upgrade pip' command.\u001b[0m\n"
     ]
    }
   ],
   "source": [
    "!pip install geog"
   ]
  },
  {
   "cell_type": "code",
   "execution_count": 22,
   "metadata": {},
   "outputs": [],
   "source": [
    "import geog\n",
    "\n",
    "def radius_around(lon, lat, meters=150):\n",
    "    center = Point(lon, lat)\n",
    "    \n",
    "    n_points_in_radius_countour = meters\n",
    "    angles = np.linspace(0, 360, n_points_in_radius_countour)\n",
    "    \n",
    "    return Polygon(geog.propagate(center, angles, meters))"
   ]
  },
  {
   "cell_type": "code",
   "execution_count": 23,
   "metadata": {},
   "outputs": [],
   "source": [
    "# Biggest Company Headquarted in Atlanta: The Home Depot\n",
    "# 400k employees (as per Zippia, 2018)\n",
    "\n",
    "home_depot = {\n",
    "    'id': 'home_depot',\n",
    "    'labeled_radius': [\n",
    "        (radius_around(-84.481507, 33.866303), None),\n",
    "        (radius_around(-84.476268, 33.862436), None),\n",
    "        (radius_around(-84.276796, 33.928848), None),\n",
    "        (radius_around(-84.363365, 33.828984), None),\n",
    "        (radius_around(-84.371127, 33.781003), None),\n",
    "        (radius_around(-84.503138, 33.732405), None)\n",
    "    ]\n",
    "}"
   ]
  },
  {
   "cell_type": "code",
   "execution_count": 24,
   "metadata": {},
   "outputs": [],
   "source": [
    "# 2nd Biggest Company Headquarted in Atlanta: United Parcel Service (UPS)\n",
    "# 335k employees (as per Zippia, 20018)\n",
    "\n",
    "ups = {\n",
    "    'id': 'ups',\n",
    "    'labeled_radius': [\n",
    "        (radius_around(-84.467631, 33.891408), None),\n",
    "        (radius_around(-84.462834, 33.876571), None),\n",
    "        (radius_around(-84.539111, 33.771619), None),\n",
    "        (radius_around(-84.560382, 33.748796), None)\n",
    "    ]\n",
    "}"
   ]
  },
  {
   "cell_type": "code",
   "execution_count": 25,
   "metadata": {},
   "outputs": [],
   "source": [
    "# 3rd Biggest Company Headquarted in Atlanta: United Parcel Service (UPS)\n",
    "# 125k employees (as per Zippia, 20018)\n",
    "\n",
    "randstad = {\n",
    "    'id': 'randstad',\n",
    "    'labeled_radius': [\n",
    "        (radius_around(-84.465801, 33.892477), None),\n",
    "        (radius_around(-84.452059, 33.887668), None),\n",
    "        (radius_around(-84.355332, 33.921719), None)\n",
    "    ]\n",
    "}"
   ]
  },
  {
   "cell_type": "code",
   "execution_count": 26,
   "metadata": {},
   "outputs": [],
   "source": [
    "# 4th Biggest Company Headquarted in Atlanta: The Coca-Cola Company\n",
    "# 100k employees (as per Zippia, 20018)\n",
    "\n",
    "coca_cola = {\n",
    "    'id': 'coca_cola',\n",
    "    'labeled_radius': [(radius_around(33.770786, -84.397380), None)]\n",
    "}"
   ]
  },
  {
   "cell_type": "code",
   "execution_count": 27,
   "metadata": {},
   "outputs": [
    {
     "data": {
      "image/png": "[encoded data removed]",
      "text/plain": [
       "<Figure size 1080x1224 with 1 Axes>"
      ]
     },
     "metadata": {},
     "output_type": "display_data"
    }
   ],
   "source": [
    "home_depot_radii = [radius for (radius, label) in home_depot['labeled_radius']]\n",
    "home_depot_label = ['home_depot' for r in home_depot_radii]\n",
    "\n",
    "colors = cm.rainbow(np.linspace(0, 1, len(hub_areas)+1))\n",
    "bbox = {'facecolor':'white', 'alpha':0.3}\n",
    "\n",
    "gdf = gpd.GeoDataFrame({'geometry': [center_polygon_latlon] + home_depot_radii, 'label': ['city_center'] + home_depot_label})\n",
    "gdf['mid_coords'] = gdf.apply(lambda row: row.geometry.representative_point().coords[:][0], axis=1)\n",
    "\n",
    "gdf.plot(color=colors, figsize=(15, 17))\n",
    "\n",
    "_ = gdf.apply(lambda row: plt.annotate(s=row['label'], xy=row['mid_coords'], ha='center', fontsize=14, bbox=bbox), axis=1)"
   ]
  },
  {
   "cell_type": "markdown",
   "metadata": {},
   "source": [
    "##### <a id='4-?-?-3'>4.?.?.3 Hub Points - Establishments</a>\n",
    "\n",
    "Workplaces aside, let us keep track of a few of the remaining day-to-day places that commonly take parte in most people's routines."
   ]
  },
  {
   "cell_type": "code",
   "execution_count": 28,
   "metadata": {},
   "outputs": [],
   "source": [
    "airport_hotel = {\n",
    "    'id': 'airport_hotel',\n",
    "    'labeled_radius': [\n",
    "        (radius_around(-84.453984, 33.624019), 'la_quinta'),\n",
    "        (radius_around(-84.455526, 33.624089), 'fairfield'),\n",
    "        (radius_around(-84.456444, 33.624245), 'courtyard'),\n",
    "        (radius_around(-84.457715, 33.626953), 'westin'),\n",
    "        (radius_around(-84.460988, 33.626745), 'marriott'),\n",
    "        (radius_around(-84.462864, 33.625946), 'hilton'),\n",
    "        (radius_around(-84.458637, 33.630328), 'holiday_1'),\n",
    "        (radius_around(-84.452741, 33.627982), 'holiday_2'),\n",
    "        (radius_around(-84.452634, 33.627162), 'holiday_3'),\n",
    "        (radius_around(-84.429193, 33.661274), 'hampton'),\n",
    "        (radius_around(-84.429193, 33.661274), 'hampton'),\n",
    "    ]\n",
    "}"
   ]
  },
  {
   "cell_type": "code",
   "execution_count": 29,
   "metadata": {},
   "outputs": [],
   "source": [
    "shoppings = {\n",
    "    'id': 'shopping',\n",
    "    'labeled_radius': [\n",
    "        (radius_around(-84.361553, 33.851987), 'lenox'),\n",
    "        (radius_around(-84.522533, 33.899879), 'shops_belmont'),\n",
    "        (radius_around(-84.470817, 33.886576), 'cumberland_mall'),\n",
    "        (radius_around(-84.415777, 33.740525), 'the_mall_west_end'),\n",
    "        (radius_around(-84.340890, 33.924048), 'perimeter_mall')\n",
    "    ]\n",
    "}"
   ]
  },
  {
   "cell_type": "code",
   "execution_count": 30,
   "metadata": {},
   "outputs": [],
   "source": [
    "subway = {\n",
    "    'id': 'subway',\n",
    "    'labeled_radius': [\n",
    "        (radius_around(-84.397380, 33.770786), 'civic'),\n",
    "        (radius_around(-84.387791, 33.758010), 'peachtree'),\n",
    "        (radius_around(-84.404011, 33.756656), 'vine_city'),\n",
    "        (radius_around(-84.396802, 33.756370), 'dome_gwcc'),\n",
    "        (radius_around(-84.416627, 33.756157), 'ashby'),\n",
    "        (radius_around(-84.428817, 33.772638), 'bankhead'),\n",
    "        (radius_around(-84.396203, 33.748949), 'garnett'),\n",
    "        (radius_around(-84.386622, 33.780696), 'midtown')\n",
    "    ]\n",
    "}"
   ]
  },
  {
   "cell_type": "code",
   "execution_count": 31,
   "metadata": {},
   "outputs": [],
   "source": [
    "bus = {\n",
    "    'id': 'bus',\n",
    "    'labeled_radius': [\n",
    "        (radius_around(-84.391989, 33.755195), 'five_points')\n",
    "    ]\n",
    "}"
   ]
  },
  {
   "cell_type": "code",
   "execution_count": 32,
   "metadata": {},
   "outputs": [],
   "source": [
    "school = {\n",
    "    'id': 'school',\n",
    "    'labeled_radius': [\n",
    "        (radius_around(-84.422356, 33.732873), 'protocol'),\n",
    "        (radius_around(-84.411884, 33.743401), 'morehouse'),\n",
    "        (radius_around(-84.435033, 33.743826), 'kipp_strive'),\n",
    "        (radius_around(-84.396159, 33.803970), 'public'),\n",
    "        (radius_around(-84.433310, 33.847719), 'westminster'),\n",
    "        (radius_around(-84.422421, 33.841577), 'speech'),\n",
    "        (radius_around(-84.424299, 33.842820), 'girls'),\n",
    "        (radius_around(-84.415776, 33.830002), 'morris_brandon')\n",
    "    ]\n",
    "}"
   ]
  },
  {
   "cell_type": "code",
   "execution_count": 33,
   "metadata": {},
   "outputs": [],
   "source": [
    "college = {\n",
    "    'id': 'college',\n",
    "    'labeled_radius': [\n",
    "        (radius_around(-84.395867, 33.777712), 'georgia_inst_tech'),\n",
    "        (radius_around(-84.399901, 33.769009), 'bauder'),\n",
    "        (radius_around(-84.411182, 33.751701), 'atlanta')\n",
    "    ]\n",
    "}"
   ]
  },
  {
   "cell_type": "code",
   "execution_count": 34,
   "metadata": {},
   "outputs": [],
   "source": [
    "market = {\n",
    "    'id': 'market',\n",
    "    'labeled_radius': [\n",
    "        (radius_around(-84.413664, 33.794707), 'floral_park'),\n",
    "        (radius_around(-84.398249, 33.791839), 'christkindl')\n",
    "    ]\n",
    "}"
   ]
  },
  {
   "cell_type": "code",
   "execution_count": 35,
   "metadata": {},
   "outputs": [],
   "source": [
    "hospital = {\n",
    "    'id': 'hospital',\n",
    "    'labeled_radius': [\n",
    "        (radius_around(-84.382010, 33.751821), 'grady'),\n",
    "        (radius_around(-84.386428, 33.768586), 'fresenius')\n",
    "    ]\n",
    "}"
   ]
  },
  {
   "cell_type": "code",
   "execution_count": 121,
   "metadata": {},
   "outputs": [
    {
     "data": {
      "text/plain": [
       "(-84.38200999999997, 33.751821002648185)"
      ]
     },
     "execution_count": 121,
     "metadata": {},
     "output_type": "execute_result"
    }
   ],
   "source": [
    "hospital['labeled_radius'][0][0].centroid.coords[0]"
   ]
  },
  {
   "cell_type": "code",
   "execution_count": null,
   "metadata": {},
   "outputs": [],
   "source": [
    "categories = [home_depot, ups, randstad, coca_cola, shoppings, subway, bus, school, college, market, hospital]\n",
    "\n",
    "for c in categories:\n",
    "    idx = None\n",
    "    catid = c['id']\n",
    "    labeled_pts = c['labeled_radius']\n",
    "    \n",
    "    if any(label is None for (_, label) in labeled_pts):\n",
    "        idx = [f\"{catid}_{i}\" for i in range(1, len(labeled_pts)+1)]\n",
    "    else:\n",
    "        idx = [f\"{catid}_{label}\" for (_, label) in labeled_pts]\n",
    "    \n",
    "    for i, (pt, label) in enumerate(labeled_pts):\n",
    "        lon_pt, lat_pt = pt.centroid.coords[0]\n",
    "        lonlat_entry = zip(data.lon_entry, data.lat_entry)\n",
    "        lonlat_exit = zip(data.lon_exit, data.lat_exit)\n",
    "        \n",
    "        data[f'havr_{idx[i]}_entry'] = [haversine(lon, lat, lon_pt, lat_pt) for lon, lat in lonlat_entry]\n",
    "#         data[f'havr_{idx[i]}_exit'] = [haversine(lon, lat, lon_pt, lat_pt) for lon, lat in lonlat_exit]\n",
    "#         data[f'delta_havr_{idx[i]}_blind'] = data[f'havr_{idx[i]}_entry'] - data.groupby('hash')[f'havr_{idx[i]}_exit'].shift(1)"
   ]
  },
  {
   "cell_type": "markdown",
   "metadata": {},
   "source": [
    "## <a id='4'>4. Feature Extraction </a>\n",
    "\n",
    "In this section, we will build new features for our data. Here we will explore the time component of the data, as well as distances, angles, how each trajectory relates to the city center, etc. Also, in order to achieve a better score, we need to construct the data accordingly to its sequential format."
   ]
  },
  {
   "cell_type": "markdown",
   "metadata": {},
   "source": [
    "### <a id='4-1'>4.1. Distancial-directional Calculations </a>\n",
    "\n",
    "Distance is a primary factor in comparing two points in a cartesian plane. It is then reasonable to calculate a couple of different distance formulas for points throughout our dataset:\n",
    "\n",
    "- Euclidean distance is defined as length of the smallest straight line connecting two points in cartesian space, e.g. points $p$ and $q$, being:\n",
    "$$\n",
    "d(p, q) = d(q, p) = \\sqrt{\\sum_{i=1}^{n}(q_i - p_i)^2}\n",
    "$$\n",
    "- Manhattan distance, also known as taxicab metric and L1 distance, comprises the sum of projections of a given line in each of its plane's axes:\n",
    "$$\n",
    "d(X, Y) = \\sum_{i=1}^{n}|x_i - y_i|^p\n",
    "$$\n",
    "- And, finally, Haversine, which gives the distance between two points over a spherical surface.\n",
    "$$\n",
    "d = 2r \\arcsin\\left(\\sqrt{\\sin^2\\left(\\frac{\\varphi_2 - \\varphi_1}{2}\\right) + \\cos(\\varphi_1) \\cos(\\varphi_2)\\sin^2\\left(\\frac{\\lambda_2 - \\lambda_1}{2}\\right)}\\right)\n",
    "$$"
   ]
  },
  {
   "cell_type": "code",
   "execution_count": 36,
   "metadata": {},
   "outputs": [],
   "source": [
    "data['euclidean_distance'] = euclidean(data.x_entry.values, data.y_entry.values, data.x_exit.values, data.y_exit.values)\n",
    "\n",
    "data['manhattan_distance'] = manhattan(data.x_entry.values, data.y_entry.values, data.x_exit.values, data.y_exit.values)\n",
    "\n",
    "data['harvesine_distance'] = haversine(data.lon_entry.values, data.lat_entry.values, data.lon_exit.values, data.lat_exit.values)"
   ]
  },
  {
   "cell_type": "code",
   "execution_count": 37,
   "metadata": {
    "scrolled": true
   },
   "outputs": [
    {
     "data": {
      "text/html": [
       "<div>\n",
       "<style scoped>\n",
       "    .dataframe tbody tr th:only-of-type {\n",
       "        vertical-align: middle;\n",
       "    }\n",
       "\n",
       "    .dataframe tbody tr th {\n",
       "        vertical-align: top;\n",
       "    }\n",
       "\n",
       "    .dataframe thead th {\n",
       "        text-align: right;\n",
       "    }\n",
       "</style>\n",
       "<table border=\"1\" class=\"dataframe\">\n",
       "  <thead>\n",
       "    <tr style=\"text-align: right;\">\n",
       "      <th></th>\n",
       "      <th>hash</th>\n",
       "      <th>trajectory_id</th>\n",
       "      <th>time_entry</th>\n",
       "      <th>time_exit</th>\n",
       "      <th>vmax</th>\n",
       "      <th>vmin</th>\n",
       "      <th>vmean</th>\n",
       "      <th>x_entry</th>\n",
       "      <th>y_entry</th>\n",
       "      <th>x_exit</th>\n",
       "      <th>...</th>\n",
       "      <th>is_in_wellstar_northlake_medical_center_entry</th>\n",
       "      <th>is_in_wellstar_northlake_medical_center_exit</th>\n",
       "      <th>havr_wellstar_northlake_medical_center_entry</th>\n",
       "      <th>havr_wellstar_northlake_medical_center_exit</th>\n",
       "      <th>havr_mid_wellstar_northlake_medical_center_entry</th>\n",
       "      <th>crossed_wellstar_northlake_medical_center</th>\n",
       "      <th>wellstar_northlake_medical_center_permanency</th>\n",
       "      <th>euclidean_distance</th>\n",
       "      <th>manhattan_distance</th>\n",
       "      <th>harvesine_distance</th>\n",
       "    </tr>\n",
       "  </thead>\n",
       "  <tbody>\n",
       "    <tr>\n",
       "      <th>0</th>\n",
       "      <td>0000a8602cf2def930488dee7cdad104_1</td>\n",
       "      <td>traj_0000a8602cf2def930488dee7cdad104_1_0</td>\n",
       "      <td>07:04:31</td>\n",
       "      <td>07:08:32</td>\n",
       "      <td>NaN</td>\n",
       "      <td>NaN</td>\n",
       "      <td>NaN</td>\n",
       "      <td>3.751014e+06</td>\n",
       "      <td>-1.909398e+07</td>\n",
       "      <td>3.750326e+06</td>\n",
       "      <td>...</td>\n",
       "      <td>False</td>\n",
       "      <td>False</td>\n",
       "      <td>11303.584829</td>\n",
       "      <td>11153.649844</td>\n",
       "      <td>11142.863611</td>\n",
       "      <td>0.0</td>\n",
       "      <td>0.0</td>\n",
       "      <td>42364.863118</td>\n",
       "      <td>43047.231426</td>\n",
       "      <td>242.408486</td>\n",
       "    </tr>\n",
       "    <tr>\n",
       "      <th>1</th>\n",
       "      <td>0000a8602cf2def930488dee7cdad104_1</td>\n",
       "      <td>traj_0000a8602cf2def930488dee7cdad104_1_1</td>\n",
       "      <td>07:20:34</td>\n",
       "      <td>07:25:42</td>\n",
       "      <td>NaN</td>\n",
       "      <td>NaN</td>\n",
       "      <td>NaN</td>\n",
       "      <td>3.743937e+06</td>\n",
       "      <td>-1.932247e+07</td>\n",
       "      <td>3.744975e+06</td>\n",
       "      <td>...</td>\n",
       "      <td>False</td>\n",
       "      <td>False</td>\n",
       "      <td>10634.620595</td>\n",
       "      <td>10606.963923</td>\n",
       "      <td>10596.207039</td>\n",
       "      <td>0.0</td>\n",
       "      <td>0.0</td>\n",
       "      <td>2989.643628</td>\n",
       "      <td>3841.346373</td>\n",
       "      <td>58.378272</td>\n",
       "    </tr>\n",
       "    <tr>\n",
       "      <th>2</th>\n",
       "      <td>0000a8602cf2def930488dee7cdad104_1</td>\n",
       "      <td>traj_0000a8602cf2def930488dee7cdad104_1_2</td>\n",
       "      <td>07:53:32</td>\n",
       "      <td>08:03:25</td>\n",
       "      <td>NaN</td>\n",
       "      <td>NaN</td>\n",
       "      <td>NaN</td>\n",
       "      <td>3.744868e+06</td>\n",
       "      <td>-1.929356e+07</td>\n",
       "      <td>3.744816e+06</td>\n",
       "      <td>...</td>\n",
       "      <td>False</td>\n",
       "      <td>False</td>\n",
       "      <td>10714.949280</td>\n",
       "      <td>10719.779018</td>\n",
       "      <td>10709.008623</td>\n",
       "      <td>0.0</td>\n",
       "      <td>0.0</td>\n",
       "      <td>725.658561</td>\n",
       "      <td>776.090116</td>\n",
       "      <td>4.881699</td>\n",
       "    </tr>\n",
       "    <tr>\n",
       "      <th>3</th>\n",
       "      <td>0000a8602cf2def930488dee7cdad104_1</td>\n",
       "      <td>traj_0000a8602cf2def930488dee7cdad104_1_3</td>\n",
       "      <td>08:17:50</td>\n",
       "      <td>08:37:23</td>\n",
       "      <td>NaN</td>\n",
       "      <td>NaN</td>\n",
       "      <td>NaN</td>\n",
       "      <td>3.744880e+06</td>\n",
       "      <td>-1.929229e+07</td>\n",
       "      <td>3.744809e+06</td>\n",
       "      <td>...</td>\n",
       "      <td>False</td>\n",
       "      <td>False</td>\n",
       "      <td>10719.582573</td>\n",
       "      <td>10729.421191</td>\n",
       "      <td>10718.649684</td>\n",
       "      <td>0.0</td>\n",
       "      <td>0.0</td>\n",
       "      <td>1804.576849</td>\n",
       "      <td>1874.414413</td>\n",
       "      <td>10.650402</td>\n",
       "    </tr>\n",
       "  </tbody>\n",
       "</table>\n",
       "<p>4 rows × 69 columns</p>\n",
       "</div>"
      ],
      "text/plain": [
       "                                 hash  \\\n",
       "0  0000a8602cf2def930488dee7cdad104_1   \n",
       "1  0000a8602cf2def930488dee7cdad104_1   \n",
       "2  0000a8602cf2def930488dee7cdad104_1   \n",
       "3  0000a8602cf2def930488dee7cdad104_1   \n",
       "\n",
       "                               trajectory_id time_entry time_exit  vmax  vmin  \\\n",
       "0  traj_0000a8602cf2def930488dee7cdad104_1_0   07:04:31  07:08:32   NaN   NaN   \n",
       "1  traj_0000a8602cf2def930488dee7cdad104_1_1   07:20:34  07:25:42   NaN   NaN   \n",
       "2  traj_0000a8602cf2def930488dee7cdad104_1_2   07:53:32  08:03:25   NaN   NaN   \n",
       "3  traj_0000a8602cf2def930488dee7cdad104_1_3   08:17:50  08:37:23   NaN   NaN   \n",
       "\n",
       "   vmean       x_entry       y_entry        x_exit  ...  \\\n",
       "0    NaN  3.751014e+06 -1.909398e+07  3.750326e+06  ...   \n",
       "1    NaN  3.743937e+06 -1.932247e+07  3.744975e+06  ...   \n",
       "2    NaN  3.744868e+06 -1.929356e+07  3.744816e+06  ...   \n",
       "3    NaN  3.744880e+06 -1.929229e+07  3.744809e+06  ...   \n",
       "\n",
       "   is_in_wellstar_northlake_medical_center_entry  \\\n",
       "0                                          False   \n",
       "1                                          False   \n",
       "2                                          False   \n",
       "3                                          False   \n",
       "\n",
       "  is_in_wellstar_northlake_medical_center_exit  \\\n",
       "0                                        False   \n",
       "1                                        False   \n",
       "2                                        False   \n",
       "3                                        False   \n",
       "\n",
       "   havr_wellstar_northlake_medical_center_entry  \\\n",
       "0                                  11303.584829   \n",
       "1                                  10634.620595   \n",
       "2                                  10714.949280   \n",
       "3                                  10719.582573   \n",
       "\n",
       "   havr_wellstar_northlake_medical_center_exit  \\\n",
       "0                                 11153.649844   \n",
       "1                                 10606.963923   \n",
       "2                                 10719.779018   \n",
       "3                                 10729.421191   \n",
       "\n",
       "  havr_mid_wellstar_northlake_medical_center_entry  \\\n",
       "0                                     11142.863611   \n",
       "1                                     10596.207039   \n",
       "2                                     10709.008623   \n",
       "3                                     10718.649684   \n",
       "\n",
       "   crossed_wellstar_northlake_medical_center  \\\n",
       "0                                        0.0   \n",
       "1                                        0.0   \n",
       "2                                        0.0   \n",
       "3                                        0.0   \n",
       "\n",
       "   wellstar_northlake_medical_center_permanency  euclidean_distance  \\\n",
       "0                                           0.0        42364.863118   \n",
       "1                                           0.0         2989.643628   \n",
       "2                                           0.0          725.658561   \n",
       "3                                           0.0         1804.576849   \n",
       "\n",
       "   manhattan_distance  harvesine_distance  \n",
       "0        43047.231426          242.408486  \n",
       "1         3841.346373           58.378272  \n",
       "2          776.090116            4.881699  \n",
       "3         1874.414413           10.650402  \n",
       "\n",
       "[4 rows x 69 columns]"
      ]
     },
     "execution_count": 37,
     "metadata": {},
     "output_type": "execute_result"
    }
   ],
   "source": [
    "data.head(4)"
   ]
  },
  {
   "cell_type": "markdown",
   "metadata": {},
   "source": [
    "Some patterns in data distribution can already be analyzed from theses distance computations. Let's analyze the Euclidean distance values among train and test data to gain a closer perception."
   ]
  },
  {
   "cell_type": "code",
   "execution_count": 38,
   "metadata": {},
   "outputs": [
    {
     "data": {
      "image/png": "[encoded data removed]",
      "text/plain": [
       "<Figure size 864x576 with 2 Axes>"
      ]
     },
     "metadata": {},
     "output_type": "display_data"
    }
   ],
   "source": [
    "fig, (ax1, ax2) = plt.subplots(ncols=2, figsize=(12, 8))\n",
    "ax1.set_title('Train Euclidean distance distribution')\n",
    "ax2.set_title('Test Euclidean distance distribution')\n",
    "\n",
    "distplot(data[data.hash.isin(train.hash)], 'euclidean_distance', ax=ax1)\n",
    "distplot(data[data.hash.isin(test.hash)], 'euclidean_distance', ax=ax2)"
   ]
  },
  {
   "cell_type": "code",
   "execution_count": 39,
   "metadata": {},
   "outputs": [
    {
     "data": {
      "text/plain": [
       "0.5339448440759431"
      ]
     },
     "execution_count": 39,
     "metadata": {},
     "output_type": "execute_result"
    }
   ],
   "source": [
    "# Percentage of 0-valued distances among all non-NaN euclidean values.\n",
    "data[data.euclidean_distance == 0.0].shape[0] / data[~np.isnan(data.euclidean_distance)].shape[0]"
   ]
  },
  {
   "cell_type": "code",
   "execution_count": 40,
   "metadata": {},
   "outputs": [
    {
     "data": {
      "text/plain": [
       "0.9975972568364897"
      ]
     },
     "execution_count": 40,
     "metadata": {},
     "output_type": "execute_result"
    }
   ],
   "source": [
    "# Percentage of 0-valued distances having time entry equal to time exit\n",
    "data[\n",
    "    (data.euclidean_distance == 0.0) & (data.time_exit == data.time_entry)\n",
    "].shape[0] / data[data.euclidean_distance == 0.0].shape[0]"
   ]
  },
  {
   "cell_type": "markdown",
   "metadata": {},
   "source": [
    "The above shows us that more than half of _all_ filled distances in our sets are 0-valued - and basically all those 0 distance trajectories start and end **at the same time**.\n",
    "\n",
    "This means that target predictions over those points would only need to check whether the trajectory starts inside the city center. Since the coordinates will stay the same, so will that status.\n",
    "\n",
    "For these reasons, we will sample as trainable data only points having euclidean distances different than 0."
   ]
  },
  {
   "cell_type": "code",
   "execution_count": 41,
   "metadata": {},
   "outputs": [],
   "source": [
    "percentage_zeros = data[data.euclidean_distance==0]\n",
    "percentage_zeros = (percentage_zeros.groupby('hash').trajectory_id.count() \n",
    "                    / data.groupby('hash').trajectory_id.count()).reset_index()\n",
    "percentage_zeros.columns = ['hash', 'zeros_in_trajectory']"
   ]
  },
  {
   "cell_type": "code",
   "execution_count": 42,
   "metadata": {},
   "outputs": [
    {
     "data": {
      "text/plain": [
       "(1017199, 69)"
      ]
     },
     "execution_count": 42,
     "metadata": {},
     "output_type": "execute_result"
    }
   ],
   "source": [
    "#data = data[data.euclidean_distance!=0]\n",
    "data.shape"
   ]
  },
  {
   "cell_type": "markdown",
   "metadata": {},
   "source": [
    "#### <a id='4-1-1'>4.1.1. City Center Midpoint Distances</a>\n",
    "\n",
    "Since we want to determine a trajectory's end coordinates as being either in or out of the city center, current-to-center-midpoint distance can be a determinant feature. Let's compute those differences."
   ]
  },
  {
   "cell_type": "code",
   "execution_count": 43,
   "metadata": {},
   "outputs": [],
   "source": [
    "center_lon, center_lat = converter(center['x_mid'], center['y_mid'], inverse=True)\n",
    "\n",
    "data['eucl_dist_cc_entry'] = euclidean(data.x_entry.values, data.y_entry.values, center['x_mid'], center['y_mid'])\n",
    "data['eucl_dist_cc_exit'] = euclidean(data.x_exit.values, data.y_exit.values, center['x_mid'], center['y_mid'])\n",
    "\n",
    "data['manh_dist_cc_entry'] = manhattan(data.x_entry.values, data.y_entry.values, center['x_mid'], center['y_mid'])\n",
    "data['manh_dist_cc_exit'] = manhattan(data.x_exit.values, data.y_exit.values, center['x_mid'], center['y_mid'])\n",
    "\n",
    "data['havr_dist_cc_entry'] = haversine(data.lon_entry.values, data.lat_entry.values, center_lon, center_lat)\n",
    "data['havr_dist_cc_exit'] = haversine(data.lon_exit.values, data.lat_exit.values, center_lon, center_lat)\n",
    "\n",
    "data['eucl_diff_cc_exit_entry'] = data.eucl_dist_cc_exit - data.eucl_dist_cc_entry\n",
    "data['manh_diff_cc_exit_entry'] = data.manh_dist_cc_exit - data.manh_dist_cc_entry\n",
    "data['havr_diff_cc_exit_entry'] = data.havr_dist_cc_exit - data.havr_dist_cc_entry"
   ]
  },
  {
   "cell_type": "code",
   "execution_count": 44,
   "metadata": {},
   "outputs": [],
   "source": [
    "data['x_diff_entry'] = data.x_entry.values - center['x_mid']\n",
    "data['x_diff_exit'] = data.x_exit.values - center['x_mid']\n",
    "\n",
    "data['y_diff_entry'] = data.y_entry.values - center['y_mid']\n",
    "data['y_diff_exit'] = data.y_exit.values - center['y_mid']"
   ]
  },
  {
   "cell_type": "markdown",
   "metadata": {},
   "source": [
    "#### <a id='4-1-2'>4.1.2. City Center Midpoint Directions</a>\n",
    "\n",
    "Differences from entry and exit points to center middle can also be angularly significant as that can reveal how trajectories are bent towards the midpoint."
   ]
  },
  {
   "cell_type": "code",
   "execution_count": 45,
   "metadata": {},
   "outputs": [],
   "source": [
    "directions_entry = []\n",
    "for x, y in zip(data.x_diff_entry, data.y_diff_entry):\n",
    "    directions_entry.append(math.atan2(x, y))\n",
    "    \n",
    "data['direction_entry'] = directions_entry"
   ]
  },
  {
   "cell_type": "code",
   "execution_count": 46,
   "metadata": {},
   "outputs": [],
   "source": [
    "directions_exit = []\n",
    "for x, y in zip(data.x_diff_exit, data.y_diff_exit):\n",
    "    directions_exit.append(math.atan2(x, y))\n",
    "    \n",
    "data['direction_exit'] = directions_exit"
   ]
  },
  {
   "cell_type": "markdown",
   "metadata": {},
   "source": [
    "#### <a id='4-1-3'>4.1.3. City Center Border Distances</a>\n",
    "\n",
    "Our predefined city center is a rectangle (see below). Each of its borders represent the very boundaries that will ultimately define if a trajectory is inside the center - or not - so it seems logical to compute the minimum distance to all borders."
   ]
  },
  {
   "cell_type": "code",
   "execution_count": 47,
   "metadata": {
    "scrolled": true
   },
   "outputs": [
    {
     "data": {
      "image/svg+xml": [
       "<svg xmlns=\"http://www.w3.org/2000/svg\" xmlns:xlink=\"http://www.w3.org/1999/xlink\" width=\"300\" height=\"300\" viewBox=\"3748501.5068 -19271305.6133 24800.0 64800.0\" preserveAspectRatio=\"xMinYMin meet\"><g transform=\"matrix(1,0,0,-1,0,-38477811.2266)\"><path fill-rule=\"evenodd\" fill=\"#66cc99\" stroke=\"#555555\" stroke-width=\"432.0\" opacity=\"0.6\" d=\"M 3750901.5068,-19268905.6133 L 3750901.5068,-19208905.6133 L 3770901.5068,-19208905.6133 L 3770901.5068,-19268905.6133 L 3750901.5068,-19268905.6133 z\" /></g></svg>"
      ],
      "text/plain": [
       "<shapely.geometry.polygon.Polygon at 0x7f15c0c98978>"
      ]
     },
     "execution_count": 47,
     "metadata": {},
     "output_type": "execute_result"
    }
   ],
   "source": [
    "center_polygon"
   ]
  },
  {
   "cell_type": "code",
   "execution_count": 58,
   "metadata": {},
   "outputs": [],
   "source": [
    "def distance_to_border(x, y, side):\n",
    "    return center[side + '_border'].distance(Point(x, y))\n",
    "\n",
    "for side in ['left', 'right', 'lower', 'upper']:\n",
    "    data[f'distance_{side}_border'] = [distance_to_border(x, y, side=side) for x, y in zip(data.x_entry, data.y_entry)]"
   ]
  },
  {
   "cell_type": "code",
   "execution_count": 59,
   "metadata": {},
   "outputs": [],
   "source": [
    "from shapely.geometry import Point\n",
    "\n",
    "def distance_to_border_haversine(lon, lat, side):\n",
    "    border = center[side + '_latlon_border']\n",
    "    # Closest border point considering a 2D, cartesian plane\n",
    "    closest_latlng_in_border = border.interpolate(border.project(Point(lon, lat)))\n",
    "    \n",
    "    closest_point_lon = closest_latlng_in_border.coords[0][0]\n",
    "    closest_point_lat = closest_latlng_in_border.coords[0][1]\n",
    "    # Haversine distance, projecting the border point spherically\n",
    "    return haversine(lon, lat, closest_point_lon, closest_point_lat)\n",
    "\n",
    "for side in ['left', 'right', 'lower', 'upper']:\n",
    "    data[f'distance_{side}_latlon_border'] = [distance_to_border_haversine(x, y, side=side) for x, y in zip(data.lon_entry, data.lat_entry)]"
   ]
  },
  {
   "cell_type": "markdown",
   "metadata": {},
   "source": [
    "#### <a id='4-1-4'>4.1.4. City Center Vertex Angles</a>\n",
    "\n",
    "Onto the same motivation for the above, we will also compute the angles from every entry w.r.t. the city center's **vertexes**. That'll generate features more connected to the directional aspects of entry coordinates for each of those vertexes."
   ]
  },
  {
   "cell_type": "code",
   "execution_count": 60,
   "metadata": {
    "scrolled": true
   },
   "outputs": [
    {
     "data": {
      "application/vnd.jupyter.widget-view+json": {
       "model_id": "fc927820131d450b8dae31f00d2342b1",
       "version_major": 2,
       "version_minor": 0
      },
      "text/plain": [
       "HBox(children=(IntProgress(value=0, max=1017199), HTML(value='')))"
      ]
     },
     "metadata": {},
     "output_type": "display_data"
    },
    {
     "name": "stdout",
     "output_type": "stream",
     "text": [
      "\n"
     ]
    },
    {
     "data": {
      "text/html": [
       "<div>\n",
       "<style scoped>\n",
       "    .dataframe tbody tr th:only-of-type {\n",
       "        vertical-align: middle;\n",
       "    }\n",
       "\n",
       "    .dataframe tbody tr th {\n",
       "        vertical-align: top;\n",
       "    }\n",
       "\n",
       "    .dataframe thead th {\n",
       "        text-align: right;\n",
       "    }\n",
       "</style>\n",
       "<table border=\"1\" class=\"dataframe\">\n",
       "  <thead>\n",
       "    <tr style=\"text-align: right;\">\n",
       "      <th></th>\n",
       "      <th>hash</th>\n",
       "      <th>trajectory_id</th>\n",
       "      <th>time_entry</th>\n",
       "      <th>time_exit</th>\n",
       "      <th>vmax</th>\n",
       "      <th>vmin</th>\n",
       "      <th>vmean</th>\n",
       "      <th>x_entry</th>\n",
       "      <th>y_entry</th>\n",
       "      <th>x_exit</th>\n",
       "      <th>...</th>\n",
       "      <th>distance_upper_border</th>\n",
       "      <th>distance_left_latlon_border</th>\n",
       "      <th>distance_right_latlon_border</th>\n",
       "      <th>distance_lower_latlon_border</th>\n",
       "      <th>distance_upper_latlon_border</th>\n",
       "      <th>cc_middle_angle</th>\n",
       "      <th>cc_xmin_ymin_angle</th>\n",
       "      <th>cc_xmax_ymin_angle</th>\n",
       "      <th>cc_xmin_ymax_angle</th>\n",
       "      <th>cc_xmax_ymax_angle</th>\n",
       "    </tr>\n",
       "  </thead>\n",
       "  <tbody>\n",
       "    <tr>\n",
       "      <th>0</th>\n",
       "      <td>0000a8602cf2def930488dee7cdad104_1</td>\n",
       "      <td>traj_0000a8602cf2def930488dee7cdad104_1_0</td>\n",
       "      <td>07:04:31</td>\n",
       "      <td>07:08:32</td>\n",
       "      <td>NaN</td>\n",
       "      <td>NaN</td>\n",
       "      <td>NaN</td>\n",
       "      <td>3.751014e+06</td>\n",
       "      <td>-1.909398e+07</td>\n",
       "      <td>3.750326e+06</td>\n",
       "      <td>...</td>\n",
       "      <td>114924.969304</td>\n",
       "      <td>647.341949</td>\n",
       "      <td>1202.452563</td>\n",
       "      <td>980.682735</td>\n",
       "      <td>647.316662</td>\n",
       "      <td>NaN</td>\n",
       "      <td>NaN</td>\n",
       "      <td>NaN</td>\n",
       "      <td>NaN</td>\n",
       "      <td>NaN</td>\n",
       "    </tr>\n",
       "    <tr>\n",
       "      <th>1</th>\n",
       "      <td>0000a8602cf2def930488dee7cdad104_1</td>\n",
       "      <td>traj_0000a8602cf2def930488dee7cdad104_1_1</td>\n",
       "      <td>07:20:34</td>\n",
       "      <td>07:25:42</td>\n",
       "      <td>NaN</td>\n",
       "      <td>NaN</td>\n",
       "      <td>NaN</td>\n",
       "      <td>3.743937e+06</td>\n",
       "      <td>-1.932247e+07</td>\n",
       "      <td>3.744975e+06</td>\n",
       "      <td>...</td>\n",
       "      <td>113775.281047</td>\n",
       "      <td>477.194923</td>\n",
       "      <td>1481.624996</td>\n",
       "      <td>477.194923</td>\n",
       "      <td>729.835687</td>\n",
       "      <td>0.137059</td>\n",
       "      <td>0.038653</td>\n",
       "      <td>0.188293</td>\n",
       "      <td>0.042244</td>\n",
       "      <td>0.310604</td>\n",
       "    </tr>\n",
       "    <tr>\n",
       "      <th>2</th>\n",
       "      <td>0000a8602cf2def930488dee7cdad104_1</td>\n",
       "      <td>traj_0000a8602cf2def930488dee7cdad104_1_2</td>\n",
       "      <td>07:53:32</td>\n",
       "      <td>08:03:25</td>\n",
       "      <td>NaN</td>\n",
       "      <td>NaN</td>\n",
       "      <td>NaN</td>\n",
       "      <td>3.744868e+06</td>\n",
       "      <td>-1.929356e+07</td>\n",
       "      <td>3.744816e+06</td>\n",
       "      <td>...</td>\n",
       "      <td>84874.048910</td>\n",
       "      <td>351.002060</td>\n",
       "      <td>1402.231948</td>\n",
       "      <td>351.002060</td>\n",
       "      <td>568.256114</td>\n",
       "      <td>0.198812</td>\n",
       "      <td>0.120334</td>\n",
       "      <td>0.476339</td>\n",
       "      <td>0.057555</td>\n",
       "      <td>0.234039</td>\n",
       "    </tr>\n",
       "    <tr>\n",
       "      <th>3</th>\n",
       "      <td>0000a8602cf2def930488dee7cdad104_1</td>\n",
       "      <td>traj_0000a8602cf2def930488dee7cdad104_1_3</td>\n",
       "      <td>08:17:50</td>\n",
       "      <td>08:37:23</td>\n",
       "      <td>NaN</td>\n",
       "      <td>NaN</td>\n",
       "      <td>NaN</td>\n",
       "      <td>3.744880e+06</td>\n",
       "      <td>-1.929229e+07</td>\n",
       "      <td>3.744809e+06</td>\n",
       "      <td>...</td>\n",
       "      <td>83601.282594</td>\n",
       "      <td>347.667383</td>\n",
       "      <td>1400.630977</td>\n",
       "      <td>347.667383</td>\n",
       "      <td>562.057663</td>\n",
       "      <td>0.173281</td>\n",
       "      <td>0.132425</td>\n",
       "      <td>0.711798</td>\n",
       "      <td>0.044184</td>\n",
       "      <td>0.184758</td>\n",
       "    </tr>\n",
       "  </tbody>\n",
       "</table>\n",
       "<p>4 rows × 97 columns</p>\n",
       "</div>"
      ],
      "text/plain": [
       "                                 hash  \\\n",
       "0  0000a8602cf2def930488dee7cdad104_1   \n",
       "1  0000a8602cf2def930488dee7cdad104_1   \n",
       "2  0000a8602cf2def930488dee7cdad104_1   \n",
       "3  0000a8602cf2def930488dee7cdad104_1   \n",
       "\n",
       "                               trajectory_id time_entry time_exit  vmax  vmin  \\\n",
       "0  traj_0000a8602cf2def930488dee7cdad104_1_0   07:04:31  07:08:32   NaN   NaN   \n",
       "1  traj_0000a8602cf2def930488dee7cdad104_1_1   07:20:34  07:25:42   NaN   NaN   \n",
       "2  traj_0000a8602cf2def930488dee7cdad104_1_2   07:53:32  08:03:25   NaN   NaN   \n",
       "3  traj_0000a8602cf2def930488dee7cdad104_1_3   08:17:50  08:37:23   NaN   NaN   \n",
       "\n",
       "   vmean       x_entry       y_entry        x_exit  ...  \\\n",
       "0    NaN  3.751014e+06 -1.909398e+07  3.750326e+06  ...   \n",
       "1    NaN  3.743937e+06 -1.932247e+07  3.744975e+06  ...   \n",
       "2    NaN  3.744868e+06 -1.929356e+07  3.744816e+06  ...   \n",
       "3    NaN  3.744880e+06 -1.929229e+07  3.744809e+06  ...   \n",
       "\n",
       "   distance_upper_border distance_left_latlon_border  \\\n",
       "0          114924.969304                  647.341949   \n",
       "1          113775.281047                  477.194923   \n",
       "2           84874.048910                  351.002060   \n",
       "3           83601.282594                  347.667383   \n",
       "\n",
       "   distance_right_latlon_border  distance_lower_latlon_border  \\\n",
       "0                   1202.452563                    980.682735   \n",
       "1                   1481.624996                    477.194923   \n",
       "2                   1402.231948                    351.002060   \n",
       "3                   1400.630977                    347.667383   \n",
       "\n",
       "  distance_upper_latlon_border  cc_middle_angle  cc_xmin_ymin_angle  \\\n",
       "0                   647.316662              NaN                 NaN   \n",
       "1                   729.835687         0.137059            0.038653   \n",
       "2                   568.256114         0.198812            0.120334   \n",
       "3                   562.057663         0.173281            0.132425   \n",
       "\n",
       "   cc_xmax_ymin_angle  cc_xmin_ymax_angle  cc_xmax_ymax_angle  \n",
       "0                 NaN                 NaN                 NaN  \n",
       "1            0.188293            0.042244            0.310604  \n",
       "2            0.476339            0.057555            0.234039  \n",
       "3            0.711798            0.044184            0.184758  \n",
       "\n",
       "[4 rows x 97 columns]"
      ]
     },
     "execution_count": 60,
     "metadata": {},
     "output_type": "execute_result"
    }
   ],
   "source": [
    "data['last_x_entry'] = data.groupby('hash').x_exit.shift(1)\n",
    "data['last_y_entry'] = data.groupby('hash').y_exit.shift(1)\n",
    "\n",
    "angle_cols = [\n",
    "    'cc_middle_angle', 'cc_xmin_ymin_angle', 'cc_xmax_ymin_angle', 'cc_xmin_ymax_angle', 'cc_xmax_ymax_angle'\n",
    "]\n",
    "\n",
    "if angle_cols[0] in data.columns.tolist():\n",
    "    data = data.drop(columns=angle_cols)\n",
    "data = data.reindex(columns=data.columns.tolist() + angle_cols)\n",
    "\n",
    "data = data.progress_apply(entry_to_center_angles, axis=1)\n",
    "\n",
    "data = data.drop(columns=['last_x_entry', 'last_y_entry'])\n",
    "\n",
    "data.head(4)"
   ]
  },
  {
   "cell_type": "code",
   "execution_count": 61,
   "metadata": {},
   "outputs": [
    {
     "data": {
      "text/html": [
       "<div>\n",
       "<style scoped>\n",
       "    .dataframe tbody tr th:only-of-type {\n",
       "        vertical-align: middle;\n",
       "    }\n",
       "\n",
       "    .dataframe tbody tr th {\n",
       "        vertical-align: top;\n",
       "    }\n",
       "\n",
       "    .dataframe thead th {\n",
       "        text-align: right;\n",
       "    }\n",
       "</style>\n",
       "<table border=\"1\" class=\"dataframe\">\n",
       "  <thead>\n",
       "    <tr style=\"text-align: right;\">\n",
       "      <th></th>\n",
       "      <th>hash</th>\n",
       "      <th>trajectory_id</th>\n",
       "      <th>time_entry</th>\n",
       "      <th>time_exit</th>\n",
       "      <th>vmax</th>\n",
       "      <th>vmin</th>\n",
       "      <th>vmean</th>\n",
       "      <th>x_entry</th>\n",
       "      <th>y_entry</th>\n",
       "      <th>x_exit</th>\n",
       "      <th>...</th>\n",
       "      <th>distance_upper_border</th>\n",
       "      <th>distance_left_latlon_border</th>\n",
       "      <th>distance_right_latlon_border</th>\n",
       "      <th>distance_lower_latlon_border</th>\n",
       "      <th>distance_upper_latlon_border</th>\n",
       "      <th>cc_middle_angle</th>\n",
       "      <th>cc_xmin_ymin_angle</th>\n",
       "      <th>cc_xmax_ymin_angle</th>\n",
       "      <th>cc_xmin_ymax_angle</th>\n",
       "      <th>cc_xmax_ymax_angle</th>\n",
       "    </tr>\n",
       "  </thead>\n",
       "  <tbody>\n",
       "    <tr>\n",
       "      <th>0</th>\n",
       "      <td>0000a8602cf2def930488dee7cdad104_1</td>\n",
       "      <td>traj_0000a8602cf2def930488dee7cdad104_1_0</td>\n",
       "      <td>07:04:31</td>\n",
       "      <td>07:08:32</td>\n",
       "      <td>NaN</td>\n",
       "      <td>NaN</td>\n",
       "      <td>NaN</td>\n",
       "      <td>3.751014e+06</td>\n",
       "      <td>-1.909398e+07</td>\n",
       "      <td>3.750326e+06</td>\n",
       "      <td>...</td>\n",
       "      <td>114924.969304</td>\n",
       "      <td>647.341949</td>\n",
       "      <td>1202.452563</td>\n",
       "      <td>980.682735</td>\n",
       "      <td>647.316662</td>\n",
       "      <td>NaN</td>\n",
       "      <td>NaN</td>\n",
       "      <td>NaN</td>\n",
       "      <td>NaN</td>\n",
       "      <td>NaN</td>\n",
       "    </tr>\n",
       "    <tr>\n",
       "      <th>1</th>\n",
       "      <td>0000a8602cf2def930488dee7cdad104_1</td>\n",
       "      <td>traj_0000a8602cf2def930488dee7cdad104_1_1</td>\n",
       "      <td>07:20:34</td>\n",
       "      <td>07:25:42</td>\n",
       "      <td>NaN</td>\n",
       "      <td>NaN</td>\n",
       "      <td>NaN</td>\n",
       "      <td>3.743937e+06</td>\n",
       "      <td>-1.932247e+07</td>\n",
       "      <td>3.744975e+06</td>\n",
       "      <td>...</td>\n",
       "      <td>113775.281047</td>\n",
       "      <td>477.194923</td>\n",
       "      <td>1481.624996</td>\n",
       "      <td>477.194923</td>\n",
       "      <td>729.835687</td>\n",
       "      <td>7.852886</td>\n",
       "      <td>2.214659</td>\n",
       "      <td>10.788397</td>\n",
       "      <td>2.420383</td>\n",
       "      <td>17.796301</td>\n",
       "    </tr>\n",
       "    <tr>\n",
       "      <th>2</th>\n",
       "      <td>0000a8602cf2def930488dee7cdad104_1</td>\n",
       "      <td>traj_0000a8602cf2def930488dee7cdad104_1_2</td>\n",
       "      <td>07:53:32</td>\n",
       "      <td>08:03:25</td>\n",
       "      <td>NaN</td>\n",
       "      <td>NaN</td>\n",
       "      <td>NaN</td>\n",
       "      <td>3.744868e+06</td>\n",
       "      <td>-1.929356e+07</td>\n",
       "      <td>3.744816e+06</td>\n",
       "      <td>...</td>\n",
       "      <td>84874.048910</td>\n",
       "      <td>351.002060</td>\n",
       "      <td>1402.231948</td>\n",
       "      <td>351.002060</td>\n",
       "      <td>568.256114</td>\n",
       "      <td>11.391105</td>\n",
       "      <td>6.894649</td>\n",
       "      <td>27.292186</td>\n",
       "      <td>3.297664</td>\n",
       "      <td>13.409474</td>\n",
       "    </tr>\n",
       "    <tr>\n",
       "      <th>3</th>\n",
       "      <td>0000a8602cf2def930488dee7cdad104_1</td>\n",
       "      <td>traj_0000a8602cf2def930488dee7cdad104_1_3</td>\n",
       "      <td>08:17:50</td>\n",
       "      <td>08:37:23</td>\n",
       "      <td>NaN</td>\n",
       "      <td>NaN</td>\n",
       "      <td>NaN</td>\n",
       "      <td>3.744880e+06</td>\n",
       "      <td>-1.929229e+07</td>\n",
       "      <td>3.744809e+06</td>\n",
       "      <td>...</td>\n",
       "      <td>83601.282594</td>\n",
       "      <td>347.667383</td>\n",
       "      <td>1400.630977</td>\n",
       "      <td>347.667383</td>\n",
       "      <td>562.057663</td>\n",
       "      <td>9.928271</td>\n",
       "      <td>7.587407</td>\n",
       "      <td>40.782997</td>\n",
       "      <td>2.531528</td>\n",
       "      <td>10.585844</td>\n",
       "    </tr>\n",
       "  </tbody>\n",
       "</table>\n",
       "<p>4 rows × 97 columns</p>\n",
       "</div>"
      ],
      "text/plain": [
       "                                 hash  \\\n",
       "0  0000a8602cf2def930488dee7cdad104_1   \n",
       "1  0000a8602cf2def930488dee7cdad104_1   \n",
       "2  0000a8602cf2def930488dee7cdad104_1   \n",
       "3  0000a8602cf2def930488dee7cdad104_1   \n",
       "\n",
       "                               trajectory_id time_entry time_exit  vmax  vmin  \\\n",
       "0  traj_0000a8602cf2def930488dee7cdad104_1_0   07:04:31  07:08:32   NaN   NaN   \n",
       "1  traj_0000a8602cf2def930488dee7cdad104_1_1   07:20:34  07:25:42   NaN   NaN   \n",
       "2  traj_0000a8602cf2def930488dee7cdad104_1_2   07:53:32  08:03:25   NaN   NaN   \n",
       "3  traj_0000a8602cf2def930488dee7cdad104_1_3   08:17:50  08:37:23   NaN   NaN   \n",
       "\n",
       "   vmean       x_entry       y_entry        x_exit  ...  \\\n",
       "0    NaN  3.751014e+06 -1.909398e+07  3.750326e+06  ...   \n",
       "1    NaN  3.743937e+06 -1.932247e+07  3.744975e+06  ...   \n",
       "2    NaN  3.744868e+06 -1.929356e+07  3.744816e+06  ...   \n",
       "3    NaN  3.744880e+06 -1.929229e+07  3.744809e+06  ...   \n",
       "\n",
       "   distance_upper_border distance_left_latlon_border  \\\n",
       "0          114924.969304                  647.341949   \n",
       "1          113775.281047                  477.194923   \n",
       "2           84874.048910                  351.002060   \n",
       "3           83601.282594                  347.667383   \n",
       "\n",
       "   distance_right_latlon_border  distance_lower_latlon_border  \\\n",
       "0                   1202.452563                    980.682735   \n",
       "1                   1481.624996                    477.194923   \n",
       "2                   1402.231948                    351.002060   \n",
       "3                   1400.630977                    347.667383   \n",
       "\n",
       "  distance_upper_latlon_border  cc_middle_angle  cc_xmin_ymin_angle  \\\n",
       "0                   647.316662              NaN                 NaN   \n",
       "1                   729.835687         7.852886            2.214659   \n",
       "2                   568.256114        11.391105            6.894649   \n",
       "3                   562.057663         9.928271            7.587407   \n",
       "\n",
       "   cc_xmax_ymin_angle  cc_xmin_ymax_angle  cc_xmax_ymax_angle  \n",
       "0                 NaN                 NaN                 NaN  \n",
       "1           10.788397            2.420383           17.796301  \n",
       "2           27.292186            3.297664           13.409474  \n",
       "3           40.782997            2.531528           10.585844  \n",
       "\n",
       "[4 rows x 97 columns]"
      ]
     },
     "execution_count": 61,
     "metadata": {},
     "output_type": "execute_result"
    }
   ],
   "source": [
    "# Angle conversion: rads to degrees\n",
    "data[angle_cols] = data[angle_cols] * 180.0 / np.pi\n",
    "data.head(4)"
   ]
  },
  {
   "cell_type": "markdown",
   "metadata": {},
   "source": [
    "### <a id='4-2'>4.2. Time-wise Features </a>\n",
    "\n",
    "Trajectories in our context are also deeply rooted in their temporal distributions. Let us then start exploring those features by isolating them in hour, minute, and delta values."
   ]
  },
  {
   "cell_type": "code",
   "execution_count": 62,
   "metadata": {},
   "outputs": [
    {
     "data": {
      "application/vnd.jupyter.widget-view+json": {
       "model_id": "0252033ff8d1421c87ec94ff22c39f1f",
       "version_major": 2,
       "version_minor": 0
      },
      "text/plain": [
       "HBox(children=(IntProgress(value=0, max=1017199), HTML(value='')))"
      ]
     },
     "metadata": {},
     "output_type": "display_data"
    },
    {
     "name": "stdout",
     "output_type": "stream",
     "text": [
      "\n"
     ]
    },
    {
     "data": {
      "application/vnd.jupyter.widget-view+json": {
       "model_id": "7c27c40f80b341feb59c6d11786cf7c2",
       "version_major": 2,
       "version_minor": 0
      },
      "text/plain": [
       "HBox(children=(IntProgress(value=0, max=1017199), HTML(value='')))"
      ]
     },
     "metadata": {},
     "output_type": "display_data"
    },
    {
     "name": "stdout",
     "output_type": "stream",
     "text": [
      "\n"
     ]
    },
    {
     "data": {
      "application/vnd.jupyter.widget-view+json": {
       "model_id": "22cdfb669c1549228c734628cd819883",
       "version_major": 2,
       "version_minor": 0
      },
      "text/plain": [
       "HBox(children=(IntProgress(value=0, max=1017199), HTML(value='')))"
      ]
     },
     "metadata": {},
     "output_type": "display_data"
    },
    {
     "name": "stdout",
     "output_type": "stream",
     "text": [
      "\n"
     ]
    },
    {
     "data": {
      "application/vnd.jupyter.widget-view+json": {
       "model_id": "a73cad9b9ef548bfb52b40adb14df33f",
       "version_major": 2,
       "version_minor": 0
      },
      "text/plain": [
       "HBox(children=(IntProgress(value=0, max=1017199), HTML(value='')))"
      ]
     },
     "metadata": {},
     "output_type": "display_data"
    },
    {
     "name": "stdout",
     "output_type": "stream",
     "text": [
      "\n"
     ]
    }
   ],
   "source": [
    "data['minute_entry'] = data.time_exit.progress_apply(lambda x: int(x.split(':')[1]))\n",
    "data['minute_exit']  = data.time_exit.progress_apply(lambda x: int(x.split(':')[1]))\n",
    "\n",
    "data['hour_entry'] = data.time_entry.progress_apply(lambda x: int(x.split(':')[0]))\n",
    "data['hour_exit']  = data.time_exit.progress_apply(lambda x: int(x.split(':')[0]))\n",
    "\n",
    "data['time_entry'] = pd.to_timedelta(data.time_entry)\n",
    "data['time_exit']  = pd.to_timedelta(data.time_exit)\n",
    "\n",
    "data['timedelta'] = (data.time_exit - data.time_entry) / pd.Timedelta(minutes=1)"
   ]
  },
  {
   "cell_type": "markdown",
   "metadata": {},
   "source": [
    "#### <a id='4-2-1'>4.2.1. Time-wise: Continuous Features </a>\n",
    "\n",
    "The relationship of a trajectory with time may not only be related to the discrete (integer) representation of entry/exit occurence times: continuous representations of those will supposedly lead us closer to revealing different patterns spread throughout different parts of an hour or minute."
   ]
  },
  {
   "cell_type": "code",
   "execution_count": 63,
   "metadata": {},
   "outputs": [],
   "source": [
    "data['hours_continuous'] = [t / pd.Timedelta(hours=1) for t in data.time_entry]\n",
    "data['minutes_continuous'] = [t / pd.Timedelta(minutes=1) for t in data.time_entry]"
   ]
  },
  {
   "cell_type": "markdown",
   "metadata": {},
   "source": [
    "### <a id='4-3'>4.3. Quadrants </a>\n",
    "\n",
    "Trajectory sparsity along the city center is an important factor when trying to identify patterns that may be enclosed in a particular center quadrant. Let us compute features acknowledging such relation by dividing the city center in four quadrants."
   ]
  },
  {
   "cell_type": "code",
   "execution_count": 64,
   "metadata": {},
   "outputs": [],
   "source": [
    "x_center = center['x_min'] + ((center['x_max']-center['x_min'])/2)\n",
    "y_center = center['y_min'] + ((center['y_max']-center['y_min'])/2)"
   ]
  },
  {
   "cell_type": "code",
   "execution_count": 65,
   "metadata": {},
   "outputs": [],
   "source": [
    "def quadrant_computation(x, y, which):\n",
    "    if which == 'third':\n",
    "        if center['x_min'] <= x <= x_center and center['y_min'] <= y <= y_center:\n",
    "            return 1\n",
    "        else:\n",
    "            return 0\n",
    "        \n",
    "    elif which == 'first':\n",
    "        if center['x_min'] <= x <= x_center and center['y_max'] >= y >= y_center:\n",
    "            return 1\n",
    "        else:\n",
    "            return 0\n",
    "        \n",
    "    elif which == 'fourth':\n",
    "        if center['x_max'] >= x >= x_center and center['y_min'] >= y >= y_center:\n",
    "            return 1\n",
    "        else:\n",
    "            return 0\n",
    "    elif which == 'second':\n",
    "        if center['x_max'] >= x >= x_center and center['y_min'] <= y <= y_center:\n",
    "            return 1\n",
    "        else:\n",
    "            return 0\n",
    "    else:\n",
    "        return 0\n",
    "        \n",
    "for quadrant in ['first', 'second', 'third', 'fourth']:\n",
    "    data[quadrant+'_quadrant_entry'] = [quadrant_computation(x, y, which=quadrant) \n",
    "                                        for x, y in zip(data.x_entry, data.y_entry)]"
   ]
  },
  {
   "cell_type": "markdown",
   "metadata": {},
   "source": [
    "### <a id='4-4'>4.4. Center features </a>\n",
    "\n",
    "We can work with features related to center computation. Here, two more features are created: center_permanency, that encloses how much of the trajectory was inside the city center and has_crossed_city, that will indicate that a trajectory crossed city center."
   ]
  },
  {
   "cell_type": "code",
   "execution_count": 66,
   "metadata": {},
   "outputs": [
    {
     "data": {
      "application/vnd.jupyter.widget-view+json": {
       "model_id": "01b3a1e1ced048c9b5d0aa8bbb8180b9",
       "version_major": 2,
       "version_minor": 0
      },
      "text/plain": [
       "HBox(children=(IntProgress(value=0, max=1017199), HTML(value='')))"
      ]
     },
     "metadata": {},
     "output_type": "display_data"
    },
    {
     "name": "stdout",
     "output_type": "stream",
     "text": [
      "\n"
     ]
    },
    {
     "data": {
      "application/vnd.jupyter.widget-view+json": {
       "model_id": "a6e4bc41f498490f9ef033905f4f503c",
       "version_major": 2,
       "version_minor": 0
      },
      "text/plain": [
       "HBox(children=(IntProgress(value=0, max=1017199), HTML(value='')))"
      ]
     },
     "metadata": {},
     "output_type": "display_data"
    },
    {
     "name": "stdout",
     "output_type": "stream",
     "text": [
      "\n"
     ]
    }
   ],
   "source": [
    "data['center_permanency'] = data.progress_apply(center_permanency, axis=1)\n",
    "data['crossed_city'] = data.progress_apply(crossed_city, axis=1)"
   ]
  },
  {
   "cell_type": "markdown",
   "metadata": {},
   "source": [
    "### <a id='4-5'>4.5. Blind trajectories features </a>\n",
    "\n",
    "One of the major issues in the data set and in the problem statement is that a lot of device IDs have blind trajectories, that is, they have different positions for the last exit and current entry postions. Therefore, we need to explore data to acquire information regarding this blind spots. "
   ]
  },
  {
   "cell_type": "code",
   "execution_count": 67,
   "metadata": {},
   "outputs": [],
   "source": [
    "# time passed between blind spots\n",
    "data['timedelta_blind'] = (data.time_entry - data.time_exit.shift(1)) / pd.Timedelta(minutes=1)\n",
    "\n",
    "# delta for x and y blind\n",
    "data['x_delta_blind'] = data.x_entry - data.groupby('hash').x_exit.shift(1)\n",
    "data['y_delta_blind'] = data.y_entry - data.groupby('hash').y_exit.shift(1)\n",
    "\n",
    "data['lon_delta_blind'] = data.lon_entry - data.groupby('hash').lon_exit.shift(1)\n",
    "data['lat_delta_blind'] = data.lat_entry - data.groupby('hash').lat_exit.shift(1)\n",
    "\n",
    "data['euclidean_distance_blind'] = np.sqrt(np.power(data.x_delta_blind.values, 2) \n",
    "                                     + np.power(data.y_delta_blind.values, 2))\n",
    "\n",
    "data['manhattan_distance_blind'] = (np.abs(data.x_delta_blind.values) \n",
    "                                + np.abs(data.y_delta_blind.values))\n",
    "\n",
    "data['haversine_distance_blind'] = haversine(data.lon_entry, data.lat_entry, \n",
    "                                             data.groupby('hash').lon_exit.shift(1), \n",
    "                                             data.groupby('hash').lat_exit.shift(1))"
   ]
  },
  {
   "cell_type": "code",
   "execution_count": 68,
   "metadata": {},
   "outputs": [
    {
     "data": {
      "application/vnd.jupyter.widget-view+json": {
       "model_id": "a9079ef56aab40f7a58e4d4396dcaf91",
       "version_major": 2,
       "version_minor": 0
      },
      "text/plain": [
       "HBox(children=(IntProgress(value=0, max=1017199), HTML(value='')))"
      ]
     },
     "metadata": {},
     "output_type": "display_data"
    },
    {
     "name": "stdout",
     "output_type": "stream",
     "text": [
      "\n"
     ]
    }
   ],
   "source": [
    "data['trajectory_number'] = data.trajectory_id.progress_apply(lambda x: int(re.findall('_\\d+$', x)[0].strip('_')))"
   ]
  },
  {
   "cell_type": "markdown",
   "metadata": {},
   "source": [
    "### <a id='4-6'>4.6. Trajectories' Origin Point Features</a>\n",
    "\n",
    "It is a logical estimate that an extensive group in all recorded trajectories will eventually return to their origin point in the day - relating, in this case, to a person's return home. Dealing with paths distributed in space and time, the current-point to origin-point correlation levels hold a considerable chance to be proportional to any either spatial coordinates, time, or both.\n",
    "\n",
    "With that in mind, let us then compute features focused on current-to-origin point differences."
   ]
  },
  {
   "cell_type": "code",
   "execution_count": 69,
   "metadata": {},
   "outputs": [],
   "source": [
    "border_cols = [f'distance_{x}_border' for x in ['left', 'right', 'upper', 'lower']]\n",
    "\n",
    "col_subset = ['time_entry', 'time_exit', 'x_entry', 'y_entry', 'x_exit', 'y_exit',\n",
    "              'center_permanency', 'manh_dist_cc_entry'] + border_cols\n",
    "\n",
    "df_last = pd.DataFrame(data.groupby('hash')[col_subset].shift(1))\n",
    "df_last.columns = [f'last_{c}' for c in df_last.columns]\n",
    "data[df_last.columns.tolist()] = df_last\n",
    "\n",
    "origin_points = data.groupby('hash').nth(0)[col_subset]\n",
    "origin_points.columns = [f'origin_{c}' for c in col_subset]"
   ]
  },
  {
   "cell_type": "code",
   "execution_count": 70,
   "metadata": {},
   "outputs": [],
   "source": [
    "if data.columns.contains('origin_time_entry'):\n",
    "    data = data.drop(columns=origin_points.columns.tolist())\n",
    "data = data.merge(origin_points.reset_index(), on='hash')"
   ]
  },
  {
   "cell_type": "code",
   "execution_count": 71,
   "metadata": {},
   "outputs": [
    {
     "data": {
      "text/html": [
       "<div>\n",
       "<style scoped>\n",
       "    .dataframe tbody tr th:only-of-type {\n",
       "        vertical-align: middle;\n",
       "    }\n",
       "\n",
       "    .dataframe tbody tr th {\n",
       "        vertical-align: top;\n",
       "    }\n",
       "\n",
       "    .dataframe thead th {\n",
       "        text-align: right;\n",
       "    }\n",
       "</style>\n",
       "<table border=\"1\" class=\"dataframe\">\n",
       "  <thead>\n",
       "    <tr style=\"text-align: right;\">\n",
       "      <th></th>\n",
       "      <th>hash</th>\n",
       "      <th>trajectory_id</th>\n",
       "      <th>time_entry</th>\n",
       "      <th>time_exit</th>\n",
       "      <th>vmax</th>\n",
       "      <th>vmin</th>\n",
       "      <th>vmean</th>\n",
       "      <th>x_entry</th>\n",
       "      <th>y_entry</th>\n",
       "      <th>x_exit</th>\n",
       "      <th>...</th>\n",
       "      <th>deltat_origin_entry</th>\n",
       "      <th>deltat_origin_exit</th>\n",
       "      <th>deltad_origin_entry</th>\n",
       "      <th>deltad_origin_exit</th>\n",
       "      <th>delta_origin_manh_dist_cc_entry</th>\n",
       "      <th>delta_origin_center_permanency</th>\n",
       "      <th>delta_origin_distance_left_border</th>\n",
       "      <th>delta_origin_distance_right_border</th>\n",
       "      <th>delta_origin_distance_upper_border</th>\n",
       "      <th>delta_origin_distance_lower_border</th>\n",
       "    </tr>\n",
       "  </thead>\n",
       "  <tbody>\n",
       "    <tr>\n",
       "      <th>0</th>\n",
       "      <td>0000a8602cf2def930488dee7cdad104_1</td>\n",
       "      <td>traj_0000a8602cf2def930488dee7cdad104_1_0</td>\n",
       "      <td>07:04:31</td>\n",
       "      <td>07:08:32</td>\n",
       "      <td>NaN</td>\n",
       "      <td>NaN</td>\n",
       "      <td>NaN</td>\n",
       "      <td>3.751014e+06</td>\n",
       "      <td>-1.909398e+07</td>\n",
       "      <td>3.750326e+06</td>\n",
       "      <td>...</td>\n",
       "      <td>0.000000</td>\n",
       "      <td>-4.016667</td>\n",
       "      <td>0.000000</td>\n",
       "      <td>42364.863118</td>\n",
       "      <td>0.000000</td>\n",
       "      <td>0.0</td>\n",
       "      <td>0.000000</td>\n",
       "      <td>0.000000</td>\n",
       "      <td>0.000000</td>\n",
       "      <td>0.000000</td>\n",
       "    </tr>\n",
       "    <tr>\n",
       "      <th>1</th>\n",
       "      <td>0000a8602cf2def930488dee7cdad104_1</td>\n",
       "      <td>traj_0000a8602cf2def930488dee7cdad104_1_1</td>\n",
       "      <td>07:20:34</td>\n",
       "      <td>07:25:42</td>\n",
       "      <td>NaN</td>\n",
       "      <td>NaN</td>\n",
       "      <td>NaN</td>\n",
       "      <td>3.743937e+06</td>\n",
       "      <td>-1.932247e+07</td>\n",
       "      <td>3.744975e+06</td>\n",
       "      <td>...</td>\n",
       "      <td>16.050000</td>\n",
       "      <td>12.033333</td>\n",
       "      <td>228596.463182</td>\n",
       "      <td>186237.235350</td>\n",
       "      <td>-54286.455246</td>\n",
       "      <td>0.0</td>\n",
       "      <td>-60912.224781</td>\n",
       "      <td>-56666.776143</td>\n",
       "      <td>-1149.688256</td>\n",
       "      <td>-120912.169950</td>\n",
       "    </tr>\n",
       "    <tr>\n",
       "      <th>2</th>\n",
       "      <td>0000a8602cf2def930488dee7cdad104_1</td>\n",
       "      <td>traj_0000a8602cf2def930488dee7cdad104_1_2</td>\n",
       "      <td>07:53:32</td>\n",
       "      <td>08:03:25</td>\n",
       "      <td>NaN</td>\n",
       "      <td>NaN</td>\n",
       "      <td>NaN</td>\n",
       "      <td>3.744868e+06</td>\n",
       "      <td>-1.929356e+07</td>\n",
       "      <td>3.744816e+06</td>\n",
       "      <td>...</td>\n",
       "      <td>49.016667</td>\n",
       "      <td>45.000000</td>\n",
       "      <td>199678.885516</td>\n",
       "      <td>157319.709924</td>\n",
       "      <td>-84119.710003</td>\n",
       "      <td>0.0</td>\n",
       "      <td>-89538.276553</td>\n",
       "      <td>-80774.526606</td>\n",
       "      <td>-30050.920393</td>\n",
       "      <td>-149538.221722</td>\n",
       "    </tr>\n",
       "    <tr>\n",
       "      <th>3</th>\n",
       "      <td>0000a8602cf2def930488dee7cdad104_1</td>\n",
       "      <td>traj_0000a8602cf2def930488dee7cdad104_1_3</td>\n",
       "      <td>08:17:50</td>\n",
       "      <td>08:37:23</td>\n",
       "      <td>NaN</td>\n",
       "      <td>NaN</td>\n",
       "      <td>NaN</td>\n",
       "      <td>3.744880e+06</td>\n",
       "      <td>-1.929229e+07</td>\n",
       "      <td>3.744809e+06</td>\n",
       "      <td>...</td>\n",
       "      <td>73.316667</td>\n",
       "      <td>69.300000</td>\n",
       "      <td>198403.955748</td>\n",
       "      <td>156044.897162</td>\n",
       "      <td>-85407.114016</td>\n",
       "      <td>0.0</td>\n",
       "      <td>-90778.051448</td>\n",
       "      <td>-81648.292623</td>\n",
       "      <td>-31323.686710</td>\n",
       "      <td>-150777.996617</td>\n",
       "    </tr>\n",
       "    <tr>\n",
       "      <th>4</th>\n",
       "      <td>0000a8602cf2def930488dee7cdad104_1</td>\n",
       "      <td>traj_0000a8602cf2def930488dee7cdad104_1_4</td>\n",
       "      <td>14:38:09</td>\n",
       "      <td>14:38:09</td>\n",
       "      <td>NaN</td>\n",
       "      <td>NaN</td>\n",
       "      <td>NaN</td>\n",
       "      <td>3.744909e+06</td>\n",
       "      <td>-1.928558e+07</td>\n",
       "      <td>3.744909e+06</td>\n",
       "      <td>...</td>\n",
       "      <td>453.633333</td>\n",
       "      <td>449.616667</td>\n",
       "      <td>191701.580920</td>\n",
       "      <td>149343.344205</td>\n",
       "      <td>-92140.824906</td>\n",
       "      <td>0.0</td>\n",
       "      <td>-97201.822669</td>\n",
       "      <td>-85749.216239</td>\n",
       "      <td>-38011.785174</td>\n",
       "      <td>-157201.767838</td>\n",
       "    </tr>\n",
       "  </tbody>\n",
       "</table>\n",
       "<p>5 rows × 159 columns</p>\n",
       "</div>"
      ],
      "text/plain": [
       "                                 hash  \\\n",
       "0  0000a8602cf2def930488dee7cdad104_1   \n",
       "1  0000a8602cf2def930488dee7cdad104_1   \n",
       "2  0000a8602cf2def930488dee7cdad104_1   \n",
       "3  0000a8602cf2def930488dee7cdad104_1   \n",
       "4  0000a8602cf2def930488dee7cdad104_1   \n",
       "\n",
       "                               trajectory_id time_entry time_exit  vmax  vmin  \\\n",
       "0  traj_0000a8602cf2def930488dee7cdad104_1_0   07:04:31  07:08:32   NaN   NaN   \n",
       "1  traj_0000a8602cf2def930488dee7cdad104_1_1   07:20:34  07:25:42   NaN   NaN   \n",
       "2  traj_0000a8602cf2def930488dee7cdad104_1_2   07:53:32  08:03:25   NaN   NaN   \n",
       "3  traj_0000a8602cf2def930488dee7cdad104_1_3   08:17:50  08:37:23   NaN   NaN   \n",
       "4  traj_0000a8602cf2def930488dee7cdad104_1_4   14:38:09  14:38:09   NaN   NaN   \n",
       "\n",
       "   vmean       x_entry       y_entry        x_exit  ...  deltat_origin_entry  \\\n",
       "0    NaN  3.751014e+06 -1.909398e+07  3.750326e+06  ...             0.000000   \n",
       "1    NaN  3.743937e+06 -1.932247e+07  3.744975e+06  ...            16.050000   \n",
       "2    NaN  3.744868e+06 -1.929356e+07  3.744816e+06  ...            49.016667   \n",
       "3    NaN  3.744880e+06 -1.929229e+07  3.744809e+06  ...            73.316667   \n",
       "4    NaN  3.744909e+06 -1.928558e+07  3.744909e+06  ...           453.633333   \n",
       "\n",
       "  deltat_origin_exit  deltad_origin_entry  deltad_origin_exit  \\\n",
       "0          -4.016667             0.000000        42364.863118   \n",
       "1          12.033333        228596.463182       186237.235350   \n",
       "2          45.000000        199678.885516       157319.709924   \n",
       "3          69.300000        198403.955748       156044.897162   \n",
       "4         449.616667        191701.580920       149343.344205   \n",
       "\n",
       "  delta_origin_manh_dist_cc_entry  delta_origin_center_permanency  \\\n",
       "0                        0.000000                             0.0   \n",
       "1                   -54286.455246                             0.0   \n",
       "2                   -84119.710003                             0.0   \n",
       "3                   -85407.114016                             0.0   \n",
       "4                   -92140.824906                             0.0   \n",
       "\n",
       "   delta_origin_distance_left_border  delta_origin_distance_right_border  \\\n",
       "0                           0.000000                            0.000000   \n",
       "1                      -60912.224781                       -56666.776143   \n",
       "2                      -89538.276553                       -80774.526606   \n",
       "3                      -90778.051448                       -81648.292623   \n",
       "4                      -97201.822669                       -85749.216239   \n",
       "\n",
       "   delta_origin_distance_upper_border  delta_origin_distance_lower_border  \n",
       "0                            0.000000                            0.000000  \n",
       "1                        -1149.688256                      -120912.169950  \n",
       "2                       -30050.920393                      -149538.221722  \n",
       "3                       -31323.686710                      -150777.996617  \n",
       "4                       -38011.785174                      -157201.767838  \n",
       "\n",
       "[5 rows x 159 columns]"
      ]
     },
     "execution_count": 71,
     "metadata": {},
     "output_type": "execute_result"
    }
   ],
   "source": [
    "for p in ['last', 'origin']:\n",
    "    data[f'deltat_{p}_entry'] = (data.time_entry - data[f'{p}_time_entry']) / pd.Timedelta(minutes=1)\n",
    "    data[f'deltat_{p}_exit'] = (data.time_entry - data[f'{p}_time_exit']) / pd.Timedelta(minutes=1)\n",
    "\n",
    "    data = data.drop(columns=[x for x in data.columns.ravel() if x.startswith(f'{p}_time_')])\n",
    "\n",
    "    data[f'deltad_{p}_entry'] = euclidean(data[f'{p}_x_entry'], data[f'{p}_y_entry'], data.x_entry, data.y_entry)\n",
    "    data[f'deltad_{p}_exit'] = euclidean(data[f'{p}_x_exit'], data[f'{p}_y_exit'], data.x_entry, data.y_entry)\n",
    "    \n",
    "    data[f'delta_{p}_manh_dist_cc_entry'] = data.manh_dist_cc_entry - data[f'{p}_manh_dist_cc_entry']\n",
    "    data[f'delta_{p}_center_permanency'] = data.center_permanency - data[f'{p}_center_permanency']\n",
    "    \n",
    "    for border in border_cols:\n",
    "        data[f'delta_{p}_{border}'] = data[border] - data[f'{p}_{border}']\n",
    "\n",
    "data.head(5)"
   ]
  },
  {
   "cell_type": "markdown",
   "metadata": {},
   "source": [
    "For hashes containing only one trajectory, `origin` features **are the features of that one trajectory** - keeping origin features such as exit coordinates, and training upon them, will most likely lead to overfitting. Let's remove leakage-prone `origin` features for one-trajectory hashes."
   ]
  },
  {
   "cell_type": "code",
   "execution_count": 72,
   "metadata": {},
   "outputs": [],
   "source": [
    "origin_leakage_cols = ['origin_x_exit', 'origin_y_exit', 'origin_center_permanency']"
   ]
  },
  {
   "cell_type": "code",
   "execution_count": 73,
   "metadata": {},
   "outputs": [
    {
     "data": {
      "text/html": [
       "<div>\n",
       "<style scoped>\n",
       "    .dataframe tbody tr th:only-of-type {\n",
       "        vertical-align: middle;\n",
       "    }\n",
       "\n",
       "    .dataframe tbody tr th {\n",
       "        vertical-align: top;\n",
       "    }\n",
       "\n",
       "    .dataframe thead th {\n",
       "        text-align: right;\n",
       "    }\n",
       "</style>\n",
       "<table border=\"1\" class=\"dataframe\">\n",
       "  <thead>\n",
       "    <tr style=\"text-align: right;\">\n",
       "      <th></th>\n",
       "      <th>hash</th>\n",
       "      <th>trajectory_id</th>\n",
       "      <th>time_entry</th>\n",
       "      <th>time_exit</th>\n",
       "      <th>vmax</th>\n",
       "      <th>vmin</th>\n",
       "      <th>vmean</th>\n",
       "      <th>x_entry</th>\n",
       "      <th>y_entry</th>\n",
       "      <th>x_exit</th>\n",
       "      <th>...</th>\n",
       "      <th>deltat_origin_entry</th>\n",
       "      <th>deltat_origin_exit</th>\n",
       "      <th>deltad_origin_entry</th>\n",
       "      <th>deltad_origin_exit</th>\n",
       "      <th>delta_origin_manh_dist_cc_entry</th>\n",
       "      <th>delta_origin_center_permanency</th>\n",
       "      <th>delta_origin_distance_left_border</th>\n",
       "      <th>delta_origin_distance_right_border</th>\n",
       "      <th>delta_origin_distance_upper_border</th>\n",
       "      <th>delta_origin_distance_lower_border</th>\n",
       "    </tr>\n",
       "  </thead>\n",
       "  <tbody>\n",
       "    <tr>\n",
       "      <th>651</th>\n",
       "      <td>003701810d0b3e69732ec05654769d16_9</td>\n",
       "      <td>traj_003701810d0b3e69732ec05654769d16_9_3</td>\n",
       "      <td>15:08:27</td>\n",
       "      <td>15:13:36</td>\n",
       "      <td>NaN</td>\n",
       "      <td>NaN</td>\n",
       "      <td>NaN</td>\n",
       "      <td>3.759756e+06</td>\n",
       "      <td>-1.911922e+07</td>\n",
       "      <td>3.758231e+06</td>\n",
       "      <td>...</td>\n",
       "      <td>0.0</td>\n",
       "      <td>-5.150000</td>\n",
       "      <td>0.0</td>\n",
       "      <td>22418.857599</td>\n",
       "      <td>0.0</td>\n",
       "      <td>0.0</td>\n",
       "      <td>0.0</td>\n",
       "      <td>0.0</td>\n",
       "      <td>0.0</td>\n",
       "      <td>0.0</td>\n",
       "    </tr>\n",
       "    <tr>\n",
       "      <th>1348</th>\n",
       "      <td>00713e9907826da5e8b6ddefcba51770_3</td>\n",
       "      <td>traj_00713e9907826da5e8b6ddefcba51770_3_0</td>\n",
       "      <td>15:24:03</td>\n",
       "      <td>15:24:26</td>\n",
       "      <td>NaN</td>\n",
       "      <td>NaN</td>\n",
       "      <td>NaN</td>\n",
       "      <td>3.742580e+06</td>\n",
       "      <td>-1.928732e+07</td>\n",
       "      <td>3.742601e+06</td>\n",
       "      <td>...</td>\n",
       "      <td>0.0</td>\n",
       "      <td>-0.383333</td>\n",
       "      <td>0.0</td>\n",
       "      <td>6764.064854</td>\n",
       "      <td>0.0</td>\n",
       "      <td>0.0</td>\n",
       "      <td>0.0</td>\n",
       "      <td>0.0</td>\n",
       "      <td>0.0</td>\n",
       "      <td>0.0</td>\n",
       "    </tr>\n",
       "    <tr>\n",
       "      <th>1515</th>\n",
       "      <td>0082a8207f0a1240210aa02f14921394_5</td>\n",
       "      <td>traj_0082a8207f0a1240210aa02f14921394_5_0</td>\n",
       "      <td>14:59:04</td>\n",
       "      <td>15:09:00</td>\n",
       "      <td>NaN</td>\n",
       "      <td>NaN</td>\n",
       "      <td>NaN</td>\n",
       "      <td>3.758777e+06</td>\n",
       "      <td>-1.912366e+07</td>\n",
       "      <td>3.760882e+06</td>\n",
       "      <td>...</td>\n",
       "      <td>0.0</td>\n",
       "      <td>-9.933333</td>\n",
       "      <td>0.0</td>\n",
       "      <td>15268.099068</td>\n",
       "      <td>0.0</td>\n",
       "      <td>0.0</td>\n",
       "      <td>0.0</td>\n",
       "      <td>0.0</td>\n",
       "      <td>0.0</td>\n",
       "      <td>0.0</td>\n",
       "    </tr>\n",
       "    <tr>\n",
       "      <th>2231</th>\n",
       "      <td>00c04d3c0b35f93429fe0fc32eff21f8_29</td>\n",
       "      <td>traj_00c04d3c0b35f93429fe0fc32eff21f8_29_0</td>\n",
       "      <td>14:59:15</td>\n",
       "      <td>15:03:13</td>\n",
       "      <td>NaN</td>\n",
       "      <td>NaN</td>\n",
       "      <td>NaN</td>\n",
       "      <td>3.743534e+06</td>\n",
       "      <td>-1.928686e+07</td>\n",
       "      <td>3.744788e+06</td>\n",
       "      <td>...</td>\n",
       "      <td>0.0</td>\n",
       "      <td>-3.966667</td>\n",
       "      <td>0.0</td>\n",
       "      <td>6213.466804</td>\n",
       "      <td>0.0</td>\n",
       "      <td>0.0</td>\n",
       "      <td>0.0</td>\n",
       "      <td>0.0</td>\n",
       "      <td>0.0</td>\n",
       "      <td>0.0</td>\n",
       "    </tr>\n",
       "    <tr>\n",
       "      <th>2556</th>\n",
       "      <td>00dd3e54b391a940c425e38d2236d404_11</td>\n",
       "      <td>traj_00dd3e54b391a940c425e38d2236d404_11_0</td>\n",
       "      <td>15:07:24</td>\n",
       "      <td>15:13:46</td>\n",
       "      <td>67.117546</td>\n",
       "      <td>67.117546</td>\n",
       "      <td>67.117546</td>\n",
       "      <td>3.745866e+06</td>\n",
       "      <td>-1.920858e+07</td>\n",
       "      <td>3.744994e+06</td>\n",
       "      <td>...</td>\n",
       "      <td>0.0</td>\n",
       "      <td>-6.366667</td>\n",
       "      <td>0.0</td>\n",
       "      <td>77821.319756</td>\n",
       "      <td>0.0</td>\n",
       "      <td>0.0</td>\n",
       "      <td>0.0</td>\n",
       "      <td>0.0</td>\n",
       "      <td>0.0</td>\n",
       "      <td>0.0</td>\n",
       "    </tr>\n",
       "  </tbody>\n",
       "</table>\n",
       "<p>5 rows × 159 columns</p>\n",
       "</div>"
      ],
      "text/plain": [
       "                                     hash  \\\n",
       "651    003701810d0b3e69732ec05654769d16_9   \n",
       "1348   00713e9907826da5e8b6ddefcba51770_3   \n",
       "1515   0082a8207f0a1240210aa02f14921394_5   \n",
       "2231  00c04d3c0b35f93429fe0fc32eff21f8_29   \n",
       "2556  00dd3e54b391a940c425e38d2236d404_11   \n",
       "\n",
       "                                   trajectory_id time_entry time_exit  \\\n",
       "651    traj_003701810d0b3e69732ec05654769d16_9_3   15:08:27  15:13:36   \n",
       "1348   traj_00713e9907826da5e8b6ddefcba51770_3_0   15:24:03  15:24:26   \n",
       "1515   traj_0082a8207f0a1240210aa02f14921394_5_0   14:59:04  15:09:00   \n",
       "2231  traj_00c04d3c0b35f93429fe0fc32eff21f8_29_0   14:59:15  15:03:13   \n",
       "2556  traj_00dd3e54b391a940c425e38d2236d404_11_0   15:07:24  15:13:46   \n",
       "\n",
       "           vmax       vmin      vmean       x_entry       y_entry  \\\n",
       "651         NaN        NaN        NaN  3.759756e+06 -1.911922e+07   \n",
       "1348        NaN        NaN        NaN  3.742580e+06 -1.928732e+07   \n",
       "1515        NaN        NaN        NaN  3.758777e+06 -1.912366e+07   \n",
       "2231        NaN        NaN        NaN  3.743534e+06 -1.928686e+07   \n",
       "2556  67.117546  67.117546  67.117546  3.745866e+06 -1.920858e+07   \n",
       "\n",
       "            x_exit  ...  deltat_origin_entry deltat_origin_exit  \\\n",
       "651   3.758231e+06  ...                  0.0          -5.150000   \n",
       "1348  3.742601e+06  ...                  0.0          -0.383333   \n",
       "1515  3.760882e+06  ...                  0.0          -9.933333   \n",
       "2231  3.744788e+06  ...                  0.0          -3.966667   \n",
       "2556  3.744994e+06  ...                  0.0          -6.366667   \n",
       "\n",
       "      deltad_origin_entry  deltad_origin_exit delta_origin_manh_dist_cc_entry  \\\n",
       "651                   0.0        22418.857599                             0.0   \n",
       "1348                  0.0         6764.064854                             0.0   \n",
       "1515                  0.0        15268.099068                             0.0   \n",
       "2231                  0.0         6213.466804                             0.0   \n",
       "2556                  0.0        77821.319756                             0.0   \n",
       "\n",
       "      delta_origin_center_permanency  delta_origin_distance_left_border  \\\n",
       "651                              0.0                                0.0   \n",
       "1348                             0.0                                0.0   \n",
       "1515                             0.0                                0.0   \n",
       "2231                             0.0                                0.0   \n",
       "2556                             0.0                                0.0   \n",
       "\n",
       "      delta_origin_distance_right_border  delta_origin_distance_upper_border  \\\n",
       "651                                  0.0                                 0.0   \n",
       "1348                                 0.0                                 0.0   \n",
       "1515                                 0.0                                 0.0   \n",
       "2231                                 0.0                                 0.0   \n",
       "2556                                 0.0                                 0.0   \n",
       "\n",
       "      delta_origin_distance_lower_border  \n",
       "651                                  0.0  \n",
       "1348                                 0.0  \n",
       "1515                                 0.0  \n",
       "2231                                 0.0  \n",
       "2556                                 0.0  \n",
       "\n",
       "[5 rows x 159 columns]"
      ]
     },
     "execution_count": 73,
     "metadata": {},
     "output_type": "execute_result"
    }
   ],
   "source": [
    "one_trajectory = (data.groupby('hash').trajectory_id.nunique() == 1).reset_index()\n",
    "one_trajectory.columns = ['hash', 'one_only']\n",
    "one_trajectory = one_trajectory[one_trajectory.one_only == 1]\n",
    "\n",
    "data[data.hash.isin(one_trajectory.hash)].head(5)"
   ]
  },
  {
   "cell_type": "code",
   "execution_count": 74,
   "metadata": {},
   "outputs": [],
   "source": [
    "data.loc[data.hash.isin(one_trajectory.hash), origin_leakage_cols] = np.nan"
   ]
  },
  {
   "cell_type": "code",
   "execution_count": 75,
   "metadata": {},
   "outputs": [
    {
     "data": {
      "text/plain": [
       "(1017199, 159)"
      ]
     },
     "execution_count": 75,
     "metadata": {},
     "output_type": "execute_result"
    }
   ],
   "source": [
    "data.shape"
   ]
  },
  {
   "cell_type": "markdown",
   "metadata": {},
   "source": [
    "### <a id='4-7'>4.7. Aggregating Features </a>\n",
    "\n",
    "For every feature created, let's now create more feature based on some statistics. Thus we will group data by hash and compute its mean, max, sum, std and median values. We have to watch out not to compute features that would introduce leakage, that is why we we going to calculate statistics based only on data before 15 oclock."
   ]
  },
  {
   "cell_type": "code",
   "execution_count": 76,
   "metadata": {},
   "outputs": [
    {
     "data": {
      "text/html": [
       "<div>\n",
       "<style scoped>\n",
       "    .dataframe tbody tr th:only-of-type {\n",
       "        vertical-align: middle;\n",
       "    }\n",
       "\n",
       "    .dataframe tbody tr th {\n",
       "        vertical-align: top;\n",
       "    }\n",
       "\n",
       "    .dataframe thead th {\n",
       "        text-align: right;\n",
       "    }\n",
       "</style>\n",
       "<table border=\"1\" class=\"dataframe\">\n",
       "  <thead>\n",
       "    <tr style=\"text-align: right;\">\n",
       "      <th></th>\n",
       "      <th>hash</th>\n",
       "      <th>vmax_min</th>\n",
       "      <th>vmax_max</th>\n",
       "      <th>vmax_mean</th>\n",
       "      <th>vmax_std</th>\n",
       "      <th>vmax_median</th>\n",
       "      <th>vmin_min</th>\n",
       "      <th>vmin_max</th>\n",
       "      <th>vmin_mean</th>\n",
       "      <th>vmin_std</th>\n",
       "      <th>...</th>\n",
       "      <th>delta_origin_distance_upper_border_min</th>\n",
       "      <th>delta_origin_distance_upper_border_max</th>\n",
       "      <th>delta_origin_distance_upper_border_mean</th>\n",
       "      <th>delta_origin_distance_upper_border_std</th>\n",
       "      <th>delta_origin_distance_upper_border_median</th>\n",
       "      <th>delta_origin_distance_lower_border_min</th>\n",
       "      <th>delta_origin_distance_lower_border_max</th>\n",
       "      <th>delta_origin_distance_lower_border_mean</th>\n",
       "      <th>delta_origin_distance_lower_border_std</th>\n",
       "      <th>delta_origin_distance_lower_border_median</th>\n",
       "    </tr>\n",
       "  </thead>\n",
       "  <tbody>\n",
       "    <tr>\n",
       "      <th>0</th>\n",
       "      <td>0000a8602cf2def930488dee7cdad104_1</td>\n",
       "      <td>NaN</td>\n",
       "      <td>NaN</td>\n",
       "      <td>NaN</td>\n",
       "      <td>NaN</td>\n",
       "      <td>NaN</td>\n",
       "      <td>NaN</td>\n",
       "      <td>NaN</td>\n",
       "      <td>NaN</td>\n",
       "      <td>NaN</td>\n",
       "      <td>...</td>\n",
       "      <td>-38011.785174</td>\n",
       "      <td>0.000000</td>\n",
       "      <td>-20107.216107</td>\n",
       "      <td>18089.693633</td>\n",
       "      <td>-30050.920393</td>\n",
       "      <td>-157201.767838</td>\n",
       "      <td>0.0</td>\n",
       "      <td>-115686.031226</td>\n",
       "      <td>66165.594476</td>\n",
       "      <td>-149538.221722</td>\n",
       "    </tr>\n",
       "    <tr>\n",
       "      <th>1</th>\n",
       "      <td>0000cf177130469eeac79f67b6bcf3df_9</td>\n",
       "      <td>0.000000</td>\n",
       "      <td>0.507809</td>\n",
       "      <td>0.169270</td>\n",
       "      <td>0.293184</td>\n",
       "      <td>0.000000</td>\n",
       "      <td>0.000000</td>\n",
       "      <td>0.507809</td>\n",
       "      <td>0.169270</td>\n",
       "      <td>0.293184</td>\n",
       "      <td>...</td>\n",
       "      <td>0.000000</td>\n",
       "      <td>2217.265141</td>\n",
       "      <td>1166.114282</td>\n",
       "      <td>1113.094164</td>\n",
       "      <td>1281.077706</td>\n",
       "      <td>-1669.889095</td>\n",
       "      <td>0.0</td>\n",
       "      <td>-868.090300</td>\n",
       "      <td>836.915957</td>\n",
       "      <td>-934.381805</td>\n",
       "    </tr>\n",
       "    <tr>\n",
       "      <th>2</th>\n",
       "      <td>0001f97b99a80f18f62e2d44e54ef33d_3</td>\n",
       "      <td>32.196255</td>\n",
       "      <td>32.196255</td>\n",
       "      <td>32.196255</td>\n",
       "      <td>NaN</td>\n",
       "      <td>32.196255</td>\n",
       "      <td>32.196255</td>\n",
       "      <td>32.196255</td>\n",
       "      <td>32.196255</td>\n",
       "      <td>NaN</td>\n",
       "      <td>...</td>\n",
       "      <td>0.000000</td>\n",
       "      <td>0.000000</td>\n",
       "      <td>0.000000</td>\n",
       "      <td>NaN</td>\n",
       "      <td>0.000000</td>\n",
       "      <td>0.000000</td>\n",
       "      <td>0.0</td>\n",
       "      <td>0.000000</td>\n",
       "      <td>NaN</td>\n",
       "      <td>0.000000</td>\n",
       "    </tr>\n",
       "    <tr>\n",
       "      <th>3</th>\n",
       "      <td>0002124248b0ca510dea42824723ccac_31</td>\n",
       "      <td>NaN</td>\n",
       "      <td>NaN</td>\n",
       "      <td>NaN</td>\n",
       "      <td>NaN</td>\n",
       "      <td>NaN</td>\n",
       "      <td>NaN</td>\n",
       "      <td>NaN</td>\n",
       "      <td>NaN</td>\n",
       "      <td>NaN</td>\n",
       "      <td>...</td>\n",
       "      <td>-30708.115509</td>\n",
       "      <td>0.000000</td>\n",
       "      <td>-15001.803780</td>\n",
       "      <td>13190.045820</td>\n",
       "      <td>-7741.975980</td>\n",
       "      <td>-65187.764178</td>\n",
       "      <td>0.0</td>\n",
       "      <td>-26625.360179</td>\n",
       "      <td>24379.260477</td>\n",
       "      <td>-24981.800315</td>\n",
       "    </tr>\n",
       "  </tbody>\n",
       "</table>\n",
       "<p>4 rows × 766 columns</p>\n",
       "</div>"
      ],
      "text/plain": [
       "                                  hash   vmax_min   vmax_max  vmax_mean  \\\n",
       "0   0000a8602cf2def930488dee7cdad104_1        NaN        NaN        NaN   \n",
       "1   0000cf177130469eeac79f67b6bcf3df_9   0.000000   0.507809   0.169270   \n",
       "2   0001f97b99a80f18f62e2d44e54ef33d_3  32.196255  32.196255  32.196255   \n",
       "3  0002124248b0ca510dea42824723ccac_31        NaN        NaN        NaN   \n",
       "\n",
       "   vmax_std  vmax_median   vmin_min   vmin_max  vmin_mean  vmin_std  ...  \\\n",
       "0       NaN          NaN        NaN        NaN        NaN       NaN  ...   \n",
       "1  0.293184     0.000000   0.000000   0.507809   0.169270  0.293184  ...   \n",
       "2       NaN    32.196255  32.196255  32.196255  32.196255       NaN  ...   \n",
       "3       NaN          NaN        NaN        NaN        NaN       NaN  ...   \n",
       "\n",
       "   delta_origin_distance_upper_border_min  \\\n",
       "0                           -38011.785174   \n",
       "1                                0.000000   \n",
       "2                                0.000000   \n",
       "3                           -30708.115509   \n",
       "\n",
       "   delta_origin_distance_upper_border_max  \\\n",
       "0                                0.000000   \n",
       "1                             2217.265141   \n",
       "2                                0.000000   \n",
       "3                                0.000000   \n",
       "\n",
       "   delta_origin_distance_upper_border_mean  \\\n",
       "0                            -20107.216107   \n",
       "1                              1166.114282   \n",
       "2                                 0.000000   \n",
       "3                            -15001.803780   \n",
       "\n",
       "   delta_origin_distance_upper_border_std  \\\n",
       "0                            18089.693633   \n",
       "1                             1113.094164   \n",
       "2                                     NaN   \n",
       "3                            13190.045820   \n",
       "\n",
       "   delta_origin_distance_upper_border_median  \\\n",
       "0                              -30050.920393   \n",
       "1                                1281.077706   \n",
       "2                                   0.000000   \n",
       "3                               -7741.975980   \n",
       "\n",
       "   delta_origin_distance_lower_border_min  \\\n",
       "0                          -157201.767838   \n",
       "1                            -1669.889095   \n",
       "2                                0.000000   \n",
       "3                           -65187.764178   \n",
       "\n",
       "   delta_origin_distance_lower_border_max  \\\n",
       "0                                     0.0   \n",
       "1                                     0.0   \n",
       "2                                     0.0   \n",
       "3                                     0.0   \n",
       "\n",
       "   delta_origin_distance_lower_border_mean  \\\n",
       "0                           -115686.031226   \n",
       "1                              -868.090300   \n",
       "2                                 0.000000   \n",
       "3                            -26625.360179   \n",
       "\n",
       "   delta_origin_distance_lower_border_std  \\\n",
       "0                            66165.594476   \n",
       "1                              836.915957   \n",
       "2                                     NaN   \n",
       "3                            24379.260477   \n",
       "\n",
       "   delta_origin_distance_lower_border_median  \n",
       "0                             -149538.221722  \n",
       "1                                -934.381805  \n",
       "2                                   0.000000  \n",
       "3                              -24981.800315  \n",
       "\n",
       "[4 rows x 766 columns]"
      ]
     },
     "execution_count": 76,
     "metadata": {},
     "output_type": "execute_result"
    }
   ],
   "source": [
    "# exclude data between 15-16 to avoid leakage\n",
    "data_to_calculate_features = data[data.time_exit < pd.to_timedelta('15:00:00')]\n",
    "\n",
    "agg_features = (data_to_calculate_features.groupby('hash')\n",
    "               .agg(['min', 'max', 'mean', 'std', 'median'])\n",
    "               .reset_index())\n",
    "\n",
    "agg_features.columns = ['hash'] + [\"_\".join(x) for x in agg_features.columns.ravel() if x[0] is not 'hash']\n",
    "agg_features.head(4)"
   ]
  },
  {
   "cell_type": "markdown",
   "metadata": {},
   "source": [
    "### <a id='4-8'>4.8. Target </a>\n",
    "\n",
    "The one necessary feature to compute, to help answering the final question: which trajectories are in and out of the city center?"
   ]
  },
  {
   "cell_type": "code",
   "execution_count": 77,
   "metadata": {},
   "outputs": [],
   "source": [
    "data['is_inside_city_entry'] = [is_inside_city(x, y) for x, y in zip(data.x_entry, data.y_entry)]\n",
    "data['is_inside_city_exit'] = [is_inside_city(x, y) for x, y in zip(data.x_exit, data.y_exit)]\n",
    "\n",
    "data['leaving_city'] = (data.is_inside_city_entry - data.is_inside_city_exit).apply(lambda x: 1 if x == 1 \n",
    "                                                                                   else 0)\n",
    "data['entering_city'] = (data.is_inside_city_entry - data.is_inside_city_exit).apply(lambda x: 1 if x == -1 \n",
    "                                                                                   else 0)"
   ]
  },
  {
   "cell_type": "markdown",
   "metadata": {},
   "source": [
    "## <a id='5'>5. Sequence Data </a>"
   ]
  },
  {
   "cell_type": "code",
   "execution_count": 96,
   "metadata": {},
   "outputs": [],
   "source": [
    "window_reference = 5\n",
    "\n",
    "grouped = data.groupby(['hash']).tail(window_reference)\n",
    "grouped['sequence'] = np.ones(grouped.shape[0])\n",
    "df = grouped.groupby(by=['hash','time_entry', 'trajectory_id']).sum().groupby(level=[0]).cumsum().reset_index()[['trajectory_id', 'sequence']]\n",
    "df.columns = ['trajectory_id', 'trajectory_sequence']\n",
    "grouped = grouped.merge(df, on='trajectory_id', how='left')"
   ]
  },
  {
   "cell_type": "code",
   "execution_count": 97,
   "metadata": {},
   "outputs": [
    {
     "data": {
      "text/html": [
       "<div>\n",
       "<style scoped>\n",
       "    .dataframe tbody tr th:only-of-type {\n",
       "        vertical-align: middle;\n",
       "    }\n",
       "\n",
       "    .dataframe tbody tr th {\n",
       "        vertical-align: top;\n",
       "    }\n",
       "\n",
       "    .dataframe thead th {\n",
       "        text-align: right;\n",
       "    }\n",
       "</style>\n",
       "<table border=\"1\" class=\"dataframe\">\n",
       "  <thead>\n",
       "    <tr style=\"text-align: right;\">\n",
       "      <th></th>\n",
       "      <th>hash</th>\n",
       "      <th>trajectory_id</th>\n",
       "      <th>time_entry</th>\n",
       "      <th>time_exit</th>\n",
       "      <th>vmax</th>\n",
       "      <th>vmin</th>\n",
       "      <th>vmean</th>\n",
       "      <th>x_entry</th>\n",
       "      <th>y_entry</th>\n",
       "      <th>x_exit</th>\n",
       "      <th>...</th>\n",
       "      <th>havr_mid_international_airport_exit</th>\n",
       "      <th>havr_mid_buckhead_exit</th>\n",
       "      <th>havr_mid_georgia_tech_exit</th>\n",
       "      <th>havr_mid_atlanta_university_center_exit</th>\n",
       "      <th>havr_mid_perimeter_center_exit</th>\n",
       "      <th>havr_mid_piedmont_shepherd_medical_center_exit</th>\n",
       "      <th>havr_mid_wellstar_northlake_medical_center_exit</th>\n",
       "      <th>sequence</th>\n",
       "      <th>trajectory_sequence</th>\n",
       "      <th>count_trajectories</th>\n",
       "    </tr>\n",
       "  </thead>\n",
       "  <tbody>\n",
       "    <tr>\n",
       "      <th>0</th>\n",
       "      <td>0000a8602cf2def930488dee7cdad104_1</td>\n",
       "      <td>traj_0000a8602cf2def930488dee7cdad104_1_1</td>\n",
       "      <td>07:20:34</td>\n",
       "      <td>07:25:42</td>\n",
       "      <td>NaN</td>\n",
       "      <td>NaN</td>\n",
       "      <td>NaN</td>\n",
       "      <td>3.743937e+06</td>\n",
       "      <td>-1.932247e+07</td>\n",
       "      <td>3.744975e+06</td>\n",
       "      <td>...</td>\n",
       "      <td>10674.718709</td>\n",
       "      <td>10294.196223</td>\n",
       "      <td>10461.748906</td>\n",
       "      <td>10460.432108</td>\n",
       "      <td>10341.387650</td>\n",
       "      <td>10388.099246</td>\n",
       "      <td>10596.207039</td>\n",
       "      <td>1.0</td>\n",
       "      <td>1.0</td>\n",
       "      <td>5</td>\n",
       "    </tr>\n",
       "    <tr>\n",
       "      <th>1</th>\n",
       "      <td>0000a8602cf2def930488dee7cdad104_1</td>\n",
       "      <td>traj_0000a8602cf2def930488dee7cdad104_1_2</td>\n",
       "      <td>07:53:32</td>\n",
       "      <td>08:03:25</td>\n",
       "      <td>NaN</td>\n",
       "      <td>NaN</td>\n",
       "      <td>NaN</td>\n",
       "      <td>3.744868e+06</td>\n",
       "      <td>-1.929356e+07</td>\n",
       "      <td>3.744816e+06</td>\n",
       "      <td>...</td>\n",
       "      <td>10798.801984</td>\n",
       "      <td>10401.244225</td>\n",
       "      <td>10574.031122</td>\n",
       "      <td>10575.544704</td>\n",
       "      <td>10437.234594</td>\n",
       "      <td>10497.271075</td>\n",
       "      <td>10709.008623</td>\n",
       "      <td>1.0</td>\n",
       "      <td>2.0</td>\n",
       "      <td>5</td>\n",
       "    </tr>\n",
       "    <tr>\n",
       "      <th>2</th>\n",
       "      <td>0000a8602cf2def930488dee7cdad104_1</td>\n",
       "      <td>traj_0000a8602cf2def930488dee7cdad104_1_3</td>\n",
       "      <td>08:17:50</td>\n",
       "      <td>08:37:23</td>\n",
       "      <td>NaN</td>\n",
       "      <td>NaN</td>\n",
       "      <td>NaN</td>\n",
       "      <td>3.744880e+06</td>\n",
       "      <td>-1.929229e+07</td>\n",
       "      <td>3.744809e+06</td>\n",
       "      <td>...</td>\n",
       "      <td>10809.476533</td>\n",
       "      <td>10410.365493</td>\n",
       "      <td>10583.626358</td>\n",
       "      <td>10585.398164</td>\n",
       "      <td>10445.341816</td>\n",
       "      <td>10506.584085</td>\n",
       "      <td>10718.649684</td>\n",
       "      <td>1.0</td>\n",
       "      <td>3.0</td>\n",
       "      <td>5</td>\n",
       "    </tr>\n",
       "    <tr>\n",
       "      <th>3</th>\n",
       "      <td>0000a8602cf2def930488dee7cdad104_1</td>\n",
       "      <td>traj_0000a8602cf2def930488dee7cdad104_1_4</td>\n",
       "      <td>14:38:09</td>\n",
       "      <td>14:38:09</td>\n",
       "      <td>NaN</td>\n",
       "      <td>NaN</td>\n",
       "      <td>NaN</td>\n",
       "      <td>3.744909e+06</td>\n",
       "      <td>-1.928558e+07</td>\n",
       "      <td>3.744909e+06</td>\n",
       "      <td>...</td>\n",
       "      <td>10828.080855</td>\n",
       "      <td>10424.883151</td>\n",
       "      <td>10599.356773</td>\n",
       "      <td>10601.801191</td>\n",
       "      <td>10457.333917</td>\n",
       "      <td>10521.589143</td>\n",
       "      <td>10734.497681</td>\n",
       "      <td>1.0</td>\n",
       "      <td>4.0</td>\n",
       "      <td>5</td>\n",
       "    </tr>\n",
       "  </tbody>\n",
       "</table>\n",
       "<p>4 rows × 173 columns</p>\n",
       "</div>"
      ],
      "text/plain": [
       "                                 hash  \\\n",
       "0  0000a8602cf2def930488dee7cdad104_1   \n",
       "1  0000a8602cf2def930488dee7cdad104_1   \n",
       "2  0000a8602cf2def930488dee7cdad104_1   \n",
       "3  0000a8602cf2def930488dee7cdad104_1   \n",
       "\n",
       "                               trajectory_id time_entry time_exit  vmax  vmin  \\\n",
       "0  traj_0000a8602cf2def930488dee7cdad104_1_1   07:20:34  07:25:42   NaN   NaN   \n",
       "1  traj_0000a8602cf2def930488dee7cdad104_1_2   07:53:32  08:03:25   NaN   NaN   \n",
       "2  traj_0000a8602cf2def930488dee7cdad104_1_3   08:17:50  08:37:23   NaN   NaN   \n",
       "3  traj_0000a8602cf2def930488dee7cdad104_1_4   14:38:09  14:38:09   NaN   NaN   \n",
       "\n",
       "   vmean       x_entry       y_entry        x_exit  ...  \\\n",
       "0    NaN  3.743937e+06 -1.932247e+07  3.744975e+06  ...   \n",
       "1    NaN  3.744868e+06 -1.929356e+07  3.744816e+06  ...   \n",
       "2    NaN  3.744880e+06 -1.929229e+07  3.744809e+06  ...   \n",
       "3    NaN  3.744909e+06 -1.928558e+07  3.744909e+06  ...   \n",
       "\n",
       "   havr_mid_international_airport_exit havr_mid_buckhead_exit  \\\n",
       "0                         10674.718709           10294.196223   \n",
       "1                         10798.801984           10401.244225   \n",
       "2                         10809.476533           10410.365493   \n",
       "3                         10828.080855           10424.883151   \n",
       "\n",
       "   havr_mid_georgia_tech_exit  havr_mid_atlanta_university_center_exit  \\\n",
       "0                10461.748906                             10460.432108   \n",
       "1                10574.031122                             10575.544704   \n",
       "2                10583.626358                             10585.398164   \n",
       "3                10599.356773                             10601.801191   \n",
       "\n",
       "  havr_mid_perimeter_center_exit  \\\n",
       "0                   10341.387650   \n",
       "1                   10437.234594   \n",
       "2                   10445.341816   \n",
       "3                   10457.333917   \n",
       "\n",
       "   havr_mid_piedmont_shepherd_medical_center_exit  \\\n",
       "0                                    10388.099246   \n",
       "1                                    10497.271075   \n",
       "2                                    10506.584085   \n",
       "3                                    10521.589143   \n",
       "\n",
       "   havr_mid_wellstar_northlake_medical_center_exit  sequence  \\\n",
       "0                                     10596.207039       1.0   \n",
       "1                                     10709.008623       1.0   \n",
       "2                                     10718.649684       1.0   \n",
       "3                                     10734.497681       1.0   \n",
       "\n",
       "   trajectory_sequence  count_trajectories  \n",
       "0                  1.0                   5  \n",
       "1                  2.0                   5  \n",
       "2                  3.0                   5  \n",
       "3                  4.0                   5  \n",
       "\n",
       "[4 rows x 173 columns]"
      ]
     },
     "execution_count": 97,
     "metadata": {},
     "output_type": "execute_result"
    }
   ],
   "source": [
    "hash_count_trajectories = grouped.groupby(['hash']).trajectory_id.count().reset_index()\n",
    "hash_count_trajectories.columns = ['hash', 'count_trajectories']\n",
    "\n",
    "grouped = grouped.merge(hash_count_trajectories, on='hash', how='left')\n",
    "grouped.head(4)"
   ]
  },
  {
   "cell_type": "code",
   "execution_count": 98,
   "metadata": {},
   "outputs": [
    {
     "data": {
      "text/html": [
       "<div>\n",
       "<style scoped>\n",
       "    .dataframe tbody tr th:only-of-type {\n",
       "        vertical-align: middle;\n",
       "    }\n",
       "\n",
       "    .dataframe tbody tr th {\n",
       "        vertical-align: top;\n",
       "    }\n",
       "\n",
       "    .dataframe thead th {\n",
       "        text-align: right;\n",
       "    }\n",
       "</style>\n",
       "<table border=\"1\" class=\"dataframe\">\n",
       "  <thead>\n",
       "    <tr style=\"text-align: right;\">\n",
       "      <th></th>\n",
       "      <th>hash</th>\n",
       "      <th>trajectory_id</th>\n",
       "      <th>time_entry</th>\n",
       "      <th>time_exit</th>\n",
       "      <th>vmax</th>\n",
       "      <th>vmin</th>\n",
       "      <th>vmean</th>\n",
       "      <th>x_entry</th>\n",
       "      <th>y_entry</th>\n",
       "      <th>x_exit</th>\n",
       "      <th>...</th>\n",
       "      <th>havr_mid_international_airport_exit</th>\n",
       "      <th>havr_mid_buckhead_exit</th>\n",
       "      <th>havr_mid_georgia_tech_exit</th>\n",
       "      <th>havr_mid_atlanta_university_center_exit</th>\n",
       "      <th>havr_mid_perimeter_center_exit</th>\n",
       "      <th>havr_mid_piedmont_shepherd_medical_center_exit</th>\n",
       "      <th>havr_mid_wellstar_northlake_medical_center_exit</th>\n",
       "      <th>sequence</th>\n",
       "      <th>trajectory_sequence</th>\n",
       "      <th>count_trajectories</th>\n",
       "    </tr>\n",
       "  </thead>\n",
       "  <tbody>\n",
       "    <tr>\n",
       "      <th>0</th>\n",
       "      <td>0000a8602cf2def930488dee7cdad104_1</td>\n",
       "      <td>traj_0000a8602cf2def930488dee7cdad104_1_1</td>\n",
       "      <td>07:20:34</td>\n",
       "      <td>07:25:42</td>\n",
       "      <td>NaN</td>\n",
       "      <td>NaN</td>\n",
       "      <td>NaN</td>\n",
       "      <td>3.743937e+06</td>\n",
       "      <td>-1.932247e+07</td>\n",
       "      <td>3.744975e+06</td>\n",
       "      <td>...</td>\n",
       "      <td>10674.718709</td>\n",
       "      <td>10294.196223</td>\n",
       "      <td>10461.748906</td>\n",
       "      <td>10460.432108</td>\n",
       "      <td>10341.387650</td>\n",
       "      <td>10388.099246</td>\n",
       "      <td>10596.207039</td>\n",
       "      <td>1.0</td>\n",
       "      <td>1.0</td>\n",
       "      <td>5</td>\n",
       "    </tr>\n",
       "    <tr>\n",
       "      <th>1</th>\n",
       "      <td>0000a8602cf2def930488dee7cdad104_1</td>\n",
       "      <td>traj_0000a8602cf2def930488dee7cdad104_1_2</td>\n",
       "      <td>07:53:32</td>\n",
       "      <td>08:03:25</td>\n",
       "      <td>NaN</td>\n",
       "      <td>NaN</td>\n",
       "      <td>NaN</td>\n",
       "      <td>3.744868e+06</td>\n",
       "      <td>-1.929356e+07</td>\n",
       "      <td>3.744816e+06</td>\n",
       "      <td>...</td>\n",
       "      <td>10798.801984</td>\n",
       "      <td>10401.244225</td>\n",
       "      <td>10574.031122</td>\n",
       "      <td>10575.544704</td>\n",
       "      <td>10437.234594</td>\n",
       "      <td>10497.271075</td>\n",
       "      <td>10709.008623</td>\n",
       "      <td>1.0</td>\n",
       "      <td>2.0</td>\n",
       "      <td>5</td>\n",
       "    </tr>\n",
       "    <tr>\n",
       "      <th>2</th>\n",
       "      <td>0000a8602cf2def930488dee7cdad104_1</td>\n",
       "      <td>traj_0000a8602cf2def930488dee7cdad104_1_3</td>\n",
       "      <td>08:17:50</td>\n",
       "      <td>08:37:23</td>\n",
       "      <td>NaN</td>\n",
       "      <td>NaN</td>\n",
       "      <td>NaN</td>\n",
       "      <td>3.744880e+06</td>\n",
       "      <td>-1.929229e+07</td>\n",
       "      <td>3.744809e+06</td>\n",
       "      <td>...</td>\n",
       "      <td>10809.476533</td>\n",
       "      <td>10410.365493</td>\n",
       "      <td>10583.626358</td>\n",
       "      <td>10585.398164</td>\n",
       "      <td>10445.341816</td>\n",
       "      <td>10506.584085</td>\n",
       "      <td>10718.649684</td>\n",
       "      <td>1.0</td>\n",
       "      <td>3.0</td>\n",
       "      <td>5</td>\n",
       "    </tr>\n",
       "    <tr>\n",
       "      <th>3</th>\n",
       "      <td>0000a8602cf2def930488dee7cdad104_1</td>\n",
       "      <td>traj_0000a8602cf2def930488dee7cdad104_1_4</td>\n",
       "      <td>14:38:09</td>\n",
       "      <td>14:38:09</td>\n",
       "      <td>NaN</td>\n",
       "      <td>NaN</td>\n",
       "      <td>NaN</td>\n",
       "      <td>3.744909e+06</td>\n",
       "      <td>-1.928558e+07</td>\n",
       "      <td>3.744909e+06</td>\n",
       "      <td>...</td>\n",
       "      <td>10828.080855</td>\n",
       "      <td>10424.883151</td>\n",
       "      <td>10599.356773</td>\n",
       "      <td>10601.801191</td>\n",
       "      <td>10457.333917</td>\n",
       "      <td>10521.589143</td>\n",
       "      <td>10734.497681</td>\n",
       "      <td>1.0</td>\n",
       "      <td>4.0</td>\n",
       "      <td>5</td>\n",
       "    </tr>\n",
       "  </tbody>\n",
       "</table>\n",
       "<p>4 rows × 173 columns</p>\n",
       "</div>"
      ],
      "text/plain": [
       "                                 hash  \\\n",
       "0  0000a8602cf2def930488dee7cdad104_1   \n",
       "1  0000a8602cf2def930488dee7cdad104_1   \n",
       "2  0000a8602cf2def930488dee7cdad104_1   \n",
       "3  0000a8602cf2def930488dee7cdad104_1   \n",
       "\n",
       "                               trajectory_id time_entry time_exit  vmax  vmin  \\\n",
       "0  traj_0000a8602cf2def930488dee7cdad104_1_1   07:20:34  07:25:42   NaN   NaN   \n",
       "1  traj_0000a8602cf2def930488dee7cdad104_1_2   07:53:32  08:03:25   NaN   NaN   \n",
       "2  traj_0000a8602cf2def930488dee7cdad104_1_3   08:17:50  08:37:23   NaN   NaN   \n",
       "3  traj_0000a8602cf2def930488dee7cdad104_1_4   14:38:09  14:38:09   NaN   NaN   \n",
       "\n",
       "   vmean       x_entry       y_entry        x_exit  ...  \\\n",
       "0    NaN  3.743937e+06 -1.932247e+07  3.744975e+06  ...   \n",
       "1    NaN  3.744868e+06 -1.929356e+07  3.744816e+06  ...   \n",
       "2    NaN  3.744880e+06 -1.929229e+07  3.744809e+06  ...   \n",
       "3    NaN  3.744909e+06 -1.928558e+07  3.744909e+06  ...   \n",
       "\n",
       "   havr_mid_international_airport_exit havr_mid_buckhead_exit  \\\n",
       "0                         10674.718709           10294.196223   \n",
       "1                         10798.801984           10401.244225   \n",
       "2                         10809.476533           10410.365493   \n",
       "3                         10828.080855           10424.883151   \n",
       "\n",
       "   havr_mid_georgia_tech_exit  havr_mid_atlanta_university_center_exit  \\\n",
       "0                10461.748906                             10460.432108   \n",
       "1                10574.031122                             10575.544704   \n",
       "2                10583.626358                             10585.398164   \n",
       "3                10599.356773                             10601.801191   \n",
       "\n",
       "  havr_mid_perimeter_center_exit  \\\n",
       "0                   10341.387650   \n",
       "1                   10437.234594   \n",
       "2                   10445.341816   \n",
       "3                   10457.333917   \n",
       "\n",
       "   havr_mid_piedmont_shepherd_medical_center_exit  \\\n",
       "0                                    10388.099246   \n",
       "1                                    10497.271075   \n",
       "2                                    10506.584085   \n",
       "3                                    10521.589143   \n",
       "\n",
       "   havr_mid_wellstar_northlake_medical_center_exit  sequence  \\\n",
       "0                                     10596.207039       1.0   \n",
       "1                                     10709.008623       1.0   \n",
       "2                                     10718.649684       1.0   \n",
       "3                                     10734.497681       1.0   \n",
       "\n",
       "   trajectory_sequence  count_trajectories  \n",
       "0                  1.0                   5  \n",
       "1                  2.0                   5  \n",
       "2                  3.0                   5  \n",
       "3                  4.0                   5  \n",
       "\n",
       "[4 rows x 173 columns]"
      ]
     },
     "execution_count": 98,
     "metadata": {},
     "output_type": "execute_result"
    }
   ],
   "source": [
    "ref = window_reference\n",
    "for i in range(1, window_reference):\n",
    "    grouped.loc[grouped.count_trajectories==i, 'trajectory_sequence'] += ref-1\n",
    "    ref -= 1\n",
    "    \n",
    "grouped.head(4)"
   ]
  },
  {
   "cell_type": "code",
   "execution_count": 99,
   "metadata": {},
   "outputs": [],
   "source": [
    "grouped = grouped.drop(['sequence', 'count_trajectories'], axis=1)"
   ]
  },
  {
   "cell_type": "code",
   "execution_count": 100,
   "metadata": {},
   "outputs": [
    {
     "data": {
      "text/plain": [
       "(167578, 820)"
      ]
     },
     "execution_count": 100,
     "metadata": {},
     "output_type": "execute_result"
    }
   ],
   "source": [
    "data_sequence = grouped.groupby(['hash', 'trajectory_sequence']).mean().unstack()\n",
    "data_sequence.shape"
   ]
  },
  {
   "cell_type": "code",
   "execution_count": 101,
   "metadata": {},
   "outputs": [
    {
     "data": {
      "text/html": [
       "<div>\n",
       "<style scoped>\n",
       "    .dataframe tbody tr th:only-of-type {\n",
       "        vertical-align: middle;\n",
       "    }\n",
       "\n",
       "    .dataframe tbody tr th {\n",
       "        vertical-align: top;\n",
       "    }\n",
       "\n",
       "    .dataframe thead th {\n",
       "        text-align: right;\n",
       "    }\n",
       "</style>\n",
       "<table border=\"1\" class=\"dataframe\">\n",
       "  <thead>\n",
       "    <tr style=\"text-align: right;\">\n",
       "      <th></th>\n",
       "      <th>vmax_1</th>\n",
       "      <th>vmax_2</th>\n",
       "      <th>vmax_3</th>\n",
       "      <th>vmax_4</th>\n",
       "      <th>vmax_5</th>\n",
       "      <th>vmin_1</th>\n",
       "      <th>vmin_2</th>\n",
       "      <th>vmin_3</th>\n",
       "      <th>vmin_4</th>\n",
       "      <th>vmin_5</th>\n",
       "      <th>...</th>\n",
       "      <th>havr_mid_piedmont_shepherd_medical_center_exit_1</th>\n",
       "      <th>havr_mid_piedmont_shepherd_medical_center_exit_2</th>\n",
       "      <th>havr_mid_piedmont_shepherd_medical_center_exit_3</th>\n",
       "      <th>havr_mid_piedmont_shepherd_medical_center_exit_4</th>\n",
       "      <th>havr_mid_piedmont_shepherd_medical_center_exit_5</th>\n",
       "      <th>havr_mid_wellstar_northlake_medical_center_exit_1</th>\n",
       "      <th>havr_mid_wellstar_northlake_medical_center_exit_2</th>\n",
       "      <th>havr_mid_wellstar_northlake_medical_center_exit_3</th>\n",
       "      <th>havr_mid_wellstar_northlake_medical_center_exit_4</th>\n",
       "      <th>havr_mid_wellstar_northlake_medical_center_exit_5</th>\n",
       "    </tr>\n",
       "    <tr>\n",
       "      <th>hash</th>\n",
       "      <th></th>\n",
       "      <th></th>\n",
       "      <th></th>\n",
       "      <th></th>\n",
       "      <th></th>\n",
       "      <th></th>\n",
       "      <th></th>\n",
       "      <th></th>\n",
       "      <th></th>\n",
       "      <th></th>\n",
       "      <th></th>\n",
       "      <th></th>\n",
       "      <th></th>\n",
       "      <th></th>\n",
       "      <th></th>\n",
       "      <th></th>\n",
       "      <th></th>\n",
       "      <th></th>\n",
       "      <th></th>\n",
       "      <th></th>\n",
       "      <th></th>\n",
       "    </tr>\n",
       "  </thead>\n",
       "  <tbody>\n",
       "    <tr>\n",
       "      <th>0000a8602cf2def930488dee7cdad104_1</th>\n",
       "      <td>NaN</td>\n",
       "      <td>NaN</td>\n",
       "      <td>NaN</td>\n",
       "      <td>NaN</td>\n",
       "      <td>NaN</td>\n",
       "      <td>NaN</td>\n",
       "      <td>NaN</td>\n",
       "      <td>NaN</td>\n",
       "      <td>NaN</td>\n",
       "      <td>NaN</td>\n",
       "      <td>...</td>\n",
       "      <td>10388.099246</td>\n",
       "      <td>10497.271075</td>\n",
       "      <td>10506.584085</td>\n",
       "      <td>10521.589143</td>\n",
       "      <td>10542.148615</td>\n",
       "      <td>10596.207039</td>\n",
       "      <td>10709.008623</td>\n",
       "      <td>10718.649684</td>\n",
       "      <td>10734.497681</td>\n",
       "      <td>10755.470659</td>\n",
       "    </tr>\n",
       "    <tr>\n",
       "      <th>0000cf177130469eeac79f67b6bcf3df_9</th>\n",
       "      <td>NaN</td>\n",
       "      <td>0.0</td>\n",
       "      <td>0.0</td>\n",
       "      <td>0.507809</td>\n",
       "      <td>1.149404</td>\n",
       "      <td>NaN</td>\n",
       "      <td>0.0</td>\n",
       "      <td>0.0</td>\n",
       "      <td>0.507809</td>\n",
       "      <td>1.149404</td>\n",
       "      <td>...</td>\n",
       "      <td>NaN</td>\n",
       "      <td>10428.119333</td>\n",
       "      <td>10433.089052</td>\n",
       "      <td>10438.560834</td>\n",
       "      <td>10418.623545</td>\n",
       "      <td>NaN</td>\n",
       "      <td>10650.176933</td>\n",
       "      <td>10654.355453</td>\n",
       "      <td>10659.890514</td>\n",
       "      <td>10640.778884</td>\n",
       "    </tr>\n",
       "    <tr>\n",
       "      <th>0001f97b99a80f18f62e2d44e54ef33d_3</th>\n",
       "      <td>NaN</td>\n",
       "      <td>NaN</td>\n",
       "      <td>NaN</td>\n",
       "      <td>32.196255</td>\n",
       "      <td>30.167742</td>\n",
       "      <td>NaN</td>\n",
       "      <td>NaN</td>\n",
       "      <td>NaN</td>\n",
       "      <td>32.196255</td>\n",
       "      <td>30.167742</td>\n",
       "      <td>...</td>\n",
       "      <td>NaN</td>\n",
       "      <td>NaN</td>\n",
       "      <td>NaN</td>\n",
       "      <td>10018.778538</td>\n",
       "      <td>10202.243531</td>\n",
       "      <td>NaN</td>\n",
       "      <td>NaN</td>\n",
       "      <td>NaN</td>\n",
       "      <td>10246.875978</td>\n",
       "      <td>10463.712933</td>\n",
       "    </tr>\n",
       "  </tbody>\n",
       "</table>\n",
       "<p>3 rows × 820 columns</p>\n",
       "</div>"
      ],
      "text/plain": [
       "                                    vmax_1  vmax_2  vmax_3     vmax_4  \\\n",
       "hash                                                                    \n",
       "0000a8602cf2def930488dee7cdad104_1     NaN     NaN     NaN        NaN   \n",
       "0000cf177130469eeac79f67b6bcf3df_9     NaN     0.0     0.0   0.507809   \n",
       "0001f97b99a80f18f62e2d44e54ef33d_3     NaN     NaN     NaN  32.196255   \n",
       "\n",
       "                                       vmax_5  vmin_1  vmin_2  vmin_3  \\\n",
       "hash                                                                    \n",
       "0000a8602cf2def930488dee7cdad104_1        NaN     NaN     NaN     NaN   \n",
       "0000cf177130469eeac79f67b6bcf3df_9   1.149404     NaN     0.0     0.0   \n",
       "0001f97b99a80f18f62e2d44e54ef33d_3  30.167742     NaN     NaN     NaN   \n",
       "\n",
       "                                       vmin_4     vmin_5  ...  \\\n",
       "hash                                                      ...   \n",
       "0000a8602cf2def930488dee7cdad104_1        NaN        NaN  ...   \n",
       "0000cf177130469eeac79f67b6bcf3df_9   0.507809   1.149404  ...   \n",
       "0001f97b99a80f18f62e2d44e54ef33d_3  32.196255  30.167742  ...   \n",
       "\n",
       "                                    havr_mid_piedmont_shepherd_medical_center_exit_1  \\\n",
       "hash                                                                                   \n",
       "0000a8602cf2def930488dee7cdad104_1                                      10388.099246   \n",
       "0000cf177130469eeac79f67b6bcf3df_9                                               NaN   \n",
       "0001f97b99a80f18f62e2d44e54ef33d_3                                               NaN   \n",
       "\n",
       "                                    havr_mid_piedmont_shepherd_medical_center_exit_2  \\\n",
       "hash                                                                                   \n",
       "0000a8602cf2def930488dee7cdad104_1                                      10497.271075   \n",
       "0000cf177130469eeac79f67b6bcf3df_9                                      10428.119333   \n",
       "0001f97b99a80f18f62e2d44e54ef33d_3                                               NaN   \n",
       "\n",
       "                                    havr_mid_piedmont_shepherd_medical_center_exit_3  \\\n",
       "hash                                                                                   \n",
       "0000a8602cf2def930488dee7cdad104_1                                      10506.584085   \n",
       "0000cf177130469eeac79f67b6bcf3df_9                                      10433.089052   \n",
       "0001f97b99a80f18f62e2d44e54ef33d_3                                               NaN   \n",
       "\n",
       "                                    havr_mid_piedmont_shepherd_medical_center_exit_4  \\\n",
       "hash                                                                                   \n",
       "0000a8602cf2def930488dee7cdad104_1                                      10521.589143   \n",
       "0000cf177130469eeac79f67b6bcf3df_9                                      10438.560834   \n",
       "0001f97b99a80f18f62e2d44e54ef33d_3                                      10018.778538   \n",
       "\n",
       "                                    havr_mid_piedmont_shepherd_medical_center_exit_5  \\\n",
       "hash                                                                                   \n",
       "0000a8602cf2def930488dee7cdad104_1                                      10542.148615   \n",
       "0000cf177130469eeac79f67b6bcf3df_9                                      10418.623545   \n",
       "0001f97b99a80f18f62e2d44e54ef33d_3                                      10202.243531   \n",
       "\n",
       "                                    havr_mid_wellstar_northlake_medical_center_exit_1  \\\n",
       "hash                                                                                    \n",
       "0000a8602cf2def930488dee7cdad104_1                                       10596.207039   \n",
       "0000cf177130469eeac79f67b6bcf3df_9                                                NaN   \n",
       "0001f97b99a80f18f62e2d44e54ef33d_3                                                NaN   \n",
       "\n",
       "                                    havr_mid_wellstar_northlake_medical_center_exit_2  \\\n",
       "hash                                                                                    \n",
       "0000a8602cf2def930488dee7cdad104_1                                       10709.008623   \n",
       "0000cf177130469eeac79f67b6bcf3df_9                                       10650.176933   \n",
       "0001f97b99a80f18f62e2d44e54ef33d_3                                                NaN   \n",
       "\n",
       "                                    havr_mid_wellstar_northlake_medical_center_exit_3  \\\n",
       "hash                                                                                    \n",
       "0000a8602cf2def930488dee7cdad104_1                                       10718.649684   \n",
       "0000cf177130469eeac79f67b6bcf3df_9                                       10654.355453   \n",
       "0001f97b99a80f18f62e2d44e54ef33d_3                                                NaN   \n",
       "\n",
       "                                    havr_mid_wellstar_northlake_medical_center_exit_4  \\\n",
       "hash                                                                                    \n",
       "0000a8602cf2def930488dee7cdad104_1                                       10734.497681   \n",
       "0000cf177130469eeac79f67b6bcf3df_9                                       10659.890514   \n",
       "0001f97b99a80f18f62e2d44e54ef33d_3                                       10246.875978   \n",
       "\n",
       "                                    havr_mid_wellstar_northlake_medical_center_exit_5  \n",
       "hash                                                                                   \n",
       "0000a8602cf2def930488dee7cdad104_1                                       10755.470659  \n",
       "0000cf177130469eeac79f67b6bcf3df_9                                       10640.778884  \n",
       "0001f97b99a80f18f62e2d44e54ef33d_3                                       10463.712933  \n",
       "\n",
       "[3 rows x 820 columns]"
      ]
     },
     "execution_count": 101,
     "metadata": {},
     "output_type": "execute_result"
    }
   ],
   "source": [
    "data_sequence.columns = ['_'.join([x[0], str(int(x[1]))]) for x in data_sequence.columns.ravel()]\n",
    "data_sequence.head(3)"
   ]
  },
  {
   "cell_type": "code",
   "execution_count": 102,
   "metadata": {},
   "outputs": [],
   "source": [
    "data_sequence = data_sequence.reset_index()"
   ]
  },
  {
   "cell_type": "code",
   "execution_count": 103,
   "metadata": {},
   "outputs": [],
   "source": [
    "data_sequence = data_sequence.merge(agg_features, on='hash', how='left')\n",
    "data_sequence = data_sequence.merge(hash_count_trajectories, on='hash', how='left')\n",
    "data_sequence = data_sequence.merge(percentage_zeros, on='hash', how='left')"
   ]
  },
  {
   "cell_type": "code",
   "execution_count": 105,
   "metadata": {},
   "outputs": [
    {
     "data": {
      "text/plain": [
       "(167578, 1588)"
      ]
     },
     "execution_count": 105,
     "metadata": {},
     "output_type": "execute_result"
    }
   ],
   "source": [
    "data_sequence.shape"
   ]
  },
  {
   "cell_type": "markdown",
   "metadata": {},
   "source": [
    "## <a id='6'>6. Model Training and Evaluation </a>"
   ]
  },
  {
   "cell_type": "code",
   "execution_count": 106,
   "metadata": {},
   "outputs": [
    {
     "data": {
      "text/plain": [
       "(167578, 1588)"
      ]
     },
     "execution_count": 106,
     "metadata": {},
     "output_type": "execute_result"
    }
   ],
   "source": [
    "data_train = data_sequence[data_sequence['hour_exit_'+str(window_reference)]>=15]\n",
    "data_train.shape"
   ]
  },
  {
   "cell_type": "code",
   "execution_count": 107,
   "metadata": {},
   "outputs": [
    {
     "data": {
      "text/plain": [
       "(134063, 1588)"
      ]
     },
     "execution_count": 107,
     "metadata": {},
     "output_type": "execute_result"
    }
   ],
   "source": [
    "hashs_train = list(train.hash.unique())\n",
    "hashs_test = list(test.hash.unique())\n",
    "\n",
    "data_train = data_train[data_train.hash.isin(hashs_train)]\n",
    "data_train.shape"
   ]
  },
  {
   "cell_type": "code",
   "execution_count": 108,
   "metadata": {},
   "outputs": [],
   "source": [
    "drop_cols = list(x for x in data.columns if 'exit' in x)# + grid_cols\n",
    "drop_cols += ['lat_lon_entry', 'lat_lon_exit']\n",
    "drop_cols += ['euclidean_distance', 'manhattan_distance', 'harvesine_distance',\n",
    "              'center_permanency', 'crossed_city', 'velocity', 'leaving_city', 'entering_city'] + hub_areas_leakage\n",
    "\n",
    "drop_cols = [col+'_'+str(window_reference) for col in drop_cols]\n",
    "#drop_cols += [col+'_'+str(i) for col in grid_cols for i in range(0, 5)]\n",
    "drop_cols += ['hash', f'delta_last_center_permanency_{window_reference}', f'delta_origin_center_permanency_{window_reference}']\n",
    "\n",
    "# drop_cols += [x for x in data_sequence.columns if 'is_in_' in x and any(a in x for a in ['min', 'max', 'mean', 'std', 'median'])]\n",
    "\n",
    "features = list(set(data_train.columns) - set(drop_cols))\n",
    "target   = ['is_inside_city_exit_'+str(window_reference)]"
   ]
  },
  {
   "cell_type": "code",
   "execution_count": 109,
   "metadata": {},
   "outputs": [
    {
     "data": {
      "text/plain": [
       "((100547, 1588), (33516, 1588))"
      ]
     },
     "execution_count": 109,
     "metadata": {},
     "output_type": "execute_result"
    }
   ],
   "source": [
    "from sklearn.model_selection import train_test_split\n",
    "\n",
    "\n",
    "dt_train, dt_test = train_test_split(data_train, test_size=0.25, random_state=423)\n",
    "dt_train.shape, dt_test.shape"
   ]
  },
  {
   "cell_type": "code",
   "execution_count": 110,
   "metadata": {},
   "outputs": [],
   "source": [
    "#!pip install lightgbm"
   ]
  },
  {
   "cell_type": "code",
   "execution_count": 111,
   "metadata": {},
   "outputs": [
    {
     "data": {
      "text/plain": [
       "0.8903370786516853"
      ]
     },
     "execution_count": 111,
     "metadata": {},
     "output_type": "execute_result"
    }
   ],
   "source": [
    "from lightgbm import LGBMClassifier\n",
    "from sklearn.metrics import f1_score\n",
    "\n",
    "clf = LGBMClassifier(n_estimators=150, random_state=20)\n",
    "clf.fit(dt_train[features], dt_train[target])\n",
    "\n",
    "predicted = clf.predict(dt_test[features])\n",
    "\n",
    "f1_score(dt_test[target], predicted)"
   ]
  },
  {
   "cell_type": "code",
   "execution_count": 112,
   "metadata": {},
   "outputs": [
    {
     "data": {
      "text/plain": [
       "1.0"
      ]
     },
     "execution_count": 112,
     "metadata": {},
     "output_type": "execute_result"
    }
   ],
   "source": [
    "from lightgbm import LGBMClassifier\n",
    "from sklearn.metrics import f1_score\n",
    "\n",
    "best_params_lgb = {'boosting_type': 'gbdt', \n",
    "                 'colsample_bytree': 1.0, \n",
    "                 'is_unbalance': False, \n",
    "                 'max_depth': 7, \n",
    "                 'n_estimators': 150, \n",
    "                 'num_leaves': 31, \n",
    "                 'objective': 'binary', \n",
    "                 'random_state': 20, \n",
    "                 'reg_alpha': 1, \n",
    "                 'subsample': 1}\n",
    "\n",
    "clf = LGBMClassifier(**best_params_lgb)\n",
    "clf.fit(dt_train[features], dt_train[target])\n",
    "\n",
    "predicted = clf.predict(dt_test[dt_test.euclidean_distance_5==0][features])\n",
    "\n",
    "f1_score(dt_test[dt_test.euclidean_distance_5==0][target], predicted)"
   ]
  },
  {
   "cell_type": "code",
   "execution_count": null,
   "metadata": {},
   "outputs": [],
   "source": [
    "predicted"
   ]
  },
  {
   "cell_type": "code",
   "execution_count": 79,
   "metadata": {},
   "outputs": [],
   "source": [
    "# Score 0.7465277777777779 | 0.89441\n",
    "# Score 0.7432216905901117 | 0.89358\n",
    "# Score 0.7413765697027499 | 0.89307 - n_estimators=150, max_features=0.5"
   ]
  },
  {
   "cell_type": "code",
   "execution_count": 80,
   "metadata": {},
   "outputs": [],
   "source": [
    "############################### TO BE DELETED (POSSIBLY) ###############################3"
   ]
  },
  {
   "cell_type": "code",
   "execution_count": null,
   "metadata": {},
   "outputs": [],
   "source": [
    "############################### TO BE DELETED ###############################3\n",
    "zeros_train = dt_train[dt_train.euclidean_distance_5==0]\n",
    "zeros_test  = dt_test[dt_test.euclidean_distance_5==0]\n",
    "\n",
    "notzeros_train = dt_train[dt_train.euclidean_distance_5!=0]\n",
    "notzeros_test = dt_test[dt_test.euclidean_distance_5!=0]\n",
    "\n",
    "############################################################################\n",
    "clf = LGBMClassifier(**best_params_lgb)\n",
    "clf.fit(notzeros_train[features], notzeros_train[target])\n",
    "\n",
    "preds_notzeros = clf.predict(notzeros_test[features])\n",
    "\n",
    "print(\"Score for not zeros: {}\".format(f1_score(notzeros_test[target], preds_notzeros)))\n",
    "\n",
    "preds_zeros = zeros_test.is_inside_city_entry_5.values\n",
    "allpreds = np.concatenate([preds_notzeros, preds_zeros], axis=0)\n",
    "\n",
    "alltargets = pd.concat([notzeros_test[target], zeros_test[target]], axis=0)\n",
    "\n",
    "print(\"Score for all: {}\".format(f1_score(alltargets, allpreds)))\n",
    "\n",
    "print(\"Shape test: {} - Shape zeros_test: {} - Shape notzeros_test: {}\".format(dt_test.shape, zeros_test.shape,\n",
    "                                                                              notzeros_test.shape))"
   ]
  },
  {
   "cell_type": "code",
   "execution_count": 118,
   "metadata": {},
   "outputs": [
    {
     "data": {
      "text/plain": [
       "0.0    0.748929\n",
       "1.0    0.251071\n",
       "Name: is_inside_city_exit_5, dtype: float64"
      ]
     },
     "execution_count": 118,
     "metadata": {},
     "output_type": "execute_result"
    }
   ],
   "source": [
    "notzeros_train.is_inside_city_exit_5.value_counts(normalize=True)"
   ]
  },
  {
   "cell_type": "code",
   "execution_count": 122,
   "metadata": {},
   "outputs": [
    {
     "name": "stdout",
     "output_type": "stream",
     "text": [
      "Score for not zeros: 0.7586120818771842\n",
      "Score for all: 0.891834451901566\n",
      "Shape test: (33516, 1063) - Shape zeros_test: (16820, 1063) - Shape notzeros_test: (16696, 1063)\n"
     ]
    },
    {
     "name": "stderr",
     "output_type": "stream",
     "text": [
      "/home/ec2-user/anaconda3/envs/python3/lib/python3.6/site-packages/sklearn/preprocessing/label.py:151: DeprecationWarning: The truth value of an empty array is ambiguous. Returning False, but in future this will result in an error. Use `array.size > 0` to check that an array is not empty.\n",
      "  if diff:\n"
     ]
    }
   ],
   "source": [
    "notzeros_train_upsampled = pd.concat([notzeros_train, notzeros_train[notzeros_train.entering_city_5==1].sample(700)])\n",
    "\n",
    "clf = LGBMClassifier(**best_params_lgb)\n",
    "clf.fit(notzeros_train_upsampled[features], notzeros_train_upsampled[target])\n",
    "\n",
    "preds_notzeros = clf.predict(notzeros_test[features])\n",
    "\n",
    "print(\"Score for not zeros: {}\".format(f1_score(notzeros_test[target], preds_notzeros)))\n",
    "\n",
    "preds_zeros = zeros_test.is_inside_city_entry_5.values\n",
    "allpreds = np.concatenate([preds_notzeros, preds_zeros], axis=0)\n",
    "\n",
    "alltargets = pd.concat([notzeros_test[target], zeros_test[target]], axis=0)\n",
    "\n",
    "print(\"Score for all: {}\".format(f1_score(alltargets, allpreds)))\n",
    "\n",
    "print(\"Shape test: {} - Shape zeros_test: {} - Shape notzeros_test: {}\".format(dt_test.shape, zeros_test.shape,\n",
    "                                                                              notzeros_test.shape))"
   ]
  },
  {
   "cell_type": "code",
   "execution_count": null,
   "metadata": {},
   "outputs": [],
   "source": [
    "############################### TO BE DELETED (POSSIBLY) ###############################3"
   ]
  },
  {
   "cell_type": "code",
   "execution_count": 113,
   "metadata": {
    "scrolled": false
   },
   "outputs": [
    {
     "data": {
      "text/plain": [
       "<matplotlib.axes._subplots.AxesSubplot at 0x7f14be6617b8>"
      ]
     },
     "execution_count": 113,
     "metadata": {},
     "output_type": "execute_result"
    },
    {
     "data": {
      "image/png": "[encoded data removed]",
      "text/plain": [
       "<Figure size 1080x720 with 1 Axes>"
      ]
     },
     "metadata": {},
     "output_type": "display_data"
    }
   ],
   "source": [
    "f, ax = plt.subplots(figsize=(15, 10))\n",
    "\n",
    "feat_importances_gb = pd.Series(clf.feature_importances_, index=data_train[features].columns)\n",
    "feat_importances_gb.nlargest(50).plot(kind='barh')"
   ]
  },
  {
   "cell_type": "code",
   "execution_count": 84,
   "metadata": {},
   "outputs": [],
   "source": [
    "data_test = data_sequence[data_sequence.hash.isin(hashs_test)]\n",
    "#data_test = test[test['x_exit_'+str(window_reference)].isnull()]"
   ]
  },
  {
   "cell_type": "code",
   "execution_count": 93,
   "metadata": {},
   "outputs": [
    {
     "data": {
      "text/plain": [
       "(33515, 1063)"
      ]
     },
     "execution_count": 93,
     "metadata": {},
     "output_type": "execute_result"
    }
   ],
   "source": [
    "data_test[data_test.euclidean_distance_5.isnull()].shape"
   ]
  },
  {
   "cell_type": "code",
   "execution_count": 182,
   "metadata": {},
   "outputs": [],
   "source": [
    "ids = pd.read_csv('../data/raw/data_test.zip', index_col='Unnamed: 0', low_memory=True)\n",
    "ids = ids[ids.x_exit.isnull()]"
   ]
  },
  {
   "cell_type": "code",
   "execution_count": 183,
   "metadata": {},
   "outputs": [],
   "source": [
    "data_test = data_test.merge(ids[['hash', 'trajectory_id']], on='hash')"
   ]
  },
  {
   "cell_type": "code",
   "execution_count": 184,
   "metadata": {},
   "outputs": [],
   "source": [
    "clf.fit(data_train[features], data_train[target])\n",
    "yhat = clf.predict(data_test[features])"
   ]
  },
  {
   "cell_type": "code",
   "execution_count": 185,
   "metadata": {},
   "outputs": [
    {
     "data": {
      "text/plain": [
       "0.0    25001\n",
       "1.0     8514\n",
       "dtype: int64"
      ]
     },
     "execution_count": 185,
     "metadata": {},
     "output_type": "execute_result"
    }
   ],
   "source": [
    "pd.Series(yhat).value_counts()"
   ]
  },
  {
   "cell_type": "code",
   "execution_count": 186,
   "metadata": {},
   "outputs": [],
   "source": [
    "submission = pd.DataFrame(list(zip(data_test['trajectory_id'], yhat)), columns=['id', 'target'])"
   ]
  },
  {
   "cell_type": "code",
   "execution_count": 187,
   "metadata": {},
   "outputs": [],
   "source": [
    "submission.to_csv('../data/submission3_victor_julio.csv', index=False)"
   ]
  },
  {
   "cell_type": "markdown",
   "metadata": {},
   "source": [
    "# Preprocessed Data Saving"
   ]
  },
  {
   "cell_type": "code",
   "execution_count": 54,
   "metadata": {},
   "outputs": [],
   "source": [
    "data_sequence.to_hdf('../data/preprocessed/data_sequence_alldata.hdf', key='final_alldata', mode='w')"
   ]
  }
 ],
 "metadata": {
  "kernelspec": {
   "display_name": "conda_python3",
   "language": "python",
   "name": "conda_python3"
  },
  "language_info": {
   "codemirror_mode": {
    "name": "ipython",
    "version": 3
   },
   "file_extension": ".py",
   "mimetype": "text/x-python",
   "name": "python",
   "nbconvert_exporter": "python",
   "pygments_lexer": "ipython3",
   "version": "3.6.5"
  }
 },
 "nbformat": 4,
 "nbformat_minor": 2
}
