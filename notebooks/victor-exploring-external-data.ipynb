{
 "cells": [
  {
   "cell_type": "code",
   "execution_count": 1,
   "metadata": {},
   "outputs": [],
   "source": [
    "#!pip install tqdm\n",
    "#!conda install shapely descartes geopandas -y"
   ]
  },
  {
   "cell_type": "code",
   "execution_count": 2,
   "metadata": {},
   "outputs": [],
   "source": [
    "# general tools\n",
    "import warnings\n",
    "import requests\n",
    "import pickle\n",
    "import math\n",
    "import re\n",
    "\n",
    "# visualization tools\n",
    "import matplotlib.pyplot as plt\n",
    "from tqdm.auto import tqdm\n",
    "import seaborn as sns\n",
    "\n",
    "# data preprocessing tools\n",
    "import pandas as pd\n",
    "from shapely.geometry import Point\n",
    "import numpy as np\n",
    "from scipy.spatial.distance import cdist\n",
    "\n",
    "\n",
    "tqdm.pandas()\n",
    "plt.style.use('seaborn')\n",
    "warnings.filterwarnings(\"ignore\")\n",
    "\n",
    "#%run ../src/utils.py"
   ]
  },
  {
   "cell_type": "code",
   "execution_count": 12,
   "metadata": {},
   "outputs": [
    {
     "data": {
      "text/plain": [
       "(94258, 16)"
      ]
     },
     "execution_count": 12,
     "metadata": {},
     "output_type": "execute_result"
    }
   ],
   "source": [
    "traffic = pd.read_csv('../data/external/Traffic_Published_2016.csv')\n",
    "traffic.shape"
   ]
  },
  {
   "cell_type": "code",
   "execution_count": 13,
   "metadata": {},
   "outputs": [
    {
     "name": "stdout",
     "output_type": "stream",
     "text": [
      "<class 'pandas.core.frame.DataFrame'>\n",
      "RangeIndex: 94258 entries, 0 to 94257\n",
      "Data columns (total 16 columns):\n",
      "ROUTE_ID                94258 non-null object\n",
      "FROM_MILEPOINT          94258 non-null float64\n",
      "TO_MILEPOINT            94258 non-null float64\n",
      "COUNTY_COD              91713 non-null float64\n",
      "COUNTY_NAME             91713 non-null object\n",
      "TC_NUMBER               41239 non-null object\n",
      "AADT                    94258 non-null int64\n",
      "AADT_SINGLE_UNIT        44070 non-null float64\n",
      "PCT_PEAK_SINGLE         42724 non-null float64\n",
      "AADT_COMBINATION        43403 non-null float64\n",
      "PCT_PEAK_COMBINATION    37597 non-null float64\n",
      "K_FACTOR                83781 non-null float64\n",
      "D_Factor                41095 non-null float64\n",
      "FUTURE_AADT             94239 non-null float64\n",
      "Lat                     40984 non-null float64\n",
      "Long                    40984 non-null float64\n",
      "dtypes: float64(12), int64(1), object(3)\n",
      "memory usage: 11.5+ MB\n"
     ]
    }
   ],
   "source": [
    "traffic.info()"
   ]
  },
  {
   "cell_type": "code",
   "execution_count": 14,
   "metadata": {},
   "outputs": [
    {
     "data": {
      "text/plain": [
       "(40984, 16)"
      ]
     },
     "execution_count": 14,
     "metadata": {},
     "output_type": "execute_result"
    }
   ],
   "source": [
    "traffic = traffic.dropna(subset=['Lat'])\n",
    "traffic.shape"
   ]
  },
  {
   "cell_type": "code",
   "execution_count": 15,
   "metadata": {},
   "outputs": [
    {
     "data": {
      "text/plain": [
       "((814262, 11), (202937, 11))"
      ]
     },
     "execution_count": 15,
     "metadata": {},
     "output_type": "execute_result"
    }
   ],
   "source": [
    "train = pd.read_csv('../data/raw/data_train.zip', index_col='Unnamed: 0', low_memory=True)\n",
    "test = pd.read_csv('../data/raw/data_test.zip', index_col='Unnamed: 0', low_memory=True)\n",
    "\n",
    "train.shape, test.shape"
   ]
  },
  {
   "cell_type": "code",
   "execution_count": 16,
   "metadata": {},
   "outputs": [
    {
     "data": {
      "text/plain": [
       "(1017199, 11)"
      ]
     },
     "execution_count": 16,
     "metadata": {},
     "output_type": "execute_result"
    }
   ],
   "source": [
    "data = pd.concat([train, test], axis=0)\n",
    "\n",
    "data.shape"
   ]
  },
  {
   "cell_type": "code",
   "execution_count": 17,
   "metadata": {},
   "outputs": [],
   "source": [
    "import pyproj\n",
    "\n",
    "converter = pyproj.Proj(\"+proj=merc +lat_ts=0 +lat_0=0 +lon_0=0 +x_0=0 \\\n",
    "                    +y_0=0 +ellps=WGS84 +datum=WGS84 +units=m +no_defs\")\n",
    "\n",
    "data['lat_lon_entry'] = [converter(x, y, inverse=True) for x, y in zip(data.x_entry, data.y_entry)]\n",
    "\n",
    "data['lat_entry'] = data.lat_lon_entry.apply(lambda row: row[0])\n",
    "data['lon_entry'] = data.lat_lon_entry.apply(lambda row: row[1])\n",
    "\n",
    "data['lat_lon_exit'] = [converter(x, y, inverse=True) for x, y in zip(data.x_exit, data.y_exit)]\n",
    "\n",
    "data['lat_exit'] = data.lat_lon_exit.apply(lambda row: row[0])\n",
    "data['lon_exit'] = data.lat_lon_exit.apply(lambda row: row[1])"
   ]
  },
  {
   "cell_type": "code",
   "execution_count": 18,
   "metadata": {},
   "outputs": [],
   "source": [
    "def euclidean(x_one, y_one, x_two, y_two):\n",
    "    \"\"\"Distance as defined by the Euclidean formula for the ((x1, y1), (x2, y2)) case.\"\"\"\n",
    "    return np.sqrt(np.power((x_one-x_two), 2) + np.power((y_one-y_two), 2))\n",
    "\n",
    "data['euclidean_distance'] = euclidean(data.x_entry.values, data.y_entry.values,\n",
    "                                      data.x_exit.values, data.y_exit.values)"
   ]
  },
  {
   "cell_type": "code",
   "execution_count": 19,
   "metadata": {},
   "outputs": [
    {
     "name": "stderr",
     "output_type": "stream",
     "text": [
      "491966it [1:40:30, 81.58it/s]\n"
     ]
    }
   ],
   "source": [
    "from math import hypot\n",
    "from scipy.spatial.distance import cdist\n",
    "from tqdm import tqdm\n",
    "\n",
    "traffic = traffic.reset_index(drop=True)\n",
    "coords_traff = list(zip(traffic.Lat.values, traffic.Long.values))\n",
    "data['idx_traffic'] = np.zeros(data.shape[0])\n",
    "\n",
    "df_copy = data.copy()\n",
    "df_copy = df_copy[df_copy.euclidean_distance!=0]\n",
    "df_copy = df_copy.reset_index(drop=True)\n",
    "\n",
    "def minimum_distance(data, row_type='entry'):\n",
    "    for idx, (lat, long) in tqdm(enumerate(list(zip(data['lat_'+row_type].values, data['lon_'+row_type].values)))):\n",
    "        minimum_dist = 0\n",
    "\n",
    "        idx_traffic = cdist([(lat, long)], coords_traff).argmin()\n",
    "        data.loc[idx, 'idx_traffic'] = idx_traffic\n",
    "        \n",
    "    return data\n",
    "\n",
    "df_copy = minimum_distance(df_copy, row_type='exit')"
   ]
  },
  {
   "cell_type": "code",
   "execution_count": 21,
   "metadata": {},
   "outputs": [],
   "source": [
    "df_copy['idx_traffic'] = df_copy.idx_traffic.astype(int)"
   ]
  },
  {
   "cell_type": "code",
   "execution_count": 22,
   "metadata": {},
   "outputs": [
    {
     "data": {
      "text/html": [
       "<div>\n",
       "<style scoped>\n",
       "    .dataframe tbody tr th:only-of-type {\n",
       "        vertical-align: middle;\n",
       "    }\n",
       "\n",
       "    .dataframe tbody tr th {\n",
       "        vertical-align: top;\n",
       "    }\n",
       "\n",
       "    .dataframe thead th {\n",
       "        text-align: right;\n",
       "    }\n",
       "</style>\n",
       "<table border=\"1\" class=\"dataframe\">\n",
       "  <thead>\n",
       "    <tr style=\"text-align: right;\">\n",
       "      <th></th>\n",
       "      <th>hash</th>\n",
       "      <th>trajectory_id</th>\n",
       "      <th>time_entry</th>\n",
       "      <th>time_exit</th>\n",
       "      <th>vmax</th>\n",
       "      <th>vmin</th>\n",
       "      <th>vmean</th>\n",
       "      <th>x_entry</th>\n",
       "      <th>y_entry</th>\n",
       "      <th>x_exit</th>\n",
       "      <th>y_exit</th>\n",
       "      <th>lat_lon_entry</th>\n",
       "      <th>lat_entry</th>\n",
       "      <th>lon_entry</th>\n",
       "      <th>lat_lon_exit</th>\n",
       "      <th>lat_exit</th>\n",
       "      <th>lon_exit</th>\n",
       "      <th>euclidean_distance</th>\n",
       "      <th>idx_traffic</th>\n",
       "    </tr>\n",
       "  </thead>\n",
       "  <tbody>\n",
       "    <tr>\n",
       "      <th>0</th>\n",
       "      <td>0000a8602cf2def930488dee7cdad104_1</td>\n",
       "      <td>traj_0000a8602cf2def930488dee7cdad104_1_0</td>\n",
       "      <td>07:04:31</td>\n",
       "      <td>07:08:32</td>\n",
       "      <td>NaN</td>\n",
       "      <td>NaN</td>\n",
       "      <td>NaN</td>\n",
       "      <td>3.751014e+06</td>\n",
       "      <td>-1.909398e+07</td>\n",
       "      <td>3.750326e+06</td>\n",
       "      <td>-1.913634e+07</td>\n",
       "      <td>(33.695930000000004, -84.3014476969898)</td>\n",
       "      <td>33.69593</td>\n",
       "      <td>-84.301448</td>\n",
       "      <td>(33.689750000000004, -84.33910917018206)</td>\n",
       "      <td>33.68975</td>\n",
       "      <td>-84.339109</td>\n",
       "      <td>42364.863118</td>\n",
       "      <td>17316</td>\n",
       "    </tr>\n",
       "    <tr>\n",
       "      <th>1</th>\n",
       "      <td>0000a8602cf2def930488dee7cdad104_1</td>\n",
       "      <td>traj_0000a8602cf2def930488dee7cdad104_1_1</td>\n",
       "      <td>07:20:34</td>\n",
       "      <td>07:25:42</td>\n",
       "      <td>NaN</td>\n",
       "      <td>NaN</td>\n",
       "      <td>NaN</td>\n",
       "      <td>3.743937e+06</td>\n",
       "      <td>-1.932247e+07</td>\n",
       "      <td>3.744975e+06</td>\n",
       "      <td>-1.931966e+07</td>\n",
       "      <td>(33.63236000000001, -84.50167564792125)</td>\n",
       "      <td>33.63236</td>\n",
       "      <td>-84.501676</td>\n",
       "      <td>(33.64167999999999, -84.49926159813707)</td>\n",
       "      <td>33.64168</td>\n",
       "      <td>-84.499262</td>\n",
       "      <td>2989.643628</td>\n",
       "      <td>39609</td>\n",
       "    </tr>\n",
       "    <tr>\n",
       "      <th>2</th>\n",
       "      <td>0000a8602cf2def930488dee7cdad104_1</td>\n",
       "      <td>traj_0000a8602cf2def930488dee7cdad104_1_2</td>\n",
       "      <td>07:53:32</td>\n",
       "      <td>08:03:25</td>\n",
       "      <td>NaN</td>\n",
       "      <td>NaN</td>\n",
       "      <td>NaN</td>\n",
       "      <td>3.744868e+06</td>\n",
       "      <td>-1.929356e+07</td>\n",
       "      <td>3.744816e+06</td>\n",
       "      <td>-1.929284e+07</td>\n",
       "      <td>(33.640719999999995, -84.47674038855256)</td>\n",
       "      <td>33.64072</td>\n",
       "      <td>-84.476740</td>\n",
       "      <td>(33.640250000000016, -84.47611452311658)</td>\n",
       "      <td>33.64025</td>\n",
       "      <td>-84.476115</td>\n",
       "      <td>725.658561</td>\n",
       "      <td>21659</td>\n",
       "    </tr>\n",
       "    <tr>\n",
       "      <th>3</th>\n",
       "      <td>0000a8602cf2def930488dee7cdad104_1</td>\n",
       "      <td>traj_0000a8602cf2def930488dee7cdad104_1_3</td>\n",
       "      <td>08:17:50</td>\n",
       "      <td>08:37:23</td>\n",
       "      <td>NaN</td>\n",
       "      <td>NaN</td>\n",
       "      <td>NaN</td>\n",
       "      <td>3.744880e+06</td>\n",
       "      <td>-1.929229e+07</td>\n",
       "      <td>3.744809e+06</td>\n",
       "      <td>-1.929049e+07</td>\n",
       "      <td>(33.640829999999994, -84.47563767324873)</td>\n",
       "      <td>33.64083</td>\n",
       "      <td>-84.475638</td>\n",
       "      <td>(33.640190000000004, -84.47407797673429)</td>\n",
       "      <td>33.64019</td>\n",
       "      <td>-84.474078</td>\n",
       "      <td>1804.576849</td>\n",
       "      <td>22050</td>\n",
       "    </tr>\n",
       "  </tbody>\n",
       "</table>\n",
       "</div>"
      ],
      "text/plain": [
       "                                 hash  \\\n",
       "0  0000a8602cf2def930488dee7cdad104_1   \n",
       "1  0000a8602cf2def930488dee7cdad104_1   \n",
       "2  0000a8602cf2def930488dee7cdad104_1   \n",
       "3  0000a8602cf2def930488dee7cdad104_1   \n",
       "\n",
       "                               trajectory_id time_entry time_exit  vmax  vmin  \\\n",
       "0  traj_0000a8602cf2def930488dee7cdad104_1_0   07:04:31  07:08:32   NaN   NaN   \n",
       "1  traj_0000a8602cf2def930488dee7cdad104_1_1   07:20:34  07:25:42   NaN   NaN   \n",
       "2  traj_0000a8602cf2def930488dee7cdad104_1_2   07:53:32  08:03:25   NaN   NaN   \n",
       "3  traj_0000a8602cf2def930488dee7cdad104_1_3   08:17:50  08:37:23   NaN   NaN   \n",
       "\n",
       "   vmean       x_entry       y_entry        x_exit        y_exit  \\\n",
       "0    NaN  3.751014e+06 -1.909398e+07  3.750326e+06 -1.913634e+07   \n",
       "1    NaN  3.743937e+06 -1.932247e+07  3.744975e+06 -1.931966e+07   \n",
       "2    NaN  3.744868e+06 -1.929356e+07  3.744816e+06 -1.929284e+07   \n",
       "3    NaN  3.744880e+06 -1.929229e+07  3.744809e+06 -1.929049e+07   \n",
       "\n",
       "                              lat_lon_entry  lat_entry  lon_entry  \\\n",
       "0   (33.695930000000004, -84.3014476969898)   33.69593 -84.301448   \n",
       "1   (33.63236000000001, -84.50167564792125)   33.63236 -84.501676   \n",
       "2  (33.640719999999995, -84.47674038855256)   33.64072 -84.476740   \n",
       "3  (33.640829999999994, -84.47563767324873)   33.64083 -84.475638   \n",
       "\n",
       "                               lat_lon_exit  lat_exit   lon_exit  \\\n",
       "0  (33.689750000000004, -84.33910917018206)  33.68975 -84.339109   \n",
       "1   (33.64167999999999, -84.49926159813707)  33.64168 -84.499262   \n",
       "2  (33.640250000000016, -84.47611452311658)  33.64025 -84.476115   \n",
       "3  (33.640190000000004, -84.47407797673429)  33.64019 -84.474078   \n",
       "\n",
       "   euclidean_distance  idx_traffic  \n",
       "0        42364.863118        17316  \n",
       "1         2989.643628        39609  \n",
       "2          725.658561        21659  \n",
       "3         1804.576849        22050  "
      ]
     },
     "execution_count": 22,
     "metadata": {},
     "output_type": "execute_result"
    }
   ],
   "source": [
    "df_copy.head(4)"
   ]
  },
  {
   "cell_type": "code",
   "execution_count": 27,
   "metadata": {},
   "outputs": [
    {
     "data": {
      "text/html": [
       "<div>\n",
       "<style scoped>\n",
       "    .dataframe tbody tr th:only-of-type {\n",
       "        vertical-align: middle;\n",
       "    }\n",
       "\n",
       "    .dataframe tbody tr th {\n",
       "        vertical-align: top;\n",
       "    }\n",
       "\n",
       "    .dataframe thead th {\n",
       "        text-align: right;\n",
       "    }\n",
       "</style>\n",
       "<table border=\"1\" class=\"dataframe\">\n",
       "  <thead>\n",
       "    <tr style=\"text-align: right;\">\n",
       "      <th></th>\n",
       "      <th>hash</th>\n",
       "      <th>trajectory_id</th>\n",
       "      <th>time_entry</th>\n",
       "      <th>time_exit</th>\n",
       "      <th>vmax</th>\n",
       "      <th>vmin</th>\n",
       "      <th>vmean</th>\n",
       "      <th>x_entry</th>\n",
       "      <th>y_entry</th>\n",
       "      <th>x_exit</th>\n",
       "      <th>...</th>\n",
       "      <th>AADT</th>\n",
       "      <th>AADT_SINGLE_UNIT</th>\n",
       "      <th>PCT_PEAK_SINGLE</th>\n",
       "      <th>AADT_COMBINATION</th>\n",
       "      <th>PCT_PEAK_COMBINATION</th>\n",
       "      <th>K_FACTOR</th>\n",
       "      <th>D_Factor</th>\n",
       "      <th>FUTURE_AADT</th>\n",
       "      <th>Lat</th>\n",
       "      <th>Long</th>\n",
       "    </tr>\n",
       "  </thead>\n",
       "  <tbody>\n",
       "    <tr>\n",
       "      <th>0</th>\n",
       "      <td>0000a8602cf2def930488dee7cdad104_1</td>\n",
       "      <td>traj_0000a8602cf2def930488dee7cdad104_1_0</td>\n",
       "      <td>07:04:31</td>\n",
       "      <td>07:08:32</td>\n",
       "      <td>NaN</td>\n",
       "      <td>NaN</td>\n",
       "      <td>NaN</td>\n",
       "      <td>3.751014e+06</td>\n",
       "      <td>-1.909398e+07</td>\n",
       "      <td>3.750326e+06</td>\n",
       "      <td>...</td>\n",
       "      <td>370</td>\n",
       "      <td>NaN</td>\n",
       "      <td>NaN</td>\n",
       "      <td>NaN</td>\n",
       "      <td>NaN</td>\n",
       "      <td>NaN</td>\n",
       "      <td>100.0</td>\n",
       "      <td>440.0</td>\n",
       "      <td>33.6943</td>\n",
       "      <td>-84.3442</td>\n",
       "    </tr>\n",
       "    <tr>\n",
       "      <th>1</th>\n",
       "      <td>004f2f3b69825c9a91ffcfb2d41bd5bc_31</td>\n",
       "      <td>traj_004f2f3b69825c9a91ffcfb2d41bd5bc_31_1</td>\n",
       "      <td>02:29:10</td>\n",
       "      <td>02:35:35</td>\n",
       "      <td>NaN</td>\n",
       "      <td>NaN</td>\n",
       "      <td>NaN</td>\n",
       "      <td>3.753847e+06</td>\n",
       "      <td>-1.914953e+07</td>\n",
       "      <td>3.750332e+06</td>\n",
       "      <td>...</td>\n",
       "      <td>370</td>\n",
       "      <td>NaN</td>\n",
       "      <td>NaN</td>\n",
       "      <td>NaN</td>\n",
       "      <td>NaN</td>\n",
       "      <td>NaN</td>\n",
       "      <td>100.0</td>\n",
       "      <td>440.0</td>\n",
       "      <td>33.6943</td>\n",
       "      <td>-84.3442</td>\n",
       "    </tr>\n",
       "    <tr>\n",
       "      <th>2</th>\n",
       "      <td>053952433b521f11fa16cffdc99d7e1e_9</td>\n",
       "      <td>traj_053952433b521f11fa16cffdc99d7e1e_9_4</td>\n",
       "      <td>08:26:31</td>\n",
       "      <td>09:35:34</td>\n",
       "      <td>20.409084</td>\n",
       "      <td>20.409084</td>\n",
       "      <td>20.409084</td>\n",
       "      <td>3.754351e+06</td>\n",
       "      <td>-1.914391e+07</td>\n",
       "      <td>3.751110e+06</td>\n",
       "      <td>...</td>\n",
       "      <td>370</td>\n",
       "      <td>NaN</td>\n",
       "      <td>NaN</td>\n",
       "      <td>NaN</td>\n",
       "      <td>NaN</td>\n",
       "      <td>NaN</td>\n",
       "      <td>100.0</td>\n",
       "      <td>440.0</td>\n",
       "      <td>33.6943</td>\n",
       "      <td>-84.3442</td>\n",
       "    </tr>\n",
       "    <tr>\n",
       "      <th>3</th>\n",
       "      <td>053952433b521f11fa16cffdc99d7e1e_9</td>\n",
       "      <td>traj_053952433b521f11fa16cffdc99d7e1e_9_7</td>\n",
       "      <td>11:26:05</td>\n",
       "      <td>11:31:00</td>\n",
       "      <td>NaN</td>\n",
       "      <td>NaN</td>\n",
       "      <td>NaN</td>\n",
       "      <td>3.749769e+06</td>\n",
       "      <td>-1.914668e+07</td>\n",
       "      <td>3.751115e+06</td>\n",
       "      <td>...</td>\n",
       "      <td>370</td>\n",
       "      <td>NaN</td>\n",
       "      <td>NaN</td>\n",
       "      <td>NaN</td>\n",
       "      <td>NaN</td>\n",
       "      <td>NaN</td>\n",
       "      <td>100.0</td>\n",
       "      <td>440.0</td>\n",
       "      <td>33.6943</td>\n",
       "      <td>-84.3442</td>\n",
       "    </tr>\n",
       "  </tbody>\n",
       "</table>\n",
       "<p>4 rows × 37 columns</p>\n",
       "</div>"
      ],
      "text/plain": [
       "                                  hash  \\\n",
       "0   0000a8602cf2def930488dee7cdad104_1   \n",
       "1  004f2f3b69825c9a91ffcfb2d41bd5bc_31   \n",
       "2   053952433b521f11fa16cffdc99d7e1e_9   \n",
       "3   053952433b521f11fa16cffdc99d7e1e_9   \n",
       "\n",
       "                                trajectory_id time_entry time_exit       vmax  \\\n",
       "0   traj_0000a8602cf2def930488dee7cdad104_1_0   07:04:31  07:08:32        NaN   \n",
       "1  traj_004f2f3b69825c9a91ffcfb2d41bd5bc_31_1   02:29:10  02:35:35        NaN   \n",
       "2   traj_053952433b521f11fa16cffdc99d7e1e_9_4   08:26:31  09:35:34  20.409084   \n",
       "3   traj_053952433b521f11fa16cffdc99d7e1e_9_7   11:26:05  11:31:00        NaN   \n",
       "\n",
       "        vmin      vmean       x_entry       y_entry        x_exit   ...     \\\n",
       "0        NaN        NaN  3.751014e+06 -1.909398e+07  3.750326e+06   ...      \n",
       "1        NaN        NaN  3.753847e+06 -1.914953e+07  3.750332e+06   ...      \n",
       "2  20.409084  20.409084  3.754351e+06 -1.914391e+07  3.751110e+06   ...      \n",
       "3        NaN        NaN  3.749769e+06 -1.914668e+07  3.751115e+06   ...      \n",
       "\n",
       "   AADT AADT_SINGLE_UNIT  PCT_PEAK_SINGLE  AADT_COMBINATION  \\\n",
       "0   370              NaN              NaN               NaN   \n",
       "1   370              NaN              NaN               NaN   \n",
       "2   370              NaN              NaN               NaN   \n",
       "3   370              NaN              NaN               NaN   \n",
       "\n",
       "  PCT_PEAK_COMBINATION  K_FACTOR  D_Factor  FUTURE_AADT      Lat     Long  \n",
       "0                  NaN       NaN     100.0        440.0  33.6943 -84.3442  \n",
       "1                  NaN       NaN     100.0        440.0  33.6943 -84.3442  \n",
       "2                  NaN       NaN     100.0        440.0  33.6943 -84.3442  \n",
       "3                  NaN       NaN     100.0        440.0  33.6943 -84.3442  \n",
       "\n",
       "[4 rows x 37 columns]"
      ]
     },
     "execution_count": 27,
     "metadata": {},
     "output_type": "execute_result"
    }
   ],
   "source": [
    "traffic_cols = traffic.columns.tolist()\n",
    "\n",
    "traffic = traffic.reset_index(drop=False)\n",
    "#traffic.columns = ['idx_traffic']+[traffic_cols]\n",
    "\n",
    "df_copy['index'] = df_copy.idx_traffic.values\n",
    "\n",
    "df_final = df_copy.merge(traffic, on='index')\n",
    "df_final.head(4)"
   ]
  },
  {
   "cell_type": "code",
   "execution_count": 35,
   "metadata": {},
   "outputs": [
    {
     "data": {
      "text/plain": [
       "['hash',\n",
       " 'trajectory_id',\n",
       " 'AADT_exit',\n",
       " 'FUTURE_AADT_exit',\n",
       " 'PCT_PEAK_SINGLE_exit',\n",
       " 'COUNTY_COD_exit',\n",
       " 'COUNTY_NAME_exit',\n",
       " 'Long_exit',\n",
       " 'AADT_COMBINATION_exit',\n",
       " 'K_FACTOR_exit',\n",
       " 'FROM_MILEPOINT_exit',\n",
       " 'TC_NUMBER_exit',\n",
       " 'Lat_exit',\n",
       " 'ROUTE_ID_exit',\n",
       " 'PCT_PEAK_COMBINATION_exit',\n",
       " 'TO_MILEPOINT_exit',\n",
       " 'AADT_SINGLE_UNIT_exit',\n",
       " 'D_Factor_exit']"
      ]
     },
     "execution_count": 35,
     "metadata": {},
     "output_type": "execute_result"
    }
   ],
   "source": []
  },
  {
   "cell_type": "code",
   "execution_count": 38,
   "metadata": {},
   "outputs": [
    {
     "data": {
      "text/html": [
       "<div>\n",
       "<style scoped>\n",
       "    .dataframe tbody tr th:only-of-type {\n",
       "        vertical-align: middle;\n",
       "    }\n",
       "\n",
       "    .dataframe tbody tr th {\n",
       "        vertical-align: top;\n",
       "    }\n",
       "\n",
       "    .dataframe thead th {\n",
       "        text-align: right;\n",
       "    }\n",
       "</style>\n",
       "<table border=\"1\" class=\"dataframe\">\n",
       "  <thead>\n",
       "    <tr style=\"text-align: right;\">\n",
       "      <th></th>\n",
       "      <th>hash</th>\n",
       "      <th>trajectory_id</th>\n",
       "      <th>time_entry</th>\n",
       "      <th>time_exit</th>\n",
       "      <th>vmax</th>\n",
       "      <th>vmin</th>\n",
       "      <th>vmean</th>\n",
       "      <th>x_entry</th>\n",
       "      <th>y_entry</th>\n",
       "      <th>x_exit</th>\n",
       "      <th>...</th>\n",
       "      <th>AADT_exit</th>\n",
       "      <th>AADT_SINGLE_UNIT_exit</th>\n",
       "      <th>PCT_PEAK_SINGLE_exit</th>\n",
       "      <th>AADT_COMBINATION_exit</th>\n",
       "      <th>PCT_PEAK_COMBINATION_exit</th>\n",
       "      <th>K_FACTOR_exit</th>\n",
       "      <th>D_Factor_exit</th>\n",
       "      <th>FUTURE_AADT_exit</th>\n",
       "      <th>Lat_exit</th>\n",
       "      <th>Long_exit</th>\n",
       "    </tr>\n",
       "  </thead>\n",
       "  <tbody>\n",
       "    <tr>\n",
       "      <th>0</th>\n",
       "      <td>0000a8602cf2def930488dee7cdad104_1</td>\n",
       "      <td>traj_0000a8602cf2def930488dee7cdad104_1_0</td>\n",
       "      <td>07:04:31</td>\n",
       "      <td>07:08:32</td>\n",
       "      <td>NaN</td>\n",
       "      <td>NaN</td>\n",
       "      <td>NaN</td>\n",
       "      <td>3.751014e+06</td>\n",
       "      <td>-1.909398e+07</td>\n",
       "      <td>3.750326e+06</td>\n",
       "      <td>...</td>\n",
       "      <td>370</td>\n",
       "      <td>NaN</td>\n",
       "      <td>NaN</td>\n",
       "      <td>NaN</td>\n",
       "      <td>NaN</td>\n",
       "      <td>NaN</td>\n",
       "      <td>100.0</td>\n",
       "      <td>440.0</td>\n",
       "      <td>33.6943</td>\n",
       "      <td>-84.3442</td>\n",
       "    </tr>\n",
       "    <tr>\n",
       "      <th>1</th>\n",
       "      <td>004f2f3b69825c9a91ffcfb2d41bd5bc_31</td>\n",
       "      <td>traj_004f2f3b69825c9a91ffcfb2d41bd5bc_31_1</td>\n",
       "      <td>02:29:10</td>\n",
       "      <td>02:35:35</td>\n",
       "      <td>NaN</td>\n",
       "      <td>NaN</td>\n",
       "      <td>NaN</td>\n",
       "      <td>3.753847e+06</td>\n",
       "      <td>-1.914953e+07</td>\n",
       "      <td>3.750332e+06</td>\n",
       "      <td>...</td>\n",
       "      <td>370</td>\n",
       "      <td>NaN</td>\n",
       "      <td>NaN</td>\n",
       "      <td>NaN</td>\n",
       "      <td>NaN</td>\n",
       "      <td>NaN</td>\n",
       "      <td>100.0</td>\n",
       "      <td>440.0</td>\n",
       "      <td>33.6943</td>\n",
       "      <td>-84.3442</td>\n",
       "    </tr>\n",
       "    <tr>\n",
       "      <th>2</th>\n",
       "      <td>053952433b521f11fa16cffdc99d7e1e_9</td>\n",
       "      <td>traj_053952433b521f11fa16cffdc99d7e1e_9_4</td>\n",
       "      <td>08:26:31</td>\n",
       "      <td>09:35:34</td>\n",
       "      <td>20.409084</td>\n",
       "      <td>20.409084</td>\n",
       "      <td>20.409084</td>\n",
       "      <td>3.754351e+06</td>\n",
       "      <td>-1.914391e+07</td>\n",
       "      <td>3.751110e+06</td>\n",
       "      <td>...</td>\n",
       "      <td>370</td>\n",
       "      <td>NaN</td>\n",
       "      <td>NaN</td>\n",
       "      <td>NaN</td>\n",
       "      <td>NaN</td>\n",
       "      <td>NaN</td>\n",
       "      <td>100.0</td>\n",
       "      <td>440.0</td>\n",
       "      <td>33.6943</td>\n",
       "      <td>-84.3442</td>\n",
       "    </tr>\n",
       "    <tr>\n",
       "      <th>3</th>\n",
       "      <td>053952433b521f11fa16cffdc99d7e1e_9</td>\n",
       "      <td>traj_053952433b521f11fa16cffdc99d7e1e_9_7</td>\n",
       "      <td>11:26:05</td>\n",
       "      <td>11:31:00</td>\n",
       "      <td>NaN</td>\n",
       "      <td>NaN</td>\n",
       "      <td>NaN</td>\n",
       "      <td>3.749769e+06</td>\n",
       "      <td>-1.914668e+07</td>\n",
       "      <td>3.751115e+06</td>\n",
       "      <td>...</td>\n",
       "      <td>370</td>\n",
       "      <td>NaN</td>\n",
       "      <td>NaN</td>\n",
       "      <td>NaN</td>\n",
       "      <td>NaN</td>\n",
       "      <td>NaN</td>\n",
       "      <td>100.0</td>\n",
       "      <td>440.0</td>\n",
       "      <td>33.6943</td>\n",
       "      <td>-84.3442</td>\n",
       "    </tr>\n",
       "  </tbody>\n",
       "</table>\n",
       "<p>4 rows × 37 columns</p>\n",
       "</div>"
      ],
      "text/plain": [
       "                                  hash  \\\n",
       "0   0000a8602cf2def930488dee7cdad104_1   \n",
       "1  004f2f3b69825c9a91ffcfb2d41bd5bc_31   \n",
       "2   053952433b521f11fa16cffdc99d7e1e_9   \n",
       "3   053952433b521f11fa16cffdc99d7e1e_9   \n",
       "\n",
       "                                trajectory_id time_entry time_exit       vmax  \\\n",
       "0   traj_0000a8602cf2def930488dee7cdad104_1_0   07:04:31  07:08:32        NaN   \n",
       "1  traj_004f2f3b69825c9a91ffcfb2d41bd5bc_31_1   02:29:10  02:35:35        NaN   \n",
       "2   traj_053952433b521f11fa16cffdc99d7e1e_9_4   08:26:31  09:35:34  20.409084   \n",
       "3   traj_053952433b521f11fa16cffdc99d7e1e_9_7   11:26:05  11:31:00        NaN   \n",
       "\n",
       "        vmin      vmean       x_entry       y_entry        x_exit    ...      \\\n",
       "0        NaN        NaN  3.751014e+06 -1.909398e+07  3.750326e+06    ...       \n",
       "1        NaN        NaN  3.753847e+06 -1.914953e+07  3.750332e+06    ...       \n",
       "2  20.409084  20.409084  3.754351e+06 -1.914391e+07  3.751110e+06    ...       \n",
       "3        NaN        NaN  3.749769e+06 -1.914668e+07  3.751115e+06    ...       \n",
       "\n",
       "   AADT_exit AADT_SINGLE_UNIT_exit  PCT_PEAK_SINGLE_exit  \\\n",
       "0        370                   NaN                   NaN   \n",
       "1        370                   NaN                   NaN   \n",
       "2        370                   NaN                   NaN   \n",
       "3        370                   NaN                   NaN   \n",
       "\n",
       "   AADT_COMBINATION_exit PCT_PEAK_COMBINATION_exit  K_FACTOR_exit  \\\n",
       "0                    NaN                       NaN            NaN   \n",
       "1                    NaN                       NaN            NaN   \n",
       "2                    NaN                       NaN            NaN   \n",
       "3                    NaN                       NaN            NaN   \n",
       "\n",
       "   D_Factor_exit  FUTURE_AADT_exit  Lat_exit  Long_exit  \n",
       "0          100.0             440.0   33.6943   -84.3442  \n",
       "1          100.0             440.0   33.6943   -84.3442  \n",
       "2          100.0             440.0   33.6943   -84.3442  \n",
       "3          100.0             440.0   33.6943   -84.3442  \n",
       "\n",
       "[4 rows x 37 columns]"
      ]
     },
     "execution_count": 38,
     "metadata": {},
     "output_type": "execute_result"
    }
   ],
   "source": [
    "final_columns = list(set(traffic.columns.tolist()) - set(['level_0', 'index']))\n",
    "final_columns += ['hash', 'trajectory_id']\n",
    "\n",
    "for col in final_columns:\n",
    "    if col not in ['hash', 'trajectory_id']:\n",
    "        df_final = df_final.rename(index=str, columns={col: col+'_exit'})\n",
    "\n",
    "df_final.head(4)"
   ]
  },
  {
   "cell_type": "code",
   "execution_count": 39,
   "metadata": {},
   "outputs": [],
   "source": [
    "final_columns = ['hash', 'trajectory_id'] + [col+'_exit' for col in final_columns if col not in ['hash', 'trajectory_id']]"
   ]
  },
  {
   "cell_type": "code",
   "execution_count": 41,
   "metadata": {},
   "outputs": [],
   "source": [
    "df_final[final_columns].head(4)\n",
    "\n",
    "df_final = df_final.drop('COUNTY_NAME_exit', axis=1)"
   ]
  },
  {
   "cell_type": "code",
   "execution_count": 43,
   "metadata": {},
   "outputs": [],
   "source": [
    "final_columns = list(set(final_columns) - set(['COUNTY_NAME_exit']))"
   ]
  },
  {
   "cell_type": "code",
   "execution_count": 44,
   "metadata": {},
   "outputs": [],
   "source": [
    "df_final[final_columns].to_hdf('../data/external/traffic_exit_features.hdf', key='exit', mode='w')"
   ]
  },
  {
   "cell_type": "code",
   "execution_count": null,
   "metadata": {},
   "outputs": [],
   "source": []
  },
  {
   "cell_type": "markdown",
   "metadata": {},
   "source": [
    "######################## Exploring data and some visualizations #################"
   ]
  },
  {
   "cell_type": "code",
   "execution_count": 3,
   "metadata": {},
   "outputs": [
    {
     "data": {
      "text/plain": [
       "((491966, 17), (491966, 17))"
      ]
     },
     "execution_count": 3,
     "metadata": {},
     "output_type": "execute_result"
    }
   ],
   "source": [
    "traffic_exit = pd.read_hdf('../data/raw/traffic_exit_features.hdf', key='exit', mode='r')\n",
    "traffic_entry = pd.read_hdf('../data/raw/traffic_entry_features.hdf', key='entry', mode='r')\n",
    "\n",
    "traffic_entry.shape, traffic_exit.shape"
   ]
  },
  {
   "cell_type": "code",
   "execution_count": 9,
   "metadata": {},
   "outputs": [
    {
     "data": {
      "text/html": [
       "<div>\n",
       "<style scoped>\n",
       "    .dataframe tbody tr th:only-of-type {\n",
       "        vertical-align: middle;\n",
       "    }\n",
       "\n",
       "    .dataframe tbody tr th {\n",
       "        vertical-align: top;\n",
       "    }\n",
       "\n",
       "    .dataframe thead th {\n",
       "        text-align: right;\n",
       "    }\n",
       "</style>\n",
       "<table border=\"1\" class=\"dataframe\">\n",
       "  <thead>\n",
       "    <tr style=\"text-align: right;\">\n",
       "      <th></th>\n",
       "      <th>0</th>\n",
       "      <th>1</th>\n",
       "      <th>2</th>\n",
       "      <th>3</th>\n",
       "    </tr>\n",
       "  </thead>\n",
       "  <tbody>\n",
       "    <tr>\n",
       "      <th>ROUTE_ID_entry</th>\n",
       "      <td>1089200514900INC</td>\n",
       "      <td>1089200514900INC</td>\n",
       "      <td>1089200514900INC</td>\n",
       "      <td>1089200514900INC</td>\n",
       "    </tr>\n",
       "    <tr>\n",
       "      <th>AADT_COMBINATION_entry</th>\n",
       "      <td>NaN</td>\n",
       "      <td>NaN</td>\n",
       "      <td>NaN</td>\n",
       "      <td>NaN</td>\n",
       "    </tr>\n",
       "    <tr>\n",
       "      <th>TC_NUMBER_entry</th>\n",
       "      <td>089-3792</td>\n",
       "      <td>089-3792</td>\n",
       "      <td>089-3792</td>\n",
       "      <td>089-3792</td>\n",
       "    </tr>\n",
       "    <tr>\n",
       "      <th>FUTURE_AADT_entry</th>\n",
       "      <td>13700</td>\n",
       "      <td>13700</td>\n",
       "      <td>13700</td>\n",
       "      <td>13700</td>\n",
       "    </tr>\n",
       "    <tr>\n",
       "      <th>AADT_SINGLE_UNIT_entry</th>\n",
       "      <td>NaN</td>\n",
       "      <td>NaN</td>\n",
       "      <td>NaN</td>\n",
       "      <td>NaN</td>\n",
       "    </tr>\n",
       "    <tr>\n",
       "      <th>trajectory_id</th>\n",
       "      <td>traj_0000a8602cf2def930488dee7cdad104_1_0</td>\n",
       "      <td>traj_00188565f0b670b9dfa12e24c0143391_15_8</td>\n",
       "      <td>traj_0044cf44561b16a20170eafd71a23275_23_0</td>\n",
       "      <td>traj_0044cf44561b16a20170eafd71a23275_23_13</td>\n",
       "    </tr>\n",
       "    <tr>\n",
       "      <th>Long_entry</th>\n",
       "      <td>-84.3043</td>\n",
       "      <td>-84.3043</td>\n",
       "      <td>-84.3043</td>\n",
       "      <td>-84.3043</td>\n",
       "    </tr>\n",
       "    <tr>\n",
       "      <th>Lat_entry</th>\n",
       "      <td>33.6943</td>\n",
       "      <td>33.6943</td>\n",
       "      <td>33.6943</td>\n",
       "      <td>33.6943</td>\n",
       "    </tr>\n",
       "    <tr>\n",
       "      <th>COUNTY_COD_entry</th>\n",
       "      <td>89</td>\n",
       "      <td>89</td>\n",
       "      <td>89</td>\n",
       "      <td>89</td>\n",
       "    </tr>\n",
       "    <tr>\n",
       "      <th>K_FACTOR_entry</th>\n",
       "      <td>9.27</td>\n",
       "      <td>9.27</td>\n",
       "      <td>9.27</td>\n",
       "      <td>9.27</td>\n",
       "    </tr>\n",
       "    <tr>\n",
       "      <th>TO_MILEPOINT_entry</th>\n",
       "      <td>0.37</td>\n",
       "      <td>0.37</td>\n",
       "      <td>0.37</td>\n",
       "      <td>0.37</td>\n",
       "    </tr>\n",
       "    <tr>\n",
       "      <th>PCT_PEAK_SINGLE_entry</th>\n",
       "      <td>NaN</td>\n",
       "      <td>NaN</td>\n",
       "      <td>NaN</td>\n",
       "      <td>NaN</td>\n",
       "    </tr>\n",
       "    <tr>\n",
       "      <th>D_Factor_entry</th>\n",
       "      <td>50</td>\n",
       "      <td>50</td>\n",
       "      <td>50</td>\n",
       "      <td>50</td>\n",
       "    </tr>\n",
       "    <tr>\n",
       "      <th>FROM_MILEPOINT_entry</th>\n",
       "      <td>0</td>\n",
       "      <td>0</td>\n",
       "      <td>0</td>\n",
       "      <td>0</td>\n",
       "    </tr>\n",
       "    <tr>\n",
       "      <th>hash</th>\n",
       "      <td>0000a8602cf2def930488dee7cdad104_1</td>\n",
       "      <td>00188565f0b670b9dfa12e24c0143391_15</td>\n",
       "      <td>0044cf44561b16a20170eafd71a23275_23</td>\n",
       "      <td>0044cf44561b16a20170eafd71a23275_23</td>\n",
       "    </tr>\n",
       "    <tr>\n",
       "      <th>AADT_entry</th>\n",
       "      <td>12600</td>\n",
       "      <td>12600</td>\n",
       "      <td>12600</td>\n",
       "      <td>12600</td>\n",
       "    </tr>\n",
       "    <tr>\n",
       "      <th>PCT_PEAK_COMBINATION_entry</th>\n",
       "      <td>NaN</td>\n",
       "      <td>NaN</td>\n",
       "      <td>NaN</td>\n",
       "      <td>NaN</td>\n",
       "    </tr>\n",
       "  </tbody>\n",
       "</table>\n",
       "</div>"
      ],
      "text/plain": [
       "                                                                    0  \\\n",
       "ROUTE_ID_entry                                       1089200514900INC   \n",
       "AADT_COMBINATION_entry                                            NaN   \n",
       "TC_NUMBER_entry                                              089-3792   \n",
       "FUTURE_AADT_entry                                               13700   \n",
       "AADT_SINGLE_UNIT_entry                                            NaN   \n",
       "trajectory_id               traj_0000a8602cf2def930488dee7cdad104_1_0   \n",
       "Long_entry                                                   -84.3043   \n",
       "Lat_entry                                                     33.6943   \n",
       "COUNTY_COD_entry                                                   89   \n",
       "K_FACTOR_entry                                                   9.27   \n",
       "TO_MILEPOINT_entry                                               0.37   \n",
       "PCT_PEAK_SINGLE_entry                                             NaN   \n",
       "D_Factor_entry                                                     50   \n",
       "FROM_MILEPOINT_entry                                                0   \n",
       "hash                               0000a8602cf2def930488dee7cdad104_1   \n",
       "AADT_entry                                                      12600   \n",
       "PCT_PEAK_COMBINATION_entry                                        NaN   \n",
       "\n",
       "                                                                     1  \\\n",
       "ROUTE_ID_entry                                        1089200514900INC   \n",
       "AADT_COMBINATION_entry                                             NaN   \n",
       "TC_NUMBER_entry                                               089-3792   \n",
       "FUTURE_AADT_entry                                                13700   \n",
       "AADT_SINGLE_UNIT_entry                                             NaN   \n",
       "trajectory_id               traj_00188565f0b670b9dfa12e24c0143391_15_8   \n",
       "Long_entry                                                    -84.3043   \n",
       "Lat_entry                                                      33.6943   \n",
       "COUNTY_COD_entry                                                    89   \n",
       "K_FACTOR_entry                                                    9.27   \n",
       "TO_MILEPOINT_entry                                                0.37   \n",
       "PCT_PEAK_SINGLE_entry                                              NaN   \n",
       "D_Factor_entry                                                      50   \n",
       "FROM_MILEPOINT_entry                                                 0   \n",
       "hash                               00188565f0b670b9dfa12e24c0143391_15   \n",
       "AADT_entry                                                       12600   \n",
       "PCT_PEAK_COMBINATION_entry                                         NaN   \n",
       "\n",
       "                                                                     2  \\\n",
       "ROUTE_ID_entry                                        1089200514900INC   \n",
       "AADT_COMBINATION_entry                                             NaN   \n",
       "TC_NUMBER_entry                                               089-3792   \n",
       "FUTURE_AADT_entry                                                13700   \n",
       "AADT_SINGLE_UNIT_entry                                             NaN   \n",
       "trajectory_id               traj_0044cf44561b16a20170eafd71a23275_23_0   \n",
       "Long_entry                                                    -84.3043   \n",
       "Lat_entry                                                      33.6943   \n",
       "COUNTY_COD_entry                                                    89   \n",
       "K_FACTOR_entry                                                    9.27   \n",
       "TO_MILEPOINT_entry                                                0.37   \n",
       "PCT_PEAK_SINGLE_entry                                              NaN   \n",
       "D_Factor_entry                                                      50   \n",
       "FROM_MILEPOINT_entry                                                 0   \n",
       "hash                               0044cf44561b16a20170eafd71a23275_23   \n",
       "AADT_entry                                                       12600   \n",
       "PCT_PEAK_COMBINATION_entry                                         NaN   \n",
       "\n",
       "                                                                      3  \n",
       "ROUTE_ID_entry                                         1089200514900INC  \n",
       "AADT_COMBINATION_entry                                              NaN  \n",
       "TC_NUMBER_entry                                                089-3792  \n",
       "FUTURE_AADT_entry                                                 13700  \n",
       "AADT_SINGLE_UNIT_entry                                              NaN  \n",
       "trajectory_id               traj_0044cf44561b16a20170eafd71a23275_23_13  \n",
       "Long_entry                                                     -84.3043  \n",
       "Lat_entry                                                       33.6943  \n",
       "COUNTY_COD_entry                                                     89  \n",
       "K_FACTOR_entry                                                     9.27  \n",
       "TO_MILEPOINT_entry                                                 0.37  \n",
       "PCT_PEAK_SINGLE_entry                                               NaN  \n",
       "D_Factor_entry                                                       50  \n",
       "FROM_MILEPOINT_entry                                                  0  \n",
       "hash                                0044cf44561b16a20170eafd71a23275_23  \n",
       "AADT_entry                                                        12600  \n",
       "PCT_PEAK_COMBINATION_entry                                          NaN  "
      ]
     },
     "execution_count": 9,
     "metadata": {},
     "output_type": "execute_result"
    }
   ],
   "source": [
    "traffic_entry.head(4).T"
   ]
  },
  {
   "cell_type": "markdown",
   "metadata": {},
   "source": [
    "- AADT: Annual Average Daily Traffic (AADT), is the total volume of vehicle traffic. of a roadway for a year divided by 365 days.\n",
    "- K_FACTOR: is defined as the proportion of annual average daily traffic occurring in an hour. This factor is used for designing and analyzing the flow of traffic on highways.\n",
    "- ROUTE_ID: Integer value representing each road on Georgia Federative's roads."
   ]
  },
  {
   "cell_type": "code",
   "execution_count": null,
   "metadata": {},
   "outputs": [],
   "source": [
    "29.8% red, 74.1% green and 74.9% blue"
   ]
  },
  {
   "cell_type": "code",
   "execution_count": 59,
   "metadata": {},
   "outputs": [
    {
     "data": {
      "image/png": "[encoded data removed]",
      "text/plain": [
       "<Figure size 1296x1080 with 2 Axes>"
      ]
     },
     "metadata": {},
     "output_type": "display_data"
    }
   ],
   "source": [
    "fig, ax = plt.subplots(2, 1, figsize=(18, 15))\n",
    "\n",
    "sns.set_style(\"whitegrid\")\n",
    "sns.distplot(traffic_entry.AADT_entry.dropna().values, \n",
    "             kde=False, \n",
    "             hist_kws={\"linewidth\": 3, \n",
    "                       \"alpha\": 1, \n",
    "                       \"color\": \"coral\"},\n",
    "            ax=ax[0])\n",
    "\n",
    "sns.distplot(traffic_entry.K_FACTOR_entry.dropna().values, \n",
    "             kde=False, \n",
    "             hist_kws={\"linewidth\": 3, \n",
    "                       \"alpha\": 1, \n",
    "                       \"color\": [(0.298, 0.741, 0.749)]},\n",
    "            ax=ax[1])\n",
    "\n",
    "ax[0].set_title('Annual Average Daily Traffic Distribution', fontsize=30)\n",
    "ax[1].set_title('K-Factor: Proportion of annual average daily traffic occurring in an hour',\n",
    "                fontsize=30)\n",
    "\n",
    "ax[0].set_xlim(0, 150000)\n",
    "ax[1].set_xlim(0, 25)\n",
    "\n",
    "ax[0].grid(False)\n",
    "ax[1].grid(False)\n",
    "\n",
    "ax[0].tick_params(axis='both', which='major', labelsize=20)\n",
    "ax[1].tick_params(axis='both', which='major', labelsize=20)"
   ]
  },
  {
   "cell_type": "code",
   "execution_count": 12,
   "metadata": {},
   "outputs": [
    {
     "data": {
      "text/plain": [
       "<matplotlib.axes._subplots.AxesSubplot at 0x7f0097bf7b38>"
      ]
     },
     "execution_count": 12,
     "metadata": {},
     "output_type": "execute_result"
    },
    {
     "data": {
      "image/png": "[encoded data removed]",
      "text/plain": [
       "<Figure size 432x288 with 1 Axes>"
      ]
     },
     "metadata": {},
     "output_type": "display_data"
    }
   ],
   "source": [
    "traffic_entry.AADT_entry.hist(bins=100)"
   ]
  },
  {
   "cell_type": "code",
   "execution_count": 13,
   "metadata": {},
   "outputs": [
    {
     "data": {
      "text/plain": [
       "<matplotlib.axes._subplots.AxesSubplot at 0x7f0098ace710>"
      ]
     },
     "execution_count": 13,
     "metadata": {},
     "output_type": "execute_result"
    },
    {
     "data": {
      "image/png": "[encoded data removed]",
      "text/plain": [
       "<Figure size 432x288 with 1 Axes>"
      ]
     },
     "metadata": {},
     "output_type": "display_data"
    }
   ],
   "source": [
    "traffic_entry.K_FACTOR_entry.hist(bins=100)"
   ]
  },
  {
   "cell_type": "code",
   "execution_count": 8,
   "metadata": {},
   "outputs": [
    {
     "data": {
      "text/plain": [
       "<matplotlib.axes._subplots.AxesSubplot at 0x7f0098ace748>"
      ]
     },
     "execution_count": 8,
     "metadata": {},
     "output_type": "execute_result"
    },
    {
     "data": {
      "image/png": "[encoded data removed]",
      "text/plain": [
       "<Figure size 432x288 with 1 Axes>"
      ]
     },
     "metadata": {},
     "output_type": "display_data"
    }
   ],
   "source": [
    "sns.countplot(x='ROUTE_ID_entry', data=traffic_entry)"
   ]
  }
 ],
 "metadata": {
  "kernelspec": {
   "display_name": "Python 3",
   "language": "python",
   "name": "python3"
  },
  "language_info": {
   "codemirror_mode": {
    "name": "ipython",
    "version": 3
   },
   "file_extension": ".py",
   "mimetype": "text/x-python",
   "name": "python",
   "nbconvert_exporter": "python",
   "pygments_lexer": "ipython3",
   "version": "3.6.8"
  }
 },
 "nbformat": 4,
 "nbformat_minor": 2
}
