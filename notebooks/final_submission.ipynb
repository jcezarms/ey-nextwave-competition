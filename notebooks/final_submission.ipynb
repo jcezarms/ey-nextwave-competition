{
 "cells": [
  {
   "cell_type": "markdown",
   "metadata": {},
   "source": [
    "# EY NextWave Data Science Competition 2019 - Final Submission"
   ]
  },
  {
   "cell_type": "markdown",
   "metadata": {},
   "source": [
    "- <a href='#1'>1. Introduction</a>  \n",
    "    - <a href='#1-1'>1.1. Problem Statement</a>\n",
    "- <a href='#2'>2. General Overview </a>\n",
    "- <a href='#3'>3. Importing Libraries and Data </a>\n",
    "- <a href='#4'> 4. Feature Extraction</a>\n",
    "    - <a href='#4-1'> 4.1. Distancial-directional Calculations</a>\n",
    "- <a href='#7'> 7. Baseline Models </a>\n",
    "    - <a href='#7-1'> 7.1. Logistic Regression</a>\n",
    "    - <a href='#7-2'> 7.2. Random Forest</a>\n",
    "    - <a href='#7-3'> 7.3. Gradient Boosting</a>\n",
    "    - <a href='#7-4'> 7.4. Feature Importances </a>\n",
    "- <a href='#9'> 9. Saving Train and Test Set preprocessed  </a>\n",
    "- <a href='#10'> 10. Conclusion </a>"
   ]
  },
  {
   "cell_type": "markdown",
   "metadata": {},
   "source": [
    "## <a id='3'>3. Importing Libraries and Data</a>"
   ]
  },
  {
   "cell_type": "code",
   "execution_count": 4,
   "metadata": {},
   "outputs": [],
   "source": [
    "#!pip install tqdm\n",
    "#!conda install shapely descartes geopandas -y"
   ]
  },
  {
   "cell_type": "code",
   "execution_count": 114,
   "metadata": {},
   "outputs": [],
   "source": [
    "import warnings\n",
    "import math\n",
    "import re\n",
    "\n",
    "# visualiztion tools\n",
    "import matplotlib.pyplot as plt\n",
    "from tqdm.auto import tqdm\n",
    "import seaborn as sns\n",
    "\n",
    "# data preprocessing tools\n",
    "import pandas as pd\n",
    "from shapely.geometry import Point\n",
    "import numpy as np\n",
    "\n",
    "\n",
    "tqdm.pandas()\n",
    "plt.style.use('seaborn')\n",
    "warnings.filterwarnings(\"ignore\")\n",
    "\n",
    "%run ../src/utils.py"
   ]
  },
  {
   "cell_type": "code",
   "execution_count": 115,
   "metadata": {},
   "outputs": [
    {
     "data": {
      "text/plain": [
       "((814262, 11), (202937, 11))"
      ]
     },
     "execution_count": 115,
     "metadata": {},
     "output_type": "execute_result"
    }
   ],
   "source": [
    "train = pd.read_csv('../data/raw/data_train.zip', index_col='Unnamed: 0', low_memory=True)\n",
    "test = pd.read_csv('../data/raw/data_test.zip', index_col='Unnamed: 0', low_memory=True)\n",
    "\n",
    "train.shape, test.shape"
   ]
  },
  {
   "cell_type": "code",
   "execution_count": 116,
   "metadata": {
    "scrolled": true
   },
   "outputs": [
    {
     "data": {
      "text/plain": [
       "(1017199, 11)"
      ]
     },
     "execution_count": 116,
     "metadata": {},
     "output_type": "execute_result"
    }
   ],
   "source": [
    "data = pd.concat([train, test], axis=0)\n",
    "\n",
    "data.shape"
   ]
  },
  {
   "cell_type": "markdown",
   "metadata": {},
   "source": [
    "## <a id='4'>4. Feature Extraction </a>\n",
    "\n",
    "In this section, we will build new features for our data. Here we will explore the time component of the data, as well as distances, angles, how each trajectory relates to the city center, etc. Also, in order to achieve a better score, we need to construct the data accordingly to its sequential format."
   ]
  },
  {
   "cell_type": "markdown",
   "metadata": {},
   "source": [
    "### <a id='4-1'>4.1. Distancial-directional Calculations </a>\n",
    "\n",
    "Distance is a primary factor in comparing two points in a cartesian plane. It is then reasonable to calculate a couple of different distance formulas for points throughout our dataset:\n",
    "\n",
    "- Euclidean distance is defined as length of the smallest straight line connecting two points in cartesian space, e.g. points $p$ and $q$, being:\n",
    "$$\n",
    "d(p, q) = d(q, p) = \\sqrt{\\sum_{i=1}^{n}(q_i - p_i)^2}\n",
    "$$\n",
    "- Manhattan distance, also known as taxicab metric and L1 distance, comprises the sum of projections of a given line in each of its plane's axes:\n",
    "$$\n",
    "d(X, Y) = \\sum_{i=1}^{n}|x_i - y_i|^p\n",
    "$$\n",
    "- And, finally, Haversine, which gives the distance between two points over a spherical surface.\n",
    "$$\n",
    "d = 2r \\arcsin\\left(\\sqrt{\\sin^2\\left(\\frac{\\varphi_2 - \\varphi_1}{2}\\right) + \\cos(\\varphi_1) \\cos(\\varphi_2)\\sin^2\\left(\\frac{\\lambda_2 - \\lambda_1}{2}\\right)}\\right)\n",
    "$$"
   ]
  },
  {
   "cell_type": "code",
   "execution_count": 117,
   "metadata": {},
   "outputs": [],
   "source": [
    "data['euclidean_distance'] = euclidean(data.x_entry.values, data.y_entry.values, data.x_exit.values, data.y_exit.values)\n",
    "\n",
    "data['manhattan_distance'] = manhattan(data.x_entry.values, data.y_entry.values, data.x_exit.values, data.y_exit.values)\n",
    "\n",
    "data['harvesine_distance'] = haversine(data.x_entry.values, data.y_entry.values, data.x_exit.values, data.y_exit.values)"
   ]
  },
  {
   "cell_type": "code",
   "execution_count": 118,
   "metadata": {
    "scrolled": true
   },
   "outputs": [
    {
     "data": {
      "text/html": [
       "<div>\n",
       "<style scoped>\n",
       "    .dataframe tbody tr th:only-of-type {\n",
       "        vertical-align: middle;\n",
       "    }\n",
       "\n",
       "    .dataframe tbody tr th {\n",
       "        vertical-align: top;\n",
       "    }\n",
       "\n",
       "    .dataframe thead th {\n",
       "        text-align: right;\n",
       "    }\n",
       "</style>\n",
       "<table border=\"1\" class=\"dataframe\">\n",
       "  <thead>\n",
       "    <tr style=\"text-align: right;\">\n",
       "      <th></th>\n",
       "      <th>hash</th>\n",
       "      <th>trajectory_id</th>\n",
       "      <th>time_entry</th>\n",
       "      <th>time_exit</th>\n",
       "      <th>vmax</th>\n",
       "      <th>vmin</th>\n",
       "      <th>vmean</th>\n",
       "      <th>x_entry</th>\n",
       "      <th>y_entry</th>\n",
       "      <th>x_exit</th>\n",
       "      <th>y_exit</th>\n",
       "      <th>euclidean_distance</th>\n",
       "      <th>manhattan_distance</th>\n",
       "      <th>harvesine_distance</th>\n",
       "    </tr>\n",
       "  </thead>\n",
       "  <tbody>\n",
       "    <tr>\n",
       "      <th>0</th>\n",
       "      <td>0000a8602cf2def930488dee7cdad104_1</td>\n",
       "      <td>traj_0000a8602cf2def930488dee7cdad104_1_0</td>\n",
       "      <td>07:04:31</td>\n",
       "      <td>07:08:32</td>\n",
       "      <td>NaN</td>\n",
       "      <td>NaN</td>\n",
       "      <td>NaN</td>\n",
       "      <td>3.751014e+06</td>\n",
       "      <td>-1.909398e+07</td>\n",
       "      <td>3.750326e+06</td>\n",
       "      <td>-1.913634e+07</td>\n",
       "      <td>42364.863118</td>\n",
       "      <td>43047.231426</td>\n",
       "      <td>376.999025</td>\n",
       "    </tr>\n",
       "    <tr>\n",
       "      <th>1</th>\n",
       "      <td>0000a8602cf2def930488dee7cdad104_1</td>\n",
       "      <td>traj_0000a8602cf2def930488dee7cdad104_1_1</td>\n",
       "      <td>07:20:34</td>\n",
       "      <td>07:25:42</td>\n",
       "      <td>NaN</td>\n",
       "      <td>NaN</td>\n",
       "      <td>NaN</td>\n",
       "      <td>3.743937e+06</td>\n",
       "      <td>-1.932247e+07</td>\n",
       "      <td>3.744975e+06</td>\n",
       "      <td>-1.931966e+07</td>\n",
       "      <td>2989.643628</td>\n",
       "      <td>3841.346373</td>\n",
       "      <td>10165.680722</td>\n",
       "    </tr>\n",
       "    <tr>\n",
       "      <th>2</th>\n",
       "      <td>0000a8602cf2def930488dee7cdad104_1</td>\n",
       "      <td>traj_0000a8602cf2def930488dee7cdad104_1_2</td>\n",
       "      <td>07:53:32</td>\n",
       "      <td>08:03:25</td>\n",
       "      <td>NaN</td>\n",
       "      <td>NaN</td>\n",
       "      <td>NaN</td>\n",
       "      <td>3.744868e+06</td>\n",
       "      <td>-1.929356e+07</td>\n",
       "      <td>3.744816e+06</td>\n",
       "      <td>-1.929284e+07</td>\n",
       "      <td>725.658561</td>\n",
       "      <td>776.090116</td>\n",
       "      <td>9001.777133</td>\n",
       "    </tr>\n",
       "    <tr>\n",
       "      <th>3</th>\n",
       "      <td>0000a8602cf2def930488dee7cdad104_1</td>\n",
       "      <td>traj_0000a8602cf2def930488dee7cdad104_1_3</td>\n",
       "      <td>08:17:50</td>\n",
       "      <td>08:37:23</td>\n",
       "      <td>NaN</td>\n",
       "      <td>NaN</td>\n",
       "      <td>NaN</td>\n",
       "      <td>3.744880e+06</td>\n",
       "      <td>-1.929229e+07</td>\n",
       "      <td>3.744809e+06</td>\n",
       "      <td>-1.929049e+07</td>\n",
       "      <td>1804.576849</td>\n",
       "      <td>1874.414413</td>\n",
       "      <td>2668.005882</td>\n",
       "    </tr>\n",
       "  </tbody>\n",
       "</table>\n",
       "</div>"
      ],
      "text/plain": [
       "                                 hash  \\\n",
       "0  0000a8602cf2def930488dee7cdad104_1   \n",
       "1  0000a8602cf2def930488dee7cdad104_1   \n",
       "2  0000a8602cf2def930488dee7cdad104_1   \n",
       "3  0000a8602cf2def930488dee7cdad104_1   \n",
       "\n",
       "                               trajectory_id time_entry time_exit  vmax  vmin  \\\n",
       "0  traj_0000a8602cf2def930488dee7cdad104_1_0   07:04:31  07:08:32   NaN   NaN   \n",
       "1  traj_0000a8602cf2def930488dee7cdad104_1_1   07:20:34  07:25:42   NaN   NaN   \n",
       "2  traj_0000a8602cf2def930488dee7cdad104_1_2   07:53:32  08:03:25   NaN   NaN   \n",
       "3  traj_0000a8602cf2def930488dee7cdad104_1_3   08:17:50  08:37:23   NaN   NaN   \n",
       "\n",
       "   vmean       x_entry       y_entry        x_exit        y_exit  \\\n",
       "0    NaN  3.751014e+06 -1.909398e+07  3.750326e+06 -1.913634e+07   \n",
       "1    NaN  3.743937e+06 -1.932247e+07  3.744975e+06 -1.931966e+07   \n",
       "2    NaN  3.744868e+06 -1.929356e+07  3.744816e+06 -1.929284e+07   \n",
       "3    NaN  3.744880e+06 -1.929229e+07  3.744809e+06 -1.929049e+07   \n",
       "\n",
       "   euclidean_distance  manhattan_distance  harvesine_distance  \n",
       "0        42364.863118        43047.231426          376.999025  \n",
       "1         2989.643628         3841.346373        10165.680722  \n",
       "2          725.658561          776.090116         9001.777133  \n",
       "3         1804.576849         1874.414413         2668.005882  "
      ]
     },
     "execution_count": 118,
     "metadata": {},
     "output_type": "execute_result"
    }
   ],
   "source": [
    "data.head(4)"
   ]
  },
  {
   "cell_type": "markdown",
   "metadata": {},
   "source": [
    "Some patterns in data distribution can already be analyzed from theses distance computations. Let's analyze the Euclidean distance values among train and test data to gain a closer perception."
   ]
  },
  {
   "cell_type": "code",
   "execution_count": 119,
   "metadata": {},
   "outputs": [
    {
     "data": {
      "image/png": "[encoded data removed]",
      "text/plain": [
       "<Figure size 864x576 with 2 Axes>"
      ]
     },
     "metadata": {},
     "output_type": "display_data"
    }
   ],
   "source": [
    "fig, (ax1, ax2) = plt.subplots(ncols=2, figsize=(12, 8))\n",
    "ax1.set_title('Train Euclidean distance distribution')\n",
    "ax2.set_title('Test Euclidean distance distribution')\n",
    "\n",
    "distplot(data[data.hash.isin(train.hash)], 'euclidean_distance', ax=ax1)\n",
    "distplot(data[data.hash.isin(test.hash)], 'euclidean_distance', ax=ax2)"
   ]
  },
  {
   "cell_type": "code",
   "execution_count": 120,
   "metadata": {},
   "outputs": [
    {
     "data": {
      "text/plain": [
       "0.5339448440759431"
      ]
     },
     "execution_count": 120,
     "metadata": {},
     "output_type": "execute_result"
    }
   ],
   "source": [
    "# Percentage of 0-valued distances among all non-NaN euclidean values.\n",
    "data[data.euclidean_distance == 0.0].shape[0] / data[~np.isnan(data.euclidean_distance)].shape[0]"
   ]
  },
  {
   "cell_type": "code",
   "execution_count": 121,
   "metadata": {},
   "outputs": [
    {
     "data": {
      "text/plain": [
       "0.9975972568364897"
      ]
     },
     "execution_count": 121,
     "metadata": {},
     "output_type": "execute_result"
    }
   ],
   "source": [
    "# Percentage of 0-valued distances having time entry equal to time exit\n",
    "data[\n",
    "    (data.euclidean_distance == 0.0) & (data.time_exit == data.time_entry)\n",
    "].shape[0] / data[data.euclidean_distance == 0.0].shape[0]"
   ]
  },
  {
   "cell_type": "markdown",
   "metadata": {},
   "source": [
    "The above shows us that more than half of _all_ filled distances in our sets are 0-valued - and basically all those 0 distance trajectories start and end **at the same time**.\n",
    "\n",
    "This means that target predictions over those points would only need to check whether the trajectory starts inside the city center. Since the coordinates will stay the same, so will that status.\n",
    "\n",
    "For these reasons, we will sample as trainable data only points having euclidean distances different than 0."
   ]
  },
  {
   "cell_type": "code",
   "execution_count": 122,
   "metadata": {},
   "outputs": [],
   "source": [
    "percentage_zeros = data[data.euclidean_distance==0]\n",
    "percentage_zeros = (percentage_zeros.groupby('hash').trajectory_id.count() \n",
    "                    / data.groupby('hash').trajectory_id.count()).reset_index()\n",
    "percentage_zeros.columns = ['hash', 'zeros_in_trajectory']"
   ]
  },
  {
   "cell_type": "code",
   "execution_count": 123,
   "metadata": {},
   "outputs": [
    {
     "data": {
      "text/plain": [
       "(491966, 14)"
      ]
     },
     "execution_count": 123,
     "metadata": {},
     "output_type": "execute_result"
    }
   ],
   "source": [
    "data = data[data.euclidean_distance!=0]\n",
    "data.shape"
   ]
  },
  {
   "cell_type": "markdown",
   "metadata": {},
   "source": [
    "#### <a id='4-1-1'>4.1.1. City Center Midpoint Distances</a>\n",
    "\n",
    "Since we want to determine a trajectory's end coordinates as being either in or out of the city center, current-to-center-midpoint distance can be a determinant feature. Let's compute those differences."
   ]
  },
  {
   "cell_type": "code",
   "execution_count": 124,
   "metadata": {},
   "outputs": [],
   "source": [
    "data['eucl_dist_cc_entry'] = euclidean(data.x_entry.values, data.y_entry.values, center['x_mid'], center['y_mid'])\n",
    "data['eucl_dist_cc_exit'] = euclidean(data.x_exit.values, data.y_exit.values, center['x_mid'], center['y_mid'])\n",
    "\n",
    "data['manh_dist_cc_entry'] = manhattan(data.x_entry.values, data.y_entry.values, center['x_mid'], center['y_mid'])\n",
    "data['manh_dist_cc_exit'] = manhattan(data.x_exit.values, data.y_exit.values, center['x_mid'], center['y_mid'])\n",
    "\n",
    "data['havr_dist_cc_entry'] = haversine(data.x_entry.values, data.y_entry.values, center['x_mid'], center['y_mid'])\n",
    "data['havr_dist_cc_exit'] = haversine(data.x_exit.values, data.y_exit.values, center['x_mid'], center['y_mid'])\n",
    "\n",
    "data['eucl_diff_cc_exit_entry'] = data.eucl_dist_cc_exit - data.eucl_dist_cc_entry\n",
    "data['manh_diff_cc_exit_entry'] = data.manh_dist_cc_exit - data.manh_dist_cc_entry\n",
    "data['havr_diff_cc_exit_entry'] = data.havr_dist_cc_exit - data.havr_dist_cc_entry"
   ]
  },
  {
   "cell_type": "code",
   "execution_count": 125,
   "metadata": {},
   "outputs": [],
   "source": [
    "data['x_diff_entry'] = data.x_entry.values - center['x_mid']\n",
    "data['x_diff_exit'] = data.x_exit.values - center['x_mid']\n",
    "\n",
    "data['y_diff_entry'] = data.y_entry.values - center['y_mid']\n",
    "data['y_diff_exit'] = data.y_exit.values - center['y_mid']"
   ]
  },
  {
   "cell_type": "markdown",
   "metadata": {},
   "source": [
    "#### <a id='4-1-2'>4.1.2. City Center Midpoint Directions</a>\n",
    "\n",
    "Differences from entry and exit points to center middle can also be angularly significant as that can reveal how trajectories are bent towards the midpoint."
   ]
  },
  {
   "cell_type": "code",
   "execution_count": 126,
   "metadata": {},
   "outputs": [],
   "source": [
    "directions_entry = []\n",
    "for x, y in zip(data.x_diff_entry, data.y_diff_entry):\n",
    "    directions_entry.append(math.atan2(x, y))\n",
    "    \n",
    "data['direction_entry'] = directions_entry"
   ]
  },
  {
   "cell_type": "code",
   "execution_count": 127,
   "metadata": {},
   "outputs": [],
   "source": [
    "directions_exit = []\n",
    "for x, y in zip(data.x_diff_exit, data.y_diff_exit):\n",
    "    directions_exit.append(math.atan2(x, y))\n",
    "    \n",
    "data['direction_exit'] = directions_exit"
   ]
  },
  {
   "cell_type": "markdown",
   "metadata": {},
   "source": [
    "#### <a id='4-1-3'>4.1.3. City Center Border Distances</a>\n",
    "\n",
    "Our predefined city center is a rectangle (see below). Each of its borders represent the very boundaries that will ultimately define if a trajectory is inside the center - or not - so it seems logical to compute the minimum distance to all borders."
   ]
  },
  {
   "cell_type": "code",
   "execution_count": 128,
   "metadata": {
    "scrolled": true
   },
   "outputs": [
    {
     "data": {
      "image/svg+xml": [
       "<svg xmlns=\"http://www.w3.org/2000/svg\" xmlns:xlink=\"http://www.w3.org/1999/xlink\" width=\"300\" height=\"300\" viewBox=\"3748501.5068 -19271305.6133 24800.0 64800.0\" preserveAspectRatio=\"xMinYMin meet\"><g transform=\"matrix(1,0,0,-1,0,-38477811.2266)\"><path fill-rule=\"evenodd\" fill=\"#66cc99\" stroke=\"#555555\" stroke-width=\"432.0\" opacity=\"0.6\" d=\"M 3750901.5068,-19268905.6133 L 3750901.5068,-19208905.6133 L 3770901.5068,-19208905.6133 L 3770901.5068,-19268905.6133 L 3750901.5068,-19268905.6133 z\" /></g></svg>"
      ],
      "text/plain": [
       "<shapely.geometry.polygon.Polygon at 0x7f103b971b38>"
      ]
     },
     "execution_count": 128,
     "metadata": {},
     "output_type": "execute_result"
    }
   ],
   "source": [
    "center_polygon"
   ]
  },
  {
   "cell_type": "code",
   "execution_count": 129,
   "metadata": {},
   "outputs": [],
   "source": [
    "def distance_to_border(x, y, side):\n",
    "    return center[side + '_border'].distance(Point(x, y))\n",
    "\n",
    "for side in ['left', 'right', 'lower', 'upper']:\n",
    "    data[f'distance_{side}_border'] = [distance_to_border(x, y, side=side) for x, y in zip(data.x_entry, data.y_entry)]"
   ]
  },
  {
   "cell_type": "markdown",
   "metadata": {},
   "source": [
    "#### <a id='4-1-4'>4.1.4. City Center Vertex Angles</a>\n",
    "\n",
    "Onto the same motivation for the above, we will also compute the angles from every entry w.r.t. the city center's **vertexes**. That'll generate features more connected to the directional aspects of entry coordinates for each of those vertexes."
   ]
  },
  {
   "cell_type": "code",
   "execution_count": 130,
   "metadata": {
    "scrolled": true
   },
   "outputs": [
    {
     "data": {
      "application/vnd.jupyter.widget-view+json": {
       "model_id": "d2d37c38c9ec4857b4d04da793447235",
       "version_major": 2,
       "version_minor": 0
      },
      "text/plain": [
       "HBox(children=(IntProgress(value=0, max=491966), HTML(value='')))"
      ]
     },
     "metadata": {},
     "output_type": "display_data"
    },
    {
     "data": {
      "text/html": [
       "<div>\n",
       "<style scoped>\n",
       "    .dataframe tbody tr th:only-of-type {\n",
       "        vertical-align: middle;\n",
       "    }\n",
       "\n",
       "    .dataframe tbody tr th {\n",
       "        vertical-align: top;\n",
       "    }\n",
       "\n",
       "    .dataframe thead th {\n",
       "        text-align: right;\n",
       "    }\n",
       "</style>\n",
       "<table border=\"1\" class=\"dataframe\">\n",
       "  <thead>\n",
       "    <tr style=\"text-align: right;\">\n",
       "      <th></th>\n",
       "      <th>hash</th>\n",
       "      <th>trajectory_id</th>\n",
       "      <th>time_entry</th>\n",
       "      <th>time_exit</th>\n",
       "      <th>vmax</th>\n",
       "      <th>vmin</th>\n",
       "      <th>vmean</th>\n",
       "      <th>x_entry</th>\n",
       "      <th>y_entry</th>\n",
       "      <th>x_exit</th>\n",
       "      <th>...</th>\n",
       "      <th>direction_exit</th>\n",
       "      <th>distance_left_border</th>\n",
       "      <th>distance_right_border</th>\n",
       "      <th>distance_lower_border</th>\n",
       "      <th>distance_upper_border</th>\n",
       "      <th>cc_middle_angle</th>\n",
       "      <th>cc_xmin_ymin_angle</th>\n",
       "      <th>cc_xmax_ymin_angle</th>\n",
       "      <th>cc_xmin_ymax_angle</th>\n",
       "      <th>cc_xmax_ymax_angle</th>\n",
       "    </tr>\n",
       "  </thead>\n",
       "  <tbody>\n",
       "    <tr>\n",
       "      <th>0</th>\n",
       "      <td>0000a8602cf2def930488dee7cdad104_1</td>\n",
       "      <td>traj_0000a8602cf2def930488dee7cdad104_1_0</td>\n",
       "      <td>07:04:31</td>\n",
       "      <td>07:08:32</td>\n",
       "      <td>NaN</td>\n",
       "      <td>NaN</td>\n",
       "      <td>NaN</td>\n",
       "      <td>3.751014e+06</td>\n",
       "      <td>-1.909398e+07</td>\n",
       "      <td>3.750326e+06</td>\n",
       "      <td>...</td>\n",
       "      <td>-0.102748</td>\n",
       "      <td>114925.024135</td>\n",
       "      <td>116633.059928</td>\n",
       "      <td>174924.969304</td>\n",
       "      <td>114924.969304</td>\n",
       "      <td>NaN</td>\n",
       "      <td>NaN</td>\n",
       "      <td>NaN</td>\n",
       "      <td>NaN</td>\n",
       "      <td>NaN</td>\n",
       "    </tr>\n",
       "    <tr>\n",
       "      <th>1</th>\n",
       "      <td>0000a8602cf2def930488dee7cdad104_1</td>\n",
       "      <td>traj_0000a8602cf2def930488dee7cdad104_1_1</td>\n",
       "      <td>07:20:34</td>\n",
       "      <td>07:25:42</td>\n",
       "      <td>NaN</td>\n",
       "      <td>NaN</td>\n",
       "      <td>NaN</td>\n",
       "      <td>3.743937e+06</td>\n",
       "      <td>-1.932247e+07</td>\n",
       "      <td>3.744975e+06</td>\n",
       "      <td>...</td>\n",
       "      <td>-2.946875</td>\n",
       "      <td>54012.799354</td>\n",
       "      <td>59966.283785</td>\n",
       "      <td>54012.799354</td>\n",
       "      <td>113775.281047</td>\n",
       "      <td>0.137059</td>\n",
       "      <td>0.038653</td>\n",
       "      <td>0.188293</td>\n",
       "      <td>0.042244</td>\n",
       "      <td>0.310604</td>\n",
       "    </tr>\n",
       "    <tr>\n",
       "      <th>2</th>\n",
       "      <td>0000a8602cf2def930488dee7cdad104_1</td>\n",
       "      <td>traj_0000a8602cf2def930488dee7cdad104_1_2</td>\n",
       "      <td>07:53:32</td>\n",
       "      <td>08:03:25</td>\n",
       "      <td>NaN</td>\n",
       "      <td>NaN</td>\n",
       "      <td>NaN</td>\n",
       "      <td>3.744868e+06</td>\n",
       "      <td>-1.929356e+07</td>\n",
       "      <td>3.744816e+06</td>\n",
       "      <td>...</td>\n",
       "      <td>-2.851747</td>\n",
       "      <td>25386.747582</td>\n",
       "      <td>35858.533322</td>\n",
       "      <td>25386.747582</td>\n",
       "      <td>84874.048910</td>\n",
       "      <td>0.198812</td>\n",
       "      <td>0.120334</td>\n",
       "      <td>0.476339</td>\n",
       "      <td>0.057555</td>\n",
       "      <td>0.234039</td>\n",
       "    </tr>\n",
       "    <tr>\n",
       "      <th>3</th>\n",
       "      <td>0000a8602cf2def930488dee7cdad104_1</td>\n",
       "      <td>traj_0000a8602cf2def930488dee7cdad104_1_3</td>\n",
       "      <td>08:17:50</td>\n",
       "      <td>08:37:23</td>\n",
       "      <td>NaN</td>\n",
       "      <td>NaN</td>\n",
       "      <td>NaN</td>\n",
       "      <td>3.744880e+06</td>\n",
       "      <td>-1.929229e+07</td>\n",
       "      <td>3.744809e+06</td>\n",
       "      <td>...</td>\n",
       "      <td>-2.839174</td>\n",
       "      <td>24146.972686</td>\n",
       "      <td>34984.767305</td>\n",
       "      <td>24146.972686</td>\n",
       "      <td>83601.282594</td>\n",
       "      <td>0.173281</td>\n",
       "      <td>0.132425</td>\n",
       "      <td>0.711798</td>\n",
       "      <td>0.044184</td>\n",
       "      <td>0.184758</td>\n",
       "    </tr>\n",
       "  </tbody>\n",
       "</table>\n",
       "<p>4 rows × 38 columns</p>\n",
       "</div>"
      ],
      "text/plain": [
       "                                 hash  \\\n",
       "0  0000a8602cf2def930488dee7cdad104_1   \n",
       "1  0000a8602cf2def930488dee7cdad104_1   \n",
       "2  0000a8602cf2def930488dee7cdad104_1   \n",
       "3  0000a8602cf2def930488dee7cdad104_1   \n",
       "\n",
       "                               trajectory_id time_entry time_exit  vmax  vmin  \\\n",
       "0  traj_0000a8602cf2def930488dee7cdad104_1_0   07:04:31  07:08:32   NaN   NaN   \n",
       "1  traj_0000a8602cf2def930488dee7cdad104_1_1   07:20:34  07:25:42   NaN   NaN   \n",
       "2  traj_0000a8602cf2def930488dee7cdad104_1_2   07:53:32  08:03:25   NaN   NaN   \n",
       "3  traj_0000a8602cf2def930488dee7cdad104_1_3   08:17:50  08:37:23   NaN   NaN   \n",
       "\n",
       "   vmean       x_entry       y_entry        x_exit         ...          \\\n",
       "0    NaN  3.751014e+06 -1.909398e+07  3.750326e+06         ...           \n",
       "1    NaN  3.743937e+06 -1.932247e+07  3.744975e+06         ...           \n",
       "2    NaN  3.744868e+06 -1.929356e+07  3.744816e+06         ...           \n",
       "3    NaN  3.744880e+06 -1.929229e+07  3.744809e+06         ...           \n",
       "\n",
       "   direction_exit  distance_left_border  distance_right_border  \\\n",
       "0       -0.102748         114925.024135          116633.059928   \n",
       "1       -2.946875          54012.799354           59966.283785   \n",
       "2       -2.851747          25386.747582           35858.533322   \n",
       "3       -2.839174          24146.972686           34984.767305   \n",
       "\n",
       "   distance_lower_border  distance_upper_border  cc_middle_angle  \\\n",
       "0          174924.969304          114924.969304              NaN   \n",
       "1           54012.799354          113775.281047         0.137059   \n",
       "2           25386.747582           84874.048910         0.198812   \n",
       "3           24146.972686           83601.282594         0.173281   \n",
       "\n",
       "   cc_xmin_ymin_angle  cc_xmax_ymin_angle  cc_xmin_ymax_angle  \\\n",
       "0                 NaN                 NaN                 NaN   \n",
       "1            0.038653            0.188293            0.042244   \n",
       "2            0.120334            0.476339            0.057555   \n",
       "3            0.132425            0.711798            0.044184   \n",
       "\n",
       "   cc_xmax_ymax_angle  \n",
       "0                 NaN  \n",
       "1            0.310604  \n",
       "2            0.234039  \n",
       "3            0.184758  \n",
       "\n",
       "[4 rows x 38 columns]"
      ]
     },
     "execution_count": 130,
     "metadata": {},
     "output_type": "execute_result"
    }
   ],
   "source": [
    "data['last_x_entry'] = data.groupby('hash').x_exit.shift(1)\n",
    "data['last_y_entry'] = data.groupby('hash').y_exit.shift(1)\n",
    "\n",
    "angle_cols = [\n",
    "    'cc_middle_angle', 'cc_xmin_ymin_angle', 'cc_xmax_ymin_angle', 'cc_xmin_ymax_angle', 'cc_xmax_ymax_angle'\n",
    "]\n",
    "\n",
    "data = data.reindex(columns=data.columns.tolist() + angle_cols)\n",
    "\n",
    "data = data.progress_apply(entry_to_center_angles, axis=1)\n",
    "\n",
    "data = data.drop(columns=['last_x_entry', 'last_y_entry'])\n",
    "\n",
    "data.head(4)"
   ]
  },
  {
   "cell_type": "code",
   "execution_count": 131,
   "metadata": {},
   "outputs": [
    {
     "data": {
      "text/html": [
       "<div>\n",
       "<style scoped>\n",
       "    .dataframe tbody tr th:only-of-type {\n",
       "        vertical-align: middle;\n",
       "    }\n",
       "\n",
       "    .dataframe tbody tr th {\n",
       "        vertical-align: top;\n",
       "    }\n",
       "\n",
       "    .dataframe thead th {\n",
       "        text-align: right;\n",
       "    }\n",
       "</style>\n",
       "<table border=\"1\" class=\"dataframe\">\n",
       "  <thead>\n",
       "    <tr style=\"text-align: right;\">\n",
       "      <th></th>\n",
       "      <th>hash</th>\n",
       "      <th>trajectory_id</th>\n",
       "      <th>time_entry</th>\n",
       "      <th>time_exit</th>\n",
       "      <th>vmax</th>\n",
       "      <th>vmin</th>\n",
       "      <th>vmean</th>\n",
       "      <th>x_entry</th>\n",
       "      <th>y_entry</th>\n",
       "      <th>x_exit</th>\n",
       "      <th>...</th>\n",
       "      <th>direction_exit</th>\n",
       "      <th>distance_left_border</th>\n",
       "      <th>distance_right_border</th>\n",
       "      <th>distance_lower_border</th>\n",
       "      <th>distance_upper_border</th>\n",
       "      <th>cc_middle_angle</th>\n",
       "      <th>cc_xmin_ymin_angle</th>\n",
       "      <th>cc_xmax_ymin_angle</th>\n",
       "      <th>cc_xmin_ymax_angle</th>\n",
       "      <th>cc_xmax_ymax_angle</th>\n",
       "    </tr>\n",
       "  </thead>\n",
       "  <tbody>\n",
       "    <tr>\n",
       "      <th>0</th>\n",
       "      <td>0000a8602cf2def930488dee7cdad104_1</td>\n",
       "      <td>traj_0000a8602cf2def930488dee7cdad104_1_0</td>\n",
       "      <td>07:04:31</td>\n",
       "      <td>07:08:32</td>\n",
       "      <td>NaN</td>\n",
       "      <td>NaN</td>\n",
       "      <td>NaN</td>\n",
       "      <td>3.751014e+06</td>\n",
       "      <td>-1.909398e+07</td>\n",
       "      <td>3.750326e+06</td>\n",
       "      <td>...</td>\n",
       "      <td>-0.102748</td>\n",
       "      <td>114925.024135</td>\n",
       "      <td>116633.059928</td>\n",
       "      <td>174924.969304</td>\n",
       "      <td>114924.969304</td>\n",
       "      <td>NaN</td>\n",
       "      <td>NaN</td>\n",
       "      <td>NaN</td>\n",
       "      <td>NaN</td>\n",
       "      <td>NaN</td>\n",
       "    </tr>\n",
       "    <tr>\n",
       "      <th>1</th>\n",
       "      <td>0000a8602cf2def930488dee7cdad104_1</td>\n",
       "      <td>traj_0000a8602cf2def930488dee7cdad104_1_1</td>\n",
       "      <td>07:20:34</td>\n",
       "      <td>07:25:42</td>\n",
       "      <td>NaN</td>\n",
       "      <td>NaN</td>\n",
       "      <td>NaN</td>\n",
       "      <td>3.743937e+06</td>\n",
       "      <td>-1.932247e+07</td>\n",
       "      <td>3.744975e+06</td>\n",
       "      <td>...</td>\n",
       "      <td>-2.946875</td>\n",
       "      <td>54012.799354</td>\n",
       "      <td>59966.283785</td>\n",
       "      <td>54012.799354</td>\n",
       "      <td>113775.281047</td>\n",
       "      <td>7.852886</td>\n",
       "      <td>2.214659</td>\n",
       "      <td>10.788397</td>\n",
       "      <td>2.420383</td>\n",
       "      <td>17.796301</td>\n",
       "    </tr>\n",
       "    <tr>\n",
       "      <th>2</th>\n",
       "      <td>0000a8602cf2def930488dee7cdad104_1</td>\n",
       "      <td>traj_0000a8602cf2def930488dee7cdad104_1_2</td>\n",
       "      <td>07:53:32</td>\n",
       "      <td>08:03:25</td>\n",
       "      <td>NaN</td>\n",
       "      <td>NaN</td>\n",
       "      <td>NaN</td>\n",
       "      <td>3.744868e+06</td>\n",
       "      <td>-1.929356e+07</td>\n",
       "      <td>3.744816e+06</td>\n",
       "      <td>...</td>\n",
       "      <td>-2.851747</td>\n",
       "      <td>25386.747582</td>\n",
       "      <td>35858.533322</td>\n",
       "      <td>25386.747582</td>\n",
       "      <td>84874.048910</td>\n",
       "      <td>11.391105</td>\n",
       "      <td>6.894649</td>\n",
       "      <td>27.292186</td>\n",
       "      <td>3.297664</td>\n",
       "      <td>13.409474</td>\n",
       "    </tr>\n",
       "    <tr>\n",
       "      <th>3</th>\n",
       "      <td>0000a8602cf2def930488dee7cdad104_1</td>\n",
       "      <td>traj_0000a8602cf2def930488dee7cdad104_1_3</td>\n",
       "      <td>08:17:50</td>\n",
       "      <td>08:37:23</td>\n",
       "      <td>NaN</td>\n",
       "      <td>NaN</td>\n",
       "      <td>NaN</td>\n",
       "      <td>3.744880e+06</td>\n",
       "      <td>-1.929229e+07</td>\n",
       "      <td>3.744809e+06</td>\n",
       "      <td>...</td>\n",
       "      <td>-2.839174</td>\n",
       "      <td>24146.972686</td>\n",
       "      <td>34984.767305</td>\n",
       "      <td>24146.972686</td>\n",
       "      <td>83601.282594</td>\n",
       "      <td>9.928271</td>\n",
       "      <td>7.587407</td>\n",
       "      <td>40.782997</td>\n",
       "      <td>2.531528</td>\n",
       "      <td>10.585844</td>\n",
       "    </tr>\n",
       "  </tbody>\n",
       "</table>\n",
       "<p>4 rows × 38 columns</p>\n",
       "</div>"
      ],
      "text/plain": [
       "                                 hash  \\\n",
       "0  0000a8602cf2def930488dee7cdad104_1   \n",
       "1  0000a8602cf2def930488dee7cdad104_1   \n",
       "2  0000a8602cf2def930488dee7cdad104_1   \n",
       "3  0000a8602cf2def930488dee7cdad104_1   \n",
       "\n",
       "                               trajectory_id time_entry time_exit  vmax  vmin  \\\n",
       "0  traj_0000a8602cf2def930488dee7cdad104_1_0   07:04:31  07:08:32   NaN   NaN   \n",
       "1  traj_0000a8602cf2def930488dee7cdad104_1_1   07:20:34  07:25:42   NaN   NaN   \n",
       "2  traj_0000a8602cf2def930488dee7cdad104_1_2   07:53:32  08:03:25   NaN   NaN   \n",
       "3  traj_0000a8602cf2def930488dee7cdad104_1_3   08:17:50  08:37:23   NaN   NaN   \n",
       "\n",
       "   vmean       x_entry       y_entry        x_exit         ...          \\\n",
       "0    NaN  3.751014e+06 -1.909398e+07  3.750326e+06         ...           \n",
       "1    NaN  3.743937e+06 -1.932247e+07  3.744975e+06         ...           \n",
       "2    NaN  3.744868e+06 -1.929356e+07  3.744816e+06         ...           \n",
       "3    NaN  3.744880e+06 -1.929229e+07  3.744809e+06         ...           \n",
       "\n",
       "   direction_exit  distance_left_border  distance_right_border  \\\n",
       "0       -0.102748         114925.024135          116633.059928   \n",
       "1       -2.946875          54012.799354           59966.283785   \n",
       "2       -2.851747          25386.747582           35858.533322   \n",
       "3       -2.839174          24146.972686           34984.767305   \n",
       "\n",
       "   distance_lower_border  distance_upper_border  cc_middle_angle  \\\n",
       "0          174924.969304          114924.969304              NaN   \n",
       "1           54012.799354          113775.281047         7.852886   \n",
       "2           25386.747582           84874.048910        11.391105   \n",
       "3           24146.972686           83601.282594         9.928271   \n",
       "\n",
       "   cc_xmin_ymin_angle  cc_xmax_ymin_angle  cc_xmin_ymax_angle  \\\n",
       "0                 NaN                 NaN                 NaN   \n",
       "1            2.214659           10.788397            2.420383   \n",
       "2            6.894649           27.292186            3.297664   \n",
       "3            7.587407           40.782997            2.531528   \n",
       "\n",
       "   cc_xmax_ymax_angle  \n",
       "0                 NaN  \n",
       "1           17.796301  \n",
       "2           13.409474  \n",
       "3           10.585844  \n",
       "\n",
       "[4 rows x 38 columns]"
      ]
     },
     "execution_count": 131,
     "metadata": {},
     "output_type": "execute_result"
    }
   ],
   "source": [
    "# Angle conversion: rads to degrees\n",
    "data[angle_cols] = data[angle_cols] * 180.0 / np.pi\n",
    "data.head(4)"
   ]
  },
  {
   "cell_type": "markdown",
   "metadata": {},
   "source": [
    "### <a id='4-2'>4.2. Time-wise Features </a>\n",
    "\n",
    "Trajectories in our context are also deeply rooted in their temporal distributions. Let us then start exploring those features by isolating them in hour, minute, and delta values."
   ]
  },
  {
   "cell_type": "code",
   "execution_count": 132,
   "metadata": {},
   "outputs": [
    {
     "data": {
      "application/vnd.jupyter.widget-view+json": {
       "model_id": "f0bb85390bf74b0e8dc58558b71f8c65",
       "version_major": 2,
       "version_minor": 0
      },
      "text/plain": [
       "HBox(children=(IntProgress(value=0, max=491966), HTML(value='')))"
      ]
     },
     "metadata": {},
     "output_type": "display_data"
    },
    {
     "data": {
      "application/vnd.jupyter.widget-view+json": {
       "model_id": "4742b0d9481e42e49e3043ff5b0931d3",
       "version_major": 2,
       "version_minor": 0
      },
      "text/plain": [
       "HBox(children=(IntProgress(value=0, max=491966), HTML(value='')))"
      ]
     },
     "metadata": {},
     "output_type": "display_data"
    },
    {
     "data": {
      "application/vnd.jupyter.widget-view+json": {
       "model_id": "6f54640529d64b9185d510a3c5bdf64d",
       "version_major": 2,
       "version_minor": 0
      },
      "text/plain": [
       "HBox(children=(IntProgress(value=0, max=491966), HTML(value='')))"
      ]
     },
     "metadata": {},
     "output_type": "display_data"
    },
    {
     "data": {
      "application/vnd.jupyter.widget-view+json": {
       "model_id": "eec3eebb88324afaabfd9e1f92671a8e",
       "version_major": 2,
       "version_minor": 0
      },
      "text/plain": [
       "HBox(children=(IntProgress(value=0, max=491966), HTML(value='')))"
      ]
     },
     "metadata": {},
     "output_type": "display_data"
    }
   ],
   "source": [
    "data['minute_entry'] = data.time_exit.progress_apply(lambda x: int(x.split(':')[1]))\n",
    "data['minute_exit']  = data.time_exit.progress_apply(lambda x: int(x.split(':')[1]))\n",
    "\n",
    "data['hour_entry'] = data.time_entry.progress_apply(lambda x: int(x.split(':')[0]))\n",
    "data['hour_exit']  = data.time_exit.progress_apply(lambda x: int(x.split(':')[0]))\n",
    "\n",
    "data['time_entry'] = pd.to_timedelta(data.time_entry)\n",
    "data['time_exit']  = pd.to_timedelta(data.time_exit)\n",
    "\n",
    "data['timedelta'] = (data.time_exit - data.time_entry) / pd.Timedelta(minutes=1)"
   ]
  },
  {
   "cell_type": "markdown",
   "metadata": {},
   "source": [
    "#### <a id='4-2-1'>4.2.1. Time-wise: Continuous Features </a>\n",
    "\n",
    "The relationship of a trajectory with time may not only be related to the discrete (integer) representation of entry/exit occurence times: continuous representations of those will supposedly lead us closer to revealing different patterns spread throughout different parts of an hour or minute."
   ]
  },
  {
   "cell_type": "code",
   "execution_count": 133,
   "metadata": {},
   "outputs": [],
   "source": [
    "data['hours_continuous'] = [t / pd.Timedelta(hours=1) for t in data.time_entry]\n",
    "data['minutes_continuous'] = [t / pd.Timedelta(minutes=1) for t in data.time_entry]"
   ]
  },
  {
   "cell_type": "markdown",
   "metadata": {},
   "source": [
    "### <a id='4-3'>4.3. Quadrants </a>\n",
    "\n",
    "Trajectory sparsity along the city center is an important factor when trying to identify patterns that may be enclosed in a particular center quadrant. Let us compute features acknowledging such relation by dividing the city center in four quadrants."
   ]
  },
  {
   "cell_type": "code",
   "execution_count": 134,
   "metadata": {},
   "outputs": [],
   "source": [
    "def quadrant_computation(x, y, which):\n",
    "    if which == 'third':\n",
    "        if center['x_min'] <= x <= x_center and center['y_min'] <= y <= y_center:\n",
    "            return 1\n",
    "        else:\n",
    "            return 0\n",
    "        \n",
    "    elif which == 'first':\n",
    "        if center['x_min'] <= x <= x_center and center['y_max'] >= y >= y_center:\n",
    "            return 1\n",
    "        else:\n",
    "            return 0\n",
    "        \n",
    "    elif which == 'fourth':\n",
    "        if center['x_max'] >= x >= x_center and center['y_min'] >= y >= y_center:\n",
    "            return 1\n",
    "        else:\n",
    "            return 0\n",
    "    elif which == 'second':\n",
    "        if center['x_max'] >= x >= x_center and center['y_min'] <= y <= y_center:\n",
    "            return 1\n",
    "        else:\n",
    "            return 0\n",
    "    else:\n",
    "        return 0\n",
    "        \n",
    "for quadrant in ['first', 'second', 'third', 'fourth']:\n",
    "    data[quadrant+'_quadrant_entry'] = [quadrant_computation(x, y, which=quadrant) \n",
    "                                        for x, y in zip(data.x_entry, data.y_entry)]"
   ]
  },
  {
   "cell_type": "markdown",
   "metadata": {},
   "source": [
    "### <a id='4-4'>4.4. Center features </a>\n",
    "\n",
    "We can work with features related to center computation. Here, two more features are created: center_permanency, that encloses how much of the trajectory was inside the city center and has_crossed_city, that will indicate that a trajectory crossed city center."
   ]
  },
  {
   "cell_type": "code",
   "execution_count": 135,
   "metadata": {},
   "outputs": [
    {
     "data": {
      "application/vnd.jupyter.widget-view+json": {
       "model_id": "171d237a60284f6b97995eeef4fb9df9",
       "version_major": 2,
       "version_minor": 0
      },
      "text/plain": [
       "HBox(children=(IntProgress(value=0, max=491966), HTML(value='')))"
      ]
     },
     "metadata": {},
     "output_type": "display_data"
    },
    {
     "data": {
      "application/vnd.jupyter.widget-view+json": {
       "model_id": "4b30049fbe484ecfa45d4de5fa652633",
       "version_major": 2,
       "version_minor": 0
      },
      "text/plain": [
       "HBox(children=(IntProgress(value=0, max=491966), HTML(value='')))"
      ]
     },
     "metadata": {},
     "output_type": "display_data"
    }
   ],
   "source": [
    "data['center_permanency'] = data.progress_apply(center_permanency, axis=1)\n",
    "data['crossed_city'] = data.progress_apply(crossed_city, axis=1)"
   ]
  },
  {
   "cell_type": "markdown",
   "metadata": {},
   "source": [
    "### <a id='4-5'>4.5. Blind trajectories features </a>\n",
    "\n",
    "One of the major issues in the data set and in the problem statement is that a lot of devices IDs have blind trajectories, that is, they have different positions for the last exit and current entry postions. Therefore, we need to explore data to acquire information regarding this blind spots. "
   ]
  },
  {
   "cell_type": "code",
   "execution_count": 136,
   "metadata": {},
   "outputs": [],
   "source": [
    "# time passed between blind spots\n",
    "data['timedelta_blind'] = (data.time_entry - data.time_exit.shift(1)) / pd.Timedelta(minutes=1)\n",
    "\n",
    "# delta for x and y blind\n",
    "data['x_delta_blind'] = data.x_entry - data.groupby('hash').x_exit.shift(1)\n",
    "data['y_delta_blind'] = data.y_entry - data.groupby('hash').y_exit.shift(1)\n",
    "\n",
    "data['euclidean_distance_blind'] = np.sqrt(np.power(data.x_delta_blind.values, 2) \n",
    "                                     + np.power(data.y_delta_blind.values, 2))\n",
    "\n",
    "data['manhattan_distance_blind'] = (np.abs(data.x_delta_blind.values) \n",
    "                                + np.abs(data.y_delta_blind.values))"
   ]
  },
  {
   "cell_type": "code",
   "execution_count": 137,
   "metadata": {},
   "outputs": [
    {
     "data": {
      "application/vnd.jupyter.widget-view+json": {
       "model_id": "268b9a9d8687418c98958c2f92ffa3ee",
       "version_major": 2,
       "version_minor": 0
      },
      "text/plain": [
       "HBox(children=(IntProgress(value=0, max=491966), HTML(value='')))"
      ]
     },
     "metadata": {},
     "output_type": "display_data"
    }
   ],
   "source": [
    "data['trajectory_number'] = data.trajectory_id.progress_apply(lambda x: int(re.findall('_\\d+$', x)[0].strip('_')))"
   ]
  },
  {
   "cell_type": "markdown",
   "metadata": {},
   "source": [
    "### <a id='4-6'>4.6. Trajectories' Origin Point Features</a>\n",
    "\n",
    "It is a logical estimate that an extensive group in all recorded trajectories will eventually return to their origin point in the day - relating, in this case, to a person's return home. Dealing with paths distributed in space and time, the current-point to origin-point correlation levels hold a considerable chance to be proportional to any either spatial coordinates, time, or both.\n",
    "\n",
    "With that in mind, let us then compute features focused on current-to-origin point differences."
   ]
  },
  {
   "cell_type": "code",
   "execution_count": 138,
   "metadata": {},
   "outputs": [],
   "source": [
    "col_subset = ['time_entry', 'time_exit', 'x_entry', 'y_entry', 'x_exit', 'y_exit']\n",
    "data[[f'last_{c}' for c in col_subset]] = data.groupby('hash')[col_subset].shift(1)\n",
    "\n",
    "origin_points = data.groupby('hash').nth(0)[col_subset]\n",
    "origin_points.columns = [f'origin_{c}' for c in col_subset]"
   ]
  },
  {
   "cell_type": "code",
   "execution_count": 139,
   "metadata": {},
   "outputs": [],
   "source": [
    "if data.columns.contains('origin_time_entry'):\n",
    "    data = data[data.columns.drop(col_subset)]\n",
    "\n",
    "data = data.merge(origin_points.reset_index(), on='hash')"
   ]
  },
  {
   "cell_type": "code",
   "execution_count": 140,
   "metadata": {},
   "outputs": [
    {
     "data": {
      "text/html": [
       "<div>\n",
       "<style scoped>\n",
       "    .dataframe tbody tr th:only-of-type {\n",
       "        vertical-align: middle;\n",
       "    }\n",
       "\n",
       "    .dataframe tbody tr th {\n",
       "        vertical-align: top;\n",
       "    }\n",
       "\n",
       "    .dataframe thead th {\n",
       "        text-align: right;\n",
       "    }\n",
       "</style>\n",
       "<table border=\"1\" class=\"dataframe\">\n",
       "  <thead>\n",
       "    <tr style=\"text-align: right;\">\n",
       "      <th></th>\n",
       "      <th>hash</th>\n",
       "      <th>trajectory_id</th>\n",
       "      <th>time_entry</th>\n",
       "      <th>time_exit</th>\n",
       "      <th>vmax</th>\n",
       "      <th>vmin</th>\n",
       "      <th>vmean</th>\n",
       "      <th>x_entry</th>\n",
       "      <th>y_entry</th>\n",
       "      <th>x_exit</th>\n",
       "      <th>...</th>\n",
       "      <th>origin_x_exit</th>\n",
       "      <th>origin_y_exit</th>\n",
       "      <th>deltat_last_entry</th>\n",
       "      <th>deltat_last_exit</th>\n",
       "      <th>deltad_last_entry</th>\n",
       "      <th>deltad_last_exit</th>\n",
       "      <th>deltat_origin_entry</th>\n",
       "      <th>deltat_origin_exit</th>\n",
       "      <th>deltad_origin_entry</th>\n",
       "      <th>deltad_origin_exit</th>\n",
       "    </tr>\n",
       "  </thead>\n",
       "  <tbody>\n",
       "    <tr>\n",
       "      <th>0</th>\n",
       "      <td>0000a8602cf2def930488dee7cdad104_1</td>\n",
       "      <td>traj_0000a8602cf2def930488dee7cdad104_1_0</td>\n",
       "      <td>07:04:31</td>\n",
       "      <td>07:08:32</td>\n",
       "      <td>NaN</td>\n",
       "      <td>NaN</td>\n",
       "      <td>NaN</td>\n",
       "      <td>3.751014e+06</td>\n",
       "      <td>-1.909398e+07</td>\n",
       "      <td>3.750326e+06</td>\n",
       "      <td>...</td>\n",
       "      <td>3.750326e+06</td>\n",
       "      <td>-1.913634e+07</td>\n",
       "      <td>NaN</td>\n",
       "      <td>NaN</td>\n",
       "      <td>NaN</td>\n",
       "      <td>NaN</td>\n",
       "      <td>0.000000</td>\n",
       "      <td>-4.016667</td>\n",
       "      <td>0.000000</td>\n",
       "      <td>42364.863118</td>\n",
       "    </tr>\n",
       "    <tr>\n",
       "      <th>1</th>\n",
       "      <td>0000a8602cf2def930488dee7cdad104_1</td>\n",
       "      <td>traj_0000a8602cf2def930488dee7cdad104_1_1</td>\n",
       "      <td>07:20:34</td>\n",
       "      <td>07:25:42</td>\n",
       "      <td>NaN</td>\n",
       "      <td>NaN</td>\n",
       "      <td>NaN</td>\n",
       "      <td>3.743937e+06</td>\n",
       "      <td>-1.932247e+07</td>\n",
       "      <td>3.744975e+06</td>\n",
       "      <td>...</td>\n",
       "      <td>3.750326e+06</td>\n",
       "      <td>-1.913634e+07</td>\n",
       "      <td>16.050000</td>\n",
       "      <td>12.033333</td>\n",
       "      <td>2.307279e+07</td>\n",
       "      <td>2.283868e+07</td>\n",
       "      <td>16.050000</td>\n",
       "      <td>12.033333</td>\n",
       "      <td>228596.463182</td>\n",
       "      <td>186237.235350</td>\n",
       "    </tr>\n",
       "    <tr>\n",
       "      <th>2</th>\n",
       "      <td>0000a8602cf2def930488dee7cdad104_1</td>\n",
       "      <td>traj_0000a8602cf2def930488dee7cdad104_1_2</td>\n",
       "      <td>07:53:32</td>\n",
       "      <td>08:03:25</td>\n",
       "      <td>NaN</td>\n",
       "      <td>NaN</td>\n",
       "      <td>NaN</td>\n",
       "      <td>3.744868e+06</td>\n",
       "      <td>-1.929356e+07</td>\n",
       "      <td>3.744816e+06</td>\n",
       "      <td>...</td>\n",
       "      <td>3.750326e+06</td>\n",
       "      <td>-1.913634e+07</td>\n",
       "      <td>32.966667</td>\n",
       "      <td>27.833333</td>\n",
       "      <td>2.303854e+07</td>\n",
       "      <td>2.306735e+07</td>\n",
       "      <td>49.016667</td>\n",
       "      <td>45.000000</td>\n",
       "      <td>199678.885516</td>\n",
       "      <td>157319.709924</td>\n",
       "    </tr>\n",
       "    <tr>\n",
       "      <th>3</th>\n",
       "      <td>0000a8602cf2def930488dee7cdad104_1</td>\n",
       "      <td>traj_0000a8602cf2def930488dee7cdad104_1_3</td>\n",
       "      <td>08:17:50</td>\n",
       "      <td>08:37:23</td>\n",
       "      <td>NaN</td>\n",
       "      <td>NaN</td>\n",
       "      <td>NaN</td>\n",
       "      <td>3.744880e+06</td>\n",
       "      <td>-1.929229e+07</td>\n",
       "      <td>3.744809e+06</td>\n",
       "      <td>...</td>\n",
       "      <td>3.750326e+06</td>\n",
       "      <td>-1.913634e+07</td>\n",
       "      <td>24.300000</td>\n",
       "      <td>14.416667</td>\n",
       "      <td>2.303711e+07</td>\n",
       "      <td>2.303844e+07</td>\n",
       "      <td>73.316667</td>\n",
       "      <td>69.300000</td>\n",
       "      <td>198403.955748</td>\n",
       "      <td>156044.897162</td>\n",
       "    </tr>\n",
       "    <tr>\n",
       "      <th>4</th>\n",
       "      <td>0000a8602cf2def930488dee7cdad104_1</td>\n",
       "      <td>traj_0000a8602cf2def930488dee7cdad104_1_5</td>\n",
       "      <td>15:02:31</td>\n",
       "      <td>15:18:33</td>\n",
       "      <td>NaN</td>\n",
       "      <td>NaN</td>\n",
       "      <td>NaN</td>\n",
       "      <td>3.744945e+06</td>\n",
       "      <td>-1.928183e+07</td>\n",
       "      <td>3.744785e+06</td>\n",
       "      <td>...</td>\n",
       "      <td>3.750326e+06</td>\n",
       "      <td>-1.913634e+07</td>\n",
       "      <td>404.683333</td>\n",
       "      <td>385.133333</td>\n",
       "      <td>2.302664e+07</td>\n",
       "      <td>2.303724e+07</td>\n",
       "      <td>478.000000</td>\n",
       "      <td>473.983333</td>\n",
       "      <td>187951.218338</td>\n",
       "      <td>145593.405664</td>\n",
       "    </tr>\n",
       "  </tbody>\n",
       "</table>\n",
       "<p>5 rows × 73 columns</p>\n",
       "</div>"
      ],
      "text/plain": [
       "                                 hash  \\\n",
       "0  0000a8602cf2def930488dee7cdad104_1   \n",
       "1  0000a8602cf2def930488dee7cdad104_1   \n",
       "2  0000a8602cf2def930488dee7cdad104_1   \n",
       "3  0000a8602cf2def930488dee7cdad104_1   \n",
       "4  0000a8602cf2def930488dee7cdad104_1   \n",
       "\n",
       "                               trajectory_id time_entry time_exit  vmax  vmin  \\\n",
       "0  traj_0000a8602cf2def930488dee7cdad104_1_0   07:04:31  07:08:32   NaN   NaN   \n",
       "1  traj_0000a8602cf2def930488dee7cdad104_1_1   07:20:34  07:25:42   NaN   NaN   \n",
       "2  traj_0000a8602cf2def930488dee7cdad104_1_2   07:53:32  08:03:25   NaN   NaN   \n",
       "3  traj_0000a8602cf2def930488dee7cdad104_1_3   08:17:50  08:37:23   NaN   NaN   \n",
       "4  traj_0000a8602cf2def930488dee7cdad104_1_5   15:02:31  15:18:33   NaN   NaN   \n",
       "\n",
       "   vmean       x_entry       y_entry        x_exit         ...          \\\n",
       "0    NaN  3.751014e+06 -1.909398e+07  3.750326e+06         ...           \n",
       "1    NaN  3.743937e+06 -1.932247e+07  3.744975e+06         ...           \n",
       "2    NaN  3.744868e+06 -1.929356e+07  3.744816e+06         ...           \n",
       "3    NaN  3.744880e+06 -1.929229e+07  3.744809e+06         ...           \n",
       "4    NaN  3.744945e+06 -1.928183e+07  3.744785e+06         ...           \n",
       "\n",
       "   origin_x_exit  origin_y_exit  deltat_last_entry  deltat_last_exit  \\\n",
       "0   3.750326e+06  -1.913634e+07                NaN               NaN   \n",
       "1   3.750326e+06  -1.913634e+07          16.050000         12.033333   \n",
       "2   3.750326e+06  -1.913634e+07          32.966667         27.833333   \n",
       "3   3.750326e+06  -1.913634e+07          24.300000         14.416667   \n",
       "4   3.750326e+06  -1.913634e+07         404.683333        385.133333   \n",
       "\n",
       "   deltad_last_entry  deltad_last_exit  deltat_origin_entry  \\\n",
       "0                NaN               NaN             0.000000   \n",
       "1       2.307279e+07      2.283868e+07            16.050000   \n",
       "2       2.303854e+07      2.306735e+07            49.016667   \n",
       "3       2.303711e+07      2.303844e+07            73.316667   \n",
       "4       2.302664e+07      2.303724e+07           478.000000   \n",
       "\n",
       "   deltat_origin_exit  deltad_origin_entry  deltad_origin_exit  \n",
       "0           -4.016667             0.000000        42364.863118  \n",
       "1           12.033333        228596.463182       186237.235350  \n",
       "2           45.000000        199678.885516       157319.709924  \n",
       "3           69.300000        198403.955748       156044.897162  \n",
       "4          473.983333        187951.218338       145593.405664  \n",
       "\n",
       "[5 rows x 73 columns]"
      ]
     },
     "execution_count": 140,
     "metadata": {},
     "output_type": "execute_result"
    }
   ],
   "source": [
    "for p in ['last', 'origin']:\n",
    "    data[f'deltat_{p}_entry'] = (data.time_entry - data[f'{p}_time_entry']) / pd.Timedelta(minutes=1)\n",
    "    data[f'deltat_{p}_exit'] = (data.time_entry - data[f'{p}_time_exit']) / pd.Timedelta(minutes=1)\n",
    "\n",
    "    data = data[data.columns.drop([x for x in data.columns.ravel() if x.startswith(f'{p}_time_')])]\n",
    "\n",
    "    data[f'deltad_{p}_entry'] = euclidean(data[f'{p}_x_entry'], data[f'{p}_y_entry'], data.x_entry, data.y_entry)\n",
    "    data[f'deltad_{p}_exit'] = euclidean(data[f'{p}_x_exit'], data[f'{p}_y_exit'], data.x_entry, data.y_entry)\n",
    "\n",
    "data.head(5)"
   ]
  },
  {
   "cell_type": "markdown",
   "metadata": {},
   "source": [
    "### <a id='4-7'>4.7. Aggregating Features </a>\n",
    "\n",
    "For every feature created, let's now create more feature based on some statistics. Thus we will group data by hash and compute its mean, max, sum, std and median values. We have to watch out not to compute features that would introduce leakage, that is why we we going to calculate statistics based only on data before 15 oclock."
   ]
  },
  {
   "cell_type": "code",
   "execution_count": 141,
   "metadata": {},
   "outputs": [
    {
     "data": {
      "text/html": [
       "<div>\n",
       "<style scoped>\n",
       "    .dataframe tbody tr th:only-of-type {\n",
       "        vertical-align: middle;\n",
       "    }\n",
       "\n",
       "    .dataframe tbody tr th {\n",
       "        vertical-align: top;\n",
       "    }\n",
       "\n",
       "    .dataframe thead th {\n",
       "        text-align: right;\n",
       "    }\n",
       "</style>\n",
       "<table border=\"1\" class=\"dataframe\">\n",
       "  <thead>\n",
       "    <tr style=\"text-align: right;\">\n",
       "      <th></th>\n",
       "      <th>hash</th>\n",
       "      <th>vmax_min</th>\n",
       "      <th>vmax_max</th>\n",
       "      <th>vmax_mean</th>\n",
       "      <th>vmax_std</th>\n",
       "      <th>vmax_median</th>\n",
       "      <th>vmin_min</th>\n",
       "      <th>vmin_max</th>\n",
       "      <th>vmin_mean</th>\n",
       "      <th>vmin_std</th>\n",
       "      <th>...</th>\n",
       "      <th>deltad_origin_entry_min</th>\n",
       "      <th>deltad_origin_entry_max</th>\n",
       "      <th>deltad_origin_entry_mean</th>\n",
       "      <th>deltad_origin_entry_std</th>\n",
       "      <th>deltad_origin_entry_median</th>\n",
       "      <th>deltad_origin_exit_min</th>\n",
       "      <th>deltad_origin_exit_max</th>\n",
       "      <th>deltad_origin_exit_mean</th>\n",
       "      <th>deltad_origin_exit_std</th>\n",
       "      <th>deltad_origin_exit_median</th>\n",
       "    </tr>\n",
       "  </thead>\n",
       "  <tbody>\n",
       "    <tr>\n",
       "      <th>0</th>\n",
       "      <td>0000a8602cf2def930488dee7cdad104_1</td>\n",
       "      <td>NaN</td>\n",
       "      <td>NaN</td>\n",
       "      <td>NaN</td>\n",
       "      <td>NaN</td>\n",
       "      <td>NaN</td>\n",
       "      <td>NaN</td>\n",
       "      <td>NaN</td>\n",
       "      <td>NaN</td>\n",
       "      <td>NaN</td>\n",
       "      <td>...</td>\n",
       "      <td>0.0</td>\n",
       "      <td>228596.463182</td>\n",
       "      <td>156669.826111</td>\n",
       "      <td>105372.976139</td>\n",
       "      <td>199041.420632</td>\n",
       "      <td>42364.863118</td>\n",
       "      <td>186237.235350</td>\n",
       "      <td>135491.676388</td>\n",
       "      <td>63630.739522</td>\n",
       "      <td>156682.303543</td>\n",
       "    </tr>\n",
       "    <tr>\n",
       "      <th>1</th>\n",
       "      <td>0001f97b99a80f18f62e2d44e54ef33d_3</td>\n",
       "      <td>32.196255</td>\n",
       "      <td>32.196255</td>\n",
       "      <td>32.196255</td>\n",
       "      <td>NaN</td>\n",
       "      <td>32.196255</td>\n",
       "      <td>32.196255</td>\n",
       "      <td>32.196255</td>\n",
       "      <td>32.196255</td>\n",
       "      <td>NaN</td>\n",
       "      <td>...</td>\n",
       "      <td>0.0</td>\n",
       "      <td>0.000000</td>\n",
       "      <td>0.000000</td>\n",
       "      <td>NaN</td>\n",
       "      <td>0.000000</td>\n",
       "      <td>193384.920615</td>\n",
       "      <td>193384.920615</td>\n",
       "      <td>193384.920615</td>\n",
       "      <td>NaN</td>\n",
       "      <td>193384.920615</td>\n",
       "    </tr>\n",
       "    <tr>\n",
       "      <th>2</th>\n",
       "      <td>0002124248b0ca510dea42824723ccac_31</td>\n",
       "      <td>NaN</td>\n",
       "      <td>NaN</td>\n",
       "      <td>NaN</td>\n",
       "      <td>NaN</td>\n",
       "      <td>NaN</td>\n",
       "      <td>NaN</td>\n",
       "      <td>NaN</td>\n",
       "      <td>NaN</td>\n",
       "      <td>NaN</td>\n",
       "      <td>...</td>\n",
       "      <td>0.0</td>\n",
       "      <td>59377.049869</td>\n",
       "      <td>29688.524935</td>\n",
       "      <td>41985.914609</td>\n",
       "      <td>29688.524935</td>\n",
       "      <td>11.339560</td>\n",
       "      <td>59388.382983</td>\n",
       "      <td>29699.861272</td>\n",
       "      <td>41985.910051</td>\n",
       "      <td>29699.861272</td>\n",
       "    </tr>\n",
       "    <tr>\n",
       "      <th>3</th>\n",
       "      <td>000219c2a6380c307e8bffd85b5e404b_23</td>\n",
       "      <td>NaN</td>\n",
       "      <td>NaN</td>\n",
       "      <td>NaN</td>\n",
       "      <td>NaN</td>\n",
       "      <td>NaN</td>\n",
       "      <td>NaN</td>\n",
       "      <td>NaN</td>\n",
       "      <td>NaN</td>\n",
       "      <td>NaN</td>\n",
       "      <td>...</td>\n",
       "      <td>0.0</td>\n",
       "      <td>12976.531481</td>\n",
       "      <td>8627.147597</td>\n",
       "      <td>5248.831645</td>\n",
       "      <td>9993.288198</td>\n",
       "      <td>1035.837931</td>\n",
       "      <td>14109.155862</td>\n",
       "      <td>8143.995920</td>\n",
       "      <td>6034.049572</td>\n",
       "      <td>8990.098696</td>\n",
       "    </tr>\n",
       "  </tbody>\n",
       "</table>\n",
       "<p>4 rows × 346 columns</p>\n",
       "</div>"
      ],
      "text/plain": [
       "                                  hash   vmax_min   vmax_max  vmax_mean  \\\n",
       "0   0000a8602cf2def930488dee7cdad104_1        NaN        NaN        NaN   \n",
       "1   0001f97b99a80f18f62e2d44e54ef33d_3  32.196255  32.196255  32.196255   \n",
       "2  0002124248b0ca510dea42824723ccac_31        NaN        NaN        NaN   \n",
       "3  000219c2a6380c307e8bffd85b5e404b_23        NaN        NaN        NaN   \n",
       "\n",
       "   vmax_std  vmax_median   vmin_min   vmin_max  vmin_mean  vmin_std  \\\n",
       "0       NaN          NaN        NaN        NaN        NaN       NaN   \n",
       "1       NaN    32.196255  32.196255  32.196255  32.196255       NaN   \n",
       "2       NaN          NaN        NaN        NaN        NaN       NaN   \n",
       "3       NaN          NaN        NaN        NaN        NaN       NaN   \n",
       "\n",
       "             ...              deltad_origin_entry_min  \\\n",
       "0            ...                                  0.0   \n",
       "1            ...                                  0.0   \n",
       "2            ...                                  0.0   \n",
       "3            ...                                  0.0   \n",
       "\n",
       "   deltad_origin_entry_max  deltad_origin_entry_mean  deltad_origin_entry_std  \\\n",
       "0            228596.463182             156669.826111            105372.976139   \n",
       "1                 0.000000                  0.000000                      NaN   \n",
       "2             59377.049869              29688.524935             41985.914609   \n",
       "3             12976.531481               8627.147597              5248.831645   \n",
       "\n",
       "   deltad_origin_entry_median  deltad_origin_exit_min  deltad_origin_exit_max  \\\n",
       "0               199041.420632            42364.863118           186237.235350   \n",
       "1                    0.000000           193384.920615           193384.920615   \n",
       "2                29688.524935               11.339560            59388.382983   \n",
       "3                 9993.288198             1035.837931            14109.155862   \n",
       "\n",
       "   deltad_origin_exit_mean  deltad_origin_exit_std  deltad_origin_exit_median  \n",
       "0            135491.676388            63630.739522              156682.303543  \n",
       "1            193384.920615                     NaN              193384.920615  \n",
       "2             29699.861272            41985.910051               29699.861272  \n",
       "3              8143.995920             6034.049572                8990.098696  \n",
       "\n",
       "[4 rows x 346 columns]"
      ]
     },
     "execution_count": 141,
     "metadata": {},
     "output_type": "execute_result"
    }
   ],
   "source": [
    "# exclude data between 15-16 to avoid leakage\n",
    "data_to_calculate_features = data[data.time_exit < pd.to_timedelta('15:00:00')]\n",
    "\n",
    "agg_features = (data_to_calculate_features.groupby('hash')\n",
    "               .agg(['min', 'max', 'mean', 'std', 'median'])\n",
    "               .reset_index())\n",
    "\n",
    "agg_features.columns = ['hash'] + [\"_\".join(x) for x in agg_features.columns.ravel() if x[0] is not 'hash']\n",
    "agg_features.head(4)"
   ]
  },
  {
   "cell_type": "markdown",
   "metadata": {},
   "source": [
    "### <a id='4-8'>4.8. Target </a>\n",
    "\n",
    "The one necessary feature to compute, to help answering the final question: which trajectories are in and out of the city center?"
   ]
  },
  {
   "cell_type": "code",
   "execution_count": 142,
   "metadata": {},
   "outputs": [],
   "source": [
    "data['is_inside_city_entry'] = [is_inside_city(x, y) for x, y in zip(data.x_entry, data.y_entry)]\n",
    "data['is_inside_city_exit'] = [is_inside_city(x, y) for x, y in zip(data.x_exit, data.y_exit)]\n",
    "\n",
    "data['leaving_city'] = (data.is_inside_city_entry - data.is_inside_city_exit).apply(lambda x: 1 if x == 1 \n",
    "                                                                                   else 0)\n",
    "data['entering_city'] = (data.is_inside_city_entry - data.is_inside_city_exit).apply(lambda x: 1 if x == -1 \n",
    "                                                                                   else 0)"
   ]
  },
  {
   "cell_type": "markdown",
   "metadata": {},
   "source": [
    "# 5. Sequence Data\n",
    "\n"
   ]
  },
  {
   "cell_type": "code",
   "execution_count": 143,
   "metadata": {},
   "outputs": [],
   "source": [
    "window_reference = 5\n",
    "\n",
    "grouped = data.groupby(['hash']).tail(window_reference)\n",
    "grouped['sequence'] = np.ones(grouped.shape[0])\n",
    "df = grouped.groupby(by=['hash','time_entry', 'trajectory_id']).sum().groupby(level=[0]).cumsum().reset_index()[['trajectory_id', 'sequence']]\n",
    "df.columns = ['trajectory_id', 'trajectory_sequence']\n",
    "grouped = grouped.merge(df, on='trajectory_id', how='left')"
   ]
  },
  {
   "cell_type": "code",
   "execution_count": 144,
   "metadata": {},
   "outputs": [
    {
     "data": {
      "text/html": [
       "<div>\n",
       "<style scoped>\n",
       "    .dataframe tbody tr th:only-of-type {\n",
       "        vertical-align: middle;\n",
       "    }\n",
       "\n",
       "    .dataframe tbody tr th {\n",
       "        vertical-align: top;\n",
       "    }\n",
       "\n",
       "    .dataframe thead th {\n",
       "        text-align: right;\n",
       "    }\n",
       "</style>\n",
       "<table border=\"1\" class=\"dataframe\">\n",
       "  <thead>\n",
       "    <tr style=\"text-align: right;\">\n",
       "      <th></th>\n",
       "      <th>hash</th>\n",
       "      <th>trajectory_id</th>\n",
       "      <th>time_entry</th>\n",
       "      <th>time_exit</th>\n",
       "      <th>vmax</th>\n",
       "      <th>vmin</th>\n",
       "      <th>vmean</th>\n",
       "      <th>x_entry</th>\n",
       "      <th>y_entry</th>\n",
       "      <th>x_exit</th>\n",
       "      <th>...</th>\n",
       "      <th>deltat_origin_exit</th>\n",
       "      <th>deltad_origin_entry</th>\n",
       "      <th>deltad_origin_exit</th>\n",
       "      <th>is_inside_city_entry</th>\n",
       "      <th>is_inside_city_exit</th>\n",
       "      <th>leaving_city</th>\n",
       "      <th>entering_city</th>\n",
       "      <th>sequence</th>\n",
       "      <th>trajectory_sequence</th>\n",
       "      <th>count_trajectories</th>\n",
       "    </tr>\n",
       "  </thead>\n",
       "  <tbody>\n",
       "    <tr>\n",
       "      <th>0</th>\n",
       "      <td>0000a8602cf2def930488dee7cdad104_1</td>\n",
       "      <td>traj_0000a8602cf2def930488dee7cdad104_1_0</td>\n",
       "      <td>07:04:31</td>\n",
       "      <td>07:08:32</td>\n",
       "      <td>NaN</td>\n",
       "      <td>NaN</td>\n",
       "      <td>NaN</td>\n",
       "      <td>3.751014e+06</td>\n",
       "      <td>-1.909398e+07</td>\n",
       "      <td>3.750326e+06</td>\n",
       "      <td>...</td>\n",
       "      <td>-4.016667</td>\n",
       "      <td>0.000000</td>\n",
       "      <td>42364.863118</td>\n",
       "      <td>0</td>\n",
       "      <td>0</td>\n",
       "      <td>0</td>\n",
       "      <td>0</td>\n",
       "      <td>1.0</td>\n",
       "      <td>1.0</td>\n",
       "      <td>5</td>\n",
       "    </tr>\n",
       "    <tr>\n",
       "      <th>1</th>\n",
       "      <td>0000a8602cf2def930488dee7cdad104_1</td>\n",
       "      <td>traj_0000a8602cf2def930488dee7cdad104_1_1</td>\n",
       "      <td>07:20:34</td>\n",
       "      <td>07:25:42</td>\n",
       "      <td>NaN</td>\n",
       "      <td>NaN</td>\n",
       "      <td>NaN</td>\n",
       "      <td>3.743937e+06</td>\n",
       "      <td>-1.932247e+07</td>\n",
       "      <td>3.744975e+06</td>\n",
       "      <td>...</td>\n",
       "      <td>12.033333</td>\n",
       "      <td>228596.463182</td>\n",
       "      <td>186237.235350</td>\n",
       "      <td>0</td>\n",
       "      <td>0</td>\n",
       "      <td>0</td>\n",
       "      <td>0</td>\n",
       "      <td>1.0</td>\n",
       "      <td>2.0</td>\n",
       "      <td>5</td>\n",
       "    </tr>\n",
       "    <tr>\n",
       "      <th>2</th>\n",
       "      <td>0000a8602cf2def930488dee7cdad104_1</td>\n",
       "      <td>traj_0000a8602cf2def930488dee7cdad104_1_2</td>\n",
       "      <td>07:53:32</td>\n",
       "      <td>08:03:25</td>\n",
       "      <td>NaN</td>\n",
       "      <td>NaN</td>\n",
       "      <td>NaN</td>\n",
       "      <td>3.744868e+06</td>\n",
       "      <td>-1.929356e+07</td>\n",
       "      <td>3.744816e+06</td>\n",
       "      <td>...</td>\n",
       "      <td>45.000000</td>\n",
       "      <td>199678.885516</td>\n",
       "      <td>157319.709924</td>\n",
       "      <td>0</td>\n",
       "      <td>0</td>\n",
       "      <td>0</td>\n",
       "      <td>0</td>\n",
       "      <td>1.0</td>\n",
       "      <td>3.0</td>\n",
       "      <td>5</td>\n",
       "    </tr>\n",
       "    <tr>\n",
       "      <th>3</th>\n",
       "      <td>0000a8602cf2def930488dee7cdad104_1</td>\n",
       "      <td>traj_0000a8602cf2def930488dee7cdad104_1_3</td>\n",
       "      <td>08:17:50</td>\n",
       "      <td>08:37:23</td>\n",
       "      <td>NaN</td>\n",
       "      <td>NaN</td>\n",
       "      <td>NaN</td>\n",
       "      <td>3.744880e+06</td>\n",
       "      <td>-1.929229e+07</td>\n",
       "      <td>3.744809e+06</td>\n",
       "      <td>...</td>\n",
       "      <td>69.300000</td>\n",
       "      <td>198403.955748</td>\n",
       "      <td>156044.897162</td>\n",
       "      <td>0</td>\n",
       "      <td>0</td>\n",
       "      <td>0</td>\n",
       "      <td>0</td>\n",
       "      <td>1.0</td>\n",
       "      <td>4.0</td>\n",
       "      <td>5</td>\n",
       "    </tr>\n",
       "  </tbody>\n",
       "</table>\n",
       "<p>4 rows × 80 columns</p>\n",
       "</div>"
      ],
      "text/plain": [
       "                                 hash  \\\n",
       "0  0000a8602cf2def930488dee7cdad104_1   \n",
       "1  0000a8602cf2def930488dee7cdad104_1   \n",
       "2  0000a8602cf2def930488dee7cdad104_1   \n",
       "3  0000a8602cf2def930488dee7cdad104_1   \n",
       "\n",
       "                               trajectory_id time_entry time_exit  vmax  vmin  \\\n",
       "0  traj_0000a8602cf2def930488dee7cdad104_1_0   07:04:31  07:08:32   NaN   NaN   \n",
       "1  traj_0000a8602cf2def930488dee7cdad104_1_1   07:20:34  07:25:42   NaN   NaN   \n",
       "2  traj_0000a8602cf2def930488dee7cdad104_1_2   07:53:32  08:03:25   NaN   NaN   \n",
       "3  traj_0000a8602cf2def930488dee7cdad104_1_3   08:17:50  08:37:23   NaN   NaN   \n",
       "\n",
       "   vmean       x_entry       y_entry        x_exit         ...          \\\n",
       "0    NaN  3.751014e+06 -1.909398e+07  3.750326e+06         ...           \n",
       "1    NaN  3.743937e+06 -1.932247e+07  3.744975e+06         ...           \n",
       "2    NaN  3.744868e+06 -1.929356e+07  3.744816e+06         ...           \n",
       "3    NaN  3.744880e+06 -1.929229e+07  3.744809e+06         ...           \n",
       "\n",
       "   deltat_origin_exit  deltad_origin_entry  deltad_origin_exit  \\\n",
       "0           -4.016667             0.000000        42364.863118   \n",
       "1           12.033333        228596.463182       186237.235350   \n",
       "2           45.000000        199678.885516       157319.709924   \n",
       "3           69.300000        198403.955748       156044.897162   \n",
       "\n",
       "   is_inside_city_entry  is_inside_city_exit  leaving_city  entering_city  \\\n",
       "0                     0                    0             0              0   \n",
       "1                     0                    0             0              0   \n",
       "2                     0                    0             0              0   \n",
       "3                     0                    0             0              0   \n",
       "\n",
       "   sequence  trajectory_sequence  count_trajectories  \n",
       "0       1.0                  1.0                   5  \n",
       "1       1.0                  2.0                   5  \n",
       "2       1.0                  3.0                   5  \n",
       "3       1.0                  4.0                   5  \n",
       "\n",
       "[4 rows x 80 columns]"
      ]
     },
     "execution_count": 144,
     "metadata": {},
     "output_type": "execute_result"
    }
   ],
   "source": [
    "hash_count_trajectories = grouped.groupby(['hash']).trajectory_id.count().reset_index()\n",
    "hash_count_trajectories.columns = ['hash', 'count_trajectories']\n",
    "\n",
    "grouped = grouped.merge(hash_count_trajectories, on='hash', how='left')\n",
    "grouped.head(4)"
   ]
  },
  {
   "cell_type": "code",
   "execution_count": 145,
   "metadata": {},
   "outputs": [
    {
     "data": {
      "text/html": [
       "<div>\n",
       "<style scoped>\n",
       "    .dataframe tbody tr th:only-of-type {\n",
       "        vertical-align: middle;\n",
       "    }\n",
       "\n",
       "    .dataframe tbody tr th {\n",
       "        vertical-align: top;\n",
       "    }\n",
       "\n",
       "    .dataframe thead th {\n",
       "        text-align: right;\n",
       "    }\n",
       "</style>\n",
       "<table border=\"1\" class=\"dataframe\">\n",
       "  <thead>\n",
       "    <tr style=\"text-align: right;\">\n",
       "      <th></th>\n",
       "      <th>hash</th>\n",
       "      <th>trajectory_id</th>\n",
       "      <th>time_entry</th>\n",
       "      <th>time_exit</th>\n",
       "      <th>vmax</th>\n",
       "      <th>vmin</th>\n",
       "      <th>vmean</th>\n",
       "      <th>x_entry</th>\n",
       "      <th>y_entry</th>\n",
       "      <th>x_exit</th>\n",
       "      <th>...</th>\n",
       "      <th>deltat_origin_exit</th>\n",
       "      <th>deltad_origin_entry</th>\n",
       "      <th>deltad_origin_exit</th>\n",
       "      <th>is_inside_city_entry</th>\n",
       "      <th>is_inside_city_exit</th>\n",
       "      <th>leaving_city</th>\n",
       "      <th>entering_city</th>\n",
       "      <th>sequence</th>\n",
       "      <th>trajectory_sequence</th>\n",
       "      <th>count_trajectories</th>\n",
       "    </tr>\n",
       "  </thead>\n",
       "  <tbody>\n",
       "    <tr>\n",
       "      <th>0</th>\n",
       "      <td>0000a8602cf2def930488dee7cdad104_1</td>\n",
       "      <td>traj_0000a8602cf2def930488dee7cdad104_1_0</td>\n",
       "      <td>07:04:31</td>\n",
       "      <td>07:08:32</td>\n",
       "      <td>NaN</td>\n",
       "      <td>NaN</td>\n",
       "      <td>NaN</td>\n",
       "      <td>3.751014e+06</td>\n",
       "      <td>-1.909398e+07</td>\n",
       "      <td>3.750326e+06</td>\n",
       "      <td>...</td>\n",
       "      <td>-4.016667</td>\n",
       "      <td>0.000000</td>\n",
       "      <td>42364.863118</td>\n",
       "      <td>0</td>\n",
       "      <td>0</td>\n",
       "      <td>0</td>\n",
       "      <td>0</td>\n",
       "      <td>1.0</td>\n",
       "      <td>1.0</td>\n",
       "      <td>5</td>\n",
       "    </tr>\n",
       "    <tr>\n",
       "      <th>1</th>\n",
       "      <td>0000a8602cf2def930488dee7cdad104_1</td>\n",
       "      <td>traj_0000a8602cf2def930488dee7cdad104_1_1</td>\n",
       "      <td>07:20:34</td>\n",
       "      <td>07:25:42</td>\n",
       "      <td>NaN</td>\n",
       "      <td>NaN</td>\n",
       "      <td>NaN</td>\n",
       "      <td>3.743937e+06</td>\n",
       "      <td>-1.932247e+07</td>\n",
       "      <td>3.744975e+06</td>\n",
       "      <td>...</td>\n",
       "      <td>12.033333</td>\n",
       "      <td>228596.463182</td>\n",
       "      <td>186237.235350</td>\n",
       "      <td>0</td>\n",
       "      <td>0</td>\n",
       "      <td>0</td>\n",
       "      <td>0</td>\n",
       "      <td>1.0</td>\n",
       "      <td>2.0</td>\n",
       "      <td>5</td>\n",
       "    </tr>\n",
       "    <tr>\n",
       "      <th>2</th>\n",
       "      <td>0000a8602cf2def930488dee7cdad104_1</td>\n",
       "      <td>traj_0000a8602cf2def930488dee7cdad104_1_2</td>\n",
       "      <td>07:53:32</td>\n",
       "      <td>08:03:25</td>\n",
       "      <td>NaN</td>\n",
       "      <td>NaN</td>\n",
       "      <td>NaN</td>\n",
       "      <td>3.744868e+06</td>\n",
       "      <td>-1.929356e+07</td>\n",
       "      <td>3.744816e+06</td>\n",
       "      <td>...</td>\n",
       "      <td>45.000000</td>\n",
       "      <td>199678.885516</td>\n",
       "      <td>157319.709924</td>\n",
       "      <td>0</td>\n",
       "      <td>0</td>\n",
       "      <td>0</td>\n",
       "      <td>0</td>\n",
       "      <td>1.0</td>\n",
       "      <td>3.0</td>\n",
       "      <td>5</td>\n",
       "    </tr>\n",
       "    <tr>\n",
       "      <th>3</th>\n",
       "      <td>0000a8602cf2def930488dee7cdad104_1</td>\n",
       "      <td>traj_0000a8602cf2def930488dee7cdad104_1_3</td>\n",
       "      <td>08:17:50</td>\n",
       "      <td>08:37:23</td>\n",
       "      <td>NaN</td>\n",
       "      <td>NaN</td>\n",
       "      <td>NaN</td>\n",
       "      <td>3.744880e+06</td>\n",
       "      <td>-1.929229e+07</td>\n",
       "      <td>3.744809e+06</td>\n",
       "      <td>...</td>\n",
       "      <td>69.300000</td>\n",
       "      <td>198403.955748</td>\n",
       "      <td>156044.897162</td>\n",
       "      <td>0</td>\n",
       "      <td>0</td>\n",
       "      <td>0</td>\n",
       "      <td>0</td>\n",
       "      <td>1.0</td>\n",
       "      <td>4.0</td>\n",
       "      <td>5</td>\n",
       "    </tr>\n",
       "  </tbody>\n",
       "</table>\n",
       "<p>4 rows × 80 columns</p>\n",
       "</div>"
      ],
      "text/plain": [
       "                                 hash  \\\n",
       "0  0000a8602cf2def930488dee7cdad104_1   \n",
       "1  0000a8602cf2def930488dee7cdad104_1   \n",
       "2  0000a8602cf2def930488dee7cdad104_1   \n",
       "3  0000a8602cf2def930488dee7cdad104_1   \n",
       "\n",
       "                               trajectory_id time_entry time_exit  vmax  vmin  \\\n",
       "0  traj_0000a8602cf2def930488dee7cdad104_1_0   07:04:31  07:08:32   NaN   NaN   \n",
       "1  traj_0000a8602cf2def930488dee7cdad104_1_1   07:20:34  07:25:42   NaN   NaN   \n",
       "2  traj_0000a8602cf2def930488dee7cdad104_1_2   07:53:32  08:03:25   NaN   NaN   \n",
       "3  traj_0000a8602cf2def930488dee7cdad104_1_3   08:17:50  08:37:23   NaN   NaN   \n",
       "\n",
       "   vmean       x_entry       y_entry        x_exit         ...          \\\n",
       "0    NaN  3.751014e+06 -1.909398e+07  3.750326e+06         ...           \n",
       "1    NaN  3.743937e+06 -1.932247e+07  3.744975e+06         ...           \n",
       "2    NaN  3.744868e+06 -1.929356e+07  3.744816e+06         ...           \n",
       "3    NaN  3.744880e+06 -1.929229e+07  3.744809e+06         ...           \n",
       "\n",
       "   deltat_origin_exit  deltad_origin_entry  deltad_origin_exit  \\\n",
       "0           -4.016667             0.000000        42364.863118   \n",
       "1           12.033333        228596.463182       186237.235350   \n",
       "2           45.000000        199678.885516       157319.709924   \n",
       "3           69.300000        198403.955748       156044.897162   \n",
       "\n",
       "   is_inside_city_entry  is_inside_city_exit  leaving_city  entering_city  \\\n",
       "0                     0                    0             0              0   \n",
       "1                     0                    0             0              0   \n",
       "2                     0                    0             0              0   \n",
       "3                     0                    0             0              0   \n",
       "\n",
       "   sequence  trajectory_sequence  count_trajectories  \n",
       "0       1.0                  1.0                   5  \n",
       "1       1.0                  2.0                   5  \n",
       "2       1.0                  3.0                   5  \n",
       "3       1.0                  4.0                   5  \n",
       "\n",
       "[4 rows x 80 columns]"
      ]
     },
     "execution_count": 145,
     "metadata": {},
     "output_type": "execute_result"
    }
   ],
   "source": [
    "ref = window_reference\n",
    "for i in range(1, window_reference):\n",
    "    grouped.loc[grouped.count_trajectories==i, 'trajectory_sequence'] += ref-1\n",
    "    ref -= 1\n",
    "    \n",
    "grouped.head(4)"
   ]
  },
  {
   "cell_type": "code",
   "execution_count": 146,
   "metadata": {},
   "outputs": [],
   "source": [
    "grouped = grouped.drop(['sequence', 'count_trajectories'], axis=1)"
   ]
  },
  {
   "cell_type": "code",
   "execution_count": 147,
   "metadata": {},
   "outputs": [
    {
     "data": {
      "text/plain": [
       "(144216, 365)"
      ]
     },
     "execution_count": 147,
     "metadata": {},
     "output_type": "execute_result"
    }
   ],
   "source": [
    "data_sequence = grouped.groupby(['hash', 'trajectory_sequence']).mean().unstack()\n",
    "data_sequence.shape"
   ]
  },
  {
   "cell_type": "code",
   "execution_count": 148,
   "metadata": {},
   "outputs": [
    {
     "data": {
      "text/html": [
       "<div>\n",
       "<style scoped>\n",
       "    .dataframe tbody tr th:only-of-type {\n",
       "        vertical-align: middle;\n",
       "    }\n",
       "\n",
       "    .dataframe tbody tr th {\n",
       "        vertical-align: top;\n",
       "    }\n",
       "\n",
       "    .dataframe thead th {\n",
       "        text-align: right;\n",
       "    }\n",
       "</style>\n",
       "<table border=\"1\" class=\"dataframe\">\n",
       "  <thead>\n",
       "    <tr style=\"text-align: right;\">\n",
       "      <th></th>\n",
       "      <th>vmax_1</th>\n",
       "      <th>vmax_2</th>\n",
       "      <th>vmax_3</th>\n",
       "      <th>vmax_4</th>\n",
       "      <th>vmax_5</th>\n",
       "      <th>vmin_1</th>\n",
       "      <th>vmin_2</th>\n",
       "      <th>vmin_3</th>\n",
       "      <th>vmin_4</th>\n",
       "      <th>vmin_5</th>\n",
       "      <th>...</th>\n",
       "      <th>leaving_city_1</th>\n",
       "      <th>leaving_city_2</th>\n",
       "      <th>leaving_city_3</th>\n",
       "      <th>leaving_city_4</th>\n",
       "      <th>leaving_city_5</th>\n",
       "      <th>entering_city_1</th>\n",
       "      <th>entering_city_2</th>\n",
       "      <th>entering_city_3</th>\n",
       "      <th>entering_city_4</th>\n",
       "      <th>entering_city_5</th>\n",
       "    </tr>\n",
       "    <tr>\n",
       "      <th>hash</th>\n",
       "      <th></th>\n",
       "      <th></th>\n",
       "      <th></th>\n",
       "      <th></th>\n",
       "      <th></th>\n",
       "      <th></th>\n",
       "      <th></th>\n",
       "      <th></th>\n",
       "      <th></th>\n",
       "      <th></th>\n",
       "      <th></th>\n",
       "      <th></th>\n",
       "      <th></th>\n",
       "      <th></th>\n",
       "      <th></th>\n",
       "      <th></th>\n",
       "      <th></th>\n",
       "      <th></th>\n",
       "      <th></th>\n",
       "      <th></th>\n",
       "      <th></th>\n",
       "    </tr>\n",
       "  </thead>\n",
       "  <tbody>\n",
       "    <tr>\n",
       "      <th>0000a8602cf2def930488dee7cdad104_1</th>\n",
       "      <td>NaN</td>\n",
       "      <td>NaN</td>\n",
       "      <td>NaN</td>\n",
       "      <td>NaN</td>\n",
       "      <td>NaN</td>\n",
       "      <td>NaN</td>\n",
       "      <td>NaN</td>\n",
       "      <td>NaN</td>\n",
       "      <td>NaN</td>\n",
       "      <td>NaN</td>\n",
       "      <td>...</td>\n",
       "      <td>0.0</td>\n",
       "      <td>0.0</td>\n",
       "      <td>0.0</td>\n",
       "      <td>0.0</td>\n",
       "      <td>0.0</td>\n",
       "      <td>0.0</td>\n",
       "      <td>0.0</td>\n",
       "      <td>0.0</td>\n",
       "      <td>0.0</td>\n",
       "      <td>0.0</td>\n",
       "    </tr>\n",
       "    <tr>\n",
       "      <th>0000cf177130469eeac79f67b6bcf3df_9</th>\n",
       "      <td>NaN</td>\n",
       "      <td>NaN</td>\n",
       "      <td>NaN</td>\n",
       "      <td>NaN</td>\n",
       "      <td>1.149404</td>\n",
       "      <td>NaN</td>\n",
       "      <td>NaN</td>\n",
       "      <td>NaN</td>\n",
       "      <td>NaN</td>\n",
       "      <td>1.149404</td>\n",
       "      <td>...</td>\n",
       "      <td>NaN</td>\n",
       "      <td>NaN</td>\n",
       "      <td>NaN</td>\n",
       "      <td>NaN</td>\n",
       "      <td>0.0</td>\n",
       "      <td>NaN</td>\n",
       "      <td>NaN</td>\n",
       "      <td>NaN</td>\n",
       "      <td>NaN</td>\n",
       "      <td>0.0</td>\n",
       "    </tr>\n",
       "    <tr>\n",
       "      <th>0001f97b99a80f18f62e2d44e54ef33d_3</th>\n",
       "      <td>NaN</td>\n",
       "      <td>NaN</td>\n",
       "      <td>NaN</td>\n",
       "      <td>32.196255</td>\n",
       "      <td>30.167742</td>\n",
       "      <td>NaN</td>\n",
       "      <td>NaN</td>\n",
       "      <td>NaN</td>\n",
       "      <td>32.196255</td>\n",
       "      <td>30.167742</td>\n",
       "      <td>...</td>\n",
       "      <td>NaN</td>\n",
       "      <td>NaN</td>\n",
       "      <td>NaN</td>\n",
       "      <td>0.0</td>\n",
       "      <td>0.0</td>\n",
       "      <td>NaN</td>\n",
       "      <td>NaN</td>\n",
       "      <td>NaN</td>\n",
       "      <td>0.0</td>\n",
       "      <td>0.0</td>\n",
       "    </tr>\n",
       "  </tbody>\n",
       "</table>\n",
       "<p>3 rows × 365 columns</p>\n",
       "</div>"
      ],
      "text/plain": [
       "                                    vmax_1  vmax_2  vmax_3     vmax_4  \\\n",
       "hash                                                                    \n",
       "0000a8602cf2def930488dee7cdad104_1     NaN     NaN     NaN        NaN   \n",
       "0000cf177130469eeac79f67b6bcf3df_9     NaN     NaN     NaN        NaN   \n",
       "0001f97b99a80f18f62e2d44e54ef33d_3     NaN     NaN     NaN  32.196255   \n",
       "\n",
       "                                       vmax_5  vmin_1  vmin_2  vmin_3  \\\n",
       "hash                                                                    \n",
       "0000a8602cf2def930488dee7cdad104_1        NaN     NaN     NaN     NaN   \n",
       "0000cf177130469eeac79f67b6bcf3df_9   1.149404     NaN     NaN     NaN   \n",
       "0001f97b99a80f18f62e2d44e54ef33d_3  30.167742     NaN     NaN     NaN   \n",
       "\n",
       "                                       vmin_4     vmin_5       ...         \\\n",
       "hash                                                           ...          \n",
       "0000a8602cf2def930488dee7cdad104_1        NaN        NaN       ...          \n",
       "0000cf177130469eeac79f67b6bcf3df_9        NaN   1.149404       ...          \n",
       "0001f97b99a80f18f62e2d44e54ef33d_3  32.196255  30.167742       ...          \n",
       "\n",
       "                                    leaving_city_1  leaving_city_2  \\\n",
       "hash                                                                 \n",
       "0000a8602cf2def930488dee7cdad104_1             0.0             0.0   \n",
       "0000cf177130469eeac79f67b6bcf3df_9             NaN             NaN   \n",
       "0001f97b99a80f18f62e2d44e54ef33d_3             NaN             NaN   \n",
       "\n",
       "                                    leaving_city_3  leaving_city_4  \\\n",
       "hash                                                                 \n",
       "0000a8602cf2def930488dee7cdad104_1             0.0             0.0   \n",
       "0000cf177130469eeac79f67b6bcf3df_9             NaN             NaN   \n",
       "0001f97b99a80f18f62e2d44e54ef33d_3             NaN             0.0   \n",
       "\n",
       "                                    leaving_city_5  entering_city_1  \\\n",
       "hash                                                                  \n",
       "0000a8602cf2def930488dee7cdad104_1             0.0              0.0   \n",
       "0000cf177130469eeac79f67b6bcf3df_9             0.0              NaN   \n",
       "0001f97b99a80f18f62e2d44e54ef33d_3             0.0              NaN   \n",
       "\n",
       "                                    entering_city_2  entering_city_3  \\\n",
       "hash                                                                   \n",
       "0000a8602cf2def930488dee7cdad104_1              0.0              0.0   \n",
       "0000cf177130469eeac79f67b6bcf3df_9              NaN              NaN   \n",
       "0001f97b99a80f18f62e2d44e54ef33d_3              NaN              NaN   \n",
       "\n",
       "                                    entering_city_4  entering_city_5  \n",
       "hash                                                                  \n",
       "0000a8602cf2def930488dee7cdad104_1              0.0              0.0  \n",
       "0000cf177130469eeac79f67b6bcf3df_9              NaN              0.0  \n",
       "0001f97b99a80f18f62e2d44e54ef33d_3              0.0              0.0  \n",
       "\n",
       "[3 rows x 365 columns]"
      ]
     },
     "execution_count": 148,
     "metadata": {},
     "output_type": "execute_result"
    }
   ],
   "source": [
    "data_sequence.columns = ['_'.join([x[0], str(int(x[1]))]) for x in data_sequence.columns.ravel()]\n",
    "data_sequence.head(3)"
   ]
  },
  {
   "cell_type": "code",
   "execution_count": 149,
   "metadata": {},
   "outputs": [],
   "source": [
    "data_sequence = data_sequence.reset_index()"
   ]
  },
  {
   "cell_type": "code",
   "execution_count": 150,
   "metadata": {},
   "outputs": [],
   "source": [
    "data_sequence = data_sequence.merge(agg_features, on='hash', how='left')\n",
    "data_sequence = data_sequence.merge(hash_count_trajectories, on='hash', how='left')\n",
    "data_sequence = data_sequence.merge(percentage_zeros, on='hash', how='left')"
   ]
  },
  {
   "cell_type": "code",
   "execution_count": 151,
   "metadata": {},
   "outputs": [
    {
     "data": {
      "text/plain": [
       "(144216, 713)"
      ]
     },
     "execution_count": 151,
     "metadata": {},
     "output_type": "execute_result"
    }
   ],
   "source": [
    "data_sequence.shape"
   ]
  },
  {
   "cell_type": "code",
   "execution_count": 152,
   "metadata": {},
   "outputs": [
    {
     "data": {
      "text/plain": [
       "(100404, 713)"
      ]
     },
     "execution_count": 152,
     "metadata": {},
     "output_type": "execute_result"
    }
   ],
   "source": [
    "data_train = data_sequence[data_sequence['hour_exit_'+str(window_reference)]==15]\n",
    "data_train.shape"
   ]
  },
  {
   "cell_type": "code",
   "execution_count": 153,
   "metadata": {},
   "outputs": [
    {
     "data": {
      "text/plain": [
       "(66898, 713)"
      ]
     },
     "execution_count": 153,
     "metadata": {},
     "output_type": "execute_result"
    }
   ],
   "source": [
    "hashs_train = list(train.hash.unique())\n",
    "hashs_test = list(test.hash.unique())\n",
    "\n",
    "data_train = data_train[data_train.hash.isin(hashs_train)]\n",
    "data_train.shape"
   ]
  },
  {
   "cell_type": "code",
   "execution_count": 160,
   "metadata": {},
   "outputs": [],
   "source": [
    "drop_cols = list(x for x in data.columns if 'exit' in x)# + grid_cols\n",
    "drop_cols += ['euclidean_distance', 'manhattan_distance', 'harvesine_distance',\n",
    "              'center_permanency', 'crossed_city', 'velocity', 'leaving_city', 'entering_city']\n",
    "\n",
    "drop_cols = [col+'_'+str(window_reference) for col in drop_cols]\n",
    "#drop_cols += [col+'_'+str(i) for col in grid_cols for i in range(0, 5)]\n",
    "drop_cols += ['hash']\n",
    "\n",
    "features = list(set(data_train.columns) - set(drop_cols))\n",
    "target   = ['is_inside_city_exit_'+str(window_reference)]"
   ]
  },
  {
   "cell_type": "code",
   "execution_count": 177,
   "metadata": {},
   "outputs": [
    {
     "data": {
      "text/plain": [
       "((46828, 713), (20070, 713))"
      ]
     },
     "execution_count": 177,
     "metadata": {},
     "output_type": "execute_result"
    }
   ],
   "source": [
    "from sklearn.model_selection import train_test_split\n",
    "\n",
    "\n",
    "dt_train, dt_test = train_test_split(data_train, test_size=0.3, random_state=423)\n",
    "dt_train.shape, dt_test.shape"
   ]
  },
  {
   "cell_type": "code",
   "execution_count": 178,
   "metadata": {},
   "outputs": [
    {
     "name": "stderr",
     "output_type": "stream",
     "text": [
      "/home/ec2-user/anaconda3/envs/python3/lib/python3.6/site-packages/sklearn/preprocessing/label.py:151: DeprecationWarning: The truth value of an empty array is ambiguous. Returning False, but in future this will result in an error. Use `array.size > 0` to check that an array is not empty.\n",
      "  if diff:\n"
     ]
    },
    {
     "data": {
      "text/plain": [
       "0.7413239407438104"
      ]
     },
     "execution_count": 178,
     "metadata": {},
     "output_type": "execute_result"
    }
   ],
   "source": [
    "from lightgbm import LGBMClassifier\n",
    "from sklearn.metrics import f1_score\n",
    "\n",
    "best_params_lgb = {'boosting_type': 'gbdt', \n",
    "                 'colsample_bytree': 1.0, \n",
    "                 'is_unbalance': False, \n",
    "                 'max_depth': 7, \n",
    "                 'n_estimators': 150, \n",
    "                 'num_leaves': 31, \n",
    "                 'objective': 'binary', \n",
    "                 'random_state': 20, \n",
    "                 'reg_alpha': 1, \n",
    "                 'subsample': 1}\n",
    "\n",
    "clf = LGBMClassifier(**best_params_lgb)\n",
    "clf.fit(dt_train[features], dt_train[target])\n",
    "\n",
    "predicted = clf.predict(dt_test[features])\n",
    "\n",
    "f1_score(dt_test[target], predicted)"
   ]
  },
  {
   "cell_type": "code",
   "execution_count": 53,
   "metadata": {},
   "outputs": [],
   "source": [
    "# Score 0.7465277777777779 | 0.89441\n",
    "# Score 0.7432216905901117 | 0.89358\n",
    "# Score 0.7413765697027499 | 0.89307 - n_estimators=150, max_features=0.5"
   ]
  },
  {
   "cell_type": "code",
   "execution_count": 165,
   "metadata": {
    "scrolled": false
   },
   "outputs": [
    {
     "data": {
      "text/plain": [
       "<matplotlib.axes._subplots.AxesSubplot at 0x7f0fcf651048>"
      ]
     },
     "execution_count": 165,
     "metadata": {},
     "output_type": "execute_result"
    },
    {
     "data": {
      "image/png": "[encoded data removed]",
      "text/plain": [
       "<Figure size 1080x720 with 1 Axes>"
      ]
     },
     "metadata": {},
     "output_type": "display_data"
    }
   ],
   "source": [
    "f, ax = plt.subplots(figsize=(15, 10))\n",
    "\n",
    "feat_importances_gb = pd.Series(clf.feature_importances_, index=data_train[features].columns)\n",
    "feat_importances_gb.nlargest(50).plot(kind='barh')"
   ]
  },
  {
   "cell_type": "code",
   "execution_count": 166,
   "metadata": {},
   "outputs": [],
   "source": [
    "data_test = data_sequence[data_sequence.hash.isin(hashs_test)]\n",
    "#data_test = test[test['x_exit_'+str(window_reference)].isnull()]"
   ]
  },
  {
   "cell_type": "code",
   "execution_count": 167,
   "metadata": {},
   "outputs": [
    {
     "data": {
      "text/plain": [
       "(33515, 713)"
      ]
     },
     "execution_count": 167,
     "metadata": {},
     "output_type": "execute_result"
    }
   ],
   "source": [
    "data_test.shape"
   ]
  },
  {
   "cell_type": "code",
   "execution_count": 168,
   "metadata": {},
   "outputs": [],
   "source": [
    "ids = pd.read_csv('../data/raw/data_test.zip', index_col='Unnamed: 0', low_memory=True)\n",
    "ids = ids[ids.x_exit.isnull()]"
   ]
  },
  {
   "cell_type": "code",
   "execution_count": 169,
   "metadata": {},
   "outputs": [],
   "source": [
    "data_test = data_test.merge(ids[['hash', 'trajectory_id']], on='hash')"
   ]
  },
  {
   "cell_type": "code",
   "execution_count": 170,
   "metadata": {},
   "outputs": [
    {
     "name": "stderr",
     "output_type": "stream",
     "text": [
      "/home/ec2-user/anaconda3/envs/python3/lib/python3.6/site-packages/sklearn/preprocessing/label.py:151: DeprecationWarning: The truth value of an empty array is ambiguous. Returning False, but in future this will result in an error. Use `array.size > 0` to check that an array is not empty.\n",
      "  if diff:\n"
     ]
    }
   ],
   "source": [
    "clf.fit(data_train[features], data_train[target])\n",
    "yhat = clf.predict(data_test[features])"
   ]
  },
  {
   "cell_type": "code",
   "execution_count": 179,
   "metadata": {},
   "outputs": [
    {
     "data": {
      "text/plain": [
       "0.0    25034\n",
       "1.0     8481\n",
       "dtype: int64"
      ]
     },
     "execution_count": 179,
     "metadata": {},
     "output_type": "execute_result"
    }
   ],
   "source": [
    "pd.Series(yhat).value_counts()"
   ]
  },
  {
   "cell_type": "code",
   "execution_count": 172,
   "metadata": {},
   "outputs": [],
   "source": [
    "submission = pd.DataFrame(list(zip(data_test['trajectory_id'], yhat)), columns=['id', 'target'])"
   ]
  },
  {
   "cell_type": "code",
   "execution_count": 173,
   "metadata": {},
   "outputs": [],
   "source": [
    "submission.to_csv('../data/submission1_victor_julio.csv', index=False)"
   ]
  },
  {
   "cell_type": "markdown",
   "metadata": {},
   "source": [
    "# Preprocessed Data Saving"
   ]
  },
  {
   "cell_type": "code",
   "execution_count": null,
   "metadata": {},
   "outputs": [],
   "source": [
    "data_sequence.to_hdf('../data/preprocessed/data_sequence.hdf', key='final', mode='w')"
   ]
  }
 ],
 "metadata": {
  "kernelspec": {
   "display_name": "conda_python3",
   "language": "python",
   "name": "conda_python3"
  },
  "language_info": {
   "codemirror_mode": {
    "name": "ipython",
    "version": 3
   },
   "file_extension": ".py",
   "mimetype": "text/x-python",
   "name": "python",
   "nbconvert_exporter": "python",
   "pygments_lexer": "ipython3",
   "version": "3.6.5"
  }
 },
 "nbformat": 4,
 "nbformat_minor": 2
}
