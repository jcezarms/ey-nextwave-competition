{
 "cells": [
  {
   "cell_type": "code",
   "execution_count": 7,
   "metadata": {
    "collapsed": true
   },
   "outputs": [
    {
     "name": "stdout",
     "output_type": "stream",
     "text": [
      "Solving environment: done\n",
      "\n",
      "\n",
      "==> WARNING: A newer version of conda exists. <==\n",
      "  current version: 4.5.12\n",
      "  latest version: 4.6.14\n",
      "\n",
      "Please update conda by running\n",
      "\n",
      "    $ conda update -n base -c defaults conda\n",
      "\n",
      "\n",
      "\n",
      "# All requested packages already installed.\n",
      "\n"
     ]
    }
   ],
   "source": [
    "!conda install shapely descartes pytables geopandas lightgbm -y"
   ]
  },
  {
   "cell_type": "code",
   "execution_count": 9,
   "metadata": {},
   "outputs": [
    {
     "name": "stdout",
     "output_type": "stream",
     "text": [
      "Solving environment: done\n",
      "\n",
      "\n",
      "==> WARNING: A newer version of conda exists. <==\n",
      "  current version: 4.5.12\n",
      "  latest version: 4.6.14\n",
      "\n",
      "Please update conda by running\n",
      "\n",
      "    $ conda update -n base -c defaults conda\n",
      "\n",
      "\n",
      "\n",
      "## Package Plan ##\n",
      "\n",
      "  environment location: /home/ec2-user/anaconda3/envs/python3\n",
      "\n",
      "  added / updated specs: \n",
      "    - tqdm\n",
      "\n",
      "\n",
      "The following packages will be downloaded:\n",
      "\n",
      "    package                    |            build\n",
      "    ---------------------------|-----------------\n",
      "    tqdm-4.31.1                |             py_0          40 KB  conda-forge\n",
      "\n",
      "The following NEW packages will be INSTALLED:\n",
      "\n",
      "    tqdm:            4.31.1-py_0       conda-forge\n",
      "\n",
      "The following packages will be UPDATED:\n",
      "\n",
      "    ca-certificates: 2019.1.23-0                   --> 2019.3.9-hecc5488_0 conda-forge\n",
      "    certifi:         2019.3.9-py36_0               --> 2019.3.9-py36_0     conda-forge\n",
      "    openssl:         1.0.2r-h7b6447c_0             --> 1.0.2r-h14c3975_0   conda-forge\n",
      "\n",
      "\n",
      "Downloading and Extracting Packages\n",
      "tqdm-4.31.1          | 40 KB     | ##################################### | 100% \n",
      "Preparing transaction: done\n",
      "Verifying transaction: done\n",
      "Executing transaction: done\n"
     ]
    }
   ],
   "source": [
    "!conda install -c conda-forge tqdm -y"
   ]
  },
  {
   "cell_type": "code",
   "execution_count": 1,
   "metadata": {},
   "outputs": [],
   "source": [
    "import pandas as pd\n",
    "from shapely.geometry import Point\n",
    "import matplotlib.pyplot as plt\n",
    "from tqdm.auto import tqdm\n",
    "import seaborn as sns\n",
    "import numpy as np\n",
    "import warnings\n",
    "import math\n",
    "import re\n",
    "\n",
    "tqdm.pandas()\n",
    "\n",
    "plt.style.use('seaborn')\n",
    "\n",
    "warnings.filterwarnings(\"ignore\")\n",
    "\n",
    "%load_ext autoreload\n",
    "%autoreload 2\n",
    "\n",
    "%run ../src/utils.py"
   ]
  },
  {
   "cell_type": "code",
   "execution_count": 2,
   "metadata": {},
   "outputs": [
    {
     "data": {
      "text/plain": [
       "(814262, 11)"
      ]
     },
     "execution_count": 2,
     "metadata": {},
     "output_type": "execute_result"
    }
   ],
   "source": [
    "train = pd.read_csv('../data/raw/data_train.zip', index_col='Unnamed: 0', low_memory=True)\n",
    "train.shape"
   ]
  },
  {
   "cell_type": "code",
   "execution_count": 3,
   "metadata": {},
   "outputs": [
    {
     "data": {
      "text/plain": [
       "(202937, 11)"
      ]
     },
     "execution_count": 3,
     "metadata": {},
     "output_type": "execute_result"
    }
   ],
   "source": [
    "test = pd.read_csv('../data/raw/data_test.zip', index_col='Unnamed: 0', low_memory=True)\n",
    "test.shape"
   ]
  },
  {
   "cell_type": "code",
   "execution_count": 4,
   "metadata": {
    "scrolled": true
   },
   "outputs": [
    {
     "data": {
      "text/plain": [
       "(1017199, 11)"
      ]
     },
     "execution_count": 4,
     "metadata": {},
     "output_type": "execute_result"
    }
   ],
   "source": [
    "data = pd.concat([train, test], axis=0)\n",
    "data.shape"
   ]
  },
  {
   "cell_type": "markdown",
   "metadata": {},
   "source": [
    "# Timing\n",
    "Time-related features"
   ]
  },
  {
   "cell_type": "code",
   "execution_count": 5,
   "metadata": {},
   "outputs": [
    {
     "data": {
      "application/vnd.jupyter.widget-view+json": {
       "model_id": "954b204773024132b6f4439c84677ef9",
       "version_major": 2,
       "version_minor": 0
      },
      "text/plain": [
       "HBox(children=(IntProgress(value=0, max=1017199), HTML(value='')))"
      ]
     },
     "metadata": {},
     "output_type": "display_data"
    },
    {
     "name": "stdout",
     "output_type": "stream",
     "text": [
      "\n"
     ]
    },
    {
     "data": {
      "application/vnd.jupyter.widget-view+json": {
       "model_id": "6205ac8e26d447819793ea4bf2bfc6fe",
       "version_major": 2,
       "version_minor": 0
      },
      "text/plain": [
       "HBox(children=(IntProgress(value=0, max=1017199), HTML(value='')))"
      ]
     },
     "metadata": {},
     "output_type": "display_data"
    },
    {
     "name": "stdout",
     "output_type": "stream",
     "text": [
      "\n"
     ]
    },
    {
     "data": {
      "application/vnd.jupyter.widget-view+json": {
       "model_id": "8270d2dc713344888cc229cb64fc0e34",
       "version_major": 2,
       "version_minor": 0
      },
      "text/plain": [
       "HBox(children=(IntProgress(value=0, max=1017199), HTML(value='')))"
      ]
     },
     "metadata": {},
     "output_type": "display_data"
    },
    {
     "name": "stdout",
     "output_type": "stream",
     "text": [
      "\n"
     ]
    },
    {
     "data": {
      "application/vnd.jupyter.widget-view+json": {
       "model_id": "0a3d7b7f7a1e4660a7342c5de46a6721",
       "version_major": 2,
       "version_minor": 0
      },
      "text/plain": [
       "HBox(children=(IntProgress(value=0, max=1017199), HTML(value='')))"
      ]
     },
     "metadata": {},
     "output_type": "display_data"
    },
    {
     "name": "stdout",
     "output_type": "stream",
     "text": [
      "\n"
     ]
    }
   ],
   "source": [
    "data['minute_entry'] = data.time_exit.progress_apply(lambda x: int(x.split(':')[1]))\n",
    "data['minute_exit'] = data.time_exit.progress_apply(lambda x: int(x.split(':')[1]))\n",
    "\n",
    "data['hour_entry'] = data.time_entry.progress_apply(lambda x: int(x.split(':')[0]))\n",
    "data['hour_exit'] = data.time_exit.progress_apply(lambda x: int(x.split(':')[0]))\n",
    "\n",
    "data['time_entry'] = pd.to_timedelta(data.time_entry)\n",
    "data['time_exit'] = pd.to_timedelta(data.time_exit)"
   ]
  },
  {
   "cell_type": "code",
   "execution_count": 6,
   "metadata": {},
   "outputs": [],
   "source": [
    "data['time_entry'] = pd.to_timedelta(data.time_entry)\n",
    "data['time_exit'] = pd.to_timedelta(data.time_exit)\n",
    "\n",
    "data['deltat_min'] = (data.time_exit - data.time_entry) / np.timedelta64(1, 'm')"
   ]
  },
  {
   "cell_type": "markdown",
   "metadata": {},
   "source": [
    "# Distance Evaluation\n",
    "Euclidian, Minkowski, Haversine distances."
   ]
  },
  {
   "cell_type": "code",
   "execution_count": 7,
   "metadata": {},
   "outputs": [],
   "source": [
    "def euclidian_distance(x_one, y_one, x_two, y_two):\n",
    "    return np.sqrt(np.power((x_one-x_two), 2) + np.power((y_one-y_two), 2))\n",
    "\n",
    "def minkowski_distance(x_one, y_one, x_two, y_two):\n",
    "    return abs(x_one-x_two) + abs(y_one-y_two)\n",
    "\n",
    "data['euclidian_distance'] = np.sqrt(np.power(data.x_entry.values-data.x_exit.values, 2)+np.power(data.y_entry.values-data.y_exit.values, 2))\n",
    "\n",
    "data['minkowski_distance'] = np.abs(data.x_entry.values-data.x_exit.values) + np.abs(data.y_entry.values-data.y_exit.values)"
   ]
  },
  {
   "cell_type": "code",
   "execution_count": 8,
   "metadata": {},
   "outputs": [],
   "source": [
    "from math import radians, cos, sin, asin, sqrt\n",
    "\n",
    "def haversine(lon1, lat1, lon2, lat2):\n",
    "    \"\"\"\n",
    "    Calculate the great circle distance between two points \n",
    "    on the earth (specified in decimal degrees)\n",
    "    \"\"\"\n",
    "    # convert decimal degrees to radians \n",
    "    lon1, lat1, lon2, lat2 = map(radians, [lon1, lat1, lon2, lat2])\n",
    "\n",
    "    # haversine formula \n",
    "    dlon = lon2 - lon1 \n",
    "    dlat = lat2 - lat1 \n",
    "    a = sin(dlat/2)**2 + cos(lat1) * cos(lat2) * sin(dlon/2)**2\n",
    "    c = 2 * asin(sqrt(a)) \n",
    "    r = 6371 # Radius of earth in kilometers. Use 3956 for miles\n",
    "    return c * r\n",
    "\n",
    "data['harvesine_distance'] = [haversine(x1, y1, x2, y2) for x1, y1, x2, y2 in zip(data.x_entry, data.y_entry,\n",
    "                                                                                data.x_exit, data.y_exit)]"
   ]
  },
  {
   "cell_type": "code",
   "execution_count": 9,
   "metadata": {},
   "outputs": [
    {
     "data": {
      "text/plain": [
       "(491966, 19)"
      ]
     },
     "execution_count": 9,
     "metadata": {},
     "output_type": "execute_result"
    }
   ],
   "source": [
    "data = data[data.euclidian_distance!=0]\n",
    "data.shape"
   ]
  },
  {
   "cell_type": "markdown",
   "metadata": {},
   "source": [
    "### Quadrants"
   ]
  },
  {
   "cell_type": "code",
   "execution_count": 10,
   "metadata": {},
   "outputs": [],
   "source": [
    "x_center = center['x_min'] + ((center['x_max']-center['x_min'])/2)\n",
    "y_center = center['y_min'] + ((center['y_max']+center['y_min'])/2)"
   ]
  },
  {
   "cell_type": "code",
   "execution_count": 11,
   "metadata": {},
   "outputs": [],
   "source": [
    "def quadrant(x, y, which):\n",
    "    if which == 'third':\n",
    "        if center['x_min'] <= x <= x_center and center['y_min'] <= y <= y_center:\n",
    "            return 1\n",
    "        else:\n",
    "            return 0\n",
    "        \n",
    "    elif which == 'first':\n",
    "        if center['x_min'] <= x <= x_center and center['y_max'] >= y >= y_center:\n",
    "            return 1\n",
    "        else:\n",
    "            return 0\n",
    "        \n",
    "    elif which == 'fourth':\n",
    "        if center['x_max'] >= x >= x_center and center['y_min'] >= y >= y_center:\n",
    "            return 1\n",
    "        else:\n",
    "            return 0\n",
    "    elif which == 'second':\n",
    "        if center['x_max'] >= x >= x_center and center['y_min'] <= y <= y_center:\n",
    "            return 1\n",
    "        else:\n",
    "            return 0\n",
    "    else:\n",
    "        return 0\n",
    "        \n",
    "\n",
    "data['first_quadrant_entry'] = [quadrant(x, y, which='first') for x, y in zip(data.x_entry, data.y_entry)]\n",
    "data['third_quadrant_entry'] = [quadrant(x, y, which='third') for x, y in zip(data.x_entry, data.y_entry)]\n",
    "data['fourth_quadrant_entry'] = [quadrant(x, y, which='fourth') for x, y in zip(data.x_entry, data.y_entry)]\n",
    "data['second_quadrant_entry'] = [quadrant(x, y, which='second') for x, y in zip(data.x_entry, data.y_entry)]"
   ]
  },
  {
   "cell_type": "markdown",
   "metadata": {},
   "source": [
    "### Distances to Center Middle Point"
   ]
  },
  {
   "cell_type": "code",
   "execution_count": 12,
   "metadata": {},
   "outputs": [],
   "source": [
    "data['distance_cc_entry'] = np.sqrt(((data.x_entry.values-x_center)**2) + ((data.y_entry.values-y_center)**2))\n",
    "data['distance_cc_exit'] = np.sqrt(((data.x_exit.values-x_center)**2) + ((data.y_exit.values-y_center)**2))\n",
    "\n",
    "data['diff_cc_exit_entry'] = data.distance_cc_exit - data.distance_cc_entry"
   ]
  },
  {
   "cell_type": "code",
   "execution_count": 13,
   "metadata": {},
   "outputs": [],
   "source": [
    "data['x_diff_entry'] = data.x_entry.values-x_center\n",
    "data['x_diff_exit'] = data.x_exit.values-x_center\n",
    "\n",
    "data['y_diff_entry'] = data.y_entry.values-y_center\n",
    "data['y_diff_exit'] = data.y_exit.values-y_center"
   ]
  },
  {
   "cell_type": "code",
   "execution_count": 14,
   "metadata": {},
   "outputs": [],
   "source": [
    "directions_entry = []\n",
    "for x, y in zip(data.x_diff_entry, data.y_diff_entry):\n",
    "    directions_entry.append(math.atan2(x, y))\n",
    "    \n",
    "data['direction_entry'] = directions_entry"
   ]
  },
  {
   "cell_type": "code",
   "execution_count": 15,
   "metadata": {},
   "outputs": [],
   "source": [
    "directions_exit = []\n",
    "for x, y in zip(data.x_diff_exit, data.y_diff_exit):\n",
    "    directions_exit.append(math.atan2(x, y))\n",
    "    \n",
    "data['direction_exit'] = directions_exit"
   ]
  },
  {
   "cell_type": "markdown",
   "metadata": {},
   "source": [
    "### Distances from Center Borders\n",
    "Euclidian distance from point to city center borders."
   ]
  },
  {
   "cell_type": "code",
   "execution_count": 16,
   "metadata": {},
   "outputs": [
    {
     "data": {
      "text/plain": [
       "20000.0"
      ]
     },
     "execution_count": 16,
     "metadata": {},
     "output_type": "execute_result"
    }
   ],
   "source": [
    "from shapely.geometry import Point, Polygon, LineString\n",
    "\n",
    "center['left_border']  = LineString([(center['x_min'], center['y_min']), (center['x_min'], center['y_max'])])\n",
    "center['right_border'] = LineString([(center['x_max'], center['y_min']), (center['x_max'], center['y_max'])])\n",
    "\n",
    "center['lower_border']  = LineString([(center['x_min'], center['y_min']), (center['x_max'], center['y_min'])])\n",
    "center['upper_border']  = LineString([(center['x_min'], center['y_max']), (center['x_max'], center['y_max'])])\n",
    "\n",
    "center['left_border'].distance(Point(center['x_max'], center['y_min']))"
   ]
  },
  {
   "cell_type": "code",
   "execution_count": 17,
   "metadata": {},
   "outputs": [],
   "source": [
    "def distance_to_border(x, y, direction):\n",
    "    return center[direction + '_border'].distance(Point(x, y))\n",
    "\n",
    "data['distance_left_border'] = [distance_to_border(x, y, direction='left') for x, y in zip(data.x_entry, data.y_entry)]\n",
    "data['distance_right_border'] = [distance_to_border(x, y, direction='right') for x, y in zip(data.x_entry, data.y_entry)]\n",
    "data['distance_lower_border'] = [distance_to_border(x, y, direction='lower') for x, y in zip(data.x_entry, data.y_entry)]\n",
    "data['distance_upper_border'] = [distance_to_border(x, y, direction='upper') for x, y in zip(data.x_entry, data.y_entry)]"
   ]
  },
  {
   "cell_type": "markdown",
   "metadata": {},
   "source": [
    "# Angles w.r.t Center\n",
    "Mid and vertex-related angles on a per point basis"
   ]
  },
  {
   "cell_type": "code",
   "execution_count": 18,
   "metadata": {},
   "outputs": [
    {
     "data": {
      "application/vnd.jupyter.widget-view+json": {
       "model_id": "47808145f12344d998210113701cadd7",
       "version_major": 2,
       "version_minor": 0
      },
      "text/plain": [
       "HBox(children=(IntProgress(value=0, max=491966), HTML(value='')))"
      ]
     },
     "metadata": {},
     "output_type": "display_data"
    },
    {
     "name": "stdout",
     "output_type": "stream",
     "text": [
      "\n"
     ]
    },
    {
     "data": {
      "text/html": [
       "<div>\n",
       "<style scoped>\n",
       "    .dataframe tbody tr th:only-of-type {\n",
       "        vertical-align: middle;\n",
       "    }\n",
       "\n",
       "    .dataframe tbody tr th {\n",
       "        vertical-align: top;\n",
       "    }\n",
       "\n",
       "    .dataframe thead th {\n",
       "        text-align: right;\n",
       "    }\n",
       "</style>\n",
       "<table border=\"1\" class=\"dataframe\">\n",
       "  <thead>\n",
       "    <tr style=\"text-align: right;\">\n",
       "      <th></th>\n",
       "      <th>hash</th>\n",
       "      <th>trajectory_id</th>\n",
       "      <th>time_entry</th>\n",
       "      <th>time_exit</th>\n",
       "      <th>vmax</th>\n",
       "      <th>vmin</th>\n",
       "      <th>vmean</th>\n",
       "      <th>x_entry</th>\n",
       "      <th>y_entry</th>\n",
       "      <th>x_exit</th>\n",
       "      <th>...</th>\n",
       "      <th>direction_exit</th>\n",
       "      <th>distance_left_border</th>\n",
       "      <th>distance_right_border</th>\n",
       "      <th>distance_lower_border</th>\n",
       "      <th>distance_upper_border</th>\n",
       "      <th>cc_middle_angle</th>\n",
       "      <th>cc_xmin_ymin_angle</th>\n",
       "      <th>cc_xmax_ymin_angle</th>\n",
       "      <th>cc_xmin_ymax_angle</th>\n",
       "      <th>cc_xmax_ymax_angle</th>\n",
       "    </tr>\n",
       "  </thead>\n",
       "  <tbody>\n",
       "    <tr>\n",
       "      <th>0</th>\n",
       "      <td>0000a8602cf2def930488dee7cdad104_1</td>\n",
       "      <td>traj_0000a8602cf2def930488dee7cdad104_1_0</td>\n",
       "      <td>07:04:31</td>\n",
       "      <td>07:08:32</td>\n",
       "      <td>NaN</td>\n",
       "      <td>NaN</td>\n",
       "      <td>NaN</td>\n",
       "      <td>3.751014e+06</td>\n",
       "      <td>-1.909398e+07</td>\n",
       "      <td>3.750326e+06</td>\n",
       "      <td>...</td>\n",
       "      <td>-0.000546</td>\n",
       "      <td>114925.024135</td>\n",
       "      <td>116633.059928</td>\n",
       "      <td>174924.969304</td>\n",
       "      <td>114924.969304</td>\n",
       "      <td>NaN</td>\n",
       "      <td>NaN</td>\n",
       "      <td>NaN</td>\n",
       "      <td>NaN</td>\n",
       "      <td>NaN</td>\n",
       "    </tr>\n",
       "    <tr>\n",
       "      <th>1</th>\n",
       "      <td>0000a8602cf2def930488dee7cdad104_1</td>\n",
       "      <td>traj_0000a8602cf2def930488dee7cdad104_1_1</td>\n",
       "      <td>07:20:34</td>\n",
       "      <td>07:25:42</td>\n",
       "      <td>NaN</td>\n",
       "      <td>NaN</td>\n",
       "      <td>NaN</td>\n",
       "      <td>3.743937e+06</td>\n",
       "      <td>-1.932247e+07</td>\n",
       "      <td>3.744975e+06</td>\n",
       "      <td>...</td>\n",
       "      <td>-0.000830</td>\n",
       "      <td>54012.799354</td>\n",
       "      <td>59966.283785</td>\n",
       "      <td>54012.799354</td>\n",
       "      <td>113775.281047</td>\n",
       "      <td>0.137059</td>\n",
       "      <td>0.038653</td>\n",
       "      <td>0.188293</td>\n",
       "      <td>0.042244</td>\n",
       "      <td>0.310604</td>\n",
       "    </tr>\n",
       "    <tr>\n",
       "      <th>2</th>\n",
       "      <td>0000a8602cf2def930488dee7cdad104_1</td>\n",
       "      <td>traj_0000a8602cf2def930488dee7cdad104_1_2</td>\n",
       "      <td>07:53:32</td>\n",
       "      <td>08:03:25</td>\n",
       "      <td>NaN</td>\n",
       "      <td>NaN</td>\n",
       "      <td>NaN</td>\n",
       "      <td>3.744868e+06</td>\n",
       "      <td>-1.929356e+07</td>\n",
       "      <td>3.744816e+06</td>\n",
       "      <td>...</td>\n",
       "      <td>-0.000837</td>\n",
       "      <td>25386.747582</td>\n",
       "      <td>35858.533322</td>\n",
       "      <td>25386.747582</td>\n",
       "      <td>84874.048910</td>\n",
       "      <td>0.198812</td>\n",
       "      <td>0.120334</td>\n",
       "      <td>0.476339</td>\n",
       "      <td>0.057555</td>\n",
       "      <td>0.234039</td>\n",
       "    </tr>\n",
       "    <tr>\n",
       "      <th>3</th>\n",
       "      <td>0000a8602cf2def930488dee7cdad104_1</td>\n",
       "      <td>traj_0000a8602cf2def930488dee7cdad104_1_3</td>\n",
       "      <td>08:17:50</td>\n",
       "      <td>08:37:23</td>\n",
       "      <td>NaN</td>\n",
       "      <td>NaN</td>\n",
       "      <td>NaN</td>\n",
       "      <td>3.744880e+06</td>\n",
       "      <td>-1.929229e+07</td>\n",
       "      <td>3.744809e+06</td>\n",
       "      <td>...</td>\n",
       "      <td>-0.000837</td>\n",
       "      <td>24146.972686</td>\n",
       "      <td>34984.767305</td>\n",
       "      <td>24146.972686</td>\n",
       "      <td>83601.282594</td>\n",
       "      <td>0.173281</td>\n",
       "      <td>0.132425</td>\n",
       "      <td>0.711798</td>\n",
       "      <td>0.044184</td>\n",
       "      <td>0.184758</td>\n",
       "    </tr>\n",
       "  </tbody>\n",
       "</table>\n",
       "<p>4 rows × 41 columns</p>\n",
       "</div>"
      ],
      "text/plain": [
       "                                 hash  \\\n",
       "0  0000a8602cf2def930488dee7cdad104_1   \n",
       "1  0000a8602cf2def930488dee7cdad104_1   \n",
       "2  0000a8602cf2def930488dee7cdad104_1   \n",
       "3  0000a8602cf2def930488dee7cdad104_1   \n",
       "\n",
       "                               trajectory_id time_entry time_exit  vmax  vmin  \\\n",
       "0  traj_0000a8602cf2def930488dee7cdad104_1_0   07:04:31  07:08:32   NaN   NaN   \n",
       "1  traj_0000a8602cf2def930488dee7cdad104_1_1   07:20:34  07:25:42   NaN   NaN   \n",
       "2  traj_0000a8602cf2def930488dee7cdad104_1_2   07:53:32  08:03:25   NaN   NaN   \n",
       "3  traj_0000a8602cf2def930488dee7cdad104_1_3   08:17:50  08:37:23   NaN   NaN   \n",
       "\n",
       "   vmean       x_entry       y_entry        x_exit         ...          \\\n",
       "0    NaN  3.751014e+06 -1.909398e+07  3.750326e+06         ...           \n",
       "1    NaN  3.743937e+06 -1.932247e+07  3.744975e+06         ...           \n",
       "2    NaN  3.744868e+06 -1.929356e+07  3.744816e+06         ...           \n",
       "3    NaN  3.744880e+06 -1.929229e+07  3.744809e+06         ...           \n",
       "\n",
       "   direction_exit  distance_left_border  distance_right_border  \\\n",
       "0       -0.000546         114925.024135          116633.059928   \n",
       "1       -0.000830          54012.799354           59966.283785   \n",
       "2       -0.000837          25386.747582           35858.533322   \n",
       "3       -0.000837          24146.972686           34984.767305   \n",
       "\n",
       "   distance_lower_border  distance_upper_border  cc_middle_angle  \\\n",
       "0          174924.969304          114924.969304              NaN   \n",
       "1           54012.799354          113775.281047         0.137059   \n",
       "2           25386.747582           84874.048910         0.198812   \n",
       "3           24146.972686           83601.282594         0.173281   \n",
       "\n",
       "   cc_xmin_ymin_angle  cc_xmax_ymin_angle  cc_xmin_ymax_angle  \\\n",
       "0                 NaN                 NaN                 NaN   \n",
       "1            0.038653            0.188293            0.042244   \n",
       "2            0.120334            0.476339            0.057555   \n",
       "3            0.132425            0.711798            0.044184   \n",
       "\n",
       "   cc_xmax_ymax_angle  \n",
       "0                 NaN  \n",
       "1            0.310604  \n",
       "2            0.234039  \n",
       "3            0.184758  \n",
       "\n",
       "[4 rows x 41 columns]"
      ]
     },
     "execution_count": 18,
     "metadata": {},
     "output_type": "execute_result"
    }
   ],
   "source": [
    "data['last_x_entry'] = data.groupby('hash').x_exit.shift(1)\n",
    "data['last_y_entry'] = data.groupby('hash').y_exit.shift(1)\n",
    "\n",
    "angle_cols = [\n",
    "    'cc_middle_angle', 'cc_xmin_ymin_angle', 'cc_xmax_ymin_angle', 'cc_xmin_ymax_angle', 'cc_xmax_ymax_angle'\n",
    "]\n",
    "\n",
    "data = data.reindex(columns=data.columns.tolist() + angle_cols)\n",
    "\n",
    "data = data.progress_apply(entry_to_center_angles, axis=1)\n",
    "\n",
    "data = data.drop(columns=['last_x_entry', 'last_y_entry'])\n",
    "\n",
    "data.head(4)"
   ]
  },
  {
   "cell_type": "code",
   "execution_count": 19,
   "metadata": {},
   "outputs": [
    {
     "data": {
      "text/html": [
       "<div>\n",
       "<style scoped>\n",
       "    .dataframe tbody tr th:only-of-type {\n",
       "        vertical-align: middle;\n",
       "    }\n",
       "\n",
       "    .dataframe tbody tr th {\n",
       "        vertical-align: top;\n",
       "    }\n",
       "\n",
       "    .dataframe thead th {\n",
       "        text-align: right;\n",
       "    }\n",
       "</style>\n",
       "<table border=\"1\" class=\"dataframe\">\n",
       "  <thead>\n",
       "    <tr style=\"text-align: right;\">\n",
       "      <th></th>\n",
       "      <th>hash</th>\n",
       "      <th>trajectory_id</th>\n",
       "      <th>time_entry</th>\n",
       "      <th>time_exit</th>\n",
       "      <th>vmax</th>\n",
       "      <th>vmin</th>\n",
       "      <th>vmean</th>\n",
       "      <th>x_entry</th>\n",
       "      <th>y_entry</th>\n",
       "      <th>x_exit</th>\n",
       "      <th>...</th>\n",
       "      <th>direction_exit</th>\n",
       "      <th>distance_left_border</th>\n",
       "      <th>distance_right_border</th>\n",
       "      <th>distance_lower_border</th>\n",
       "      <th>distance_upper_border</th>\n",
       "      <th>cc_middle_angle</th>\n",
       "      <th>cc_xmin_ymin_angle</th>\n",
       "      <th>cc_xmax_ymin_angle</th>\n",
       "      <th>cc_xmin_ymax_angle</th>\n",
       "      <th>cc_xmax_ymax_angle</th>\n",
       "    </tr>\n",
       "  </thead>\n",
       "  <tbody>\n",
       "    <tr>\n",
       "      <th>0</th>\n",
       "      <td>0000a8602cf2def930488dee7cdad104_1</td>\n",
       "      <td>traj_0000a8602cf2def930488dee7cdad104_1_0</td>\n",
       "      <td>07:04:31</td>\n",
       "      <td>07:08:32</td>\n",
       "      <td>NaN</td>\n",
       "      <td>NaN</td>\n",
       "      <td>NaN</td>\n",
       "      <td>3.751014e+06</td>\n",
       "      <td>-1.909398e+07</td>\n",
       "      <td>3.750326e+06</td>\n",
       "      <td>...</td>\n",
       "      <td>-0.000546</td>\n",
       "      <td>114925.024135</td>\n",
       "      <td>116633.059928</td>\n",
       "      <td>174924.969304</td>\n",
       "      <td>114924.969304</td>\n",
       "      <td>NaN</td>\n",
       "      <td>NaN</td>\n",
       "      <td>NaN</td>\n",
       "      <td>NaN</td>\n",
       "      <td>NaN</td>\n",
       "    </tr>\n",
       "    <tr>\n",
       "      <th>1</th>\n",
       "      <td>0000a8602cf2def930488dee7cdad104_1</td>\n",
       "      <td>traj_0000a8602cf2def930488dee7cdad104_1_1</td>\n",
       "      <td>07:20:34</td>\n",
       "      <td>07:25:42</td>\n",
       "      <td>NaN</td>\n",
       "      <td>NaN</td>\n",
       "      <td>NaN</td>\n",
       "      <td>3.743937e+06</td>\n",
       "      <td>-1.932247e+07</td>\n",
       "      <td>3.744975e+06</td>\n",
       "      <td>...</td>\n",
       "      <td>-0.000830</td>\n",
       "      <td>54012.799354</td>\n",
       "      <td>59966.283785</td>\n",
       "      <td>54012.799354</td>\n",
       "      <td>113775.281047</td>\n",
       "      <td>7.852886</td>\n",
       "      <td>2.214659</td>\n",
       "      <td>10.788397</td>\n",
       "      <td>2.420383</td>\n",
       "      <td>17.796301</td>\n",
       "    </tr>\n",
       "    <tr>\n",
       "      <th>2</th>\n",
       "      <td>0000a8602cf2def930488dee7cdad104_1</td>\n",
       "      <td>traj_0000a8602cf2def930488dee7cdad104_1_2</td>\n",
       "      <td>07:53:32</td>\n",
       "      <td>08:03:25</td>\n",
       "      <td>NaN</td>\n",
       "      <td>NaN</td>\n",
       "      <td>NaN</td>\n",
       "      <td>3.744868e+06</td>\n",
       "      <td>-1.929356e+07</td>\n",
       "      <td>3.744816e+06</td>\n",
       "      <td>...</td>\n",
       "      <td>-0.000837</td>\n",
       "      <td>25386.747582</td>\n",
       "      <td>35858.533322</td>\n",
       "      <td>25386.747582</td>\n",
       "      <td>84874.048910</td>\n",
       "      <td>11.391105</td>\n",
       "      <td>6.894649</td>\n",
       "      <td>27.292186</td>\n",
       "      <td>3.297664</td>\n",
       "      <td>13.409474</td>\n",
       "    </tr>\n",
       "    <tr>\n",
       "      <th>3</th>\n",
       "      <td>0000a8602cf2def930488dee7cdad104_1</td>\n",
       "      <td>traj_0000a8602cf2def930488dee7cdad104_1_3</td>\n",
       "      <td>08:17:50</td>\n",
       "      <td>08:37:23</td>\n",
       "      <td>NaN</td>\n",
       "      <td>NaN</td>\n",
       "      <td>NaN</td>\n",
       "      <td>3.744880e+06</td>\n",
       "      <td>-1.929229e+07</td>\n",
       "      <td>3.744809e+06</td>\n",
       "      <td>...</td>\n",
       "      <td>-0.000837</td>\n",
       "      <td>24146.972686</td>\n",
       "      <td>34984.767305</td>\n",
       "      <td>24146.972686</td>\n",
       "      <td>83601.282594</td>\n",
       "      <td>9.928271</td>\n",
       "      <td>7.587407</td>\n",
       "      <td>40.782997</td>\n",
       "      <td>2.531528</td>\n",
       "      <td>10.585844</td>\n",
       "    </tr>\n",
       "  </tbody>\n",
       "</table>\n",
       "<p>4 rows × 41 columns</p>\n",
       "</div>"
      ],
      "text/plain": [
       "                                 hash  \\\n",
       "0  0000a8602cf2def930488dee7cdad104_1   \n",
       "1  0000a8602cf2def930488dee7cdad104_1   \n",
       "2  0000a8602cf2def930488dee7cdad104_1   \n",
       "3  0000a8602cf2def930488dee7cdad104_1   \n",
       "\n",
       "                               trajectory_id time_entry time_exit  vmax  vmin  \\\n",
       "0  traj_0000a8602cf2def930488dee7cdad104_1_0   07:04:31  07:08:32   NaN   NaN   \n",
       "1  traj_0000a8602cf2def930488dee7cdad104_1_1   07:20:34  07:25:42   NaN   NaN   \n",
       "2  traj_0000a8602cf2def930488dee7cdad104_1_2   07:53:32  08:03:25   NaN   NaN   \n",
       "3  traj_0000a8602cf2def930488dee7cdad104_1_3   08:17:50  08:37:23   NaN   NaN   \n",
       "\n",
       "   vmean       x_entry       y_entry        x_exit         ...          \\\n",
       "0    NaN  3.751014e+06 -1.909398e+07  3.750326e+06         ...           \n",
       "1    NaN  3.743937e+06 -1.932247e+07  3.744975e+06         ...           \n",
       "2    NaN  3.744868e+06 -1.929356e+07  3.744816e+06         ...           \n",
       "3    NaN  3.744880e+06 -1.929229e+07  3.744809e+06         ...           \n",
       "\n",
       "   direction_exit  distance_left_border  distance_right_border  \\\n",
       "0       -0.000546         114925.024135          116633.059928   \n",
       "1       -0.000830          54012.799354           59966.283785   \n",
       "2       -0.000837          25386.747582           35858.533322   \n",
       "3       -0.000837          24146.972686           34984.767305   \n",
       "\n",
       "   distance_lower_border  distance_upper_border  cc_middle_angle  \\\n",
       "0          174924.969304          114924.969304              NaN   \n",
       "1           54012.799354          113775.281047         7.852886   \n",
       "2           25386.747582           84874.048910        11.391105   \n",
       "3           24146.972686           83601.282594         9.928271   \n",
       "\n",
       "   cc_xmin_ymin_angle  cc_xmax_ymin_angle  cc_xmin_ymax_angle  \\\n",
       "0                 NaN                 NaN                 NaN   \n",
       "1            2.214659           10.788397            2.420383   \n",
       "2            6.894649           27.292186            3.297664   \n",
       "3            7.587407           40.782997            2.531528   \n",
       "\n",
       "   cc_xmax_ymax_angle  \n",
       "0                 NaN  \n",
       "1           17.796301  \n",
       "2           13.409474  \n",
       "3           10.585844  \n",
       "\n",
       "[4 rows x 41 columns]"
      ]
     },
     "execution_count": 19,
     "metadata": {},
     "output_type": "execute_result"
    }
   ],
   "source": [
    "data[angle_cols] = data[angle_cols] * 180.0 / np.pi\n",
    "data.head(4)"
   ]
  },
  {
   "cell_type": "markdown",
   "metadata": {},
   "source": [
    "# Target feature"
   ]
  },
  {
   "cell_type": "code",
   "execution_count": 20,
   "metadata": {},
   "outputs": [],
   "source": [
    "def is_inside_city(x, y):\n",
    "    if (3750901.5068 <= x <= 3770901.5068) and (-19268905.6133 <= y <= -19208905.6133):\n",
    "        return 1\n",
    "    else:\n",
    "        return 0\n",
    "\n",
    "data['is_inside_city_entry'] = [is_inside_city(x, y) for x, y in zip(data.x_entry, data.y_entry)]\n",
    "data['is_inside_city_exit'] = [is_inside_city(x, y) for x, y in zip(data.x_exit, data.y_exit)]"
   ]
  },
  {
   "cell_type": "code",
   "execution_count": 25,
   "metadata": {},
   "outputs": [],
   "source": [
    "# time passed between blind spots\n",
    "\n",
    "data['time_delta_blind'] = (data.time_entry - data.time_exit.shift(1)) / np.timedelta64(1, 'm')"
   ]
  },
  {
   "cell_type": "code",
   "execution_count": 26,
   "metadata": {},
   "outputs": [
    {
     "data": {
      "text/html": [
       "<div>\n",
       "<style scoped>\n",
       "    .dataframe tbody tr th:only-of-type {\n",
       "        vertical-align: middle;\n",
       "    }\n",
       "\n",
       "    .dataframe tbody tr th {\n",
       "        vertical-align: top;\n",
       "    }\n",
       "\n",
       "    .dataframe thead th {\n",
       "        text-align: right;\n",
       "    }\n",
       "</style>\n",
       "<table border=\"1\" class=\"dataframe\">\n",
       "  <thead>\n",
       "    <tr style=\"text-align: right;\">\n",
       "      <th></th>\n",
       "      <th>hash</th>\n",
       "      <th>trajectory_id</th>\n",
       "      <th>time_entry</th>\n",
       "      <th>time_exit</th>\n",
       "      <th>vmax</th>\n",
       "      <th>vmin</th>\n",
       "      <th>vmean</th>\n",
       "      <th>x_entry</th>\n",
       "      <th>y_entry</th>\n",
       "      <th>x_exit</th>\n",
       "      <th>...</th>\n",
       "      <th>cc_xmax_ymin_angle</th>\n",
       "      <th>cc_xmin_ymax_angle</th>\n",
       "      <th>cc_xmax_ymax_angle</th>\n",
       "      <th>is_inside_city_entry</th>\n",
       "      <th>is_inside_city_exit</th>\n",
       "      <th>center_permanency</th>\n",
       "      <th>x_delta_blind</th>\n",
       "      <th>y_delta_blind</th>\n",
       "      <th>distance_blind</th>\n",
       "      <th>time_delta_blind</th>\n",
       "    </tr>\n",
       "  </thead>\n",
       "  <tbody>\n",
       "    <tr>\n",
       "      <th>0</th>\n",
       "      <td>0000a8602cf2def930488dee7cdad104_1</td>\n",
       "      <td>traj_0000a8602cf2def930488dee7cdad104_1_0</td>\n",
       "      <td>07:04:31</td>\n",
       "      <td>07:08:32</td>\n",
       "      <td>NaN</td>\n",
       "      <td>NaN</td>\n",
       "      <td>NaN</td>\n",
       "      <td>3.751014e+06</td>\n",
       "      <td>-1.909398e+07</td>\n",
       "      <td>3.750326e+06</td>\n",
       "      <td>...</td>\n",
       "      <td>NaN</td>\n",
       "      <td>NaN</td>\n",
       "      <td>NaN</td>\n",
       "      <td>0</td>\n",
       "      <td>0</td>\n",
       "      <td>0.0</td>\n",
       "      <td>NaN</td>\n",
       "      <td>NaN</td>\n",
       "      <td>NaN</td>\n",
       "      <td>NaN</td>\n",
       "    </tr>\n",
       "    <tr>\n",
       "      <th>1</th>\n",
       "      <td>0000a8602cf2def930488dee7cdad104_1</td>\n",
       "      <td>traj_0000a8602cf2def930488dee7cdad104_1_1</td>\n",
       "      <td>07:20:34</td>\n",
       "      <td>07:25:42</td>\n",
       "      <td>NaN</td>\n",
       "      <td>NaN</td>\n",
       "      <td>NaN</td>\n",
       "      <td>3.743937e+06</td>\n",
       "      <td>-1.932247e+07</td>\n",
       "      <td>3.744975e+06</td>\n",
       "      <td>...</td>\n",
       "      <td>10.788397</td>\n",
       "      <td>2.420383</td>\n",
       "      <td>17.796301</td>\n",
       "      <td>0</td>\n",
       "      <td>0</td>\n",
       "      <td>0.0</td>\n",
       "      <td>-6388.625577</td>\n",
       "      <td>-186127.626359</td>\n",
       "      <td>186237.235350</td>\n",
       "      <td>12.033333</td>\n",
       "    </tr>\n",
       "    <tr>\n",
       "      <th>2</th>\n",
       "      <td>0000a8602cf2def930488dee7cdad104_1</td>\n",
       "      <td>traj_0000a8602cf2def930488dee7cdad104_1_2</td>\n",
       "      <td>07:53:32</td>\n",
       "      <td>08:03:25</td>\n",
       "      <td>NaN</td>\n",
       "      <td>NaN</td>\n",
       "      <td>NaN</td>\n",
       "      <td>3.744868e+06</td>\n",
       "      <td>-1.929356e+07</td>\n",
       "      <td>3.744816e+06</td>\n",
       "      <td>...</td>\n",
       "      <td>27.292186</td>\n",
       "      <td>3.297664</td>\n",
       "      <td>13.409474</td>\n",
       "      <td>0</td>\n",
       "      <td>0</td>\n",
       "      <td>0.0</td>\n",
       "      <td>-106.866711</td>\n",
       "      <td>26098.775095</td>\n",
       "      <td>26098.993888</td>\n",
       "      <td>27.833333</td>\n",
       "    </tr>\n",
       "    <tr>\n",
       "      <th>3</th>\n",
       "      <td>0000a8602cf2def930488dee7cdad104_1</td>\n",
       "      <td>traj_0000a8602cf2def930488dee7cdad104_1_3</td>\n",
       "      <td>08:17:50</td>\n",
       "      <td>08:37:23</td>\n",
       "      <td>NaN</td>\n",
       "      <td>NaN</td>\n",
       "      <td>NaN</td>\n",
       "      <td>3.744880e+06</td>\n",
       "      <td>-1.929229e+07</td>\n",
       "      <td>3.744809e+06</td>\n",
       "      <td>...</td>\n",
       "      <td>40.782997</td>\n",
       "      <td>2.531528</td>\n",
       "      <td>10.585844</td>\n",
       "      <td>0</td>\n",
       "      <td>0</td>\n",
       "      <td>0.0</td>\n",
       "      <td>64.565305</td>\n",
       "      <td>551.388913</td>\n",
       "      <td>555.156205</td>\n",
       "      <td>14.416667</td>\n",
       "    </tr>\n",
       "  </tbody>\n",
       "</table>\n",
       "<p>4 rows × 48 columns</p>\n",
       "</div>"
      ],
      "text/plain": [
       "                                 hash  \\\n",
       "0  0000a8602cf2def930488dee7cdad104_1   \n",
       "1  0000a8602cf2def930488dee7cdad104_1   \n",
       "2  0000a8602cf2def930488dee7cdad104_1   \n",
       "3  0000a8602cf2def930488dee7cdad104_1   \n",
       "\n",
       "                               trajectory_id time_entry time_exit  vmax  vmin  \\\n",
       "0  traj_0000a8602cf2def930488dee7cdad104_1_0   07:04:31  07:08:32   NaN   NaN   \n",
       "1  traj_0000a8602cf2def930488dee7cdad104_1_1   07:20:34  07:25:42   NaN   NaN   \n",
       "2  traj_0000a8602cf2def930488dee7cdad104_1_2   07:53:32  08:03:25   NaN   NaN   \n",
       "3  traj_0000a8602cf2def930488dee7cdad104_1_3   08:17:50  08:37:23   NaN   NaN   \n",
       "\n",
       "   vmean       x_entry       y_entry        x_exit        ...         \\\n",
       "0    NaN  3.751014e+06 -1.909398e+07  3.750326e+06        ...          \n",
       "1    NaN  3.743937e+06 -1.932247e+07  3.744975e+06        ...          \n",
       "2    NaN  3.744868e+06 -1.929356e+07  3.744816e+06        ...          \n",
       "3    NaN  3.744880e+06 -1.929229e+07  3.744809e+06        ...          \n",
       "\n",
       "   cc_xmax_ymin_angle  cc_xmin_ymax_angle  cc_xmax_ymax_angle  \\\n",
       "0                 NaN                 NaN                 NaN   \n",
       "1           10.788397            2.420383           17.796301   \n",
       "2           27.292186            3.297664           13.409474   \n",
       "3           40.782997            2.531528           10.585844   \n",
       "\n",
       "   is_inside_city_entry  is_inside_city_exit  center_permanency  \\\n",
       "0                     0                    0                0.0   \n",
       "1                     0                    0                0.0   \n",
       "2                     0                    0                0.0   \n",
       "3                     0                    0                0.0   \n",
       "\n",
       "   x_delta_blind  y_delta_blind  distance_blind  time_delta_blind  \n",
       "0            NaN            NaN             NaN               NaN  \n",
       "1   -6388.625577 -186127.626359   186237.235350         12.033333  \n",
       "2    -106.866711   26098.775095    26098.993888         27.833333  \n",
       "3      64.565305     551.388913      555.156205         14.416667  \n",
       "\n",
       "[4 rows x 48 columns]"
      ]
     },
     "execution_count": 26,
     "metadata": {},
     "output_type": "execute_result"
    }
   ],
   "source": [
    "# time passed between blind spots\n",
    "\n",
    "data['x_delta_blind'] = data.x_entry - data.x_exit.shift(1)\n",
    "data['y_delta_blind'] = data.y_entry - data.y_exit.shift(1)\n",
    "\n",
    "data['distance_blind'] = ((data.x_delta_blind**2) + (data.y_delta_blind)**2)**(1/2)\n",
    "\n",
    "data.loc[data.time_delta_blind < 0, 'distance_blind'] = 0\n",
    "\n",
    "data.loc[data.time_delta_blind < 0, 'x_delta_blind'] = 0\n",
    "data.loc[data.time_delta_blind < 0, 'y_delta_blind'] = 0\n",
    "data.loc[data.time_delta_blind < 0, 'time_delta_blind'] = 0\n",
    "\n",
    "data.head(4)"
   ]
  },
  {
   "cell_type": "code",
   "execution_count": 27,
   "metadata": {},
   "outputs": [
    {
     "data": {
      "application/vnd.jupyter.widget-view+json": {
       "model_id": "c1bf407a26534454a08a73d59b83d05d",
       "version_major": 2,
       "version_minor": 0
      },
      "text/plain": [
       "HBox(children=(IntProgress(value=0, max=491966), HTML(value='')))"
      ]
     },
     "metadata": {},
     "output_type": "display_data"
    },
    {
     "name": "stdout",
     "output_type": "stream",
     "text": [
      "\n"
     ]
    }
   ],
   "source": [
    "data['trajectory_number'] = data.trajectory_id.progress_apply(lambda x: int(re.findall('_\\d+$', x)[0].strip('_')))\n",
    "\n",
    "data.loc[data.trajectory_number==0, 'distance_blind'] = 0\n",
    "data.loc[data.trajectory_number==0, 'time_delta_blind'] = 0"
   ]
  },
  {
   "cell_type": "markdown",
   "metadata": {},
   "source": [
    "# Time: Continuous features"
   ]
  },
  {
   "cell_type": "code",
   "execution_count": 28,
   "metadata": {},
   "outputs": [],
   "source": [
    "data['hours_continuous'] = [t / pd.Timedelta(hours=1) for t in data.time_entry]\n",
    "data['minutes_continuous'] = [t / pd.Timedelta(minutes=1) for t in data.time_entry]"
   ]
  },
  {
   "cell_type": "markdown",
   "metadata": {},
   "source": [
    "# Trajectories' Origin Point Features\n",
    "\n",
    "It is a logical estimate that an extensive group in all recorded trajectories will eventually return to their origin point in the day - relating, in this case, to a person's return home. Dealing with paths distributed in space and time, the current-point to origin-point correlation levels hold a considerable chance to be proportional to any either spatial coordinates, time, or both.\n",
    "\n",
    "With that in mind, let us then compute features focused on current-to-origin point differences."
   ]
  },
  {
   "cell_type": "code",
   "execution_count": 29,
   "metadata": {},
   "outputs": [],
   "source": [
    "origin_data = data.groupby('hash').nth(0).select_dtypes([np.number])\n",
    "origin_data.columns = [f'origin_{c}' for c in origin_data.columns.ravel()]\n",
    "origin_data = origin_data.reset_index()\n",
    "\n",
    "last_data = data.groupby('hash').shift(1).select_dtypes([np.number])\n",
    "last_data.columns = [f'last_{c}' for c in last_data.columns.ravel()]\n",
    "last_data['hash'] = data['hash']"
   ]
  },
  {
   "cell_type": "code",
   "execution_count": 30,
   "metadata": {},
   "outputs": [],
   "source": [
    "for d, prefix in zip([last_data, origin_data], ['last', 'origin']):\n",
    "    if data.columns.contains(f'{prefix}_time'):\n",
    "        data = data[data.columns.drop(d.columns)]\n",
    "    \n",
    "    data = data.merge(d, on='hash')"
   ]
  },
  {
   "cell_type": "code",
   "execution_count": 31,
   "metadata": {},
   "outputs": [
    {
     "data": {
      "text/html": [
       "<div>\n",
       "<style scoped>\n",
       "    .dataframe tbody tr th:only-of-type {\n",
       "        vertical-align: middle;\n",
       "    }\n",
       "\n",
       "    .dataframe tbody tr th {\n",
       "        vertical-align: top;\n",
       "    }\n",
       "\n",
       "    .dataframe thead th {\n",
       "        text-align: right;\n",
       "    }\n",
       "</style>\n",
       "<table border=\"1\" class=\"dataframe\">\n",
       "  <thead>\n",
       "    <tr style=\"text-align: right;\">\n",
       "      <th></th>\n",
       "      <th>hash</th>\n",
       "      <th>trajectory_id</th>\n",
       "      <th>time_entry</th>\n",
       "      <th>time_exit</th>\n",
       "      <th>vmax</th>\n",
       "      <th>vmin</th>\n",
       "      <th>vmean</th>\n",
       "      <th>x_entry</th>\n",
       "      <th>y_entry</th>\n",
       "      <th>x_exit</th>\n",
       "      <th>...</th>\n",
       "      <th>deltad_origin_left_border</th>\n",
       "      <th>deltad_origin_right_border</th>\n",
       "      <th>deltad_origin_lower_border</th>\n",
       "      <th>deltad_origin_upper_border</th>\n",
       "      <th>deltad_origin_cc</th>\n",
       "      <th>delta^_origin_xmin_ymin</th>\n",
       "      <th>delta^_origin_xmax_ymin</th>\n",
       "      <th>delta^_origin_xmin_ymax</th>\n",
       "      <th>delta^_origin_xmax_ymax</th>\n",
       "      <th>delta^_origin_middle</th>\n",
       "    </tr>\n",
       "  </thead>\n",
       "  <tbody>\n",
       "    <tr>\n",
       "      <th>0</th>\n",
       "      <td>0000a8602cf2def930488dee7cdad104_1</td>\n",
       "      <td>traj_0000a8602cf2def930488dee7cdad104_1_0</td>\n",
       "      <td>07:04:31</td>\n",
       "      <td>07:08:32</td>\n",
       "      <td>NaN</td>\n",
       "      <td>NaN</td>\n",
       "      <td>NaN</td>\n",
       "      <td>3.751014e+06</td>\n",
       "      <td>-1.909398e+07</td>\n",
       "      <td>3.750326e+06</td>\n",
       "      <td>...</td>\n",
       "      <td>0.0</td>\n",
       "      <td>0.0</td>\n",
       "      <td>0.0</td>\n",
       "      <td>0.0</td>\n",
       "      <td>0.0</td>\n",
       "      <td>NaN</td>\n",
       "      <td>NaN</td>\n",
       "      <td>NaN</td>\n",
       "      <td>NaN</td>\n",
       "      <td>NaN</td>\n",
       "    </tr>\n",
       "    <tr>\n",
       "      <th>1</th>\n",
       "      <td>0000a8602cf2def930488dee7cdad104_1</td>\n",
       "      <td>traj_0000a8602cf2def930488dee7cdad104_1_0</td>\n",
       "      <td>07:04:31</td>\n",
       "      <td>07:08:32</td>\n",
       "      <td>NaN</td>\n",
       "      <td>NaN</td>\n",
       "      <td>NaN</td>\n",
       "      <td>3.751014e+06</td>\n",
       "      <td>-1.909398e+07</td>\n",
       "      <td>3.750326e+06</td>\n",
       "      <td>...</td>\n",
       "      <td>0.0</td>\n",
       "      <td>0.0</td>\n",
       "      <td>0.0</td>\n",
       "      <td>0.0</td>\n",
       "      <td>0.0</td>\n",
       "      <td>NaN</td>\n",
       "      <td>NaN</td>\n",
       "      <td>NaN</td>\n",
       "      <td>NaN</td>\n",
       "      <td>NaN</td>\n",
       "    </tr>\n",
       "    <tr>\n",
       "      <th>2</th>\n",
       "      <td>0000a8602cf2def930488dee7cdad104_1</td>\n",
       "      <td>traj_0000a8602cf2def930488dee7cdad104_1_0</td>\n",
       "      <td>07:04:31</td>\n",
       "      <td>07:08:32</td>\n",
       "      <td>NaN</td>\n",
       "      <td>NaN</td>\n",
       "      <td>NaN</td>\n",
       "      <td>3.751014e+06</td>\n",
       "      <td>-1.909398e+07</td>\n",
       "      <td>3.750326e+06</td>\n",
       "      <td>...</td>\n",
       "      <td>0.0</td>\n",
       "      <td>0.0</td>\n",
       "      <td>0.0</td>\n",
       "      <td>0.0</td>\n",
       "      <td>0.0</td>\n",
       "      <td>NaN</td>\n",
       "      <td>NaN</td>\n",
       "      <td>NaN</td>\n",
       "      <td>NaN</td>\n",
       "      <td>NaN</td>\n",
       "    </tr>\n",
       "    <tr>\n",
       "      <th>3</th>\n",
       "      <td>0000a8602cf2def930488dee7cdad104_1</td>\n",
       "      <td>traj_0000a8602cf2def930488dee7cdad104_1_0</td>\n",
       "      <td>07:04:31</td>\n",
       "      <td>07:08:32</td>\n",
       "      <td>NaN</td>\n",
       "      <td>NaN</td>\n",
       "      <td>NaN</td>\n",
       "      <td>3.751014e+06</td>\n",
       "      <td>-1.909398e+07</td>\n",
       "      <td>3.750326e+06</td>\n",
       "      <td>...</td>\n",
       "      <td>0.0</td>\n",
       "      <td>0.0</td>\n",
       "      <td>0.0</td>\n",
       "      <td>0.0</td>\n",
       "      <td>0.0</td>\n",
       "      <td>NaN</td>\n",
       "      <td>NaN</td>\n",
       "      <td>NaN</td>\n",
       "      <td>NaN</td>\n",
       "      <td>NaN</td>\n",
       "    </tr>\n",
       "    <tr>\n",
       "      <th>4</th>\n",
       "      <td>0000a8602cf2def930488dee7cdad104_1</td>\n",
       "      <td>traj_0000a8602cf2def930488dee7cdad104_1_0</td>\n",
       "      <td>07:04:31</td>\n",
       "      <td>07:08:32</td>\n",
       "      <td>NaN</td>\n",
       "      <td>NaN</td>\n",
       "      <td>NaN</td>\n",
       "      <td>3.751014e+06</td>\n",
       "      <td>-1.909398e+07</td>\n",
       "      <td>3.750326e+06</td>\n",
       "      <td>...</td>\n",
       "      <td>0.0</td>\n",
       "      <td>0.0</td>\n",
       "      <td>0.0</td>\n",
       "      <td>0.0</td>\n",
       "      <td>0.0</td>\n",
       "      <td>NaN</td>\n",
       "      <td>NaN</td>\n",
       "      <td>NaN</td>\n",
       "      <td>NaN</td>\n",
       "      <td>NaN</td>\n",
       "    </tr>\n",
       "  </tbody>\n",
       "</table>\n",
       "<p>5 rows × 189 columns</p>\n",
       "</div>"
      ],
      "text/plain": [
       "                                 hash  \\\n",
       "0  0000a8602cf2def930488dee7cdad104_1   \n",
       "1  0000a8602cf2def930488dee7cdad104_1   \n",
       "2  0000a8602cf2def930488dee7cdad104_1   \n",
       "3  0000a8602cf2def930488dee7cdad104_1   \n",
       "4  0000a8602cf2def930488dee7cdad104_1   \n",
       "\n",
       "                               trajectory_id time_entry time_exit  vmax  vmin  \\\n",
       "0  traj_0000a8602cf2def930488dee7cdad104_1_0   07:04:31  07:08:32   NaN   NaN   \n",
       "1  traj_0000a8602cf2def930488dee7cdad104_1_0   07:04:31  07:08:32   NaN   NaN   \n",
       "2  traj_0000a8602cf2def930488dee7cdad104_1_0   07:04:31  07:08:32   NaN   NaN   \n",
       "3  traj_0000a8602cf2def930488dee7cdad104_1_0   07:04:31  07:08:32   NaN   NaN   \n",
       "4  traj_0000a8602cf2def930488dee7cdad104_1_0   07:04:31  07:08:32   NaN   NaN   \n",
       "\n",
       "   vmean       x_entry       y_entry        x_exit          ...           \\\n",
       "0    NaN  3.751014e+06 -1.909398e+07  3.750326e+06          ...            \n",
       "1    NaN  3.751014e+06 -1.909398e+07  3.750326e+06          ...            \n",
       "2    NaN  3.751014e+06 -1.909398e+07  3.750326e+06          ...            \n",
       "3    NaN  3.751014e+06 -1.909398e+07  3.750326e+06          ...            \n",
       "4    NaN  3.751014e+06 -1.909398e+07  3.750326e+06          ...            \n",
       "\n",
       "   deltad_origin_left_border  deltad_origin_right_border  \\\n",
       "0                        0.0                         0.0   \n",
       "1                        0.0                         0.0   \n",
       "2                        0.0                         0.0   \n",
       "3                        0.0                         0.0   \n",
       "4                        0.0                         0.0   \n",
       "\n",
       "   deltad_origin_lower_border  deltad_origin_upper_border  deltad_origin_cc  \\\n",
       "0                         0.0                         0.0               0.0   \n",
       "1                         0.0                         0.0               0.0   \n",
       "2                         0.0                         0.0               0.0   \n",
       "3                         0.0                         0.0               0.0   \n",
       "4                         0.0                         0.0               0.0   \n",
       "\n",
       "   delta^_origin_xmin_ymin  delta^_origin_xmax_ymin  delta^_origin_xmin_ymax  \\\n",
       "0                      NaN                      NaN                      NaN   \n",
       "1                      NaN                      NaN                      NaN   \n",
       "2                      NaN                      NaN                      NaN   \n",
       "3                      NaN                      NaN                      NaN   \n",
       "4                      NaN                      NaN                      NaN   \n",
       "\n",
       "   delta^_origin_xmax_ymax  delta^_origin_middle  \n",
       "0                      NaN                   NaN  \n",
       "1                      NaN                   NaN  \n",
       "2                      NaN                   NaN  \n",
       "3                      NaN                   NaN  \n",
       "4                      NaN                   NaN  \n",
       "\n",
       "[5 rows x 189 columns]"
      ]
     },
     "execution_count": 31,
     "metadata": {},
     "output_type": "execute_result"
    }
   ],
   "source": [
    "for p in ['last', 'origin']:\n",
    "    # Generic deltas\n",
    "    for idx in ['vmin', 'vmax', 'vmean', 'center_permanency', 'x_diff_entry', 'y_diff_entry', 'direction_entry']:\n",
    "        data[f'delta_{p}_{idx}'] = data[idx] - data[f'{p}_{idx}']\n",
    "\n",
    "    # Time-related deltas\n",
    "    data[f'deltat_{p}_entry'] = (data.time_entry - data[f'{p}_time_entry']) / pd.Timedelta(minutes=1)\n",
    "    data[f'deltat_{p}_exit'] = (data.time_entry - data[f'{p}_time_exit']) / pd.Timedelta(minutes=1)\n",
    "\n",
    "    data[f'delta_{p}_hr_entry'] = data.hours_continuous - data[f'{p}_hours_continuous']\n",
    "    data[f'delta_{p}_min_entry'] = data.minutes_continuous - data[f'{p}_minutes_continuous']\n",
    "\n",
    "    # Distance-related deltas\n",
    "    data[f'deltad_{p}_entry'] = euclidian_distance(data[f'{p}_x_entry'], data[f'{p}_y_entry'], data.x_entry, data.y_entry)\n",
    "    data[f'deltad_{p}_exit'] = euclidian_distance(data[f'{p}_x_exit'], data[f'{p}_y_exit'], data.x_entry, data.y_entry)\n",
    "\n",
    "    for side in ['left', 'right', 'lower', 'upper']:\n",
    "        data[f'deltad_{p}_{side}_border'] = data[f'distance_{side}_border'] - data[f'{p}_distance_{side}_border']\n",
    "\n",
    "    data[f'deltad_{p}_cc'] = data.distance_cc_entry - data[f'{p}_distance_cc_entry']\n",
    "\n",
    "    # Angle-related deltas\n",
    "    for vertex in ['xmin_ymin', 'xmax_ymin', 'xmin_ymax', 'xmax_ymax', 'middle']:\n",
    "        data[f'delta^_{p}_{vertex}'] = data[f'cc_{vertex}_angle'] - data[f'{p}_cc_{vertex}_angle']\n",
    "\n",
    "    data = data[data.columns.drop([x for x in data.columns.ravel() if x.startswith(f'{p}_time_')])]\n",
    "\n",
    "data.head(5)"
   ]
  },
  {
   "cell_type": "markdown",
   "metadata": {},
   "source": [
    "### Aggregating features"
   ]
  },
  {
   "cell_type": "code",
   "execution_count": 32,
   "metadata": {},
   "outputs": [
    {
     "ename": "MemoryError",
     "evalue": "",
     "output_type": "error",
     "traceback": [
      "\u001b[0;31m---------------------------------------------------------------------------\u001b[0m",
      "\u001b[0;31mMemoryError\u001b[0m                               Traceback (most recent call last)",
      "\u001b[0;32m<ipython-input-32-a362c80d3348>\u001b[0m in \u001b[0;36m<module>\u001b[0;34m()\u001b[0m\n\u001b[1;32m     14\u001b[0m \u001b[0magg_features\u001b[0m\u001b[0;34m.\u001b[0m\u001b[0mcolumns\u001b[0m \u001b[0;34m=\u001b[0m \u001b[0;34m[\u001b[0m\u001b[0;34m\"_\"\u001b[0m\u001b[0;34m.\u001b[0m\u001b[0mjoin\u001b[0m\u001b[0;34m(\u001b[0m\u001b[0mx\u001b[0m\u001b[0;34m)\u001b[0m \u001b[0;32mfor\u001b[0m \u001b[0mx\u001b[0m \u001b[0;32min\u001b[0m \u001b[0magg_features\u001b[0m\u001b[0;34m.\u001b[0m\u001b[0mcolumns\u001b[0m\u001b[0;34m.\u001b[0m\u001b[0mravel\u001b[0m\u001b[0;34m(\u001b[0m\u001b[0;34m)\u001b[0m\u001b[0;34m]\u001b[0m\u001b[0;34m\u001b[0m\u001b[0m\n\u001b[1;32m     15\u001b[0m data = data.merge(agg_features.reset_index(), \n\u001b[0;32m---> 16\u001b[0;31m                     on=['hash', 'trajectory_id', 'time_entry'])\n\u001b[0m\u001b[1;32m     17\u001b[0m \u001b[0mdata\u001b[0m\u001b[0;34m.\u001b[0m\u001b[0mhead\u001b[0m\u001b[0;34m(\u001b[0m\u001b[0;36m4\u001b[0m\u001b[0;34m)\u001b[0m\u001b[0;34m\u001b[0m\u001b[0m\n",
      "\u001b[0;32m~/anaconda3/envs/python3/lib/python3.6/site-packages/pandas/core/frame.py\u001b[0m in \u001b[0;36mmerge\u001b[0;34m(self, right, how, on, left_on, right_on, left_index, right_index, sort, suffixes, copy, indicator, validate)\u001b[0m\n\u001b[1;32m   5368\u001b[0m                      \u001b[0mright_on\u001b[0m\u001b[0;34m=\u001b[0m\u001b[0mright_on\u001b[0m\u001b[0;34m,\u001b[0m \u001b[0mleft_index\u001b[0m\u001b[0;34m=\u001b[0m\u001b[0mleft_index\u001b[0m\u001b[0;34m,\u001b[0m\u001b[0;34m\u001b[0m\u001b[0m\n\u001b[1;32m   5369\u001b[0m                      \u001b[0mright_index\u001b[0m\u001b[0;34m=\u001b[0m\u001b[0mright_index\u001b[0m\u001b[0;34m,\u001b[0m \u001b[0msort\u001b[0m\u001b[0;34m=\u001b[0m\u001b[0msort\u001b[0m\u001b[0;34m,\u001b[0m \u001b[0msuffixes\u001b[0m\u001b[0;34m=\u001b[0m\u001b[0msuffixes\u001b[0m\u001b[0;34m,\u001b[0m\u001b[0;34m\u001b[0m\u001b[0m\n\u001b[0;32m-> 5370\u001b[0;31m                      copy=copy, indicator=indicator, validate=validate)\n\u001b[0m\u001b[1;32m   5371\u001b[0m \u001b[0;34m\u001b[0m\u001b[0m\n\u001b[1;32m   5372\u001b[0m     \u001b[0;32mdef\u001b[0m \u001b[0mround\u001b[0m\u001b[0;34m(\u001b[0m\u001b[0mself\u001b[0m\u001b[0;34m,\u001b[0m \u001b[0mdecimals\u001b[0m\u001b[0;34m=\u001b[0m\u001b[0;36m0\u001b[0m\u001b[0;34m,\u001b[0m \u001b[0;34m*\u001b[0m\u001b[0margs\u001b[0m\u001b[0;34m,\u001b[0m \u001b[0;34m**\u001b[0m\u001b[0mkwargs\u001b[0m\u001b[0;34m)\u001b[0m\u001b[0;34m:\u001b[0m\u001b[0;34m\u001b[0m\u001b[0m\n",
      "\u001b[0;32m~/anaconda3/envs/python3/lib/python3.6/site-packages/pandas/core/reshape/merge.py\u001b[0m in \u001b[0;36mmerge\u001b[0;34m(left, right, how, on, left_on, right_on, left_index, right_index, sort, suffixes, copy, indicator, validate)\u001b[0m\n\u001b[1;32m     56\u001b[0m                          \u001b[0mcopy\u001b[0m\u001b[0;34m=\u001b[0m\u001b[0mcopy\u001b[0m\u001b[0;34m,\u001b[0m \u001b[0mindicator\u001b[0m\u001b[0;34m=\u001b[0m\u001b[0mindicator\u001b[0m\u001b[0;34m,\u001b[0m\u001b[0;34m\u001b[0m\u001b[0m\n\u001b[1;32m     57\u001b[0m                          validate=validate)\n\u001b[0;32m---> 58\u001b[0;31m     \u001b[0;32mreturn\u001b[0m \u001b[0mop\u001b[0m\u001b[0;34m.\u001b[0m\u001b[0mget_result\u001b[0m\u001b[0;34m(\u001b[0m\u001b[0;34m)\u001b[0m\u001b[0;34m\u001b[0m\u001b[0m\n\u001b[0m\u001b[1;32m     59\u001b[0m \u001b[0;34m\u001b[0m\u001b[0m\n\u001b[1;32m     60\u001b[0m \u001b[0;34m\u001b[0m\u001b[0m\n",
      "\u001b[0;32m~/anaconda3/envs/python3/lib/python3.6/site-packages/pandas/core/reshape/merge.py\u001b[0m in \u001b[0;36mget_result\u001b[0;34m(self)\u001b[0m\n\u001b[1;32m    594\u001b[0m             \u001b[0;34m[\u001b[0m\u001b[0;34m(\u001b[0m\u001b[0mldata\u001b[0m\u001b[0;34m,\u001b[0m \u001b[0mlindexers\u001b[0m\u001b[0;34m)\u001b[0m\u001b[0;34m,\u001b[0m \u001b[0;34m(\u001b[0m\u001b[0mrdata\u001b[0m\u001b[0;34m,\u001b[0m \u001b[0mrindexers\u001b[0m\u001b[0;34m)\u001b[0m\u001b[0;34m]\u001b[0m\u001b[0;34m,\u001b[0m\u001b[0;34m\u001b[0m\u001b[0m\n\u001b[1;32m    595\u001b[0m             \u001b[0maxes\u001b[0m\u001b[0;34m=\u001b[0m\u001b[0;34m[\u001b[0m\u001b[0mllabels\u001b[0m\u001b[0;34m.\u001b[0m\u001b[0mappend\u001b[0m\u001b[0;34m(\u001b[0m\u001b[0mrlabels\u001b[0m\u001b[0;34m)\u001b[0m\u001b[0;34m,\u001b[0m \u001b[0mjoin_index\u001b[0m\u001b[0;34m]\u001b[0m\u001b[0;34m,\u001b[0m\u001b[0;34m\u001b[0m\u001b[0m\n\u001b[0;32m--> 596\u001b[0;31m             concat_axis=0, copy=self.copy)\n\u001b[0m\u001b[1;32m    597\u001b[0m \u001b[0;34m\u001b[0m\u001b[0m\n\u001b[1;32m    598\u001b[0m         \u001b[0mtyp\u001b[0m \u001b[0;34m=\u001b[0m \u001b[0mself\u001b[0m\u001b[0;34m.\u001b[0m\u001b[0mleft\u001b[0m\u001b[0;34m.\u001b[0m\u001b[0m_constructor\u001b[0m\u001b[0;34m\u001b[0m\u001b[0m\n",
      "\u001b[0;32m~/anaconda3/envs/python3/lib/python3.6/site-packages/pandas/core/internals.py\u001b[0m in \u001b[0;36mconcatenate_block_managers\u001b[0;34m(mgrs_indexers, axes, concat_axis, copy)\u001b[0m\n\u001b[1;32m   5201\u001b[0m         \u001b[0;32melse\u001b[0m\u001b[0;34m:\u001b[0m\u001b[0;34m\u001b[0m\u001b[0m\n\u001b[1;32m   5202\u001b[0m             b = make_block(\n\u001b[0;32m-> 5203\u001b[0;31m                 \u001b[0mconcatenate_join_units\u001b[0m\u001b[0;34m(\u001b[0m\u001b[0mjoin_units\u001b[0m\u001b[0;34m,\u001b[0m \u001b[0mconcat_axis\u001b[0m\u001b[0;34m,\u001b[0m \u001b[0mcopy\u001b[0m\u001b[0;34m=\u001b[0m\u001b[0mcopy\u001b[0m\u001b[0;34m)\u001b[0m\u001b[0;34m,\u001b[0m\u001b[0;34m\u001b[0m\u001b[0m\n\u001b[0m\u001b[1;32m   5204\u001b[0m                 placement=placement)\n\u001b[1;32m   5205\u001b[0m         \u001b[0mblocks\u001b[0m\u001b[0;34m.\u001b[0m\u001b[0mappend\u001b[0m\u001b[0;34m(\u001b[0m\u001b[0mb\u001b[0m\u001b[0;34m)\u001b[0m\u001b[0;34m\u001b[0m\u001b[0m\n",
      "\u001b[0;32m~/anaconda3/envs/python3/lib/python3.6/site-packages/pandas/core/internals.py\u001b[0m in \u001b[0;36mconcatenate_join_units\u001b[0;34m(join_units, concat_axis, copy)\u001b[0m\n\u001b[1;32m   5330\u001b[0m     to_concat = [ju.get_reindexed_values(empty_dtype=empty_dtype,\n\u001b[1;32m   5331\u001b[0m                                          upcasted_na=upcasted_na)\n\u001b[0;32m-> 5332\u001b[0;31m                  for ju in join_units]\n\u001b[0m\u001b[1;32m   5333\u001b[0m \u001b[0;34m\u001b[0m\u001b[0m\n\u001b[1;32m   5334\u001b[0m     \u001b[0;32mif\u001b[0m \u001b[0mlen\u001b[0m\u001b[0;34m(\u001b[0m\u001b[0mto_concat\u001b[0m\u001b[0;34m)\u001b[0m \u001b[0;34m==\u001b[0m \u001b[0;36m1\u001b[0m\u001b[0;34m:\u001b[0m\u001b[0;34m\u001b[0m\u001b[0m\n",
      "\u001b[0;32m~/anaconda3/envs/python3/lib/python3.6/site-packages/pandas/core/internals.py\u001b[0m in \u001b[0;36m<listcomp>\u001b[0;34m(.0)\u001b[0m\n\u001b[1;32m   5330\u001b[0m     to_concat = [ju.get_reindexed_values(empty_dtype=empty_dtype,\n\u001b[1;32m   5331\u001b[0m                                          upcasted_na=upcasted_na)\n\u001b[0;32m-> 5332\u001b[0;31m                  for ju in join_units]\n\u001b[0m\u001b[1;32m   5333\u001b[0m \u001b[0;34m\u001b[0m\u001b[0m\n\u001b[1;32m   5334\u001b[0m     \u001b[0;32mif\u001b[0m \u001b[0mlen\u001b[0m\u001b[0;34m(\u001b[0m\u001b[0mto_concat\u001b[0m\u001b[0;34m)\u001b[0m \u001b[0;34m==\u001b[0m \u001b[0;36m1\u001b[0m\u001b[0;34m:\u001b[0m\u001b[0;34m\u001b[0m\u001b[0m\n",
      "\u001b[0;32m~/anaconda3/envs/python3/lib/python3.6/site-packages/pandas/core/internals.py\u001b[0m in \u001b[0;36mget_reindexed_values\u001b[0;34m(self, empty_dtype, upcasted_na)\u001b[0m\n\u001b[1;32m   5630\u001b[0m             \u001b[0;32mfor\u001b[0m \u001b[0max\u001b[0m\u001b[0;34m,\u001b[0m \u001b[0mindexer\u001b[0m \u001b[0;32min\u001b[0m \u001b[0mself\u001b[0m\u001b[0;34m.\u001b[0m\u001b[0mindexers\u001b[0m\u001b[0;34m.\u001b[0m\u001b[0mitems\u001b[0m\u001b[0;34m(\u001b[0m\u001b[0;34m)\u001b[0m\u001b[0;34m:\u001b[0m\u001b[0;34m\u001b[0m\u001b[0m\n\u001b[1;32m   5631\u001b[0m                 values = algos.take_nd(values, indexer, axis=ax,\n\u001b[0;32m-> 5632\u001b[0;31m                                        fill_value=fill_value)\n\u001b[0m\u001b[1;32m   5633\u001b[0m \u001b[0;34m\u001b[0m\u001b[0m\n\u001b[1;32m   5634\u001b[0m         \u001b[0;32mreturn\u001b[0m \u001b[0mvalues\u001b[0m\u001b[0;34m\u001b[0m\u001b[0m\n",
      "\u001b[0;32m~/anaconda3/envs/python3/lib/python3.6/site-packages/pandas/core/algorithms.py\u001b[0m in \u001b[0;36mtake_nd\u001b[0;34m(arr, indexer, axis, out, fill_value, mask_info, allow_fill)\u001b[0m\n\u001b[1;32m   1377\u001b[0m             \u001b[0mout\u001b[0m \u001b[0;34m=\u001b[0m \u001b[0mnp\u001b[0m\u001b[0;34m.\u001b[0m\u001b[0mempty\u001b[0m\u001b[0;34m(\u001b[0m\u001b[0mout_shape\u001b[0m\u001b[0;34m,\u001b[0m \u001b[0mdtype\u001b[0m\u001b[0;34m=\u001b[0m\u001b[0mdtype\u001b[0m\u001b[0;34m,\u001b[0m \u001b[0morder\u001b[0m\u001b[0;34m=\u001b[0m\u001b[0;34m'F'\u001b[0m\u001b[0;34m)\u001b[0m\u001b[0;34m\u001b[0m\u001b[0m\n\u001b[1;32m   1378\u001b[0m         \u001b[0;32melse\u001b[0m\u001b[0;34m:\u001b[0m\u001b[0;34m\u001b[0m\u001b[0m\n\u001b[0;32m-> 1379\u001b[0;31m             \u001b[0mout\u001b[0m \u001b[0;34m=\u001b[0m \u001b[0mnp\u001b[0m\u001b[0;34m.\u001b[0m\u001b[0mempty\u001b[0m\u001b[0;34m(\u001b[0m\u001b[0mout_shape\u001b[0m\u001b[0;34m,\u001b[0m \u001b[0mdtype\u001b[0m\u001b[0;34m=\u001b[0m\u001b[0mdtype\u001b[0m\u001b[0;34m)\u001b[0m\u001b[0;34m\u001b[0m\u001b[0m\n\u001b[0m\u001b[1;32m   1380\u001b[0m \u001b[0;34m\u001b[0m\u001b[0m\n\u001b[1;32m   1381\u001b[0m     func = _get_take_nd_function(arr.ndim, arr.dtype, out.dtype, axis=axis,\n",
      "\u001b[0;31mMemoryError\u001b[0m: "
     ]
    }
   ],
   "source": [
    "window_reference = 5\n",
    "\n",
    "cols_to_agg = ['vmax', 'vmin', 'vmean', 'x_entry', 'y_entry', 'minute_entry', 'hours_continuous', 'minutes_continuous',\n",
    "               'hour_entry', 'first_quadrant_entry', 'third_quadrant_entry', 'fourth_quadrant_entry', 'second_quadrant_entry',\n",
    "               'trajectory_number', 'distance_cc_entry', 'deltat_min', 'x_diff_entry', 'y_diff_entry', 'direction_entry',\n",
    "               'distance_left_border', 'distance_right_border', 'distance_lower_border', 'distance_upper_border'] + angle_cols\n",
    "\n",
    "agg_features = (data.groupby(['hash', 'time_entry', 'trajectory_id'])[cols_to_agg]\n",
    "                .mean()\n",
    "                .shift(1)\n",
    "                .rolling(window_reference, min_periods=1)\n",
    "                .agg(['mean', 'max', 'std', 'min', 'sum']))\n",
    "\n",
    "agg_features.columns = [\"_\".join(x) for x in agg_features.columns.ravel()]\n",
    "data = data.merge(agg_features.reset_index(), \n",
    "                    on=['hash', 'trajectory_id', 'time_entry'])\n",
    "data.head(4)"
   ]
  },
  {
   "cell_type": "markdown",
   "metadata": {},
   "source": [
    "# Sequence Data"
   ]
  },
  {
   "cell_type": "code",
   "execution_count": null,
   "metadata": {},
   "outputs": [],
   "source": [
    "window_reference = 5\n",
    "\n",
    "grouped = data.groupby(['hash']).tail(window_reference)\n",
    "grouped['sequence'] = np.ones(grouped.shape[0])\n",
    "df = grouped.groupby(by=['hash','time_entry', 'trajectory_id']).sum().groupby(level=[0]).cumsum().reset_index()[['trajectory_id', 'sequence']]\n",
    "df.columns = ['trajectory_id', 'trajectory_sequence']\n",
    "grouped = grouped.merge(df, on='trajectory_id', how='left')"
   ]
  },
  {
   "cell_type": "code",
   "execution_count": null,
   "metadata": {},
   "outputs": [],
   "source": [
    "hash_count_trajectories = grouped.groupby(['hash']).trajectory_id.count().reset_index()\n",
    "hash_count_trajectories.columns = ['hash', 'count_trajectories']\n",
    "\n",
    "grouped = grouped.merge(hash_count_trajectories, on='hash', how='left')\n",
    "grouped.head(4)"
   ]
  },
  {
   "cell_type": "code",
   "execution_count": null,
   "metadata": {},
   "outputs": [],
   "source": [
    "ref = window_reference\n",
    "for i in range(1, window_reference):\n",
    "    grouped.loc[grouped.count_trajectories==i, 'trajectory_sequence'] += ref-1\n",
    "    ref -= 1\n",
    "    \n",
    "grouped.head(4)"
   ]
  },
  {
   "cell_type": "code",
   "execution_count": null,
   "metadata": {},
   "outputs": [],
   "source": [
    "grouped = grouped.drop('sequence', axis=1)\n",
    "#grouped['traje']"
   ]
  },
  {
   "cell_type": "code",
   "execution_count": null,
   "metadata": {},
   "outputs": [],
   "source": [
    "data_sequence = grouped.groupby(['hash', 'trajectory_sequence']).mean().unstack()\n",
    "data_sequence.shape"
   ]
  },
  {
   "cell_type": "code",
   "execution_count": null,
   "metadata": {},
   "outputs": [],
   "source": [
    "data_sequence.columns = ['_'.join([x[0], str(int(x[1]))]) for x in data_sequence.columns.ravel()]\n",
    "data_sequence.head(3)"
   ]
  },
  {
   "cell_type": "code",
   "execution_count": null,
   "metadata": {},
   "outputs": [],
   "source": [
    "data_sequence = data_sequence.reset_index()"
   ]
  },
  {
   "cell_type": "code",
   "execution_count": null,
   "metadata": {},
   "outputs": [],
   "source": [
    "data_sequence.shape"
   ]
  },
  {
   "cell_type": "code",
   "execution_count": null,
   "metadata": {},
   "outputs": [],
   "source": [
    "data_train = data_sequence[data_sequence['hour_exit_'+str(window_reference)]==15]\n",
    "data_train.shape"
   ]
  },
  {
   "cell_type": "code",
   "execution_count": null,
   "metadata": {},
   "outputs": [],
   "source": [
    "hashs_train = list(train.hash.unique())\n",
    "hashs_test = list(test.hash.unique())\n",
    "\n",
    "data_train = data_train[data_train.hash.isin(hashs_train)]\n",
    "data_train.shape"
   ]
  },
  {
   "cell_type": "code",
   "execution_count": null,
   "metadata": {},
   "outputs": [],
   "source": [
    "drop_cols = list(x for x in data.columns if 'exit' in x) + grid_cols\n",
    "drop_cols += ['euclidian_distance', 'minkowski_distance', 'harvesine_distance',\n",
    "              'center_permanency', 'has_crossed_city', 'velocity']\n",
    "drop_cols += [f'origin_{col}' for col in drop_cols]\n",
    "drop_cols += [f'delta_{col}' for col in drop_cols if col.startswith('origin_')]\n",
    "drop_cols += ['delta_last_center_permanency']\n",
    "\n",
    "drop_cols = [f'{col}_{window_reference}' for col in drop_cols]\n",
    "drop_cols += [f'{col}_i' for col in grid_cols for i in range(0, 5)]\n",
    "drop_cols += ['hash']\n",
    "\n",
    "features = list(set(data_train.columns) - set(drop_cols))\n",
    "target   = ['is_inside_city_exit_'+str(window_reference)]"
   ]
  },
  {
   "cell_type": "code",
   "execution_count": null,
   "metadata": {},
   "outputs": [],
   "source": [
    "from sklearn.model_selection import train_test_split\n",
    "\n",
    "\n",
    "dt_train, dt_test = train_test_split(data_train, test_size=0.2, random_state=20)\n",
    "dt_train.shape, dt_test.shape"
   ]
  },
  {
   "cell_type": "code",
   "execution_count": null,
   "metadata": {},
   "outputs": [],
   "source": [
    "from lightgbm import LGBMClassifier\n",
    "from sklearn.metrics import f1_score\n",
    "\n",
    "clf = LGBMClassifier(n_estimators=150, max_features=0.5, seed=20)\n",
    "clf.fit(dt_train[features], dt_train[target])\n",
    "\n",
    "predicted = clf.predict(dt_test[features])\n",
    "\n",
    "f1_score(dt_test[target], predicted)"
   ]
  },
  {
   "cell_type": "code",
   "execution_count": 465,
   "metadata": {},
   "outputs": [],
   "source": [
    "# Score 0.7465277777777779 | 0.89441\n",
    "# Score 0.7432216905901117 | 0.89358\n",
    "# Score 0.7413765697027499 | 0.89307 - n_estimators=150, max_features=0.5"
   ]
  },
  {
   "cell_type": "code",
   "execution_count": 71,
   "metadata": {
    "scrolled": false
   },
   "outputs": [
    {
     "data": {
      "text/plain": [
       "<matplotlib.axes._subplots.AxesSubplot at 0x7f523ebc89e8>"
      ]
     },
     "execution_count": 71,
     "metadata": {},
     "output_type": "execute_result"
    },
    {
     "data": {
      "image/png": "[encoded data removed]",
      "text/plain": [
       "<Figure size 1080x720 with 1 Axes>"
      ]
     },
     "metadata": {},
     "output_type": "display_data"
    }
   ],
   "source": [
    "f, ax = plt.subplots(figsize=(15, 10))\n",
    "\n",
    "feat_importances_gb = pd.Series(clf.feature_importances_, index=data_train[features].columns)\n",
    "feat_importances_gb.nlargest(50).plot(kind='barh')"
   ]
  },
  {
   "cell_type": "code",
   "execution_count": 72,
   "metadata": {},
   "outputs": [],
   "source": [
    "data_test = data_sequence[data_sequence.hash.isin(hashs_test)]\n",
    "#data_test = test[test['x_exit_'+str(window_reference)].isnull()]"
   ]
  },
  {
   "cell_type": "code",
   "execution_count": 73,
   "metadata": {},
   "outputs": [
    {
     "data": {
      "text/plain": [
       "(33515, 1305)"
      ]
     },
     "execution_count": 73,
     "metadata": {},
     "output_type": "execute_result"
    }
   ],
   "source": [
    "data_test.shape"
   ]
  },
  {
   "cell_type": "code",
   "execution_count": 74,
   "metadata": {},
   "outputs": [],
   "source": [
    "ids = pd.read_csv('../data/raw/data_test.zip', index_col='Unnamed: 0', low_memory=True)\n",
    "ids = ids[ids.x_exit.isnull()]"
   ]
  },
  {
   "cell_type": "code",
   "execution_count": 75,
   "metadata": {},
   "outputs": [],
   "source": [
    "data_test = data_test.merge(ids[['hash', 'trajectory_id']], on='hash')"
   ]
  },
  {
   "cell_type": "code",
   "execution_count": 76,
   "metadata": {},
   "outputs": [
    {
     "name": "stderr",
     "output_type": "stream",
     "text": [
      "/home/ec2-user/anaconda3/envs/python3/lib/python3.6/site-packages/sklearn/preprocessing/label.py:151: DeprecationWarning: The truth value of an empty array is ambiguous. Returning False, but in future this will result in an error. Use `array.size > 0` to check that an array is not empty.\n",
      "  if diff:\n"
     ]
    }
   ],
   "source": [
    "clf.fit(data_train[features], data_train[target])\n",
    "yhat = clf.predict(data_test[features])"
   ]
  },
  {
   "cell_type": "code",
   "execution_count": 77,
   "metadata": {},
   "outputs": [
    {
     "data": {
      "text/plain": [
       "0.0    24989\n",
       "1.0     8526\n",
       "dtype: int64"
      ]
     },
     "execution_count": 77,
     "metadata": {},
     "output_type": "execute_result"
    }
   ],
   "source": [
    "pd.Series(yhat).value_counts()"
   ]
  },
  {
   "cell_type": "code",
   "execution_count": 78,
   "metadata": {},
   "outputs": [
    {
     "data": {
      "text/html": [
       "<div>\n",
       "<style scoped>\n",
       "    .dataframe tbody tr th:only-of-type {\n",
       "        vertical-align: middle;\n",
       "    }\n",
       "\n",
       "    .dataframe tbody tr th {\n",
       "        vertical-align: top;\n",
       "    }\n",
       "\n",
       "    .dataframe thead th {\n",
       "        text-align: right;\n",
       "    }\n",
       "</style>\n",
       "<table border=\"1\" class=\"dataframe\">\n",
       "  <thead>\n",
       "    <tr style=\"text-align: right;\">\n",
       "      <th></th>\n",
       "      <th>hash</th>\n",
       "      <th>vmax_1</th>\n",
       "      <th>vmax_2</th>\n",
       "      <th>vmax_3</th>\n",
       "      <th>vmax_5</th>\n",
       "      <th>vmin_1</th>\n",
       "      <th>vmin_2</th>\n",
       "      <th>vmin_3</th>\n",
       "      <th>vmin_5</th>\n",
       "      <th>vmean_1</th>\n",
       "      <th>...</th>\n",
       "      <th>cc_xmax_ymax_angle_min_5</th>\n",
       "      <th>cc_xmax_ymax_angle_sum_1</th>\n",
       "      <th>cc_xmax_ymax_angle_sum_2</th>\n",
       "      <th>cc_xmax_ymax_angle_sum_3</th>\n",
       "      <th>cc_xmax_ymax_angle_sum_5</th>\n",
       "      <th>count_trajectories_1</th>\n",
       "      <th>count_trajectories_2</th>\n",
       "      <th>count_trajectories_3</th>\n",
       "      <th>count_trajectories_5</th>\n",
       "      <th>trajectory_id</th>\n",
       "    </tr>\n",
       "  </thead>\n",
       "  <tbody>\n",
       "    <tr>\n",
       "      <th>0</th>\n",
       "      <td>00032f51796fd5437b238e3a9823d13d_31</td>\n",
       "      <td>NaN</td>\n",
       "      <td>NaN</td>\n",
       "      <td>NaN</td>\n",
       "      <td>NaN</td>\n",
       "      <td>NaN</td>\n",
       "      <td>NaN</td>\n",
       "      <td>NaN</td>\n",
       "      <td>NaN</td>\n",
       "      <td>NaN</td>\n",
       "      <td>...</td>\n",
       "      <td>3.224386</td>\n",
       "      <td>73.87141</td>\n",
       "      <td>NaN</td>\n",
       "      <td>NaN</td>\n",
       "      <td>58.981582</td>\n",
       "      <td>5.0</td>\n",
       "      <td>NaN</td>\n",
       "      <td>NaN</td>\n",
       "      <td>5.0</td>\n",
       "      <td>traj_00032f51796fd5437b238e3a9823d13d_31_5</td>\n",
       "    </tr>\n",
       "    <tr>\n",
       "      <th>1</th>\n",
       "      <td>000479418b5561ab694a2870cc04fd43_25</td>\n",
       "      <td>NaN</td>\n",
       "      <td>NaN</td>\n",
       "      <td>NaN</td>\n",
       "      <td>NaN</td>\n",
       "      <td>NaN</td>\n",
       "      <td>NaN</td>\n",
       "      <td>NaN</td>\n",
       "      <td>NaN</td>\n",
       "      <td>NaN</td>\n",
       "      <td>...</td>\n",
       "      <td>6.899061</td>\n",
       "      <td>NaN</td>\n",
       "      <td>7.750636</td>\n",
       "      <td>NaN</td>\n",
       "      <td>16.472289</td>\n",
       "      <td>NaN</td>\n",
       "      <td>5.0</td>\n",
       "      <td>NaN</td>\n",
       "      <td>5.0</td>\n",
       "      <td>traj_000479418b5561ab694a2870cc04fd43_25_10</td>\n",
       "    </tr>\n",
       "    <tr>\n",
       "      <th>2</th>\n",
       "      <td>000506a39775e5bca661ac80e3f466eb_29</td>\n",
       "      <td>NaN</td>\n",
       "      <td>NaN</td>\n",
       "      <td>NaN</td>\n",
       "      <td>NaN</td>\n",
       "      <td>NaN</td>\n",
       "      <td>NaN</td>\n",
       "      <td>NaN</td>\n",
       "      <td>NaN</td>\n",
       "      <td>NaN</td>\n",
       "      <td>...</td>\n",
       "      <td>0.592193</td>\n",
       "      <td>NaN</td>\n",
       "      <td>NaN</td>\n",
       "      <td>25.750249</td>\n",
       "      <td>16.177021</td>\n",
       "      <td>NaN</td>\n",
       "      <td>NaN</td>\n",
       "      <td>4.0</td>\n",
       "      <td>4.0</td>\n",
       "      <td>traj_000506a39775e5bca661ac80e3f466eb_29_5</td>\n",
       "    </tr>\n",
       "    <tr>\n",
       "      <th>3</th>\n",
       "      <td>0005401ceddaf27a9b7f0d42ef1fbe95_1</td>\n",
       "      <td>NaN</td>\n",
       "      <td>NaN</td>\n",
       "      <td>NaN</td>\n",
       "      <td>NaN</td>\n",
       "      <td>NaN</td>\n",
       "      <td>NaN</td>\n",
       "      <td>NaN</td>\n",
       "      <td>NaN</td>\n",
       "      <td>NaN</td>\n",
       "      <td>...</td>\n",
       "      <td>5.928950</td>\n",
       "      <td>NaN</td>\n",
       "      <td>NaN</td>\n",
       "      <td>NaN</td>\n",
       "      <td>21.513777</td>\n",
       "      <td>NaN</td>\n",
       "      <td>NaN</td>\n",
       "      <td>NaN</td>\n",
       "      <td>1.0</td>\n",
       "      <td>traj_0005401ceddaf27a9b7f0d42ef1fbe95_1_4</td>\n",
       "    </tr>\n",
       "  </tbody>\n",
       "</table>\n",
       "<p>4 rows × 1306 columns</p>\n",
       "</div>"
      ],
      "text/plain": [
       "                                  hash  vmax_1  vmax_2  vmax_3  vmax_5  \\\n",
       "0  00032f51796fd5437b238e3a9823d13d_31     NaN     NaN     NaN     NaN   \n",
       "1  000479418b5561ab694a2870cc04fd43_25     NaN     NaN     NaN     NaN   \n",
       "2  000506a39775e5bca661ac80e3f466eb_29     NaN     NaN     NaN     NaN   \n",
       "3   0005401ceddaf27a9b7f0d42ef1fbe95_1     NaN     NaN     NaN     NaN   \n",
       "\n",
       "   vmin_1  vmin_2  vmin_3  vmin_5  vmean_1  \\\n",
       "0     NaN     NaN     NaN     NaN      NaN   \n",
       "1     NaN     NaN     NaN     NaN      NaN   \n",
       "2     NaN     NaN     NaN     NaN      NaN   \n",
       "3     NaN     NaN     NaN     NaN      NaN   \n",
       "\n",
       "                      ...                       cc_xmax_ymax_angle_min_5  \\\n",
       "0                     ...                                       3.224386   \n",
       "1                     ...                                       6.899061   \n",
       "2                     ...                                       0.592193   \n",
       "3                     ...                                       5.928950   \n",
       "\n",
       "   cc_xmax_ymax_angle_sum_1  cc_xmax_ymax_angle_sum_2  \\\n",
       "0                  73.87141                       NaN   \n",
       "1                       NaN                  7.750636   \n",
       "2                       NaN                       NaN   \n",
       "3                       NaN                       NaN   \n",
       "\n",
       "   cc_xmax_ymax_angle_sum_3  cc_xmax_ymax_angle_sum_5  count_trajectories_1  \\\n",
       "0                       NaN                 58.981582                   5.0   \n",
       "1                       NaN                 16.472289                   NaN   \n",
       "2                 25.750249                 16.177021                   NaN   \n",
       "3                       NaN                 21.513777                   NaN   \n",
       "\n",
       "   count_trajectories_2  count_trajectories_3  count_trajectories_5  \\\n",
       "0                   NaN                   NaN                   5.0   \n",
       "1                   5.0                   NaN                   5.0   \n",
       "2                   NaN                   4.0                   4.0   \n",
       "3                   NaN                   NaN                   1.0   \n",
       "\n",
       "                                 trajectory_id  \n",
       "0   traj_00032f51796fd5437b238e3a9823d13d_31_5  \n",
       "1  traj_000479418b5561ab694a2870cc04fd43_25_10  \n",
       "2   traj_000506a39775e5bca661ac80e3f466eb_29_5  \n",
       "3    traj_0005401ceddaf27a9b7f0d42ef1fbe95_1_4  \n",
       "\n",
       "[4 rows x 1306 columns]"
      ]
     },
     "execution_count": 78,
     "metadata": {},
     "output_type": "execute_result"
    }
   ],
   "source": [
    "data_test.head(4)"
   ]
  },
  {
   "cell_type": "code",
   "execution_count": 79,
   "metadata": {},
   "outputs": [],
   "source": [
    "submission = pd.DataFrame(list(zip(data_test['trajectory_id'], yhat)), columns=['id', 'target'])"
   ]
  },
  {
   "cell_type": "code",
   "execution_count": 81,
   "metadata": {},
   "outputs": [],
   "source": [
    "submission.to_csv('../data/submission44_julio.csv', index=False)"
   ]
  },
  {
   "cell_type": "markdown",
   "metadata": {},
   "source": [
    "# Preprocessed Data Saving"
   ]
  },
  {
   "cell_type": "code",
   "execution_count": 84,
   "metadata": {},
   "outputs": [],
   "source": [
    "data_sequence.to_hdf('../data/preprocessed/data_sequence_0.89469.hdf', key='deltas', mode='w')"
   ]
  }
 ],
 "metadata": {
  "kernelspec": {
   "display_name": "conda_python3",
   "language": "python",
   "name": "conda_python3"
  },
  "language_info": {
   "codemirror_mode": {
    "name": "ipython",
    "version": 3
   },
   "file_extension": ".py",
   "mimetype": "text/x-python",
   "name": "python",
   "nbconvert_exporter": "python",
   "pygments_lexer": "ipython3",
   "version": "3.6.5"
  }
 },
 "nbformat": 4,
 "nbformat_minor": 2
}
